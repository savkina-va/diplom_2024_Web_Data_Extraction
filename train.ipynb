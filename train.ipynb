{
  "cells": [
    {
      "cell_type": "markdown",
      "metadata": {
        "colab_type": "text",
        "id": "view-in-github"
      },
      "source": [
        "<a href=\"https://colab.research.google.com/github/NielsRogge/Transformers-Tutorials/blob/master/MarkupLM/Fine_tune_MarkupLMForTokenClassification_on_a_custom_dataset.ipynb\" target=\"_parent\"><img src=\"https://colab.research.google.com/assets/colab-badge.svg\" alt=\"Open In Colab\"/></a>"
      ]
    },
    {
      "cell_type": "markdown",
      "metadata": {
        "id": "dUVFZhSGHm9a"
      },
      "source": [
        "## Set-up environment\n",
        "\n",
        "First, we install 🤗 Transformers.\n",
        "\n",
        "We also install 🤗 Evaluate and Seqeval, for computing metrics like F1, recall and precision."
      ]
    },
    {
      "cell_type": "code",
      "execution_count": 1,
      "metadata": {},
      "outputs": [],
      "source": [
        "import os\n",
        "\n",
        "os.environ['CUDA_VISIBLE_DEVICES'] = '1'\n",
        "\n",
        "import torch\n",
        "device = torch.device(\"cuda\" if torch.cuda.is_available() else \"cpu\")"
      ]
    },
    {
      "cell_type": "code",
      "execution_count": 2,
      "metadata": {},
      "outputs": [
        {
          "data": {
            "text/plain": [
              "1"
            ]
          },
          "execution_count": 2,
          "metadata": {},
          "output_type": "execute_result"
        }
      ],
      "source": [
        "torch.cuda.device_count()"
      ]
    },
    {
      "cell_type": "markdown",
      "metadata": {
        "id": "MdzHRuE8HoQ3"
      },
      "source": [
        "## Prepare dataset\n",
        "\n",
        "Next, let's load a toy dataset which we'll use to fine-tune MarkupLM on.\n",
        "\n",
        "The goal for the model is to label nodes of HTML strings with the appropriate class."
      ]
    },
    {
      "cell_type": "code",
      "execution_count": 3,
      "metadata": {},
      "outputs": [],
      "source": [
        "import numpy as np\n",
        "\n",
        "def sample_websites(dataset, k, seed):\n",
        "    all_websites = list(dataset.keys())\n",
        "    training_websites = np.random.choice(all_websites, size=k, replace=False)\n",
        "    print(training_websites)\n",
        "\n",
        "    train = []\n",
        "    valid = []\n",
        "    for website in all_websites:\n",
        "        if website in training_websites:\n",
        "            train += dataset[website]\n",
        "        else:\n",
        "            valid += dataset[website]\n",
        "    \n",
        "    return train, valid"
      ]
    },
    {
      "cell_type": "code",
      "execution_count": 4,
      "metadata": {},
      "outputs": [
        {
          "name": "stdout",
          "output_type": "stream",
          "text": [
            "['jr' 'pcnation' 'ecost' 'amazon' 'beachaudio']\n"
          ]
        }
      ],
      "source": [
        "import json\n",
        "\n",
        "with open(\"/home/savkin/vera/all_camera_datasets_merged.json\", \"r\") as file:\n",
        "    data = json.load(file)\n",
        "\n",
        "train_data, valid_data = sample_websites(data, k=5, seed=0)"
      ]
    },
    {
      "cell_type": "code",
      "execution_count": 5,
      "metadata": {},
      "outputs": [
        {
          "name": "stdout",
          "output_type": "stream",
          "text": [
            "{'nodes': [['Canon 3506b001 12.1 Megapixel Waterproof Powershot D10 (3508b001)', 'var runInitFB = true;', '[if lte IE 7]>\\n<link href=\"/site/files/min_iexplorer.css?v=3.4.1\" rel=\"stylesheet\" type=\"text/css\" />\\n<![endif]', 'Home', '|', 'Order Status', '|', 'Help Center', '|', 'FAQ', '|', 'Return Request', '|', 'Log In', 'SEARCH', 'Entire Site', 'audio', 'video', 'dvd', 'photography', 'communications', 'gaming', 'car', 'computers', 'appliances', 'music & dj', 'blank media', 'office', 'for', 'SHOP BY BRAND', 'audio', 'video', 'dvd', 'photography', 'communications', 'gaming', 'car', 'computers', 'appliances', 'music & dj', 'blank media', 'office', 'More...', 'Home', '»', 'Photography', '»', 'Digital Cameras', '»', '3508B001', '[productwiki]', '[/productwiki]', 'Power Reviews p:1', 'var pr_page_id =\\'271456\\';\\n    var pr_zip_location=\\'/powerreviews\\';\\n    var pr_write_review=\\'/review_submission.php?pageId=271456&products_id=271456\\';\\n\\tvar pr_write_answer=\\'/question_submission.php?pageId=271456&products_id=271456\\';\\n    var pr_read_review=\\'#REVIEWS_HEADER\\';\\n   var pr_style_sheet=\"/site/files/min_reviews.css?v=3.4.1\";   \\n\\n   var pr_ask_question = pr_write_answer + \\'&appName=askQuestion\\';\\n   var pr_answer_question = pr_write_answer + \\'&appName=answerQuestion&questionId=@@@QUESTION_ID@@@\\';', 'End Power Reviews p:1', 'main-itemtemplate', 'box1-itemtemplate', 'div class=\"top-box1\"><img src=\"/site/templates/top-box1-itemtemplate-new.gif\" width=\"737\" height=\"10\" alt=\"\" /></div', 'Canon 3506b001 12.1 Megapixel Waterproof Powershot D10 (3508b001)', 'content-box1-itemtemplate', 'productsec', '5 in stock', '(as of 11/25/2010 02:33 PM)', 'Zoom panel loading...', 'Zoom', \"function richMedia(url) {\\nwindow.open(url,'richMedia','screenX=0,screenY=0,top=0,left=0,=no,location=no,directories=no,status=no,menubar=no,scrollbars=yes,addressbar=no,resizable=yes,copyhistory=no,width=' + (screen.availWidth - 10) + ',height=' + (screen.availHeight - 40));\\n}\", 'Additional Images:', 'Large', '|', 'Original', '|', 'Front', '|', 'Rear', '|', 'Left', '|', 'Right', '|', 'Top', 'Additional Media:', 'User-Manual', 'Model: 3506B001', 'View other products from Canon', 'Additional Information:', 'Description', 'Features', 'Specifications', 'Warranty\\xa0Information', 'Write\\xa0a\\xa0Review', 'Product\\xa0Report', 'productsec', 'Price & Shipping Information', 'price', 'Qualifies for', 'FREE', 'Shipping!', 'Within the Continental USA', 'read', 'Write a review!', 'read', 'Shipping Estimate:', 'Price:', '$308.81', 'price2', 'Still need answers?', 'br>- <a href=\"#QandA\" title=\"View questions and answers on this product\" style=\"font-size: 10px;\">View </a> -', 'productAnswersSnippet(document);', 'if(runInitFB) {\\n        window.fbAsyncInit = function() {\\n            FB.init({\\n                appId: \"\",\\n                xfbml: true\\n            });\\n        };\\n        (function() {\\n            var e = document.createElement(\\'script\\'); e.async = true;\\n            e.src = document.location.protocol + \\'//connect.facebook.net/en_US/all.js\\';\\n            document.getElementById(\\'fb-root\\').appendChild(e);\\n        }());\\n    }', 'button', 'button', 'Purchase an Extended Warranty', \"st_resale.createProductPageWidget({itemCondition: 'New', itemCategory: '16200',\\nitemPrice: 308.81, swfFilePath: '/warranty'});\", 'u s', 'Other products you may want to consider', 'wrapper-box3-1', 'box3', '$26.38', 'Itec Cbl-m8ml-06m 0.6 M M8 To Sata \"y\"...', 'box3', 'box3', '$11.71', 'Microsoft U81-00025 Usb Port White Compact Opt...', 'box3', 'box3', '$126.47', 'Lind Electronics Pa1580-1745 For The Cf51mk3 &...', 'box3', 'wrapper-box3-4', 'wrapper-box3-4', 'box3', '$304.83', 'Panasonic Dmcts2d 14.1mp All Weather Camera W/ 4.6...', 'box3', 'wrapper-box3-5', 'u s', 'price', 'content-box1-itemtemplate', 'wrapper-text-in-tab', 'Description', 'layerDesc', 'unknowDesc', 'Waterproof to 33 ft', 'freeze proof from 14deg f-104deg f', 'shockproof to the drop from 4ft height', 'digic 4 image processor has evolved face detection technology that tracks the faces of moving subjects & lets the shooter enter the frame seamlessly with the face detection self-timer', '12 megapixels', '3x optical zoom lens with optical image stabilization & 2.5\" purecolor lcd ii with wide viewing angle', 'blink detection to alert a shooter after a shot has been taken, that a subject has closed eyes', 'unknownDesc', 'layerDesc', 'layerFea', 'Features', 'unknowDesc', 'Package Contents:', 'PowerShot D10 Digital Camera', 'Lithium-ion Battery Pack NB-6L', 'Battery Charger CB-2LY', 'Wrist Strap WS-DC7', 'CD-ROM', 'USB Interface Cable IFC-400PCU', 'AV Cable AVC-DC400', 'Sensitivity:', 'Auto', 'ISO 80', 'ISO 100', 'ISO 200', 'ISO 400', 'ISO 800', 'ISO 1600', 'Menu Languages:', 'English', 'German', 'French', 'Dutch', 'Danish', 'Finnish', 'Italian', 'Norwegian', 'Swedish', 'Spanish', 'Simplified/Traditional Chinese', 'Japanese', 'Russian', 'Portuguese', 'Korean', 'Greek', 'Polish', 'Czech', 'Hungarian', 'Turkish', 'Thai', 'Arabic', 'Romanian', 'Ukrainian', 'Farsi', 'Compatibility:', 'NTSC', 'PAL', 'DPOF Version 1.1', 'Exif 2.2', 'PictBridge', 'Platform Support:', 'PC', 'Platform Support:', 'Mac', 'unknownDesc', 'layerFea', 'layerSpe', 'Specification', 'Troy Start', 'General Information', 'Manufacturer', 'Canon, Inc', 'Manufacturer Part Number', '3508B001', 'Manufacturer Website Address', 'www.canon.com', 'Brand Name', 'Canon', 'Product Line', 'PowerShot', 'Product Series', 'D', 'Product Model', 'D10', 'Product Name', 'PowerShot D10 Point & Shoot Digital Camera', 'Marketing Information', \"For those with a taste for adventure, there's a camera as bold as the active life you lead. It's the Canon PowerShot D10. Waterproof, freeze proof and shockproof, it's tough enough to take what you dish out. Plus it's got all the high performance features you expect from a Canon digital camera. You've got 12.1 megapixels of resolution plus all of Canon's powerful, state-of-the-art imaging technologies so you can capture your epic experiences in breathtaking color and awesome detail.\", 'Product Type', 'Point & Shoot Digital Camera', 'Display & Graphics', 'Screen Size', '2.50\"', 'Display Screen Type', 'Active Matrix TFT Color LCD', 'Display Resolution', '230000 Pixel', 'Aspect Ratio', '16:9', 'Effective Camera Resolution', '12.1 Megapixel', 'Total Camera Resolution', '12.7 Megapixel', 'Image', 'Image Formats', 'JPEG', 'Maximum Image Resolution', '4000 x 3000', 'Video', 'Video Formats', 'QuickTime MOV', 'Maximum Video Resolution', '640 x 480', 'Maximum Frame Rate', '30 fps', 'Lens', 'Focal Length', '6.20 mm to 18.60 mm', 'Aperture Range', 'f/2.8 to 4.9', 'Optical Zoom', '3x', 'Digital Zoom', '4x', 'Image Stabilization', 'Optical', 'Focus Modes', 'Auto-focus', 'Minimum Focus Distance', '1.20\"', 'Exposure', 'Shutter Speed', '1/1500 Second', 'Flash', 'Flash Modes', 'Auto Flash', 'Flash OFF', 'Flash ON', 'Red-eye Reduction', 'Memory', 'Memory Card Support', 'Secure Digital (SD) Card', 'Secure Digital High Capacity (SDHC) Card', 'MultiMediaCard (MMC)', 'MMCplus', 'HC MMCplus', 'Controls/Indicators', 'Camera Modes', 'Shooting Modes:', 'Auto', 'P', 'Portrait', 'Landscape', 'Night Scene', 'Foliage', 'Snow', 'Beach', 'Sunset', 'Fireworks', 'Aquarium', 'Underwater', 'ISO 3200', 'Long Shutter', 'Indoor', 'Kids & Pets', 'Night Snapshot', 'Color Accent', 'Color Swap', 'Stitch Assist', 'Movie', 'Photo Effects:', 'Vivid', 'Vivid Blue', 'Vivid Green', 'Vivid Red', 'Neutral', 'Sepia', 'Black & White', 'Positive Film', 'Lighter Skin Tone', 'Darker Skin Tone', 'Custom', 'Interfaces/Ports', 'Interfaces/Ports', '1 x  USB', '1 x  Audio/Video Out', '1 x  DC Power In', 'Software', 'Software Included', 'Digital Camera Solution', 'Battery Information', 'Number of Batteries Support', '1', 'Battery Size Support', 'Proprietary', 'Battery Include', 'Yes', 'Battery Rechargeable', 'Yes', 'Physical Characteristics', 'Color', 'Blue', 'Height', '2.63\"', 'Width', '4.08\"', 'Depth', '1.92\"', 'Weight', '6.70 oz', 'Troy End', 'layerSpe', 'layerWar', 'Warranty Information', 'Standard Warranty', '1 Year Limited', 'Beach Audio Warranty', 'All Items are', 'Brand New', ',', 'Factory Sealed', 'and come with a standard warranty.', '[Read our policies]', 'Extended Warranties are also available.', 'layerWar', 'layerQA', 'Got a question? Product Q & A', 'productAnswers(document);', 'layerQA', 'layerWik', 'Product Report', '[productwiki]', 'v=1.0', 't=326', 'm=1', '[/productwiki]', 'matchfound', '<!--\\n\\tproductwiki_product=\"Canon+3506b001+12.1+Megapixel+Waterproof+Powershot+D10+(3508b001)\";\\n\\tproductwiki_client=\"mer_92116225920454906260212243\";\\n\\tproductwiki_html=\"http://www.beachaudio.com/productwiki/productwiki.html\";\\n\\tproductwiki_css=\"http://www.beachaudio.com/productwiki/productwiki.css\";\\n\\tproductwiki_summary=\"1\";\\n\\tproductwiki_proscons=\"1\";\\n\\tproductwiki_competitors=\"1\";\\n\\tproductwiki_details=\"1\";\\n\\tproductwiki_related=\"1\";\\n\\tproductwiki_comments=\"1\";\\n\\tproductwiki_interactive=\"1\";\\n\\tproductwiki_twitter=\"1\";\\n\\tproductwiki_socialvideo=\"1\";\\n\\tproductwiki_socialphoto=\"1\";\\n\\tproductwiki_domain=\"http://pwc.productwiki.com/canon-d10/connect/\";\\n\\tproductwiki_clientdomain=\"\";\\n\\tproductwiki_clienturl=\"http%3a%2f%2fwww.beachaudio.com%2fCanon%2f3506b001-p-271456.html\"\\n\\t//-->', 'Information provided by', 'ProductWiki', ', the free resource for unbiased product reviews and information.', 'attribution', 'is the best resource for information on the', 'Canon D10', 'Grab This Widget!', 'layerWik', 'This product was added to our catalog on Tuesday, May 12, 2009.', 'Code:25-3506b001', 'wrapper-text-in-tab', 'end of body', 'Facebook Exclusives!', 'Become a Beach Audio fan for', ':', 'Exclusive Coupons', 'Special Promotions', 'Fun Contests', 'Payment Options', 'Now Accepting', 'Information', 'Customer Help Center', 'Holiday Shipping Deadlines', 'Return Request', 'FAQ', 'About Us', 'Testimonials', 'Sales and Support', 'Shipping Info', 'Sales Tax', 'Payment Methods', 'Return Policy', 'Security', 'Privacy', 'Site Information', 'Beach Audio News', 'Manufacturers', 'Order Status', 'My Account', 'Site Map', 'Tools and Widgets', 'Battery Finder', 'Top Searches', 'Product Reviews', 'Promotions', 'Lower Shipping Rates', 'Check out our drastically', 'reduced shipping rates!', '< more >', 'DVDs & Video Games', 'Now offering over 20,000', 'DVD', '&', 'Video Game', 'titles.', '$4 Shipping!', '< more >', 'Write a Reviews and WIN!', 'Customer Help Center', 'Return Request', 'About Us', 'Testimonials', 'Sales Tax', 'Payment Methods', 'Return Policy', 'FAQ', 'Privacy', 'Shipping Info', 'Site Information', 'Order Status', 'My Account', 'Site Map', 'Product Reviews', 'Shop by Brand', 'Trusted', 'pricegrabber.com', 'a href=\"http://www.pricegrabber.com/rating_getreview.php/retid=1723\" target=\"_blank\" rel=\"nofollow\"><img border=0 src=\"http://ah.pricegrabber.com/merchant_rating_image.php?retid=1723\" alt=\"PriceGrabber User Ratings for Beach Audio\" align=\"absmiddle\"></a', 'BEGIN: BizRate Medal (125x73 pixels)', 'END: BizRate Medal (125x73 pixels)', 'Beach Audio Inc', 'is', 'UpFront', \"thefind.upfront.init('tf_upfront_badge', 'c670e69bf05e99596c32e7c1b3689d4b')\", '© 2008 Beach Audio, Inc. All Rights Reserved', 'div id=\"myLogger\"></div', '_uacct = \"UA-232752-1\";\\n\\n_udn=\"beachaudio.com\";\\n// call only 1 tracker \\nurchinTracker();', 'js', 'js', 'script type=\"text/javascript\" src=\"/yui-2.8.0r4/build/logger/logger-min.js\"></script', \"<!--\\nvar fontcolor = '#FF0000';\\nvar fontcode = '';\\nvar fontface = 'verdana';\\nvar fontsize = '2';\\nvar fontstyle = '';\\nvar fontclass = '';\\nvar textline = 'Referral Code:';\\nvar defaultdisplay = '';\\n// -->\", 'YAHOO.namespace(\"beachaudio.zoom.container\");\\n\\n\\n\\tYAHOO.util.Event.onDOMReady(function () {\\n\\tYAHOO.util.Dom.removeClass(\"p12907383271638\", \"dyncontainer\");\\n\\n\\t// Instantiate the Dialog\\n\\tYAHOO.beachaudio.zoom.container.p12907383271638 = new YAHOO.widget.Panel(\"p12907383271638\", \\n\\t\\t\\t\\t\\t\\t\\t{ visible : false,  \\n\\t\\t\\t\\t\\t\\t\\t  constraintoviewport : true,\\n\\t\\t\\t\\t\\t\\t\\t  fixedcenter:false,\\n\\t\\t\\t\\t\\t\\t\\t  context:[\"a12907383271638\",\"tr\",\"tr\", [\"beforeShow\", \"windowResize\"], [-30, -40]],\\n\\t\\t\\t\\t\\t\\t\\t  close : true,\\n\\t\\t\\t\\t\\t\\t\\t  width:\"625px\",\\n\\t\\t\\t\\t\\t\\t\\t  height:\"650px\"\\n\\t\\t\\t\\t\\t\\t\\t});\\n\\t\\n\\t// Instantiate a Panel from script\\n\\tYAHOO.beachaudio.zoom.container.p12907383271638.setHeader(\"<span style=\\\\\"text-align: left; border-bottom: solid 1px #ccc\\\\\">Canon 3508B001</span>\");\\n\\t\\t\\tYAHOO.beachaudio.zoom.container.p12907383271638.setBody(\"<img id=img12907383271638 width=\\\\\"600\\\\\" height=\\\\\"600\\\\\" src=\\\\\"/images/ani/loadingw.gif\\\\\" />\");\\n\\t\\t\\tYAHOO.beachaudio.zoom.container.p12907383271638.setFooter(\"<span>Buy it now for only <span >$308.81</span>!</span>\");\\n\\t\\n\\t// Render the Dialog\\n\\tYAHOO.beachaudio.zoom.container.p12907383271638.render(document.getElementById(\"dyncontainer\"));\\n\\tYAHOO.util.Event.addListener(\"a12907383271638\", \"mouseenter\", YAHOO.beachaudio.zoom.container.p12907383271638.show, YAHOO.beachaudio.zoom.container.p12907383271638, true);\\n\\tYAHOO.util.Event.addListener(\"p12907383271638\", \"mouseleave\", YAHOO.beachaudio.zoom.container.p12907383271638.hide, YAHOO.beachaudio.zoom.container.p12907383271638, true);\\n\\tYAHOO.util.Event.addListener(\"p12907383271638\", \"mouseenter\", YAHOO.beachaudio.zoom.container.p12907383271638.show, YAHOO.beachaudio.zoom.container.p12907383271638, true);\\n\\tYAHOO.util.Event.addListener(\"a12907383271638\", \"mouseleave\", YAHOO.beachaudio.zoom.container.p12907383271638.hide, YAHOO.beachaudio.zoom.container.p12907383271638, true);\\n\\n\\n\\t\\n\\tvar imgGrp12907383271638 = new YAHOO.util.ImageLoader.group(\"a12907383271638\", \"mouseover\");\\n\\timgGrp12907383271638.registerSrcImage(\"img12907383271638\", \"/images/products/3506b001.jpg\");\\n\\timgGrp12907383271638.addTrigger(\"p12907383271638\", \"focus\");\\n\\timgGrp12907383271638.name = \"12907383271638Group\";\\n\\n\\tif (document.getElementById && document.getElementById(\"loadingzoom\") && document.getElementById(\"loadedzoom\")) { // DOM3 = IE5, NS6\\n\\t\\tdocument.getElementById(\"loadingzoom\").style.display = \"none\";\\n\\t\\tdocument.getElementById(\"loadedzoom\").style.display = \"block\";\\n\\t}\\n\\telse {\\n\\t\\tif (document.layers && document.loadingzoom.display && document.loadedzoom.display) { // Netscape 4\\n\\t\\t\\tdocument.loadingzoom.display = \"none\";\\n\\t\\t\\tdocument.loadedzoom.display = \"block\";\\n\\t\\t}\\n\\t\\telse if(document.all && document.all.loadingzoom && document.all.loadedzoom){ // IE 4\\n\\t\\t\\tdocument.all.loadingzoom.style.display = \"none\";\\n\\t\\t\\tdocument.all.loadedzoom.style.display = \"block\";\\n\\t\\t}\\n\\t}\\n\\n});', 'var var_prodid = \"271456\";', 'body {\\n\\tmargin:0;\\n\\tpadding:0;\\n}', '// display messages from server\\nfunction reportMessages(){\\n\\n}']], 'xpaths': [['/html/head/title', '/html/head/script', '/html/head/meta[4]/meta/link[5]', '/html/body/div[1]/div/div[1]/div[1]/div[2]/ul/li[1]/a[2]', '/html/body/div[1]/div/div[1]/div[1]/div[2]/ul/li[2]', '/html/body/div[1]/div/div[1]/div[1]/div[2]/ul/li[2]/a', '/html/body/div[1]/div/div[1]/div[1]/div[2]/ul/li[3]', '/html/body/div[1]/div/div[1]/div[1]/div[2]/ul/li[3]/a', '/html/body/div[1]/div/div[1]/div[1]/div[2]/ul/li[4]', '/html/body/div[1]/div/div[1]/div[1]/div[2]/ul/li[4]/a', '/html/body/div[1]/div/div[1]/div[1]/div[2]/ul/li[5]', '/html/body/div[1]/div/div[1]/div[1]/div[2]/ul/li[5]/a', '/html/body/div[1]/div/div[1]/div[1]/div[2]/ul/li[6]', '/html/body/div[1]/div/div[1]/div[1]/div[2]/ul/li[6]/a', '/html/body/div[1]/div/div[1]/div[1]/div[4]/form/label[1]', '/html/body/div[1]/div/div[1]/div[1]/div[4]/form/label[1]/option[1]', '/html/body/div[1]/div/div[1]/div[1]/div[4]/form/label[1]/option[2]', '/html/body/div[1]/div/div[1]/div[1]/div[4]/form/label[1]/option[3]', '/html/body/div[1]/div/div[1]/div[1]/div[4]/form/label[1]/option[4]', '/html/body/div[1]/div/div[1]/div[1]/div[4]/form/label[1]/option[5]', '/html/body/div[1]/div/div[1]/div[1]/div[4]/form/label[1]/option[6]', '/html/body/div[1]/div/div[1]/div[1]/div[4]/form/label[1]/option[7]', '/html/body/div[1]/div/div[1]/div[1]/div[4]/form/label[1]/option[8]', '/html/body/div[1]/div/div[1]/div[1]/div[4]/form/label[1]/option[9]', '/html/body/div[1]/div/div[1]/div[1]/div[4]/form/label[1]/option[10]', '/html/body/div[1]/div/div[1]/div[1]/div[4]/form/label[1]/option[11]', '/html/body/div[1]/div/div[1]/div[1]/div[4]/form/label[1]/option[12]', '/html/body/div[1]/div/div[1]/div[1]/div[4]/form/label[1]/option[13]', '/html/body/div[1]/div/div[1]/div[1]/div[4]/form/label[2]', '/html/body/div[1]/div/div[1]/div[1]/div[4]/p/a', '/html/body/div[1]/div/div[1]/div[1]/div[5]/div/ul/li[1]/a', '/html/body/div[1]/div/div[1]/div[1]/div[5]/div/ul/li[2]/a', '/html/body/div[1]/div/div[1]/div[1]/div[5]/div/ul/li[3]/a', '/html/body/div[1]/div/div[1]/div[1]/div[5]/div/ul/li[4]/a', '/html/body/div[1]/div/div[1]/div[1]/div[5]/div/ul/li[5]/a', '/html/body/div[1]/div/div[1]/div[1]/div[5]/div/ul/li[6]/a', '/html/body/div[1]/div/div[1]/div[1]/div[5]/div/ul/li[7]/a', '/html/body/div[1]/div/div[1]/div[1]/div[5]/div/ul/li[8]/a', '/html/body/div[1]/div/div[1]/div[1]/div[5]/div/ul/li[9]/a', '/html/body/div[1]/div/div[1]/div[1]/div[5]/div/ul/li[10]/a', '/html/body/div[1]/div/div[1]/div[1]/div[5]/div/ul/li[11]/a', '/html/body/div[1]/div/div[1]/div[1]/div[5]/div/ul/li[12]/a', '/html/body/div[1]/div/div[1]/div[1]/div[5]/div/ul/li[13]/a', '/html/body/div[1]/div/div[1]/div[2]/p/a[1]', '/html/body/div[1]/div/div[1]/div[2]/p', '/html/body/div[1]/div/div[1]/div[2]/p/a[2]', '/html/body/div[1]/div/div[1]/div[2]/p', '/html/body/div[1]/div/div[1]/div[2]/p/a[3]', '/html/body/div[1]/div/div[1]/div[2]/p', '/html/body/div[1]/div/div[1]/div[2]/p/a[4]', '/html/body/div[1]/div/div[1]/div[2]', '/html/body/div[1]/div/div[1]/div[2]', '/html/body/div[1]/div/div[1]/div[2]', '/html/body/div[1]/div/div[1]/div[2]/script[2]', '/html/body/div[1]/div/div[1]/div[2]', '/html/body/div[1]/div/div[1]/div[2]/div', '/html/body/div[1]/div/div[1]/div[2]/div/div', '/html/body/div[1]/div/div[1]/div[2]/div/div', '/html/body/div[1]/div/div[1]/div[2]/div/div/h5', '/html/body/div[1]/div/div[1]/div[2]/div/div/div[1]', '/html/body/div[1]/div/div[1]/div[2]/div/div/div[1]/div[1]', '/html/body/div[1]/div/div[1]/div[2]/div/div/div[1]/div[1]/p', '/html/body/div[1]/div/div[1]/div[2]/div/div/div[1]/div[1]/p/span', '/html/body/div[1]/div/div[1]/div[2]/div/div/div[1]/div[1]/div[2]/div[1]', '/html/body/div[1]/div/div[1]/div[2]/div/div/div[1]/div[1]/div[2]/div[2]/img', '/html/body/div[1]/div/div[1]/div[2]/div/div/div[1]/div[1]/script', '/html/body/div[1]/div/div[1]/div[2]/div/div/div[1]/div[1]/div[3]/b[1]', '/html/body/div[1]/div/div[1]/div[2]/div/div/div[1]/div[1]/div[3]/a[1]', '/html/body/div[1]/div/div[1]/div[2]/div/div/div[1]/div[1]/div[3]', '/html/body/div[1]/div/div[1]/div[2]/div/div/div[1]/div[1]/div[3]/a[2]', '/html/body/div[1]/div/div[1]/div[2]/div/div/div[1]/div[1]/div[3]', '/html/body/div[1]/div/div[1]/div[2]/div/div/div[1]/div[1]/div[3]/a[3]', '/html/body/div[1]/div/div[1]/div[2]/div/div/div[1]/div[1]/div[3]', '/html/body/div[1]/div/div[1]/div[2]/div/div/div[1]/div[1]/div[3]/a[4]', '/html/body/div[1]/div/div[1]/div[2]/div/div/div[1]/div[1]/div[3]', '/html/body/div[1]/div/div[1]/div[2]/div/div/div[1]/div[1]/div[3]/a[5]', '/html/body/div[1]/div/div[1]/div[2]/div/div/div[1]/div[1]/div[3]', '/html/body/div[1]/div/div[1]/div[2]/div/div/div[1]/div[1]/div[3]/a[6]', '/html/body/div[1]/div/div[1]/div[2]/div/div/div[1]/div[1]/div[3]', '/html/body/div[1]/div/div[1]/div[2]/div/div/div[1]/div[1]/div[3]/a[7]', '/html/body/div[1]/div/div[1]/div[2]/div/div/div[1]/div[1]/div[3]/b[2]', '/html/body/div[1]/div/div[1]/div[2]/div/div/div[1]/div[1]/div[3]/a[8]', '/html/body/div[1]/div/div[1]/div[2]/div/div/div[1]/div[1]/br[3]/br/span', '/html/body/div[1]/div/div[1]/div[2]/div/div/div[1]/div[1]/br[3]/br/span/a', '/html/body/div[1]/div/div[1]/div[2]/div/div/div[1]/div[1]/br[3]/br/p/div/p', '/html/body/div[1]/div/div[1]/div[2]/div/div/div[1]/div[1]/br[3]/br/p/div/table/tr/td[1]/ul/li[1]/a', '/html/body/div[1]/div/div[1]/div[2]/div/div/div[1]/div[1]/br[3]/br/p/div/table/tr/td[1]/ul/li[2]/a', '/html/body/div[1]/div/div[1]/div[2]/div/div/div[1]/div[1]/br[3]/br/p/div/table/tr/td[1]/ul/li[3]/a', '/html/body/div[1]/div/div[1]/div[2]/div/div/div[1]/div[1]/br[3]/br/p/div/table/tr/td[2]/ul/li[1]/a', '/html/body/div[1]/div/div[1]/div[2]/div/div/div[1]/div[1]/br[3]/br/p/div/table/tr/td[2]/ul/li[2]/a', '/html/body/div[1]/div/div[1]/div[2]/div/div/div[1]/div[1]/br[3]/br/p/div/table/tr/td[2]/ul/li[3]/a', '/html/body/div[1]/div/div[1]/div[2]/div/div/div[1]/div[1]/br[3]/br', '/html/body/div[1]/div/div[1]/div[2]/div/div/div[1]/div[2]/h6/span', '/html/body/div[1]/div/div[1]/div[2]/div/div/div[1]/div[3]', '/html/body/div[1]/div/div[1]/div[2]/div/div/div[1]/div[3]/p', '/html/body/div[1]/div/div[1]/div[2]/div/div/div[1]/div[3]/p/span', '/html/body/div[1]/div/div[1]/div[2]/div/div/div[1]/div[3]/p', '/html/body/div[1]/div/div[1]/div[2]/div/div/div[1]/div[3]/p/br/span', '/html/body/div[1]/div/div[1]/div[2]/div/div/div[1]/div[3]/div[2]', '/html/body/div[1]/div/div[1]/div[2]/div/div/div[1]/div[3]/div[2]/p/a', '/html/body/div[1]/div/div[1]/div[2]/div/div/div[1]/div[3]/div[2]', '/html/body/div[1]/div/div[1]/div[2]/div/div/div[1]/div[3]/div[3]/form/div[1]', '/html/body/div[1]/div/div[1]/div[2]/div/div/div[1]/div[3]/br/div[1]/span', '/html/body/div[1]/div/div[1]/div[2]/div/div/div[1]/div[3]/br/div[1]/span/span', '/html/body/div[1]/div/div[1]/div[2]/div/div/div[1]/div[3]/br/div[1]', '/html/body/div[1]/div/div[1]/div[2]/div/div/div[1]/div[3]/br/div[2]/span', '/html/body/div[1]/div/div[1]/div[2]/div/div/div[1]/div[3]/br/div[2]', '/html/body/div[1]/div/div[1]/div[2]/div/div/div[1]/div[3]/br/div[2]/script[1]', '/html/body/div[1]/div/div[1]/div[2]/div/div/div[1]/div[3]/br/div[2]/script[2]', '/html/body/div[1]/div/div[1]/div[2]/div/div/div[1]/div[3]/br/div[3]', '/html/body/div[1]/div/div[1]/div[2]/div/div/div[1]/div[3]/br/div[3]', '/html/body/div[1]/div/div[1]/div[2]/div/div/div[1]/div[3]/br/form/br/div/p', '/html/body/div[1]/div/div[1]/div[2]/div/div/div[1]/div[3]/br/form/br/div/div[1]/script', '/html/body/div[1]/div/div[1]/div[2]/div/div/div[1]/div[3]/br/form/br', '/html/body/div[1]/div/div[1]/div[2]/div/div/div[1]/div[3]/br/form/br/form/div/p', '/html/body/div[1]/div/div[1]/div[2]/div/div/div[1]/div[3]/br/form/br/form/div/div[1]/div[1]', '/html/body/div[1]/div/div[1]/div[2]/div/div/div[1]/div[3]/br/form/br/form/div/div[1]/div[1]/div[1]', '/html/body/div[1]/div/div[1]/div[2]/div/div/div[1]/div[3]/br/form/br/form/div/div[1]/div[1]/div[1]/p[1]/span', '/html/body/div[1]/div/div[1]/div[2]/div/div/div[1]/div[3]/br/form/br/form/div/div[1]/div[1]/div[1]/p[2]/a', '/html/body/div[1]/div/div[1]/div[2]/div/div/div[1]/div[3]/br/form/br/form/div/div[1]/div[1]/div[1]', '/html/body/div[1]/div/div[1]/div[2]/div/div/div[1]/div[3]/br/form/br/form/div/div[1]/div[1]/div[2]', '/html/body/div[1]/div/div[1]/div[2]/div/div/div[1]/div[3]/br/form/br/form/div/div[1]/div[1]/div[2]/p[1]/span', '/html/body/div[1]/div/div[1]/div[2]/div/div/div[1]/div[3]/br/form/br/form/div/div[1]/div[1]/div[2]/p[2]/a', '/html/body/div[1]/div/div[1]/div[2]/div/div/div[1]/div[3]/br/form/br/form/div/div[1]/div[1]/div[2]', '/html/body/div[1]/div/div[1]/div[2]/div/div/div[1]/div[3]/br/form/br/form/div/div[1]/div[1]/div[3]', '/html/body/div[1]/div/div[1]/div[2]/div/div/div[1]/div[3]/br/form/br/form/div/div[1]/div[1]/div[3]/p[1]/span', '/html/body/div[1]/div/div[1]/div[2]/div/div/div[1]/div[3]/br/form/br/form/div/div[1]/div[1]/div[3]/p[2]/a', '/html/body/div[1]/div/div[1]/div[2]/div/div/div[1]/div[3]/br/form/br/form/div/div[1]/div[1]/div[3]', '/html/body/div[1]/div/div[1]/div[2]/div/div/div[1]/div[3]/br/form/br/form/div/div[1]/div[1]', '/html/body/div[1]/div/div[1]/div[2]/div/div/div[1]/div[3]/br/form/br/form/div/div[1]/div[2]', '/html/body/div[1]/div/div[1]/div[2]/div/div/div[1]/div[3]/br/form/br/form/div/div[1]/div[2]/div', '/html/body/div[1]/div/div[1]/div[2]/div/div/div[1]/div[3]/br/form/br/form/div/div[1]/div[2]/div/p[1]/span', '/html/body/div[1]/div/div[1]/div[2]/div/div/div[1]/div[3]/br/form/br/form/div/div[1]/div[2]/div/p[2]/a', '/html/body/div[1]/div/div[1]/div[2]/div/div/div[1]/div[3]/br/form/br/form/div/div[1]/div[2]/div', '/html/body/div[1]/div/div[1]/div[2]/div/div/div[1]/div[3]/br/form/br/form/div/div[1]/div[2]', '/html/body/div[1]/div/div[1]/div[2]/div/div/div[1]/div[3]/br/form/br', '/html/body/div[1]/div/div[1]/div[2]/div/div/div[1]/div[3]/br', '/html/body/div[1]/div/div[1]/div[2]/div/div/div[1]', '/html/body/div[1]/div/div[1]/div[2]/div/div/div[2]', '/html/body/div[1]/div/div[1]/div[2]/div/div/div[2]/h3[1]/a', '/html/body/div[1]/div/div[1]/div[2]/div/div/div[2]/div[1]', '/html/body/div[1]/div/div[1]/div[2]/div/div/div[2]/div[1]/div', '/html/body/div[1]/div/div[1]/div[2]/div/div/div[2]/div[1]/div', '/html/body/div[1]/div/div[1]/div[2]/div/div/div[2]/div[1]/div/li', '/html/body/div[1]/div/div[1]/div[2]/div/div/div[2]/div[1]/div/li/li', '/html/body/div[1]/div/div[1]/div[2]/div/div/div[2]/div[1]/div/li/li/li', '/html/body/div[1]/div/div[1]/div[2]/div/div/div[2]/div[1]/div/li/li/li/li', '/html/body/div[1]/div/div[1]/div[2]/div/div/div[2]/div[1]/div/li/li/li/li/li', '/html/body/div[1]/div/div[1]/div[2]/div/div/div[2]/div[1]/div/li/li/li/li/li/li', '/html/body/div[1]/div/div[1]/div[2]/div/div/div[2]/div[1]/div/li/li/li/li/li/li', '/html/body/div[1]/div/div[1]/div[2]/div/div/div[2]/div[1]', '/html/body/div[1]/div/div[1]/div[2]/div/div/div[2]/div[2]', '/html/body/div[1]/div/div[1]/div[2]/div/div/div[2]/div[2]/h3/a', '/html/body/div[1]/div/div[1]/div[2]/div/div/div[2]/div[2]/div', '/html/body/div[1]/div/div[1]/div[2]/div/div/div[2]/div[2]/div/b', '/html/body/div[1]/div/div[1]/div[2]/div/div/div[2]/div[2]/div/li', '/html/body/div[1]/div/div[1]/div[2]/div/div/div[2]/div[2]/div/li/li', '/html/body/div[1]/div/div[1]/div[2]/div/div/div[2]/div[2]/div/li/li/li', '/html/body/div[1]/div/div[1]/div[2]/div/div/div[2]/div[2]/div/li/li/li/li', '/html/body/div[1]/div/div[1]/div[2]/div/div/div[2]/div[2]/div/li/li/li/li/li', '/html/body/div[1]/div/div[1]/div[2]/div/div/div[2]/div[2]/div/li/li/li/li/li/li', '/html/body/div[1]/div/div[1]/div[2]/div/div/div[2]/div[2]/div/li/li/li/li/li/li/li[1]', '/html/body/div[1]/div/div[1]/div[2]/div/div/div[2]/div[2]/div/li/li/li/li/li/li/p[1]/b', '/html/body/div[1]/div/div[1]/div[2]/div/div/div[2]/div[2]/div/li/li/li/li/li/li/p[1]/li', '/html/body/div[1]/div/div[1]/div[2]/div/div/div[2]/div[2]/div/li/li/li/li/li/li/p[1]/li/li', '/html/body/div[1]/div/div[1]/div[2]/div/div/div[2]/div[2]/div/li/li/li/li/li/li/p[1]/li/li/li', '/html/body/div[1]/div/div[1]/div[2]/div/div/div[2]/div[2]/div/li/li/li/li/li/li/p[1]/li/li/li/li', '/html/body/div[1]/div/div[1]/div[2]/div/div/div[2]/div[2]/div/li/li/li/li/li/li/p[1]/li/li/li/li/li', '/html/body/div[1]/div/div[1]/div[2]/div/div/div[2]/div[2]/div/li/li/li/li/li/li/p[1]/li/li/li/li/li/li', '/html/body/div[1]/div/div[1]/div[2]/div/div/div[2]/div[2]/div/li/li/li/li/li/li/p[1]/li/li/li/li/li/li/li', '/html/body/div[1]/div/div[1]/div[2]/div/div/div[2]/div[2]/div/li/li/li/li/li/li/p[2]/b', '/html/body/div[1]/div/div[1]/div[2]/div/div/div[2]/div[2]/div/li/li/li/li/li/li/p[2]/li', '/html/body/div[1]/div/div[1]/div[2]/div/div/div[2]/div[2]/div/li/li/li/li/li/li/p[2]/li/li', '/html/body/div[1]/div/div[1]/div[2]/div/div/div[2]/div[2]/div/li/li/li/li/li/li/p[2]/li/li/li', '/html/body/div[1]/div/div[1]/div[2]/div/div/div[2]/div[2]/div/li/li/li/li/li/li/p[2]/li/li/li/li', '/html/body/div[1]/div/div[1]/div[2]/div/div/div[2]/div[2]/div/li/li/li/li/li/li/p[2]/li/li/li/li/li', '/html/body/div[1]/div/div[1]/div[2]/div/div/div[2]/div[2]/div/li/li/li/li/li/li/p[2]/li/li/li/li/li/li', '/html/body/div[1]/div/div[1]/div[2]/div/div/div[2]/div[2]/div/li/li/li/li/li/li/p[2]/li/li/li/li/li/li/li', '/html/body/div[1]/div/div[1]/div[2]/div/div/div[2]/div[2]/div/li/li/li/li/li/li/p[2]/li/li/li/li/li/li/li/li', '/html/body/div[1]/div/div[1]/div[2]/div/div/div[2]/div[2]/div/li/li/li/li/li/li/p[2]/li/li/li/li/li/li/li/li/li', '/html/body/div[1]/div/div[1]/div[2]/div/div/div[2]/div[2]/div/li/li/li/li/li/li/p[2]/li/li/li/li/li/li/li/li/li/li', '/html/body/div[1]/div/div[1]/div[2]/div/div/div[2]/div[2]/div/li/li/li/li/li/li/p[2]/li/li/li/li/li/li/li/li/li/li/li', '/html/body/div[1]/div/div[1]/div[2]/div/div/div[2]/div[2]/div/li/li/li/li/li/li/p[2]/li/li/li/li/li/li/li/li/li/li/li/li', '/html/body/div[1]/div/div[1]/div[2]/div/div/div[2]/div[2]/div/li/li/li/li/li/li/p[2]/li/li/li/li/li/li/li/li/li/li/li/li/li', '/html/body/div[1]/div/div[1]/div[2]/div/div/div[2]/div[2]/div/li/li/li/li/li/li/p[2]/li/li/li/li/li/li/li/li/li/li/li/li/li/li', '/html/body/div[1]/div/div[1]/div[2]/div/div/div[2]/div[2]/div/li/li/li/li/li/li/p[2]/li/li/li/li/li/li/li/li/li/li/li/li/li/li/li', '/html/body/div[1]/div/div[1]/div[2]/div/div/div[2]/div[2]/div/li/li/li/li/li/li/p[2]/li/li/li/li/li/li/li/li/li/li/li/li/li/li/li/li', '/html/body/div[1]/div/div[1]/div[2]/div/div/div[2]/div[2]/div/li/li/li/li/li/li/p[2]/li/li/li/li/li/li/li/li/li/li/li/li/li/li/li/li/li', '/html/body/div[1]/div/div[1]/div[2]/div/div/div[2]/div[2]/div/li/li/li/li/li/li/p[2]/li/li/li/li/li/li/li/li/li/li/li/li/li/li/li/li/li/li', '/html/body/div[1]/div/div[1]/div[2]/div/div/div[2]/div[2]/div/li/li/li/li/li/li/p[2]/li/li/li/li/li/li/li/li/li/li/li/li/li/li/li/li/li/li/li', '/html/body/div[1]/div/div[1]/div[2]/div/div/div[2]/div[2]/div/li/li/li/li/li/li/p[2]/li/li/li/li/li/li/li/li/li/li/li/li/li/li/li/li/li/li/li/li', '/html/body/div[1]/div/div[1]/div[2]/div/div/div[2]/div[2]/div/li/li/li/li/li/li/p[2]/li/li/li/li/li/li/li/li/li/li/li/li/li/li/li/li/li/li/li/li/li', '/html/body/div[1]/div/div[1]/div[2]/div/div/div[2]/div[2]/div/li/li/li/li/li/li/p[2]/li/li/li/li/li/li/li/li/li/li/li/li/li/li/li/li/li/li/li/li/li/li', '/html/body/div[1]/div/div[1]/div[2]/div/div/div[2]/div[2]/div/li/li/li/li/li/li/p[2]/li/li/li/li/li/li/li/li/li/li/li/li/li/li/li/li/li/li/li/li/li/li/li', '/html/body/div[1]/div/div[1]/div[2]/div/div/div[2]/div[2]/div/li/li/li/li/li/li/p[2]/li/li/li/li/li/li/li/li/li/li/li/li/li/li/li/li/li/li/li/li/li/li/li/li', '/html/body/div[1]/div/div[1]/div[2]/div/div/div[2]/div[2]/div/li/li/li/li/li/li/p[2]/li/li/li/li/li/li/li/li/li/li/li/li/li/li/li/li/li/li/li/li/li/li/li/li/li', '/html/body/div[1]/div/div[1]/div[2]/div/div/div[2]/div[2]/div/li/li/li/li/li/li/b', '/html/body/div[1]/div/div[1]/div[2]/div/div/div[2]/div[2]/div/li/li/li/li/li/li/li[2]', '/html/body/div[1]/div/div[1]/div[2]/div/div/div[2]/div[2]/div/li/li/li/li/li/li/li[2]/li', '/html/body/div[1]/div/div[1]/div[2]/div/div/div[2]/div[2]/div/li/li/li/li/li/li/li[2]/li/li', '/html/body/div[1]/div/div[1]/div[2]/div/div/div[2]/div[2]/div/li/li/li/li/li/li/li[2]/li/li/li', '/html/body/div[1]/div/div[1]/div[2]/div/div/div[2]/div[2]/div/li/li/li/li/li/li/li[2]/li/li/li/li', '/html/body/div[1]/div/div[1]/div[2]/div/div/div[2]/div[2]/div/li/li/li/li/li/li/li[2]/li/li/li/b[1]', '/html/body/div[1]/div/div[1]/div[2]/div/div/div[2]/div[2]/div/li/li/li/li/li/li/li[2]/li/li/li', '/html/body/div[1]/div/div[1]/div[2]/div/div/div[2]/div[2]/div/li/li/li/li/li/li/li[2]/li/li/li/b[2]', '/html/body/div[1]/div/div[1]/div[2]/div/div/div[2]/div[2]/div/li/li/li/li/li/li/li[2]/li/li/li', '/html/body/div[1]/div/div[1]/div[2]/div/div/div[2]/div[2]/div/li/li/li/li/li/li/li[2]/li/li/li', '/html/body/div[1]/div/div[1]/div[2]/div/div/div[2]/div[2]', '/html/body/div[1]/div/div[1]/div[2]/div/div/div[2]/div[3]', '/html/body/div[1]/div/div[1]/div[2]/div/div/div[2]/div[3]/h3/a', '/html/body/div[1]/div/div[1]/div[2]/div/div/div[2]/div[3]/div', '/html/body/div[1]/div/div[1]/div[2]/div/div/div[2]/div[3]/div/table/tr[1]/td', '/html/body/div[1]/div/div[1]/div[2]/div/div/div[2]/div[3]/div/table/tr[2]/td[1]', '/html/body/div[1]/div/div[1]/div[2]/div/div/div[2]/div[3]/div/table/tr[2]/td[2]', '/html/body/div[1]/div/div[1]/div[2]/div/div/div[2]/div[3]/div/table/tr[3]/td[1]', '/html/body/div[1]/div/div[1]/div[2]/div/div/div[2]/div[3]/div/table/tr[3]/td[2]', '/html/body/div[1]/div/div[1]/div[2]/div/div/div[2]/div[3]/div/table/tr[4]/td[1]', '/html/body/div[1]/div/div[1]/div[2]/div/div/div[2]/div[3]/div/table/tr[4]/td[2]', '/html/body/div[1]/div/div[1]/div[2]/div/div/div[2]/div[3]/div/table/tr[5]/td[1]', '/html/body/div[1]/div/div[1]/div[2]/div/div/div[2]/div[3]/div/table/tr[5]/td[2]', '/html/body/div[1]/div/div[1]/div[2]/div/div/div[2]/div[3]/div/table/tr[6]/td[1]', '/html/body/div[1]/div/div[1]/div[2]/div/div/div[2]/div[3]/div/table/tr[6]/td[2]', '/html/body/div[1]/div/div[1]/div[2]/div/div/div[2]/div[3]/div/table/tr[7]/td[1]', '/html/body/div[1]/div/div[1]/div[2]/div/div/div[2]/div[3]/div/table/tr[7]/td[2]', '/html/body/div[1]/div/div[1]/div[2]/div/div/div[2]/div[3]/div/table/tr[8]/td[1]', '/html/body/div[1]/div/div[1]/div[2]/div/div/div[2]/div[3]/div/table/tr[8]/td[2]', '/html/body/div[1]/div/div[1]/div[2]/div/div/div[2]/div[3]/div/table/tr[9]/td[1]', '/html/body/div[1]/div/div[1]/div[2]/div/div/div[2]/div[3]/div/table/tr[9]/td[2]', '/html/body/div[1]/div/div[1]/div[2]/div/div/div[2]/div[3]/div/table/tr[10]/td[1]', '/html/body/div[1]/div/div[1]/div[2]/div/div/div[2]/div[3]/div/table/tr[10]/td[2]/p', '/html/body/div[1]/div/div[1]/div[2]/div/div/div[2]/div[3]/div/table/tr[11]/td[1]', '/html/body/div[1]/div/div[1]/div[2]/div/div/div[2]/div[3]/div/table/tr[11]/td[2]', '/html/body/div[1]/div/div[1]/div[2]/div/div/div[2]/div[3]/div/table/tr[12]/td', '/html/body/div[1]/div/div[1]/div[2]/div/div/div[2]/div[3]/div/table/tr[13]/td[1]', '/html/body/div[1]/div/div[1]/div[2]/div/div/div[2]/div[3]/div/table/tr[13]/td[2]', '/html/body/div[1]/div/div[1]/div[2]/div/div/div[2]/div[3]/div/table/tr[14]/td[1]', '/html/body/div[1]/div/div[1]/div[2]/div/div/div[2]/div[3]/div/table/tr[14]/td[2]', '/html/body/div[1]/div/div[1]/div[2]/div/div/div[2]/div[3]/div/table/tr[15]/td[1]', '/html/body/div[1]/div/div[1]/div[2]/div/div/div[2]/div[3]/div/table/tr[15]/td[2]', '/html/body/div[1]/div/div[1]/div[2]/div/div/div[2]/div[3]/div/table/tr[16]/td[1]', '/html/body/div[1]/div/div[1]/div[2]/div/div/div[2]/div[3]/div/table/tr[16]/td[2]', '/html/body/div[1]/div/div[1]/div[2]/div/div/div[2]/div[3]/div/table/tr[17]/td[1]', '/html/body/div[1]/div/div[1]/div[2]/div/div/div[2]/div[3]/div/table/tr[17]/td[2]', '/html/body/div[1]/div/div[1]/div[2]/div/div/div[2]/div[3]/div/table/tr[18]/td[1]', '/html/body/div[1]/div/div[1]/div[2]/div/div/div[2]/div[3]/div/table/tr[18]/td[2]', '/html/body/div[1]/div/div[1]/div[2]/div/div/div[2]/div[3]/div/table/tr[19]/td', '/html/body/div[1]/div/div[1]/div[2]/div/div/div[2]/div[3]/div/table/tr[20]/td[1]', '/html/body/div[1]/div/div[1]/div[2]/div/div/div[2]/div[3]/div/table/tr[20]/td[2]', '/html/body/div[1]/div/div[1]/div[2]/div/div/div[2]/div[3]/div/table/tr[21]/td[1]', '/html/body/div[1]/div/div[1]/div[2]/div/div/div[2]/div[3]/div/table/tr[21]/td[2]', '/html/body/div[1]/div/div[1]/div[2]/div/div/div[2]/div[3]/div/table/tr[22]/td', '/html/body/div[1]/div/div[1]/div[2]/div/div/div[2]/div[3]/div/table/tr[23]/td[1]', '/html/body/div[1]/div/div[1]/div[2]/div/div/div[2]/div[3]/div/table/tr[23]/td[2]', '/html/body/div[1]/div/div[1]/div[2]/div/div/div[2]/div[3]/div/table/tr[24]/td[1]', '/html/body/div[1]/div/div[1]/div[2]/div/div/div[2]/div[3]/div/table/tr[24]/td[2]', '/html/body/div[1]/div/div[1]/div[2]/div/div/div[2]/div[3]/div/table/tr[25]/td[1]', '/html/body/div[1]/div/div[1]/div[2]/div/div/div[2]/div[3]/div/table/tr[25]/td[2]', '/html/body/div[1]/div/div[1]/div[2]/div/div/div[2]/div[3]/div/table/tr[26]/td', '/html/body/div[1]/div/div[1]/div[2]/div/div/div[2]/div[3]/div/table/tr[27]/td[1]', '/html/body/div[1]/div/div[1]/div[2]/div/div/div[2]/div[3]/div/table/tr[27]/td[2]', '/html/body/div[1]/div/div[1]/div[2]/div/div/div[2]/div[3]/div/table/tr[28]/td[1]', '/html/body/div[1]/div/div[1]/div[2]/div/div/div[2]/div[3]/div/table/tr[28]/td[2]', '/html/body/div[1]/div/div[1]/div[2]/div/div/div[2]/div[3]/div/table/tr[29]/td[1]', '/html/body/div[1]/div/div[1]/div[2]/div/div/div[2]/div[3]/div/table/tr[29]/td[2]', '/html/body/div[1]/div/div[1]/div[2]/div/div/div[2]/div[3]/div/table/tr[30]/td[1]', '/html/body/div[1]/div/div[1]/div[2]/div/div/div[2]/div[3]/div/table/tr[30]/td[2]', '/html/body/div[1]/div/div[1]/div[2]/div/div/div[2]/div[3]/div/table/tr[31]/td[1]', '/html/body/div[1]/div/div[1]/div[2]/div/div/div[2]/div[3]/div/table/tr[31]/td[2]', '/html/body/div[1]/div/div[1]/div[2]/div/div/div[2]/div[3]/div/table/tr[32]/td[1]', '/html/body/div[1]/div/div[1]/div[2]/div/div/div[2]/div[3]/div/table/tr[32]/td[2]', '/html/body/div[1]/div/div[1]/div[2]/div/div/div[2]/div[3]/div/table/tr[33]/td[1]', '/html/body/div[1]/div/div[1]/div[2]/div/div/div[2]/div[3]/div/table/tr[33]/td[2]', '/html/body/div[1]/div/div[1]/div[2]/div/div/div[2]/div[3]/div/table/tr[34]/td', '/html/body/div[1]/div/div[1]/div[2]/div/div/div[2]/div[3]/div/table/tr[35]/td[1]', '/html/body/div[1]/div/div[1]/div[2]/div/div/div[2]/div[3]/div/table/tr[35]/td[2]', '/html/body/div[1]/div/div[1]/div[2]/div/div/div[2]/div[3]/div/table/tr[36]/td', '/html/body/div[1]/div/div[1]/div[2]/div/div/div[2]/div[3]/div/table/tr[37]/td[1]', '/html/body/div[1]/div/div[1]/div[2]/div/div/div[2]/div[3]/div/table/tr[37]/td[2]/ul/li', '/html/body/div[1]/div/div[1]/div[2]/div/div/div[2]/div[3]/div/table/tr[37]/td[2]/ul/li/li', '/html/body/div[1]/div/div[1]/div[2]/div/div/div[2]/div[3]/div/table/tr[37]/td[2]/ul/li/li/li', '/html/body/div[1]/div/div[1]/div[2]/div/div/div[2]/div[3]/div/table/tr[37]/td[2]/ul/li/li/li/li', '/html/body/div[1]/div/div[1]/div[2]/div/div/div[2]/div[3]/div/table/tr[38]/td', '/html/body/div[1]/div/div[1]/div[2]/div/div/div[2]/div[3]/div/table/tr[39]/td[1]', '/html/body/div[1]/div/div[1]/div[2]/div/div/div[2]/div[3]/div/table/tr[39]/td[2]/ul/li', '/html/body/div[1]/div/div[1]/div[2]/div/div/div[2]/div[3]/div/table/tr[39]/td[2]/ul/li/li', '/html/body/div[1]/div/div[1]/div[2]/div/div/div[2]/div[3]/div/table/tr[39]/td[2]/ul/li/li/li', '/html/body/div[1]/div/div[1]/div[2]/div/div/div[2]/div[3]/div/table/tr[39]/td[2]/ul/li/li/li/li', '/html/body/div[1]/div/div[1]/div[2]/div/div/div[2]/div[3]/div/table/tr[39]/td[2]/ul/li/li/li/li/li', '/html/body/div[1]/div/div[1]/div[2]/div/div/div[2]/div[3]/div/table/tr[40]/td', '/html/body/div[1]/div/div[1]/div[2]/div/div/div[2]/div[3]/div/table/tr[41]/td[1]', '/html/body/div[1]/div/div[1]/div[2]/div/div/div[2]/div[3]/div/table/tr[41]/td[2]/p[1]/b', '/html/body/div[1]/div/div[1]/div[2]/div/div/div[2]/div[3]/div/table/tr[41]/td[2]/p[1]/li', '/html/body/div[1]/div/div[1]/div[2]/div/div/div[2]/div[3]/div/table/tr[41]/td[2]/p[1]/li/li', '/html/body/div[1]/div/div[1]/div[2]/div/div/div[2]/div[3]/div/table/tr[41]/td[2]/p[1]/li/li/li', '/html/body/div[1]/div/div[1]/div[2]/div/div/div[2]/div[3]/div/table/tr[41]/td[2]/p[1]/li/li/li/li', '/html/body/div[1]/div/div[1]/div[2]/div/div/div[2]/div[3]/div/table/tr[41]/td[2]/p[1]/li/li/li/li/li', '/html/body/div[1]/div/div[1]/div[2]/div/div/div[2]/div[3]/div/table/tr[41]/td[2]/p[1]/li/li/li/li/li/li', '/html/body/div[1]/div/div[1]/div[2]/div/div/div[2]/div[3]/div/table/tr[41]/td[2]/p[1]/li/li/li/li/li/li/li', '/html/body/div[1]/div/div[1]/div[2]/div/div/div[2]/div[3]/div/table/tr[41]/td[2]/p[1]/li/li/li/li/li/li/li/li', '/html/body/div[1]/div/div[1]/div[2]/div/div/div[2]/div[3]/div/table/tr[41]/td[2]/p[1]/li/li/li/li/li/li/li/li/li', '/html/body/div[1]/div/div[1]/div[2]/div/div/div[2]/div[3]/div/table/tr[41]/td[2]/p[1]/li/li/li/li/li/li/li/li/li/li', '/html/body/div[1]/div/div[1]/div[2]/div/div/div[2]/div[3]/div/table/tr[41]/td[2]/p[1]/li/li/li/li/li/li/li/li/li/li/li', '/html/body/div[1]/div/div[1]/div[2]/div/div/div[2]/div[3]/div/table/tr[41]/td[2]/p[1]/li/li/li/li/li/li/li/li/li/li/li/li', '/html/body/div[1]/div/div[1]/div[2]/div/div/div[2]/div[3]/div/table/tr[41]/td[2]/p[1]/li/li/li/li/li/li/li/li/li/li/li/li/li', '/html/body/div[1]/div/div[1]/div[2]/div/div/div[2]/div[3]/div/table/tr[41]/td[2]/p[1]/li/li/li/li/li/li/li/li/li/li/li/li/li/li', '/html/body/div[1]/div/div[1]/div[2]/div/div/div[2]/div[3]/div/table/tr[41]/td[2]/p[1]/li/li/li/li/li/li/li/li/li/li/li/li/li/li/li', '/html/body/div[1]/div/div[1]/div[2]/div/div/div[2]/div[3]/div/table/tr[41]/td[2]/p[1]/li/li/li/li/li/li/li/li/li/li/li/li/li/li/li/li', '/html/body/div[1]/div/div[1]/div[2]/div/div/div[2]/div[3]/div/table/tr[41]/td[2]/p[1]/li/li/li/li/li/li/li/li/li/li/li/li/li/li/li/li/li', '/html/body/div[1]/div/div[1]/div[2]/div/div/div[2]/div[3]/div/table/tr[41]/td[2]/p[1]/li/li/li/li/li/li/li/li/li/li/li/li/li/li/li/li/li/li', '/html/body/div[1]/div/div[1]/div[2]/div/div/div[2]/div[3]/div/table/tr[41]/td[2]/p[1]/li/li/li/li/li/li/li/li/li/li/li/li/li/li/li/li/li/li/li', '/html/body/div[1]/div/div[1]/div[2]/div/div/div[2]/div[3]/div/table/tr[41]/td[2]/p[1]/li/li/li/li/li/li/li/li/li/li/li/li/li/li/li/li/li/li/li/li', '/html/body/div[1]/div/div[1]/div[2]/div/div/div[2]/div[3]/div/table/tr[41]/td[2]/p[1]/li/li/li/li/li/li/li/li/li/li/li/li/li/li/li/li/li/li/li/li/li', '/html/body/div[1]/div/div[1]/div[2]/div/div/div[2]/div[3]/div/table/tr[41]/td[2]/p[2]/b', '/html/body/div[1]/div/div[1]/div[2]/div/div/div[2]/div[3]/div/table/tr[41]/td[2]/p[2]/li', '/html/body/div[1]/div/div[1]/div[2]/div/div/div[2]/div[3]/div/table/tr[41]/td[2]/p[2]/li/li', '/html/body/div[1]/div/div[1]/div[2]/div/div/div[2]/div[3]/div/table/tr[41]/td[2]/p[2]/li/li/li', '/html/body/div[1]/div/div[1]/div[2]/div/div/div[2]/div[3]/div/table/tr[41]/td[2]/p[2]/li/li/li/li', '/html/body/div[1]/div/div[1]/div[2]/div/div/div[2]/div[3]/div/table/tr[41]/td[2]/p[2]/li/li/li/li/li', '/html/body/div[1]/div/div[1]/div[2]/div/div/div[2]/div[3]/div/table/tr[41]/td[2]/p[2]/li/li/li/li/li/li', '/html/body/div[1]/div/div[1]/div[2]/div/div/div[2]/div[3]/div/table/tr[41]/td[2]/p[2]/li/li/li/li/li/li/li', '/html/body/div[1]/div/div[1]/div[2]/div/div/div[2]/div[3]/div/table/tr[41]/td[2]/p[2]/li/li/li/li/li/li/li/li', '/html/body/div[1]/div/div[1]/div[2]/div/div/div[2]/div[3]/div/table/tr[41]/td[2]/p[2]/li/li/li/li/li/li/li/li/li', '/html/body/div[1]/div/div[1]/div[2]/div/div/div[2]/div[3]/div/table/tr[41]/td[2]/p[2]/li/li/li/li/li/li/li/li/li/li', '/html/body/div[1]/div/div[1]/div[2]/div/div/div[2]/div[3]/div/table/tr[41]/td[2]/p[2]/li/li/li/li/li/li/li/li/li/li/li', '/html/body/div[1]/div/div[1]/div[2]/div/div/div[2]/div[3]/div/table/tr[42]/td', '/html/body/div[1]/div/div[1]/div[2]/div/div/div[2]/div[3]/div/table/tr[43]/td[1]', '/html/body/div[1]/div/div[1]/div[2]/div/div/div[2]/div[3]/div/table/tr[43]/td[2]/ul/li', '/html/body/div[1]/div/div[1]/div[2]/div/div/div[2]/div[3]/div/table/tr[43]/td[2]/ul/li/li', '/html/body/div[1]/div/div[1]/div[2]/div/div/div[2]/div[3]/div/table/tr[43]/td[2]/ul/li/li/li', '/html/body/div[1]/div/div[1]/div[2]/div/div/div[2]/div[3]/div/table/tr[44]/td', '/html/body/div[1]/div/div[1]/div[2]/div/div/div[2]/div[3]/div/table/tr[45]/td[1]', '/html/body/div[1]/div/div[1]/div[2]/div/div/div[2]/div[3]/div/table/tr[45]/td[2]/p', '/html/body/div[1]/div/div[1]/div[2]/div/div/div[2]/div[3]/div/table/tr[46]/td', '/html/body/div[1]/div/div[1]/div[2]/div/div/div[2]/div[3]/div/table/tr[47]/td[1]', '/html/body/div[1]/div/div[1]/div[2]/div/div/div[2]/div[3]/div/table/tr[47]/td[2]', '/html/body/div[1]/div/div[1]/div[2]/div/div/div[2]/div[3]/div/table/tr[48]/td[1]', '/html/body/div[1]/div/div[1]/div[2]/div/div/div[2]/div[3]/div/table/tr[48]/td[2]', '/html/body/div[1]/div/div[1]/div[2]/div/div/div[2]/div[3]/div/table/tr[49]/td[1]', '/html/body/div[1]/div/div[1]/div[2]/div/div/div[2]/div[3]/div/table/tr[49]/td[2]', '/html/body/div[1]/div/div[1]/div[2]/div/div/div[2]/div[3]/div/table/tr[50]/td[1]', '/html/body/div[1]/div/div[1]/div[2]/div/div/div[2]/div[3]/div/table/tr[50]/td[2]', '/html/body/div[1]/div/div[1]/div[2]/div/div/div[2]/div[3]/div/table/tr[51]/td', '/html/body/div[1]/div/div[1]/div[2]/div/div/div[2]/div[3]/div/table/tr[52]/td[1]', '/html/body/div[1]/div/div[1]/div[2]/div/div/div[2]/div[3]/div/table/tr[52]/td[2]', '/html/body/div[1]/div/div[1]/div[2]/div/div/div[2]/div[3]/div/table/tr[53]/td[1]', '/html/body/div[1]/div/div[1]/div[2]/div/div/div[2]/div[3]/div/table/tr[53]/td[2]', '/html/body/div[1]/div/div[1]/div[2]/div/div/div[2]/div[3]/div/table/tr[54]/td[1]', '/html/body/div[1]/div/div[1]/div[2]/div/div/div[2]/div[3]/div/table/tr[54]/td[2]', '/html/body/div[1]/div/div[1]/div[2]/div/div/div[2]/div[3]/div/table/tr[55]/td[1]', '/html/body/div[1]/div/div[1]/div[2]/div/div/div[2]/div[3]/div/table/tr[55]/td[2]', '/html/body/div[1]/div/div[1]/div[2]/div/div/div[2]/div[3]/div/table/tr[56]/td[1]', '/html/body/div[1]/div/div[1]/div[2]/div/div/div[2]/div[3]/div/table/tr[56]/td[2]', '/html/body/div[1]/div/div[1]/div[2]/div/div/div[2]/div[3]/div', '/html/body/div[1]/div/div[1]/div[2]/div/div/div[2]/div[3]', '/html/body/div[1]/div/div[1]/div[2]/div/div/div[2]/div[4]', '/html/body/div[1]/div/div[1]/div[2]/div/div/div[2]/div[4]/h3/a', '/html/body/div[1]/div/div[1]/div[2]/div/div/div[2]/div[4]/div/table/tr[1]/td[1]', '/html/body/div[1]/div/div[1]/div[2]/div/div/div[2]/div[4]/div/table/tr[1]/td[2]', '/html/body/div[1]/div/div[1]/div[2]/div/div/div[2]/div[4]/div/table/tr[2]/td[1]', '/html/body/div[1]/div/div[1]/div[2]/div/div/div[2]/div[4]/div/table/tr[2]/td[2]/ul/li[1]', '/html/body/div[1]/div/div[1]/div[2]/div/div/div[2]/div[4]/div/table/tr[2]/td[2]/ul/li[1]/b[1]', '/html/body/div[1]/div/div[1]/div[2]/div/div/div[2]/div[4]/div/table/tr[2]/td[2]/ul/li[1]', '/html/body/div[1]/div/div[1]/div[2]/div/div/div[2]/div[4]/div/table/tr[2]/td[2]/ul/li[1]/b[2]', '/html/body/div[1]/div/div[1]/div[2]/div/div/div[2]/div[4]/div/table/tr[2]/td[2]/ul/li[1]', '/html/body/div[1]/div/div[1]/div[2]/div/div/div[2]/div[4]/div/table/tr[2]/td[2]/ul/li[1]/a', '/html/body/div[1]/div/div[1]/div[2]/div/div/div[2]/div[4]/div/table/tr[2]/td[2]/ul/li[2]', '/html/body/div[1]/div/div[1]/div[2]/div/div/div[2]/div[4]', '/html/body/div[1]/div/div[1]/div[2]/div/div/div[2]', '/html/body/div[1]/div/div[1]/div[2]/div/div/div[2]/h3[2]/a', '/html/body/div[1]/div/div[1]/div[2]/div/div/div[2]/script', '/html/body/div[1]/div/div[1]/div[2]/div/div/div[2]/br', '/html/body/div[1]/div/div[1]/div[2]/div/div/div[2]/br/div[1]', '/html/body/div[1]/div/div[1]/div[2]/div/div/div[2]/br/div[1]/h3/a', '/html/body/div[1]/div/div[1]/div[2]/div/div/div[2]/br/div[1]/div', '/html/body/div[1]/div/div[1]/div[2]/div/div/div[2]/br/div[1]/div', '/html/body/div[1]/div/div[1]/div[2]/div/div/div[2]/br/div[1]/div', '/html/body/div[1]/div/div[1]/div[2]/div/div/div[2]/br/div[1]/div', '/html/body/div[1]/div/div[1]/div[2]/div/div/div[2]/br/div[1]/div', '/html/body/div[1]/div/div[1]/div[2]/div/div/div[2]/br/div[1]/div', '/html/body/div[1]/div/div[1]/div[2]/div/div/div[2]/br/div[1]/div/script[1]', '/html/body/div[1]/div/div[1]/div[2]/div/div/div[2]/br/div[1]/div/link/div/p', '/html/body/div[1]/div/div[1]/div[2]/div/div/div[2]/br/div[1]/div/link/div/p/strong', '/html/body/div[1]/div/div[1]/div[2]/div/div/div[2]/br/div[1]/div/link/div/p', '/html/body/div[1]/div/div[1]/div[2]/div/div/div[2]/br/div[1]/div/link/div', '/html/body/div[1]/div/div[1]/div[2]/div/div/div[2]/br/div[1]/div/link/div/div/p', '/html/body/div[1]/div/div[1]/div[2]/div/div/div[2]/br/div[1]/div/link/div/div/p/a[2]', '/html/body/div[1]/div/div[1]/div[2]/div/div/div[2]/br/div[1]/div/link/div/div/p/br/a', '/html/body/div[1]/div/div[1]/div[2]/div/div/div[2]/br/div[1]', '/html/body/div[1]/div/div[1]/div[2]/div/div/div[2]/br/div[2]/p[1]', '/html/body/div[1]/div/div[1]/div[2]/div/div/div[2]/br/div[2]/p[2]', '/html/body/div[1]/div/div[1]/div[2]/div/div/div[2]/br', '/html/body/div[1]/div/div[1]/div[2]', '/html/body/div[1]/div/div[1]/div[3]/div[2]/h5', '/html/body/div[1]/div/div[1]/div[3]/div[2]/div/br/br/p/a', '/html/body/div[1]/div/div[1]/div[3]/div[2]/div/br/br/p', '/html/body/div[1]/div/div[1]/div[3]/div[2]/div/br/br/ul/li[1]/a', '/html/body/div[1]/div/div[1]/div[3]/div[2]/div/br/br/ul/li[2]/a', '/html/body/div[1]/div/div[1]/div[3]/div[2]/div/br/br/ul/li[3]/a', '/html/body/div[1]/div/div[1]/div[3]/div[3]/h5', '/html/body/div[1]/div/div[1]/div[3]/div[3]/div/span', '/html/body/div[1]/div/div[1]/div[3]/div[4]/h5', '/html/body/div[1]/div/div[1]/div[3]/div[4]/div/div[1]/span', '/html/body/div[1]/div/div[1]/div[3]/div[4]/div/div[1]/p[1]/a', '/html/body/div[1]/div/div[1]/div[3]/div[4]/div/div[1]/p[2]/a', '/html/body/div[1]/div/div[1]/div[3]/div[4]/div/div[1]/p[3]/a', '/html/body/div[1]/div/div[1]/div[3]/div[4]/div/div[1]/p[4]/a', '/html/body/div[1]/div/div[1]/div[3]/div[4]/div/div[1]/p[5]/a', '/html/body/div[1]/div/div[1]/div[3]/div[4]/div/div[1]/p[6]/a', '/html/body/div[1]/div/div[1]/div[3]/div[4]/div/div[1]/p[7]/a', '/html/body/div[1]/div/div[1]/div[3]/div[4]/div/div[1]/p[8]/a', '/html/body/div[1]/div/div[1]/div[3]/div[4]/div/div[1]/p[9]/a', '/html/body/div[1]/div/div[1]/div[3]/div[4]/div/div[1]/p[10]/a', '/html/body/div[1]/div/div[1]/div[3]/div[4]/div/div[1]/p[11]/a', '/html/body/div[1]/div/div[1]/div[3]/div[4]/div/div[1]/p[12]/a', '/html/body/div[1]/div/div[1]/div[3]/div[4]/div/div[2]/span', '/html/body/div[1]/div/div[1]/div[3]/div[4]/div/div[2]/p[1]/a', '/html/body/div[1]/div/div[1]/div[3]/div[4]/div/div[2]/p[2]/a', '/html/body/div[1]/div/div[1]/div[3]/div[4]/div/div[2]/p[3]/a', '/html/body/div[1]/div/div[1]/div[3]/div[4]/div/div[2]/p[4]/a', '/html/body/div[1]/div/div[1]/div[3]/div[4]/div/div[2]/p[5]/a', '/html/body/div[1]/div/div[1]/div[3]/div[4]/div/div[3]/span', '/html/body/div[1]/div/div[1]/div[3]/div[4]/div/div[3]/p[1]/a', '/html/body/div[1]/div/div[1]/div[3]/div[4]/div/div[3]/p[2]/a', '/html/body/div[1]/div/div[1]/div[3]/div[4]/div/div[3]/p[3]/a', '/html/body/div[1]/div/div[1]/div[3]/div[5]/h5', '/html/body/div[1]/div/div[1]/div[3]/div[5]/div/span/a', '/html/body/div[1]/div/div[1]/div[3]/div[5]/div/p', '/html/body/div[1]/div/div[1]/div[3]/div[5]/div/p/br', '/html/body/div[1]/div/div[1]/div[3]/div[5]/div/p/br/br/a', '/html/body/div[1]/div/div[1]/div[3]/div[5]/div/br/span/a', '/html/body/div[1]/div/div[1]/div[3]/div[5]/div/br/p', '/html/body/div[1]/div/div[1]/div[3]/div[5]/div/br/p/a[1]', '/html/body/div[1]/div/div[1]/div[3]/div[5]/div/br/p', '/html/body/div[1]/div/div[1]/div[3]/div[5]/div/br/p/a[2]', '/html/body/div[1]/div/div[1]/div[3]/div[5]/div/br/p', '/html/body/div[1]/div/div[1]/div[3]/div[5]/div/br/p/br/span', '/html/body/div[1]/div/div[1]/div[3]/div[5]/div/br/p/br/br/a', '/html/body/div[1]/div/div[1]/div[3]/div[5]/div/br/br/span', '/html/body/div[1]/div/div[2]/div/div[1]/h4', '/html/body/div[1]/div/div[2]/div/div[1]/ul[1]/li[1]/a', '/html/body/div[1]/div/div[2]/div/div[1]/ul[1]/li[2]/a', '/html/body/div[1]/div/div[2]/div/div[1]/ul[1]/li[3]/a', '/html/body/div[1]/div/div[2]/div/div[1]/ul[2]/li[1]/a', '/html/body/div[1]/div/div[2]/div/div[1]/ul[2]/li[2]/a', '/html/body/div[1]/div/div[2]/div/div[1]/ul[2]/li[3]/a', '/html/body/div[1]/div/div[2]/div/div[1]/ul[3]/li[1]/a', '/html/body/div[1]/div/div[2]/div/div[1]/ul[3]/li[2]/a', '/html/body/div[1]/div/div[2]/div/div[1]/ul[3]/li[3]/a', '/html/body/div[1]/div/div[2]/div/div[2]/h4', '/html/body/div[1]/div/div[2]/div/div[2]/ul[1]/li[1]/a', '/html/body/div[1]/div/div[2]/div/div[2]/ul[1]/li[2]/a', '/html/body/div[1]/div/div[2]/div/div[2]/ul[1]/li[3]/a', '/html/body/div[1]/div/div[2]/div/div[2]/ul[2]/li[1]/a', '/html/body/div[1]/div/div[2]/div/div[2]/ul[2]/li[2]/a', '/html/body/div[1]/div/div[2]/div/div[3]/h4', '/html/body/div[1]/div/div[2]/div/div[4]', '/html/body/div[1]/div/div[2]/div/div[4]/div[2]', '/html/body/div[1]/div/div[2]/div/div[4]', '/html/body/div[1]/div/div[2]/div/div[4]', '/html/body/div[1]/div/div[2]/div/div[4]/div[4]/center/a/b', '/html/body/div[1]/div/div[2]/div/div[4]/div[4]/center/a', '/html/body/div[1]/div/div[2]/div/div[4]/div[4]/center/a/u', '/html/body/div[1]/div/div[2]/div/div[4]/div[4]/center/script[2]', '/html/body/div[1]/div/div[3]/p', '/html/body', '/html/body/script[2]', '/html/body', '/html/body', '/html/body', '/html/body/center/div/script[1]', '/html/body/script[12]', '/html/body/script[14]', '/html/body/style', '/html/body/link/link/script[4]']], 'node_labels': [[0, 3, 3, 3, 3, 3, 3, 3, 3, 3, 3, 3, 3, 3, 3, 3, 3, 3, 3, 3, 3, 3, 3, 3, 3, 3, 3, 3, 3, 3, 3, 3, 3, 3, 3, 3, 3, 3, 3, 3, 3, 3, 3, 3, 3, 3, 3, 3, 3, 3, 3, 3, 3, 3, 3, 3, 3, 3, 0, 3, 3, 3, 3, 3, 3, 3, 3, 3, 3, 3, 3, 3, 3, 3, 3, 3, 3, 3, 3, 3, 3, 3, 3, 3, 3, 3, 3, 3, 3, 3, 3, 3, 3, 3, 3, 3, 3, 3, 3, 3, 3, 3, 3, 1, 3, 3, 3, 3, 3, 3, 3, 3, 3, 3, 3, 3, 3, 3, 3, 3, 3, 3, 3, 3, 3, 3, 3, 3, 3, 3, 3, 3, 3, 3, 3, 3, 3, 3, 3, 3, 3, 3, 3, 3, 3, 3, 3, 3, 3, 3, 3, 3, 3, 3, 3, 3, 3, 3, 3, 3, 3, 3, 3, 3, 3, 3, 3, 3, 3, 3, 3, 3, 3, 3, 3, 3, 3, 3, 3, 3, 3, 3, 3, 3, 3, 3, 3, 3, 3, 3, 3, 3, 3, 3, 3, 3, 3, 3, 3, 3, 3, 3, 3, 3, 3, 3, 3, 3, 3, 3, 3, 3, 3, 3, 3, 3, 3, 3, 3, 2, 3, 3, 3, 3, 3, 3, 3, 3, 3, 3, 3, 3, 3, 3, 3, 3, 3, 3, 3, 3, 3, 3, 3, 3, 3, 3, 3, 3, 3, 3, 3, 3, 3, 3, 3, 3, 3, 3, 3, 3, 3, 3, 3, 3, 3, 3, 3, 3, 3, 3, 3, 3, 3, 3, 3, 3, 3, 3, 3, 3, 3, 3, 3, 3, 3, 3, 3, 3, 3, 3, 3, 3, 3, 3, 3, 3, 3, 3, 3, 3, 3, 3, 3, 3, 3, 3, 3, 3, 3, 3, 3, 3, 3, 3, 3, 3, 3, 3, 3, 3, 3, 3, 3, 3, 3, 3, 3, 3, 3, 3, 3, 3, 3, 3, 3, 3, 3, 3, 3, 3, 3, 3, 3, 3, 3, 3, 3, 3, 3, 3, 3, 3, 3, 3, 3, 3, 3, 3, 3, 3, 3, 3, 3, 3, 3, 3, 3, 3, 3, 3, 3, 3, 3, 3, 3, 3, 3, 3, 3, 3, 3, 3, 3, 3, 3, 3, 3, 3, 3, 3, 3, 3, 3, 3, 3, 3, 3, 3, 3, 3, 3, 3, 3, 3, 3, 3, 3, 3, 3, 3, 3, 3, 3, 3, 3, 3, 3, 3, 3, 3, 3, 3, 3, 3, 3, 3, 3, 3, 3, 3, 3, 3, 3, 3, 3, 3, 3, 3, 3, 3, 3, 3, 3, 3, 3, 3, 3, 3, 3, 3, 3, 3, 3, 3, 3, 3, 3, 3, 3, 3, 3, 3, 3, 3, 3, 3, 3, 3, 3, 3, 3, 3, 3, 3]]}\n"
          ]
        }
      ],
      "source": [
        "print(train_data[0])"
      ]
    },
    {
      "cell_type": "markdown",
      "metadata": {
        "id": "T8EJSDe9pFiG"
      },
      "source": [
        "## Create PyTorch Dataset\n",
        "\n",
        "Next, we'll create a regular PyTorch dataset. Each item of the dataset is an HTML string, encoded using MarkupLMProcessor. Note that we initialize the processor with parse_html = False, as we have already parsed the HTML ourselves and we're providing the nodes, xpaths and node labels.\n",
        "\n",
        "Note that by default, the processor will only label the first token of a given node and label the remaining tokens with -100. you can change this by setting the `only_label_first_subword` attribute of the processor's tokenizer to `False`."
      ]
    },
    {
      "cell_type": "code",
      "execution_count": 6,
      "metadata": {
        "id": "s9dHuyYuIW4B"
      },
      "outputs": [],
      "source": [
        "from torch.utils.data import Dataset\n",
        "\n",
        "max_length=384\n",
        "\n",
        "class MarkupLMDataset(Dataset):\n",
        "    \"\"\"Dataset for token classification with MarkupLM.\"\"\"\n",
        "\n",
        "    def __init__(self, data, processor=None, max_length=max_length):\n",
        "        self.data = data\n",
        "        self.processor = processor\n",
        "        self.max_length = max_length\n",
        "\n",
        "    def __len__(self):\n",
        "        return len(self.data)\n",
        "\n",
        "    def __getitem__(self, idx):\n",
        "        # first, get nodes, xpaths and node labels\n",
        "        item = self.data[idx]\n",
        "        nodes, xpaths, node_labels = item['nodes'], item['xpaths'], item['node_labels']\n",
        "\n",
        "        # provide to processor\n",
        "        encoding = self.processor(nodes=nodes, \n",
        "                                  xpaths=xpaths, \n",
        "                                  node_labels=node_labels, \n",
        "                                  padding=True, \n",
        "                                  truncation=True,\n",
        "                                  max_length=self.max_length, \n",
        "                                  return_tensors=\"pt\")\n",
        "\n",
        "        # remove batch dimension\n",
        "        encoding = {k: v.squeeze() for k, v in encoding.items()}\n",
        "\n",
        "        return encoding"
      ]
    },
    {
      "cell_type": "code",
      "execution_count": 7,
      "metadata": {
        "id": "WCUKWCQBJsbO"
      },
      "outputs": [
        {
          "name": "stderr",
          "output_type": "stream",
          "text": [
            "/home/savkin/vera/venv/lib/python3.8/site-packages/tqdm/auto.py:21: TqdmWarning: IProgress not found. Please update jupyter and ipywidgets. See https://ipywidgets.readthedocs.io/en/stable/user_install.html\n",
            "  from .autonotebook import tqdm as notebook_tqdm\n"
          ]
        }
      ],
      "source": [
        "from transformers import MarkupLMProcessor\n",
        "\n",
        "processor = MarkupLMProcessor.from_pretrained(\"microsoft/markuplm-base\")\n",
        "processor.parse_html = False\n",
        "\n",
        "train_dataset = MarkupLMDataset(data=train_data, processor=processor, max_length=max_length)\n",
        "valid_dataset = MarkupLMDataset(data=valid_data, processor=processor, max_length=max_length)"
      ]
    },
    {
      "cell_type": "markdown",
      "metadata": {
        "id": "r3M3GO0epfN6"
      },
      "source": [
        "## Create PyTorch Dataloaders\n",
        "\n",
        "The next step is to create a PyTorch DataLoader, which allows us to get batches from the dataset."
      ]
    },
    {
      "cell_type": "code",
      "execution_count": 8,
      "metadata": {
        "id": "Nw8AYMRtJPXh"
      },
      "outputs": [],
      "source": [
        "from torch.utils.data import DataLoader\n",
        "\n",
        "train_dataloader = DataLoader(train_dataset, batch_size=64, shuffle=True)\n",
        "eval_dataloader = DataLoader(valid_dataset, batch_size=64, shuffle=True)"
      ]
    },
    {
      "cell_type": "markdown",
      "metadata": {
        "id": "-9RF4YuYtPfZ"
      },
      "source": [
        "## Define model\n",
        "\n",
        "We define the model here, which is a MarkupLM-base Transformer, with a token classifier head on top. The token classifier will have randomly initialized weights, while the base Transformer has pre-trained weights.\n",
        "\n"
      ]
    },
    {
      "cell_type": "code",
      "execution_count": 9,
      "metadata": {
        "colab": {
          "base_uri": "https://localhost:8080/"
        },
        "id": "JyAcG4VttQPF",
        "outputId": "27d68619-6d2c-4296-d3d9-7b5df27fb105"
      },
      "outputs": [
        {
          "name": "stderr",
          "output_type": "stream",
          "text": [
            "Some weights of MarkupLMForTokenClassification were not initialized from the model checkpoint at microsoft/markuplm-base and are newly initialized: ['classifier.bias', 'classifier.weight']\n",
            "You should probably TRAIN this model on a down-stream task to be able to use it for predictions and inference.\n"
          ]
        }
      ],
      "source": [
        "from transformers import MarkupLMForTokenClassification\n",
        "\n",
        "id2label = {0: \"model\", 1: \"price\", 2: \"manufacturer\", 3: \"other\"}\n",
        "label2id = {label:id for id, label in id2label.items()}\n",
        "\n",
        "model = MarkupLMForTokenClassification.from_pretrained(\"microsoft/markuplm-base\", id2label=id2label, label2id=label2id)"
      ]
    },
    {
      "cell_type": "markdown",
      "metadata": {
        "id": "_PNbHdFRJtsA"
      },
      "source": [
        "We also create a label_list, where each tag starts with a B (as seqeval expects the labels to be in IOB format)."
      ]
    },
    {
      "cell_type": "code",
      "execution_count": 10,
      "metadata": {
        "colab": {
          "base_uri": "https://localhost:8080/"
        },
        "id": "wJsuIvJiJURr",
        "outputId": "b546f913-44df-4e2b-d47a-362a665807b1"
      },
      "outputs": [
        {
          "data": {
            "text/plain": [
              "['B-model', 'B-price', 'B-manufacturer', 'B-other']"
            ]
          },
          "execution_count": 10,
          "metadata": {},
          "output_type": "execute_result"
        }
      ],
      "source": [
        "label_list = [\"B-\" + x for x in list(id2label.values())]\n",
        "label_list"
      ]
    },
    {
      "cell_type": "markdown",
      "metadata": {
        "id": "ltFVhjQxH3ju"
      },
      "source": [
        "We also define metric calculations (as we'd like to know the F1 score etc. during training). We'll use 🤗 [Evaluate](https://huggingface.co/docs/evaluate/index) for that, which is a library containing many tools for evaluating ML models."
      ]
    },
    {
      "cell_type": "code",
      "execution_count": 11,
      "metadata": {},
      "outputs": [],
      "source": [
        "import evaluate\n",
        "\n",
        "# Metric\n",
        "metric = evaluate.load(\"seqeval\")\n",
        "\n",
        "def get_labels(predictions, references):\n",
        "    # Transform predictions and references tensos to numpy arrays\n",
        "    if device.type == \"cpu\":\n",
        "        y_pred = predictions.detach().clone().numpy()\n",
        "        y_true = references.detach().clone().numpy()\n",
        "    else:\n",
        "        y_pred = predictions.detach().cpu().clone().numpy()\n",
        "        y_true = references.detach().cpu().clone().numpy()\n",
        "\n",
        "\n",
        "    # Remove ignored index (special tokens)\n",
        "    true_predictions = [\n",
        "        [label_list[p] for (p, l) in zip(pred, gold_label) if l != -100]\n",
        "        for pred, gold_label in zip(y_pred, y_true)\n",
        "    ]\n",
        "    true_labels = [\n",
        "        [label_list[l] for (p, l) in zip(pred, gold_label) if l != -100]\n",
        "        for pred, gold_label in zip(y_pred, y_true)\n",
        "    ]\n",
        "    return true_predictions, true_labels\n",
        "\n",
        "def compute_metrics(return_entity_level_metrics=True):\n",
        "    results = metric.compute()\n",
        "    if return_entity_level_metrics:\n",
        "        # Unpack nested dictionaries\n",
        "        final_results = {}\n",
        "        for key, value in results.items():\n",
        "            if isinstance(value, dict):\n",
        "                for n, v in value.items():\n",
        "                    final_results[f\"{key}_{n}\"] = v\n",
        "            else:\n",
        "                final_results[key] = value\n",
        "        return final_results\n",
        "    else:\n",
        "        return {\n",
        "            \"precision\": results[\"overall_precision\"],\n",
        "            \"recall\": results[\"overall_recall\"],\n",
        "            \"f1\": results[\"overall_f1\"],\n",
        "            \"accuracy\": results[\"overall_accuracy\"],\n",
        "        }"
      ]
    },
    {
      "cell_type": "markdown",
      "metadata": {
        "id": "r2RfrAhyKIcJ"
      },
      "source": [
        "## Train\n",
        "\n",
        "Alright, let's train! Here we're training the model in native PyTorch, but of course you could also opt for things like 🤗 Accelerate, 🤗 Trainer, PyTorch Lightning,..."
      ]
    },
    {
      "cell_type": "code",
      "execution_count": 12,
      "metadata": {
        "colab": {
          "base_uri": "https://localhost:8080/",
          "height": 733,
          "referenced_widgets": [
            "1efaab196cdf413290a431658a7c37e8",
            "e950ba6862394e4483a706a568dcf3cb",
            "d8e5f48f3f7840e0b838df80f9d07527",
            "5449b664cffc4fbb8418fddcd42259b5",
            "2a11a94624d34901806ceafd5108ca41",
            "9209dbaeba4941a5841cc1ca3a4ae845",
            "4b58dbaea1e64cc0887d32810f0b2994",
            "111db982b6c34747bd360624ea4cbe5e",
            "295b69341c314474acc9de4eaab35361",
            "18aa73713f2d4662b644a5da65ed0abc",
            "709a75a2ea9544f3af191e5da3f455b1",
            "41b1ff7ceb27460f8d728e6adbaabb73",
            "77abcf0972874873bcd42396f9df50e8",
            "c804100a751046b880c6f3d351fa8bc7",
            "c2241e09ad504051a7eb87496c53f1a5",
            "17e96e75dd304daf900d88d4f7048c6a",
            "309e78727d274c75bdfbe6f3e0bc382c",
            "b5ff4bccd4624e84bb0fd0a5f9039564",
            "fee7a9b53c43490ea51965ec41493e32",
            "2b0d37003ffd4f548bb493ff2f96fd40",
            "efe083fa06ba4ef985fb8994f1b06c14",
            "560a2a34c5d84469b61da36f5884a102",
            "1b31f8ee960a4559b7e928d98acd088b",
            "daeabfc06460439ebde9fb9436ff244a",
            "90385338c5694374b42d47c84a76fcd9",
            "fd2e438e8b4a47928e8d42476dca5c6a",
            "99d03b6b90ae412891ed40a7f7a8fc17",
            "d78d5b3f146f4604a78c08caae41b4d3",
            "fa4d09ebbd604480bb7cfeaf6bcb4a2b",
            "2884c008a0064b488b0e5e8882ab4db8",
            "ff10c7e80e604bf9934af3d6c87b3d69",
            "b5c7931dc5fb471f99612f60c6b1b6e6",
            "75aa20be4912412b9326ad4fd175e94c",
            "fb87df90c6754443b848d2906b70c20c",
            "897d441504394c13be74d6527d43e2ad",
            "c5cf507b895043df88478cb0b36c88c8",
            "34cf46270d844b4e9d9de27d9437a0bf",
            "95fc5b04e9174cda9e6ba8859355eac2",
            "0c145c54461e4f748e630608e572d656",
            "a3d2d3776c50425e82e880aaf53266c5",
            "810c4546e9a54279a0169a8f219921d1",
            "4a5f6116b4504b79845fe0f024f76045",
            "a7e6451644684b0ba08b1fef97d8bffe",
            "0bd6f854922b42209c34644d064fc784",
            "9a960e309c4547739b85684fd22a7434",
            "1b04d7d7c64e46c7a65fec70a8aa6d47",
            "62ca6a355eba4d8b9246196543651611",
            "1dfb949779dd4c63a6008aa28c7ce877",
            "a3d7e773a941411d843e1d97501bbbc1",
            "4161733518e9413dbfd46df36b44cdfc",
            "fd55d9ea99994dbe9fcbde47912f6d3c",
            "c2bd8b713ab34602882409fce6ea137c",
            "bad50a6972ba4cc89ace07948e418348",
            "2403434c28334c5b9fdc25e39177673d",
            "a7268c5d50a8461eb505c826d7e7fa8f"
          ]
        },
        "id": "JMqpXGx6sJ7u",
        "outputId": "1d8b34aa-531b-4590-b718-7fde4ff85f97"
      },
      "outputs": [
        {
          "name": "stderr",
          "output_type": "stream",
          "text": [
            "  2%|▏         | 1/56 [00:05<05:12,  5.69s/it]"
          ]
        },
        {
          "name": "stdout",
          "output_type": "stream",
          "text": [
            "Loss: 1.4233579635620117\n"
          ]
        },
        {
          "name": "stderr",
          "output_type": "stream",
          "text": [
            "  4%|▎         | 2/56 [00:09<04:10,  4.63s/it]"
          ]
        },
        {
          "name": "stdout",
          "output_type": "stream",
          "text": [
            "Loss: 0.9820742607116699\n"
          ]
        },
        {
          "name": "stderr",
          "output_type": "stream",
          "text": [
            "  5%|▌         | 3/56 [00:14<04:08,  4.69s/it]"
          ]
        },
        {
          "name": "stdout",
          "output_type": "stream",
          "text": [
            "Loss: 0.6651310920715332\n"
          ]
        },
        {
          "name": "stderr",
          "output_type": "stream",
          "text": [
            "  7%|▋         | 4/56 [00:18<03:51,  4.44s/it]"
          ]
        },
        {
          "name": "stdout",
          "output_type": "stream",
          "text": [
            "Loss: 0.4067155420780182\n"
          ]
        },
        {
          "name": "stderr",
          "output_type": "stream",
          "text": [
            "  9%|▉         | 5/56 [00:22<03:42,  4.37s/it]"
          ]
        },
        {
          "name": "stdout",
          "output_type": "stream",
          "text": [
            "Loss: 0.25720328092575073\n"
          ]
        },
        {
          "name": "stderr",
          "output_type": "stream",
          "text": [
            " 11%|█         | 6/56 [00:26<03:37,  4.35s/it]"
          ]
        },
        {
          "name": "stdout",
          "output_type": "stream",
          "text": [
            "Loss: 0.14913615584373474\n"
          ]
        },
        {
          "name": "stderr",
          "output_type": "stream",
          "text": [
            " 12%|█▎        | 7/56 [00:31<03:31,  4.31s/it]"
          ]
        },
        {
          "name": "stdout",
          "output_type": "stream",
          "text": [
            "Loss: 0.07324621081352234\n"
          ]
        },
        {
          "name": "stderr",
          "output_type": "stream",
          "text": [
            " 14%|█▍        | 8/56 [00:35<03:26,  4.31s/it]"
          ]
        },
        {
          "name": "stdout",
          "output_type": "stream",
          "text": [
            "Loss: 0.0403117910027504\n"
          ]
        },
        {
          "name": "stderr",
          "output_type": "stream",
          "text": [
            " 16%|█▌        | 9/56 [00:39<03:23,  4.33s/it]"
          ]
        },
        {
          "name": "stdout",
          "output_type": "stream",
          "text": [
            "Loss: 0.025667166337370872\n"
          ]
        },
        {
          "name": "stderr",
          "output_type": "stream",
          "text": [
            " 18%|█▊        | 10/56 [00:44<03:25,  4.46s/it]"
          ]
        },
        {
          "name": "stdout",
          "output_type": "stream",
          "text": [
            "Loss: 0.025784146040678024\n"
          ]
        },
        {
          "name": "stderr",
          "output_type": "stream",
          "text": [
            " 20%|█▉        | 11/56 [00:48<03:15,  4.34s/it]"
          ]
        },
        {
          "name": "stdout",
          "output_type": "stream",
          "text": [
            "Loss: 0.010956886224448681\n"
          ]
        },
        {
          "name": "stderr",
          "output_type": "stream",
          "text": [
            " 21%|██▏       | 12/56 [00:53<03:11,  4.36s/it]"
          ]
        },
        {
          "name": "stdout",
          "output_type": "stream",
          "text": [
            "Loss: 0.008753900416195393\n"
          ]
        },
        {
          "name": "stderr",
          "output_type": "stream",
          "text": [
            " 23%|██▎       | 13/56 [00:57<03:07,  4.35s/it]"
          ]
        },
        {
          "name": "stdout",
          "output_type": "stream",
          "text": [
            "Loss: 0.007170962169766426\n"
          ]
        },
        {
          "name": "stderr",
          "output_type": "stream",
          "text": [
            " 25%|██▌       | 14/56 [01:01<03:00,  4.30s/it]"
          ]
        },
        {
          "name": "stdout",
          "output_type": "stream",
          "text": [
            "Loss: 0.0058194310404360294\n"
          ]
        },
        {
          "name": "stderr",
          "output_type": "stream",
          "text": [
            " 27%|██▋       | 15/56 [01:05<02:51,  4.18s/it]"
          ]
        },
        {
          "name": "stdout",
          "output_type": "stream",
          "text": [
            "Loss: 0.004890337586402893\n"
          ]
        },
        {
          "name": "stderr",
          "output_type": "stream",
          "text": [
            " 29%|██▊       | 16/56 [01:09<02:50,  4.26s/it]"
          ]
        },
        {
          "name": "stdout",
          "output_type": "stream",
          "text": [
            "Loss: 0.004167403560131788\n"
          ]
        },
        {
          "name": "stderr",
          "output_type": "stream",
          "text": [
            " 30%|███       | 17/56 [01:14<02:45,  4.24s/it]"
          ]
        },
        {
          "name": "stdout",
          "output_type": "stream",
          "text": [
            "Loss: 0.012022174894809723\n"
          ]
        },
        {
          "name": "stderr",
          "output_type": "stream",
          "text": [
            " 32%|███▏      | 18/56 [01:18<02:42,  4.29s/it]"
          ]
        },
        {
          "name": "stdout",
          "output_type": "stream",
          "text": [
            "Loss: 0.0030289955902844667\n"
          ]
        },
        {
          "name": "stderr",
          "output_type": "stream",
          "text": [
            " 34%|███▍      | 19/56 [01:23<02:41,  4.35s/it]"
          ]
        },
        {
          "name": "stdout",
          "output_type": "stream",
          "text": [
            "Loss: 0.0027100695297122\n"
          ]
        },
        {
          "name": "stderr",
          "output_type": "stream",
          "text": [
            " 36%|███▌      | 20/56 [01:27<02:40,  4.47s/it]"
          ]
        },
        {
          "name": "stdout",
          "output_type": "stream",
          "text": [
            "Loss: 0.002364344662055373\n"
          ]
        },
        {
          "name": "stderr",
          "output_type": "stream",
          "text": [
            " 38%|███▊      | 21/56 [01:31<02:31,  4.33s/it]"
          ]
        },
        {
          "name": "stdout",
          "output_type": "stream",
          "text": [
            "Loss: 0.0021428142208606005\n"
          ]
        },
        {
          "name": "stderr",
          "output_type": "stream",
          "text": [
            " 39%|███▉      | 22/56 [01:36<02:31,  4.47s/it]"
          ]
        },
        {
          "name": "stdout",
          "output_type": "stream",
          "text": [
            "Loss: 0.01331197377294302\n"
          ]
        },
        {
          "name": "stderr",
          "output_type": "stream",
          "text": [
            " 41%|████      | 23/56 [01:40<02:26,  4.43s/it]"
          ]
        },
        {
          "name": "stdout",
          "output_type": "stream",
          "text": [
            "Loss: 0.0018129213713109493\n"
          ]
        },
        {
          "name": "stderr",
          "output_type": "stream",
          "text": [
            " 43%|████▎     | 24/56 [01:45<02:19,  4.35s/it]"
          ]
        },
        {
          "name": "stdout",
          "output_type": "stream",
          "text": [
            "Loss: 0.0016334232641384006\n"
          ]
        },
        {
          "name": "stderr",
          "output_type": "stream",
          "text": [
            " 45%|████▍     | 25/56 [01:49<02:15,  4.38s/it]"
          ]
        },
        {
          "name": "stdout",
          "output_type": "stream",
          "text": [
            "Loss: 0.001509722787886858\n"
          ]
        },
        {
          "name": "stderr",
          "output_type": "stream",
          "text": [
            " 46%|████▋     | 26/56 [01:53<02:08,  4.27s/it]"
          ]
        },
        {
          "name": "stdout",
          "output_type": "stream",
          "text": [
            "Loss: 0.011372281238436699\n"
          ]
        },
        {
          "name": "stderr",
          "output_type": "stream",
          "text": [
            " 48%|████▊     | 27/56 [01:58<02:06,  4.37s/it]"
          ]
        },
        {
          "name": "stdout",
          "output_type": "stream",
          "text": [
            "Loss: 0.011744876392185688\n"
          ]
        },
        {
          "name": "stderr",
          "output_type": "stream",
          "text": [
            " 50%|█████     | 28/56 [02:02<02:03,  4.40s/it]"
          ]
        },
        {
          "name": "stdout",
          "output_type": "stream",
          "text": [
            "Loss: 0.001267187763005495\n"
          ]
        },
        {
          "name": "stderr",
          "output_type": "stream",
          "text": [
            " 52%|█████▏    | 29/56 [02:06<01:57,  4.36s/it]"
          ]
        },
        {
          "name": "stdout",
          "output_type": "stream",
          "text": [
            "Loss: 0.0012187809916213155\n"
          ]
        },
        {
          "name": "stderr",
          "output_type": "stream",
          "text": [
            " 54%|█████▎    | 30/56 [02:11<01:53,  4.35s/it]"
          ]
        },
        {
          "name": "stdout",
          "output_type": "stream",
          "text": [
            "Loss: 0.014713110402226448\n"
          ]
        },
        {
          "name": "stderr",
          "output_type": "stream",
          "text": [
            " 55%|█████▌    | 31/56 [02:15<01:48,  4.35s/it]"
          ]
        },
        {
          "name": "stdout",
          "output_type": "stream",
          "text": [
            "Loss: 0.0011351207504048944\n"
          ]
        },
        {
          "name": "stderr",
          "output_type": "stream",
          "text": [
            " 57%|█████▋    | 32/56 [02:20<01:45,  4.39s/it]"
          ]
        },
        {
          "name": "stdout",
          "output_type": "stream",
          "text": [
            "Loss: 0.013902615755796432\n"
          ]
        },
        {
          "name": "stderr",
          "output_type": "stream",
          "text": [
            " 59%|█████▉    | 33/56 [02:24<01:40,  4.36s/it]"
          ]
        },
        {
          "name": "stdout",
          "output_type": "stream",
          "text": [
            "Loss: 0.0010451781563460827\n"
          ]
        },
        {
          "name": "stderr",
          "output_type": "stream",
          "text": [
            " 61%|██████    | 34/56 [02:28<01:32,  4.22s/it]"
          ]
        },
        {
          "name": "stdout",
          "output_type": "stream",
          "text": [
            "Loss: 0.0010082258377224207\n"
          ]
        },
        {
          "name": "stderr",
          "output_type": "stream",
          "text": [
            " 62%|██████▎   | 35/56 [02:32<01:28,  4.22s/it]"
          ]
        },
        {
          "name": "stdout",
          "output_type": "stream",
          "text": [
            "Loss: 0.014364558272063732\n"
          ]
        },
        {
          "name": "stderr",
          "output_type": "stream",
          "text": [
            " 64%|██████▍   | 36/56 [02:36<01:24,  4.23s/it]"
          ]
        },
        {
          "name": "stdout",
          "output_type": "stream",
          "text": [
            "Loss: 0.0009799021063372493\n"
          ]
        },
        {
          "name": "stderr",
          "output_type": "stream",
          "text": [
            " 66%|██████▌   | 37/56 [02:40<01:20,  4.23s/it]"
          ]
        },
        {
          "name": "stdout",
          "output_type": "stream",
          "text": [
            "Loss: 0.0009629664127714932\n"
          ]
        },
        {
          "name": "stderr",
          "output_type": "stream",
          "text": [
            " 68%|██████▊   | 38/56 [02:45<01:18,  4.35s/it]"
          ]
        },
        {
          "name": "stdout",
          "output_type": "stream",
          "text": [
            "Loss: 0.011216456070542336\n"
          ]
        },
        {
          "name": "stderr",
          "output_type": "stream",
          "text": [
            " 70%|██████▉   | 39/56 [02:49<01:11,  4.23s/it]"
          ]
        },
        {
          "name": "stdout",
          "output_type": "stream",
          "text": [
            "Loss: 0.0009205696987919509\n"
          ]
        },
        {
          "name": "stderr",
          "output_type": "stream",
          "text": [
            " 71%|███████▏  | 40/56 [02:53<01:06,  4.17s/it]"
          ]
        },
        {
          "name": "stdout",
          "output_type": "stream",
          "text": [
            "Loss: 0.0009179767221212387\n"
          ]
        },
        {
          "name": "stderr",
          "output_type": "stream",
          "text": [
            " 73%|███████▎  | 41/56 [02:58<01:04,  4.31s/it]"
          ]
        },
        {
          "name": "stdout",
          "output_type": "stream",
          "text": [
            "Loss: 0.0008981867576949298\n"
          ]
        },
        {
          "name": "stderr",
          "output_type": "stream",
          "text": [
            " 75%|███████▌  | 42/56 [03:02<01:00,  4.32s/it]"
          ]
        },
        {
          "name": "stdout",
          "output_type": "stream",
          "text": [
            "Loss: 0.0008916306542232633\n"
          ]
        },
        {
          "name": "stderr",
          "output_type": "stream",
          "text": [
            " 77%|███████▋  | 43/56 [03:06<00:56,  4.35s/it]"
          ]
        },
        {
          "name": "stdout",
          "output_type": "stream",
          "text": [
            "Loss: 0.000856278114952147\n"
          ]
        },
        {
          "name": "stderr",
          "output_type": "stream",
          "text": [
            " 79%|███████▊  | 44/56 [03:11<00:51,  4.32s/it]"
          ]
        },
        {
          "name": "stdout",
          "output_type": "stream",
          "text": [
            "Loss: 0.0008504975703544915\n"
          ]
        },
        {
          "name": "stderr",
          "output_type": "stream",
          "text": [
            " 80%|████████  | 45/56 [03:15<00:46,  4.26s/it]"
          ]
        },
        {
          "name": "stdout",
          "output_type": "stream",
          "text": [
            "Loss: 0.02284344471991062\n"
          ]
        },
        {
          "name": "stderr",
          "output_type": "stream",
          "text": [
            " 82%|████████▏ | 46/56 [03:19<00:42,  4.29s/it]"
          ]
        },
        {
          "name": "stdout",
          "output_type": "stream",
          "text": [
            "Loss: 0.0008410200825892389\n"
          ]
        },
        {
          "name": "stderr",
          "output_type": "stream",
          "text": [
            " 84%|████████▍ | 47/56 [03:23<00:38,  4.23s/it]"
          ]
        },
        {
          "name": "stdout",
          "output_type": "stream",
          "text": [
            "Loss: 0.0008321671048179269\n"
          ]
        },
        {
          "name": "stderr",
          "output_type": "stream",
          "text": [
            " 86%|████████▌ | 48/56 [03:28<00:34,  4.30s/it]"
          ]
        },
        {
          "name": "stdout",
          "output_type": "stream",
          "text": [
            "Loss: 0.0008148580673150718\n"
          ]
        },
        {
          "name": "stderr",
          "output_type": "stream",
          "text": [
            " 88%|████████▊ | 49/56 [03:32<00:30,  4.31s/it]"
          ]
        },
        {
          "name": "stdout",
          "output_type": "stream",
          "text": [
            "Loss: 0.0007976974593475461\n"
          ]
        },
        {
          "name": "stderr",
          "output_type": "stream",
          "text": [
            " 89%|████████▉ | 50/56 [03:36<00:26,  4.34s/it]"
          ]
        },
        {
          "name": "stdout",
          "output_type": "stream",
          "text": [
            "Loss: 0.0007981930393725634\n"
          ]
        },
        {
          "name": "stderr",
          "output_type": "stream",
          "text": [
            " 91%|█████████ | 51/56 [03:41<00:22,  4.52s/it]"
          ]
        },
        {
          "name": "stdout",
          "output_type": "stream",
          "text": [
            "Loss: 0.0007837067823857069\n"
          ]
        },
        {
          "name": "stderr",
          "output_type": "stream",
          "text": [
            " 93%|█████████▎| 52/56 [03:46<00:18,  4.51s/it]"
          ]
        },
        {
          "name": "stdout",
          "output_type": "stream",
          "text": [
            "Loss: 0.01241996232420206\n"
          ]
        },
        {
          "name": "stderr",
          "output_type": "stream",
          "text": [
            " 95%|█████████▍| 53/56 [03:50<00:13,  4.40s/it]"
          ]
        },
        {
          "name": "stdout",
          "output_type": "stream",
          "text": [
            "Loss: 0.0007547592977061868\n"
          ]
        },
        {
          "name": "stderr",
          "output_type": "stream",
          "text": [
            " 96%|█████████▋| 54/56 [03:54<00:08,  4.26s/it]"
          ]
        },
        {
          "name": "stdout",
          "output_type": "stream",
          "text": [
            "Loss: 0.0007609069580212235\n"
          ]
        },
        {
          "name": "stderr",
          "output_type": "stream",
          "text": [
            " 98%|█████████▊| 55/56 [03:59<00:04,  4.36s/it]"
          ]
        },
        {
          "name": "stdout",
          "output_type": "stream",
          "text": [
            "Loss: 0.012842394411563873\n"
          ]
        },
        {
          "name": "stderr",
          "output_type": "stream",
          "text": [
            "100%|██████████| 56/56 [04:00<00:00,  4.29s/it]"
          ]
        },
        {
          "name": "stdout",
          "output_type": "stream",
          "text": [
            "Loss: 0.0007476924220100045\n"
          ]
        },
        {
          "name": "stderr",
          "output_type": "stream",
          "text": [
            "\n",
            "/home/savkin/vera/venv/lib/python3.8/site-packages/seqeval/metrics/v1.py:57: UndefinedMetricWarning: Recall and F-score are ill-defined and being set to 0.0 in labels with no true samples. Use `zero_division` parameter to control this behavior.\n",
            "  _warn_prf(average, modifier, msg_start, len(result))\n"
          ]
        },
        {
          "name": "stdout",
          "output_type": "stream",
          "text": [
            "Epoch 0: {'model_precision': 0.0016, 'model_recall': 0.058823529411764705, 'model_f1': 0.0031152647975077885, 'model_number': 17, 'other_precision': 0.9995507637017071, 'other_recall': 0.9809594665344025, 'other_f1': 0.9901678557025048, 'other_number': 36291, 'price_precision': 0.0, 'price_recall': 0.0, 'price_f1': 0.0, 'price_number': 0, 'overall_precision': 0.9805277073923102, 'overall_recall': 0.9805277073923102, 'overall_f1': 0.9805277073923102, 'overall_accuracy': 0.9805277073923102}\n"
          ]
        },
        {
          "name": "stderr",
          "output_type": "stream",
          "text": [
            "  2%|▏         | 1/56 [00:04<04:01,  4.39s/it]"
          ]
        },
        {
          "name": "stdout",
          "output_type": "stream",
          "text": [
            "Loss: 0.0007401028415188193\n"
          ]
        },
        {
          "name": "stderr",
          "output_type": "stream",
          "text": [
            "  4%|▎         | 2/56 [00:08<03:59,  4.43s/it]"
          ]
        },
        {
          "name": "stdout",
          "output_type": "stream",
          "text": [
            "Loss: 0.02660837396979332\n"
          ]
        },
        {
          "name": "stderr",
          "output_type": "stream",
          "text": [
            "  5%|▌         | 3/56 [00:13<03:50,  4.34s/it]"
          ]
        },
        {
          "name": "stdout",
          "output_type": "stream",
          "text": [
            "Loss: 0.0007318622665479779\n"
          ]
        },
        {
          "name": "stderr",
          "output_type": "stream",
          "text": [
            "  7%|▋         | 4/56 [00:17<03:41,  4.27s/it]"
          ]
        },
        {
          "name": "stdout",
          "output_type": "stream",
          "text": [
            "Loss: 0.0007336796843446791\n"
          ]
        },
        {
          "name": "stderr",
          "output_type": "stream",
          "text": [
            "  9%|▉         | 5/56 [00:21<03:30,  4.13s/it]"
          ]
        },
        {
          "name": "stdout",
          "output_type": "stream",
          "text": [
            "Loss: 0.0007313460810109973\n"
          ]
        },
        {
          "name": "stderr",
          "output_type": "stream",
          "text": [
            " 11%|█         | 6/56 [00:25<03:34,  4.30s/it]"
          ]
        },
        {
          "name": "stdout",
          "output_type": "stream",
          "text": [
            "Loss: 0.0007408285746350884\n"
          ]
        },
        {
          "name": "stderr",
          "output_type": "stream",
          "text": [
            " 12%|█▎        | 7/56 [00:30<03:33,  4.36s/it]"
          ]
        },
        {
          "name": "stdout",
          "output_type": "stream",
          "text": [
            "Loss: 0.0007221372798085213\n"
          ]
        },
        {
          "name": "stderr",
          "output_type": "stream",
          "text": [
            " 14%|█▍        | 8/56 [00:34<03:26,  4.30s/it]"
          ]
        },
        {
          "name": "stdout",
          "output_type": "stream",
          "text": [
            "Loss: 0.0007189595489762723\n"
          ]
        },
        {
          "name": "stderr",
          "output_type": "stream",
          "text": [
            " 16%|█▌        | 9/56 [00:38<03:20,  4.27s/it]"
          ]
        },
        {
          "name": "stdout",
          "output_type": "stream",
          "text": [
            "Loss: 0.0007218042155727744\n"
          ]
        },
        {
          "name": "stderr",
          "output_type": "stream",
          "text": [
            " 18%|█▊        | 10/56 [00:42<03:17,  4.30s/it]"
          ]
        },
        {
          "name": "stdout",
          "output_type": "stream",
          "text": [
            "Loss: 0.0007183073903433979\n"
          ]
        },
        {
          "name": "stderr",
          "output_type": "stream",
          "text": [
            " 20%|█▉        | 11/56 [00:47<03:15,  4.35s/it]"
          ]
        },
        {
          "name": "stdout",
          "output_type": "stream",
          "text": [
            "Loss: 0.000703335739672184\n"
          ]
        },
        {
          "name": "stderr",
          "output_type": "stream",
          "text": [
            " 21%|██▏       | 12/56 [00:51<03:11,  4.36s/it]"
          ]
        },
        {
          "name": "stdout",
          "output_type": "stream",
          "text": [
            "Loss: 0.0007047029794193804\n"
          ]
        },
        {
          "name": "stderr",
          "output_type": "stream",
          "text": [
            " 23%|██▎       | 13/56 [00:56<03:11,  4.46s/it]"
          ]
        },
        {
          "name": "stdout",
          "output_type": "stream",
          "text": [
            "Loss: 0.0006880658329464495\n"
          ]
        },
        {
          "name": "stderr",
          "output_type": "stream",
          "text": [
            " 25%|██▌       | 14/56 [01:00<03:06,  4.45s/it]"
          ]
        },
        {
          "name": "stdout",
          "output_type": "stream",
          "text": [
            "Loss: 0.013135089538991451\n"
          ]
        },
        {
          "name": "stderr",
          "output_type": "stream",
          "text": [
            " 27%|██▋       | 15/56 [01:05<03:04,  4.50s/it]"
          ]
        },
        {
          "name": "stdout",
          "output_type": "stream",
          "text": [
            "Loss: 0.0006747983279637992\n"
          ]
        },
        {
          "name": "stderr",
          "output_type": "stream",
          "text": [
            " 29%|██▊       | 16/56 [01:10<03:05,  4.64s/it]"
          ]
        },
        {
          "name": "stdout",
          "output_type": "stream",
          "text": [
            "Loss: 0.0006730343447998166\n"
          ]
        },
        {
          "name": "stderr",
          "output_type": "stream",
          "text": [
            " 30%|███       | 17/56 [01:14<02:58,  4.57s/it]"
          ]
        },
        {
          "name": "stdout",
          "output_type": "stream",
          "text": [
            "Loss: 0.028256090357899666\n"
          ]
        },
        {
          "name": "stderr",
          "output_type": "stream",
          "text": [
            " 32%|███▏      | 18/56 [01:19<02:54,  4.59s/it]"
          ]
        },
        {
          "name": "stdout",
          "output_type": "stream",
          "text": [
            "Loss: 0.000673745118547231\n"
          ]
        },
        {
          "name": "stderr",
          "output_type": "stream",
          "text": [
            " 34%|███▍      | 19/56 [01:23<02:47,  4.52s/it]"
          ]
        },
        {
          "name": "stdout",
          "output_type": "stream",
          "text": [
            "Loss: 0.012446822598576546\n"
          ]
        },
        {
          "name": "stderr",
          "output_type": "stream",
          "text": [
            " 36%|███▌      | 20/56 [01:27<02:36,  4.35s/it]"
          ]
        },
        {
          "name": "stdout",
          "output_type": "stream",
          "text": [
            "Loss: 0.010487130843102932\n"
          ]
        },
        {
          "name": "stderr",
          "output_type": "stream",
          "text": [
            " 38%|███▊      | 21/56 [01:32<02:34,  4.43s/it]"
          ]
        },
        {
          "name": "stdout",
          "output_type": "stream",
          "text": [
            "Loss: 0.0006937668658792973\n"
          ]
        },
        {
          "name": "stderr",
          "output_type": "stream",
          "text": [
            " 39%|███▉      | 22/56 [01:37<02:32,  4.50s/it]"
          ]
        },
        {
          "name": "stdout",
          "output_type": "stream",
          "text": [
            "Loss: 0.0006970829563215375\n"
          ]
        },
        {
          "name": "stderr",
          "output_type": "stream",
          "text": [
            " 41%|████      | 23/56 [01:41<02:24,  4.38s/it]"
          ]
        },
        {
          "name": "stdout",
          "output_type": "stream",
          "text": [
            "Loss: 0.0007073474698700011\n"
          ]
        },
        {
          "name": "stderr",
          "output_type": "stream",
          "text": [
            " 43%|████▎     | 24/56 [01:45<02:19,  4.37s/it]"
          ]
        },
        {
          "name": "stdout",
          "output_type": "stream",
          "text": [
            "Loss: 0.02263972908258438\n"
          ]
        },
        {
          "name": "stderr",
          "output_type": "stream",
          "text": [
            " 45%|████▍     | 25/56 [01:49<02:10,  4.22s/it]"
          ]
        },
        {
          "name": "stdout",
          "output_type": "stream",
          "text": [
            "Loss: 0.0007160734385251999\n"
          ]
        },
        {
          "name": "stderr",
          "output_type": "stream",
          "text": [
            " 46%|████▋     | 26/56 [01:53<02:08,  4.29s/it]"
          ]
        },
        {
          "name": "stdout",
          "output_type": "stream",
          "text": [
            "Loss: 0.011048855260014534\n"
          ]
        },
        {
          "name": "stderr",
          "output_type": "stream",
          "text": [
            " 48%|████▊     | 27/56 [01:58<02:04,  4.29s/it]"
          ]
        },
        {
          "name": "stdout",
          "output_type": "stream",
          "text": [
            "Loss: 0.000751671614125371\n"
          ]
        },
        {
          "name": "stderr",
          "output_type": "stream",
          "text": [
            " 50%|█████     | 28/56 [02:02<02:01,  4.33s/it]"
          ]
        },
        {
          "name": "stdout",
          "output_type": "stream",
          "text": [
            "Loss: 0.0007599959499202669\n"
          ]
        },
        {
          "name": "stderr",
          "output_type": "stream",
          "text": [
            " 52%|█████▏    | 29/56 [02:07<01:57,  4.37s/it]"
          ]
        },
        {
          "name": "stdout",
          "output_type": "stream",
          "text": [
            "Loss: 0.0007675751694478095\n"
          ]
        },
        {
          "name": "stderr",
          "output_type": "stream",
          "text": [
            " 54%|█████▎    | 30/56 [02:11<01:52,  4.33s/it]"
          ]
        },
        {
          "name": "stdout",
          "output_type": "stream",
          "text": [
            "Loss: 0.0007749589858576655\n"
          ]
        },
        {
          "name": "stderr",
          "output_type": "stream",
          "text": [
            " 55%|█████▌    | 31/56 [02:15<01:49,  4.39s/it]"
          ]
        },
        {
          "name": "stdout",
          "output_type": "stream",
          "text": [
            "Loss: 0.0007566810236312449\n"
          ]
        },
        {
          "name": "stderr",
          "output_type": "stream",
          "text": [
            " 57%|█████▋    | 32/56 [02:20<01:46,  4.43s/it]"
          ]
        },
        {
          "name": "stdout",
          "output_type": "stream",
          "text": [
            "Loss: 0.0007719001150690019\n"
          ]
        },
        {
          "name": "stderr",
          "output_type": "stream",
          "text": [
            " 59%|█████▉    | 33/56 [02:24<01:41,  4.43s/it]"
          ]
        },
        {
          "name": "stdout",
          "output_type": "stream",
          "text": [
            "Loss: 0.0007645281730219722\n"
          ]
        },
        {
          "name": "stderr",
          "output_type": "stream",
          "text": [
            " 61%|██████    | 34/56 [02:29<01:38,  4.49s/it]"
          ]
        },
        {
          "name": "stdout",
          "output_type": "stream",
          "text": [
            "Loss: 0.0007542093517258763\n"
          ]
        },
        {
          "name": "stderr",
          "output_type": "stream",
          "text": [
            " 62%|██████▎   | 35/56 [02:33<01:33,  4.44s/it]"
          ]
        },
        {
          "name": "stdout",
          "output_type": "stream",
          "text": [
            "Loss: 0.0007625404978170991\n"
          ]
        },
        {
          "name": "stderr",
          "output_type": "stream",
          "text": [
            " 64%|██████▍   | 36/56 [02:38<01:29,  4.47s/it]"
          ]
        },
        {
          "name": "stdout",
          "output_type": "stream",
          "text": [
            "Loss: 0.0007331559318117797\n"
          ]
        },
        {
          "name": "stderr",
          "output_type": "stream",
          "text": [
            " 66%|██████▌   | 37/56 [02:42<01:24,  4.43s/it]"
          ]
        },
        {
          "name": "stdout",
          "output_type": "stream",
          "text": [
            "Loss: 0.00988280214369297\n"
          ]
        },
        {
          "name": "stderr",
          "output_type": "stream",
          "text": [
            " 68%|██████▊   | 38/56 [02:47<01:21,  4.53s/it]"
          ]
        },
        {
          "name": "stdout",
          "output_type": "stream",
          "text": [
            "Loss: 0.0007391198305413127\n"
          ]
        },
        {
          "name": "stderr",
          "output_type": "stream",
          "text": [
            " 70%|██████▉   | 39/56 [02:51<01:16,  4.50s/it]"
          ]
        },
        {
          "name": "stdout",
          "output_type": "stream",
          "text": [
            "Loss: 0.01017853058874607\n"
          ]
        },
        {
          "name": "stderr",
          "output_type": "stream",
          "text": [
            " 71%|███████▏  | 40/56 [02:56<01:12,  4.50s/it]"
          ]
        },
        {
          "name": "stdout",
          "output_type": "stream",
          "text": [
            "Loss: 0.0006862420705147088\n"
          ]
        },
        {
          "name": "stderr",
          "output_type": "stream",
          "text": [
            " 73%|███████▎  | 41/56 [03:00<01:06,  4.45s/it]"
          ]
        },
        {
          "name": "stdout",
          "output_type": "stream",
          "text": [
            "Loss: 0.0006899258587509394\n"
          ]
        },
        {
          "name": "stderr",
          "output_type": "stream",
          "text": [
            " 75%|███████▌  | 42/56 [03:05<01:02,  4.48s/it]"
          ]
        },
        {
          "name": "stdout",
          "output_type": "stream",
          "text": [
            "Loss: 0.0006890463409945369\n"
          ]
        },
        {
          "name": "stderr",
          "output_type": "stream",
          "text": [
            " 77%|███████▋  | 43/56 [03:09<00:57,  4.44s/it]"
          ]
        },
        {
          "name": "stdout",
          "output_type": "stream",
          "text": [
            "Loss: 0.0006800286937505007\n"
          ]
        },
        {
          "name": "stderr",
          "output_type": "stream",
          "text": [
            " 79%|███████▊  | 44/56 [03:13<00:52,  4.40s/it]"
          ]
        },
        {
          "name": "stdout",
          "output_type": "stream",
          "text": [
            "Loss: 0.02203630656003952\n"
          ]
        },
        {
          "name": "stderr",
          "output_type": "stream",
          "text": [
            " 80%|████████  | 45/56 [03:18<00:47,  4.33s/it]"
          ]
        },
        {
          "name": "stdout",
          "output_type": "stream",
          "text": [
            "Loss: 0.0006671219016425312\n"
          ]
        },
        {
          "name": "stderr",
          "output_type": "stream",
          "text": [
            " 82%|████████▏ | 46/56 [03:22<00:43,  4.33s/it]"
          ]
        },
        {
          "name": "stdout",
          "output_type": "stream",
          "text": [
            "Loss: 0.0006723203114233911\n"
          ]
        },
        {
          "name": "stderr",
          "output_type": "stream",
          "text": [
            " 84%|████████▍ | 47/56 [03:27<00:39,  4.44s/it]"
          ]
        },
        {
          "name": "stdout",
          "output_type": "stream",
          "text": [
            "Loss: 0.000659262528643012\n"
          ]
        },
        {
          "name": "stderr",
          "output_type": "stream",
          "text": [
            " 86%|████████▌ | 48/56 [03:31<00:36,  4.58s/it]"
          ]
        },
        {
          "name": "stdout",
          "output_type": "stream",
          "text": [
            "Loss: 0.0006675625336356461\n"
          ]
        },
        {
          "name": "stderr",
          "output_type": "stream",
          "text": [
            " 88%|████████▊ | 49/56 [03:36<00:31,  4.47s/it]"
          ]
        },
        {
          "name": "stdout",
          "output_type": "stream",
          "text": [
            "Loss: 0.009964758530259132\n"
          ]
        },
        {
          "name": "stderr",
          "output_type": "stream",
          "text": [
            " 89%|████████▉ | 50/56 [03:40<00:26,  4.43s/it]"
          ]
        },
        {
          "name": "stdout",
          "output_type": "stream",
          "text": [
            "Loss: 0.0006617752369493246\n"
          ]
        },
        {
          "name": "stderr",
          "output_type": "stream",
          "text": [
            " 91%|█████████ | 51/56 [03:44<00:21,  4.38s/it]"
          ]
        },
        {
          "name": "stdout",
          "output_type": "stream",
          "text": [
            "Loss: 0.0006375390803441405\n"
          ]
        },
        {
          "name": "stderr",
          "output_type": "stream",
          "text": [
            " 93%|█████████▎| 52/56 [03:49<00:17,  4.42s/it]"
          ]
        },
        {
          "name": "stdout",
          "output_type": "stream",
          "text": [
            "Loss: 0.0006375082302838564\n"
          ]
        },
        {
          "name": "stderr",
          "output_type": "stream",
          "text": [
            " 95%|█████████▍| 53/56 [03:53<00:13,  4.40s/it]"
          ]
        },
        {
          "name": "stdout",
          "output_type": "stream",
          "text": [
            "Loss: 0.0006500166491605341\n"
          ]
        },
        {
          "name": "stderr",
          "output_type": "stream",
          "text": [
            " 96%|█████████▋| 54/56 [03:58<00:09,  4.50s/it]"
          ]
        },
        {
          "name": "stdout",
          "output_type": "stream",
          "text": [
            "Loss: 0.000652586983051151\n"
          ]
        },
        {
          "name": "stderr",
          "output_type": "stream",
          "text": [
            " 98%|█████████▊| 55/56 [04:02<00:04,  4.51s/it]"
          ]
        },
        {
          "name": "stdout",
          "output_type": "stream",
          "text": [
            "Loss: 0.014281469397246838\n"
          ]
        },
        {
          "name": "stderr",
          "output_type": "stream",
          "text": [
            "100%|██████████| 56/56 [04:04<00:00,  4.36s/it]"
          ]
        },
        {
          "name": "stdout",
          "output_type": "stream",
          "text": [
            "Loss: 0.0006261350936256349\n"
          ]
        },
        {
          "name": "stderr",
          "output_type": "stream",
          "text": [
            "\n",
            "/home/savkin/vera/venv/lib/python3.8/site-packages/seqeval/metrics/v1.py:57: UndefinedMetricWarning: Precision and F-score are ill-defined and being set to 0.0 in labels with no predicted samples. Use `zero_division` parameter to control this behavior.\n",
            "  _warn_prf(average, modifier, msg_start, len(result))\n"
          ]
        },
        {
          "name": "stdout",
          "output_type": "stream",
          "text": [
            "Epoch 1: {'model_precision': 0.0, 'model_recall': 0.0, 'model_f1': 0.0, 'model_number': 17, 'other_precision': 0.9995317836289523, 'other_recall': 1.0, 'other_f1': 0.999765836995, 'other_number': 36291, 'overall_precision': 0.9995317836289523, 'overall_recall': 0.9995317836289523, 'overall_f1': 0.9995317836289523, 'overall_accuracy': 0.9995317836289523}\n"
          ]
        },
        {
          "name": "stderr",
          "output_type": "stream",
          "text": [
            "  2%|▏         | 1/56 [00:04<04:06,  4.48s/it]"
          ]
        },
        {
          "name": "stdout",
          "output_type": "stream",
          "text": [
            "Loss: 0.0006213058368302882\n"
          ]
        },
        {
          "name": "stderr",
          "output_type": "stream",
          "text": [
            "  4%|▎         | 2/56 [00:08<03:56,  4.37s/it]"
          ]
        },
        {
          "name": "stdout",
          "output_type": "stream",
          "text": [
            "Loss: 0.0006142458296380937\n"
          ]
        },
        {
          "name": "stderr",
          "output_type": "stream",
          "text": [
            "  5%|▌         | 3/56 [00:13<04:06,  4.65s/it]"
          ]
        },
        {
          "name": "stdout",
          "output_type": "stream",
          "text": [
            "Loss: 0.0006164807709865272\n"
          ]
        },
        {
          "name": "stderr",
          "output_type": "stream",
          "text": [
            "  7%|▋         | 4/56 [00:17<03:51,  4.46s/it]"
          ]
        },
        {
          "name": "stdout",
          "output_type": "stream",
          "text": [
            "Loss: 0.0006103532505221665\n"
          ]
        },
        {
          "name": "stderr",
          "output_type": "stream",
          "text": [
            "  9%|▉         | 5/56 [00:22<03:44,  4.40s/it]"
          ]
        },
        {
          "name": "stdout",
          "output_type": "stream",
          "text": [
            "Loss: 0.0006100016762502491\n"
          ]
        },
        {
          "name": "stderr",
          "output_type": "stream",
          "text": [
            " 11%|█         | 6/56 [00:26<03:36,  4.32s/it]"
          ]
        },
        {
          "name": "stdout",
          "output_type": "stream",
          "text": [
            "Loss: 0.0005877892835997045\n"
          ]
        },
        {
          "name": "stderr",
          "output_type": "stream",
          "text": [
            " 12%|█▎        | 7/56 [00:31<03:41,  4.53s/it]"
          ]
        },
        {
          "name": "stdout",
          "output_type": "stream",
          "text": [
            "Loss: 0.000574532023165375\n"
          ]
        },
        {
          "name": "stderr",
          "output_type": "stream",
          "text": [
            " 14%|█▍        | 8/56 [00:35<03:38,  4.56s/it]"
          ]
        },
        {
          "name": "stdout",
          "output_type": "stream",
          "text": [
            "Loss: 0.00056190334726125\n"
          ]
        },
        {
          "name": "stderr",
          "output_type": "stream",
          "text": [
            " 16%|█▌        | 9/56 [00:40<03:29,  4.45s/it]"
          ]
        },
        {
          "name": "stdout",
          "output_type": "stream",
          "text": [
            "Loss: 0.0005500447587110102\n"
          ]
        },
        {
          "name": "stderr",
          "output_type": "stream",
          "text": [
            " 18%|█▊        | 10/56 [00:44<03:22,  4.39s/it]"
          ]
        },
        {
          "name": "stdout",
          "output_type": "stream",
          "text": [
            "Loss: 0.011597414501011372\n"
          ]
        },
        {
          "name": "stderr",
          "output_type": "stream",
          "text": [
            " 20%|█▉        | 11/56 [00:48<03:11,  4.26s/it]"
          ]
        },
        {
          "name": "stdout",
          "output_type": "stream",
          "text": [
            "Loss: 0.02078929729759693\n"
          ]
        },
        {
          "name": "stderr",
          "output_type": "stream",
          "text": [
            " 21%|██▏       | 12/56 [00:52<03:06,  4.23s/it]"
          ]
        },
        {
          "name": "stdout",
          "output_type": "stream",
          "text": [
            "Loss: 0.0005459294188767672\n"
          ]
        },
        {
          "name": "stderr",
          "output_type": "stream",
          "text": [
            " 23%|██▎       | 13/56 [00:56<03:03,  4.27s/it]"
          ]
        },
        {
          "name": "stdout",
          "output_type": "stream",
          "text": [
            "Loss: 0.011851036921143532\n"
          ]
        },
        {
          "name": "stderr",
          "output_type": "stream",
          "text": [
            " 25%|██▌       | 14/56 [01:01<03:01,  4.33s/it]"
          ]
        },
        {
          "name": "stdout",
          "output_type": "stream",
          "text": [
            "Loss: 0.0005583949387073517\n"
          ]
        },
        {
          "name": "stderr",
          "output_type": "stream",
          "text": [
            " 27%|██▋       | 15/56 [01:06<03:08,  4.59s/it]"
          ]
        },
        {
          "name": "stdout",
          "output_type": "stream",
          "text": [
            "Loss: 0.017645401880145073\n"
          ]
        },
        {
          "name": "stderr",
          "output_type": "stream",
          "text": [
            " 29%|██▊       | 16/56 [01:10<03:01,  4.53s/it]"
          ]
        },
        {
          "name": "stdout",
          "output_type": "stream",
          "text": [
            "Loss: 0.0005911862244829535\n"
          ]
        },
        {
          "name": "stderr",
          "output_type": "stream",
          "text": [
            " 30%|███       | 17/56 [01:15<02:53,  4.45s/it]"
          ]
        },
        {
          "name": "stdout",
          "output_type": "stream",
          "text": [
            "Loss: 0.0006068266811780632\n"
          ]
        },
        {
          "name": "stderr",
          "output_type": "stream",
          "text": [
            " 32%|███▏      | 18/56 [01:19<02:47,  4.41s/it]"
          ]
        },
        {
          "name": "stdout",
          "output_type": "stream",
          "text": [
            "Loss: 0.012951911427080631\n"
          ]
        },
        {
          "name": "stderr",
          "output_type": "stream",
          "text": [
            " 34%|███▍      | 19/56 [01:23<02:39,  4.30s/it]"
          ]
        },
        {
          "name": "stdout",
          "output_type": "stream",
          "text": [
            "Loss: 0.0006047817296348512\n"
          ]
        },
        {
          "name": "stderr",
          "output_type": "stream",
          "text": [
            " 36%|███▌      | 20/56 [01:28<02:36,  4.34s/it]"
          ]
        },
        {
          "name": "stdout",
          "output_type": "stream",
          "text": [
            "Loss: 0.0006295157945714891\n"
          ]
        },
        {
          "name": "stderr",
          "output_type": "stream",
          "text": [
            " 38%|███▊      | 21/56 [01:32<02:32,  4.34s/it]"
          ]
        },
        {
          "name": "stdout",
          "output_type": "stream",
          "text": [
            "Loss: 0.0006328225717879832\n"
          ]
        },
        {
          "name": "stderr",
          "output_type": "stream",
          "text": [
            " 39%|███▉      | 22/56 [01:36<02:24,  4.25s/it]"
          ]
        },
        {
          "name": "stdout",
          "output_type": "stream",
          "text": [
            "Loss: 0.011133339256048203\n"
          ]
        },
        {
          "name": "stderr",
          "output_type": "stream",
          "text": [
            " 41%|████      | 23/56 [01:40<02:21,  4.28s/it]"
          ]
        },
        {
          "name": "stdout",
          "output_type": "stream",
          "text": [
            "Loss: 0.013190644793212414\n"
          ]
        },
        {
          "name": "stderr",
          "output_type": "stream",
          "text": [
            " 43%|████▎     | 24/56 [01:45<02:17,  4.29s/it]"
          ]
        },
        {
          "name": "stdout",
          "output_type": "stream",
          "text": [
            "Loss: 0.0006531666149385273\n"
          ]
        },
        {
          "name": "stderr",
          "output_type": "stream",
          "text": [
            " 45%|████▍     | 25/56 [01:50<02:19,  4.51s/it]"
          ]
        },
        {
          "name": "stdout",
          "output_type": "stream",
          "text": [
            "Loss: 0.0006989517132751644\n"
          ]
        },
        {
          "name": "stderr",
          "output_type": "stream",
          "text": [
            " 46%|████▋     | 26/56 [01:54<02:17,  4.57s/it]"
          ]
        },
        {
          "name": "stdout",
          "output_type": "stream",
          "text": [
            "Loss: 0.012599463574588299\n"
          ]
        },
        {
          "name": "stderr",
          "output_type": "stream",
          "text": [
            " 48%|████▊     | 27/56 [01:59<02:11,  4.54s/it]"
          ]
        },
        {
          "name": "stdout",
          "output_type": "stream",
          "text": [
            "Loss: 0.0154902134090662\n"
          ]
        },
        {
          "name": "stderr",
          "output_type": "stream",
          "text": [
            " 50%|█████     | 28/56 [02:03<02:06,  4.53s/it]"
          ]
        },
        {
          "name": "stdout",
          "output_type": "stream",
          "text": [
            "Loss: 0.0007883156649768353\n"
          ]
        },
        {
          "name": "stderr",
          "output_type": "stream",
          "text": [
            " 52%|█████▏    | 29/56 [02:07<01:57,  4.36s/it]"
          ]
        },
        {
          "name": "stdout",
          "output_type": "stream",
          "text": [
            "Loss: 0.0007689300109632313\n"
          ]
        },
        {
          "name": "stderr",
          "output_type": "stream",
          "text": [
            " 54%|█████▎    | 30/56 [02:12<01:55,  4.43s/it]"
          ]
        },
        {
          "name": "stdout",
          "output_type": "stream",
          "text": [
            "Loss: 0.0008010881720110774\n"
          ]
        },
        {
          "name": "stderr",
          "output_type": "stream",
          "text": [
            " 55%|█████▌    | 31/56 [02:17<01:53,  4.56s/it]"
          ]
        },
        {
          "name": "stdout",
          "output_type": "stream",
          "text": [
            "Loss: 0.0007587409927509725\n"
          ]
        },
        {
          "name": "stderr",
          "output_type": "stream",
          "text": [
            " 57%|█████▋    | 32/56 [02:21<01:45,  4.42s/it]"
          ]
        },
        {
          "name": "stdout",
          "output_type": "stream",
          "text": [
            "Loss: 0.00077798095298931\n"
          ]
        },
        {
          "name": "stderr",
          "output_type": "stream",
          "text": [
            " 59%|█████▉    | 33/56 [02:26<01:45,  4.59s/it]"
          ]
        },
        {
          "name": "stdout",
          "output_type": "stream",
          "text": [
            "Loss: 0.0008357032784260809\n"
          ]
        },
        {
          "name": "stderr",
          "output_type": "stream",
          "text": [
            " 61%|██████    | 34/56 [02:30<01:38,  4.48s/it]"
          ]
        },
        {
          "name": "stdout",
          "output_type": "stream",
          "text": [
            "Loss: 0.0008044550777412951\n"
          ]
        },
        {
          "name": "stderr",
          "output_type": "stream",
          "text": [
            " 62%|██████▎   | 35/56 [02:35<01:36,  4.57s/it]"
          ]
        },
        {
          "name": "stdout",
          "output_type": "stream",
          "text": [
            "Loss: 0.010772213339805603\n"
          ]
        },
        {
          "name": "stderr",
          "output_type": "stream",
          "text": [
            " 64%|██████▍   | 36/56 [02:39<01:31,  4.58s/it]"
          ]
        },
        {
          "name": "stdout",
          "output_type": "stream",
          "text": [
            "Loss: 0.0007780682062730193\n"
          ]
        },
        {
          "name": "stderr",
          "output_type": "stream",
          "text": [
            " 66%|██████▌   | 37/56 [02:44<01:25,  4.48s/it]"
          ]
        },
        {
          "name": "stdout",
          "output_type": "stream",
          "text": [
            "Loss: 0.008270090445876122\n"
          ]
        },
        {
          "name": "stderr",
          "output_type": "stream",
          "text": [
            " 68%|██████▊   | 38/56 [02:48<01:20,  4.49s/it]"
          ]
        },
        {
          "name": "stdout",
          "output_type": "stream",
          "text": [
            "Loss: 0.0007551565067842603\n"
          ]
        },
        {
          "name": "stderr",
          "output_type": "stream",
          "text": [
            " 70%|██████▉   | 39/56 [02:53<01:16,  4.51s/it]"
          ]
        },
        {
          "name": "stdout",
          "output_type": "stream",
          "text": [
            "Loss: 0.012381776235997677\n"
          ]
        },
        {
          "name": "stderr",
          "output_type": "stream",
          "text": [
            " 71%|███████▏  | 40/56 [02:57<01:12,  4.53s/it]"
          ]
        },
        {
          "name": "stdout",
          "output_type": "stream",
          "text": [
            "Loss: 0.0007020584307610989\n"
          ]
        },
        {
          "name": "stderr",
          "output_type": "stream",
          "text": [
            " 73%|███████▎  | 41/56 [03:02<01:08,  4.56s/it]"
          ]
        },
        {
          "name": "stdout",
          "output_type": "stream",
          "text": [
            "Loss: 0.0006857584230601788\n"
          ]
        },
        {
          "name": "stderr",
          "output_type": "stream",
          "text": [
            " 75%|███████▌  | 42/56 [03:06<01:02,  4.49s/it]"
          ]
        },
        {
          "name": "stdout",
          "output_type": "stream",
          "text": [
            "Loss: 0.0007267780019901693\n"
          ]
        },
        {
          "name": "stderr",
          "output_type": "stream",
          "text": [
            " 77%|███████▋  | 43/56 [03:10<00:56,  4.36s/it]"
          ]
        },
        {
          "name": "stdout",
          "output_type": "stream",
          "text": [
            "Loss: 0.0007176480139605701\n"
          ]
        },
        {
          "name": "stderr",
          "output_type": "stream",
          "text": [
            " 79%|███████▊  | 44/56 [03:15<00:52,  4.40s/it]"
          ]
        },
        {
          "name": "stdout",
          "output_type": "stream",
          "text": [
            "Loss: 0.0006524738855659962\n"
          ]
        },
        {
          "name": "stderr",
          "output_type": "stream",
          "text": [
            " 80%|████████  | 45/56 [03:19<00:47,  4.35s/it]"
          ]
        },
        {
          "name": "stdout",
          "output_type": "stream",
          "text": [
            "Loss: 0.0006728587322868407\n"
          ]
        },
        {
          "name": "stderr",
          "output_type": "stream",
          "text": [
            " 82%|████████▏ | 46/56 [03:24<00:46,  4.63s/it]"
          ]
        },
        {
          "name": "stdout",
          "output_type": "stream",
          "text": [
            "Loss: 0.0006076169665902853\n"
          ]
        },
        {
          "name": "stderr",
          "output_type": "stream",
          "text": [
            " 84%|████████▍ | 47/56 [03:29<00:40,  4.52s/it]"
          ]
        },
        {
          "name": "stdout",
          "output_type": "stream",
          "text": [
            "Loss: 0.009162676520645618\n"
          ]
        },
        {
          "name": "stderr",
          "output_type": "stream",
          "text": [
            " 86%|████████▌ | 48/56 [03:33<00:36,  4.61s/it]"
          ]
        },
        {
          "name": "stdout",
          "output_type": "stream",
          "text": [
            "Loss: 0.0006300300592556596\n"
          ]
        },
        {
          "name": "stderr",
          "output_type": "stream",
          "text": [
            " 88%|████████▊ | 49/56 [03:38<00:31,  4.52s/it]"
          ]
        },
        {
          "name": "stdout",
          "output_type": "stream",
          "text": [
            "Loss: 0.018627068027853966\n"
          ]
        },
        {
          "name": "stderr",
          "output_type": "stream",
          "text": [
            " 89%|████████▉ | 50/56 [03:42<00:27,  4.56s/it]"
          ]
        },
        {
          "name": "stdout",
          "output_type": "stream",
          "text": [
            "Loss: 0.012170800939202309\n"
          ]
        },
        {
          "name": "stderr",
          "output_type": "stream",
          "text": [
            " 91%|█████████ | 51/56 [03:47<00:22,  4.48s/it]"
          ]
        },
        {
          "name": "stdout",
          "output_type": "stream",
          "text": [
            "Loss: 0.0006306135910563171\n"
          ]
        },
        {
          "name": "stderr",
          "output_type": "stream",
          "text": [
            " 93%|█████████▎| 52/56 [03:51<00:17,  4.46s/it]"
          ]
        },
        {
          "name": "stdout",
          "output_type": "stream",
          "text": [
            "Loss: 0.0006734436028636992\n"
          ]
        },
        {
          "name": "stderr",
          "output_type": "stream",
          "text": [
            " 95%|█████████▍| 53/56 [03:56<00:13,  4.46s/it]"
          ]
        },
        {
          "name": "stdout",
          "output_type": "stream",
          "text": [
            "Loss: 0.0006384599255397916\n"
          ]
        },
        {
          "name": "stderr",
          "output_type": "stream",
          "text": [
            " 96%|█████████▋| 54/56 [04:00<00:08,  4.41s/it]"
          ]
        },
        {
          "name": "stdout",
          "output_type": "stream",
          "text": [
            "Loss: 0.0006479269941337407\n"
          ]
        },
        {
          "name": "stderr",
          "output_type": "stream",
          "text": [
            " 98%|█████████▊| 55/56 [04:04<00:04,  4.46s/it]"
          ]
        },
        {
          "name": "stdout",
          "output_type": "stream",
          "text": [
            "Loss: 0.0006707610446028411\n"
          ]
        },
        {
          "name": "stderr",
          "output_type": "stream",
          "text": [
            "100%|██████████| 56/56 [04:06<00:00,  4.40s/it]"
          ]
        },
        {
          "name": "stdout",
          "output_type": "stream",
          "text": [
            "Loss: 0.0005899178795516491\n"
          ]
        },
        {
          "name": "stderr",
          "output_type": "stream",
          "text": [
            "\n"
          ]
        },
        {
          "name": "stdout",
          "output_type": "stream",
          "text": [
            "Epoch 2: {'model_precision': 0.0, 'model_recall': 0.0, 'model_f1': 0.0, 'model_number': 17, 'other_precision': 0.9995317836289523, 'other_recall': 1.0, 'other_f1': 0.999765836995, 'other_number': 36291, 'overall_precision': 0.9995317836289523, 'overall_recall': 0.9995317836289523, 'overall_f1': 0.9995317836289523, 'overall_accuracy': 0.9995317836289523}\n"
          ]
        },
        {
          "name": "stderr",
          "output_type": "stream",
          "text": [
            "  0%|          | 0/56 [00:00<?, ?it/s]"
          ]
        },
        {
          "name": "stdout",
          "output_type": "stream",
          "text": [
            "Loss: 0.0006325311260297894\n"
          ]
        },
        {
          "name": "stderr",
          "output_type": "stream",
          "text": [
            "  4%|▎         | 2/56 [00:09<04:14,  4.72s/it]"
          ]
        },
        {
          "name": "stdout",
          "output_type": "stream",
          "text": [
            "Loss: 0.0006269156001508236\n"
          ]
        },
        {
          "name": "stderr",
          "output_type": "stream",
          "text": [
            "  5%|▌         | 3/56 [00:14<04:10,  4.72s/it]"
          ]
        },
        {
          "name": "stdout",
          "output_type": "stream",
          "text": [
            "Loss: 0.0005982942529954016\n"
          ]
        },
        {
          "name": "stderr",
          "output_type": "stream",
          "text": [
            "  7%|▋         | 4/56 [00:19<04:06,  4.74s/it]"
          ]
        },
        {
          "name": "stdout",
          "output_type": "stream",
          "text": [
            "Loss: 0.0005722601781599224\n"
          ]
        },
        {
          "name": "stderr",
          "output_type": "stream",
          "text": [
            "  9%|▉         | 5/56 [00:23<03:53,  4.58s/it]"
          ]
        },
        {
          "name": "stdout",
          "output_type": "stream",
          "text": [
            "Loss: 0.0005770449643023312\n"
          ]
        },
        {
          "name": "stderr",
          "output_type": "stream",
          "text": [
            " 11%|█         | 6/56 [00:27<03:45,  4.51s/it]"
          ]
        },
        {
          "name": "stdout",
          "output_type": "stream",
          "text": [
            "Loss: 0.0005589693319052458\n"
          ]
        },
        {
          "name": "stderr",
          "output_type": "stream",
          "text": [
            " 12%|█▎        | 7/56 [00:31<03:37,  4.43s/it]"
          ]
        },
        {
          "name": "stdout",
          "output_type": "stream",
          "text": [
            "Loss: 0.009582123719155788\n"
          ]
        },
        {
          "name": "stderr",
          "output_type": "stream",
          "text": [
            " 14%|█▍        | 8/56 [00:36<03:29,  4.37s/it]"
          ]
        },
        {
          "name": "stdout",
          "output_type": "stream",
          "text": [
            "Loss: 0.0005147166084498167\n"
          ]
        },
        {
          "name": "stderr",
          "output_type": "stream",
          "text": [
            " 16%|█▌        | 9/56 [00:40<03:27,  4.42s/it]"
          ]
        },
        {
          "name": "stdout",
          "output_type": "stream",
          "text": [
            "Loss: 0.0005462339031510055\n"
          ]
        },
        {
          "name": "stderr",
          "output_type": "stream",
          "text": [
            " 18%|█▊        | 10/56 [00:44<03:19,  4.34s/it]"
          ]
        },
        {
          "name": "stdout",
          "output_type": "stream",
          "text": [
            "Loss: 0.0005081075360067189\n"
          ]
        },
        {
          "name": "stderr",
          "output_type": "stream",
          "text": [
            " 20%|█▉        | 11/56 [00:49<03:17,  4.39s/it]"
          ]
        },
        {
          "name": "stdout",
          "output_type": "stream",
          "text": [
            "Loss: 0.0005105319432914257\n"
          ]
        },
        {
          "name": "stderr",
          "output_type": "stream",
          "text": [
            " 21%|██▏       | 12/56 [00:53<03:08,  4.28s/it]"
          ]
        },
        {
          "name": "stdout",
          "output_type": "stream",
          "text": [
            "Loss: 0.010111037641763687\n"
          ]
        },
        {
          "name": "stderr",
          "output_type": "stream",
          "text": [
            " 23%|██▎       | 13/56 [00:58<03:09,  4.41s/it]"
          ]
        },
        {
          "name": "stdout",
          "output_type": "stream",
          "text": [
            "Loss: 0.00046233745524659753\n"
          ]
        },
        {
          "name": "stderr",
          "output_type": "stream",
          "text": [
            " 25%|██▌       | 14/56 [01:02<03:07,  4.45s/it]"
          ]
        },
        {
          "name": "stdout",
          "output_type": "stream",
          "text": [
            "Loss: 0.0004933346644975245\n"
          ]
        },
        {
          "name": "stderr",
          "output_type": "stream",
          "text": [
            " 27%|██▋       | 15/56 [01:07<03:01,  4.41s/it]"
          ]
        },
        {
          "name": "stdout",
          "output_type": "stream",
          "text": [
            "Loss: 0.012094075791537762\n"
          ]
        },
        {
          "name": "stderr",
          "output_type": "stream",
          "text": [
            " 29%|██▊       | 16/56 [01:11<02:58,  4.45s/it]"
          ]
        },
        {
          "name": "stdout",
          "output_type": "stream",
          "text": [
            "Loss: 0.00046861631562933326\n"
          ]
        },
        {
          "name": "stderr",
          "output_type": "stream",
          "text": [
            " 30%|███       | 17/56 [01:16<02:55,  4.49s/it]"
          ]
        },
        {
          "name": "stdout",
          "output_type": "stream",
          "text": [
            "Loss: 0.0004530574078671634\n"
          ]
        },
        {
          "name": "stderr",
          "output_type": "stream",
          "text": [
            " 32%|███▏      | 18/56 [01:20<02:54,  4.59s/it]"
          ]
        },
        {
          "name": "stdout",
          "output_type": "stream",
          "text": [
            "Loss: 0.0004708210180979222\n"
          ]
        },
        {
          "name": "stderr",
          "output_type": "stream",
          "text": [
            " 34%|███▍      | 19/56 [01:25<02:50,  4.61s/it]"
          ]
        },
        {
          "name": "stdout",
          "output_type": "stream",
          "text": [
            "Loss: 0.00045091635547578335\n"
          ]
        },
        {
          "name": "stderr",
          "output_type": "stream",
          "text": [
            " 36%|███▌      | 20/56 [01:30<02:44,  4.58s/it]"
          ]
        },
        {
          "name": "stdout",
          "output_type": "stream",
          "text": [
            "Loss: 0.00046383318840526044\n"
          ]
        },
        {
          "name": "stderr",
          "output_type": "stream",
          "text": [
            " 38%|███▊      | 21/56 [01:34<02:39,  4.55s/it]"
          ]
        },
        {
          "name": "stdout",
          "output_type": "stream",
          "text": [
            "Loss: 0.02275168150663376\n"
          ]
        },
        {
          "name": "stderr",
          "output_type": "stream",
          "text": [
            " 39%|███▉      | 22/56 [01:39<02:34,  4.56s/it]"
          ]
        },
        {
          "name": "stdout",
          "output_type": "stream",
          "text": [
            "Loss: 0.013009482994675636\n"
          ]
        },
        {
          "name": "stderr",
          "output_type": "stream",
          "text": [
            " 41%|████      | 23/56 [01:43<02:28,  4.49s/it]"
          ]
        },
        {
          "name": "stdout",
          "output_type": "stream",
          "text": [
            "Loss: 0.0004514413303695619\n"
          ]
        },
        {
          "name": "stderr",
          "output_type": "stream",
          "text": [
            " 43%|████▎     | 24/56 [01:47<02:23,  4.48s/it]"
          ]
        },
        {
          "name": "stdout",
          "output_type": "stream",
          "text": [
            "Loss: 0.0004992696340195835\n"
          ]
        },
        {
          "name": "stderr",
          "output_type": "stream",
          "text": [
            " 45%|████▍     | 25/56 [01:52<02:17,  4.44s/it]"
          ]
        },
        {
          "name": "stdout",
          "output_type": "stream",
          "text": [
            "Loss: 0.011375919915735722\n"
          ]
        },
        {
          "name": "stderr",
          "output_type": "stream",
          "text": [
            " 46%|████▋     | 26/56 [01:56<02:14,  4.50s/it]"
          ]
        },
        {
          "name": "stdout",
          "output_type": "stream",
          "text": [
            "Loss: 0.010062162764370441\n"
          ]
        },
        {
          "name": "stderr",
          "output_type": "stream",
          "text": [
            " 48%|████▊     | 27/56 [02:01<02:10,  4.50s/it]"
          ]
        },
        {
          "name": "stdout",
          "output_type": "stream",
          "text": [
            "Loss: 0.010836540721356869\n"
          ]
        },
        {
          "name": "stderr",
          "output_type": "stream",
          "text": [
            " 50%|█████     | 28/56 [02:06<02:08,  4.58s/it]"
          ]
        },
        {
          "name": "stdout",
          "output_type": "stream",
          "text": [
            "Loss: 0.000673549366183579\n"
          ]
        },
        {
          "name": "stderr",
          "output_type": "stream",
          "text": [
            " 52%|█████▏    | 29/56 [02:11<02:05,  4.65s/it]"
          ]
        },
        {
          "name": "stdout",
          "output_type": "stream",
          "text": [
            "Loss: 0.0006770451436750591\n"
          ]
        },
        {
          "name": "stderr",
          "output_type": "stream",
          "text": [
            " 54%|█████▎    | 30/56 [02:15<01:56,  4.49s/it]"
          ]
        },
        {
          "name": "stdout",
          "output_type": "stream",
          "text": [
            "Loss: 0.0006842556176707149\n"
          ]
        },
        {
          "name": "stderr",
          "output_type": "stream",
          "text": [
            " 55%|█████▌    | 31/56 [02:19<01:53,  4.53s/it]"
          ]
        },
        {
          "name": "stdout",
          "output_type": "stream",
          "text": [
            "Loss: 0.0007680142880417407\n"
          ]
        },
        {
          "name": "stderr",
          "output_type": "stream",
          "text": [
            " 57%|█████▋    | 32/56 [02:23<01:46,  4.44s/it]"
          ]
        },
        {
          "name": "stdout",
          "output_type": "stream",
          "text": [
            "Loss: 0.0006546656368300319\n"
          ]
        },
        {
          "name": "stderr",
          "output_type": "stream",
          "text": [
            " 59%|█████▉    | 33/56 [02:28<01:43,  4.49s/it]"
          ]
        },
        {
          "name": "stdout",
          "output_type": "stream",
          "text": [
            "Loss: 0.0007017585448920727\n"
          ]
        },
        {
          "name": "stderr",
          "output_type": "stream",
          "text": [
            " 61%|██████    | 34/56 [02:33<01:38,  4.49s/it]"
          ]
        },
        {
          "name": "stdout",
          "output_type": "stream",
          "text": [
            "Loss: 0.0008094875956885517\n"
          ]
        },
        {
          "name": "stderr",
          "output_type": "stream",
          "text": [
            " 62%|██████▎   | 35/56 [02:37<01:31,  4.37s/it]"
          ]
        },
        {
          "name": "stdout",
          "output_type": "stream",
          "text": [
            "Loss: 0.009007353335618973\n"
          ]
        },
        {
          "name": "stderr",
          "output_type": "stream",
          "text": [
            " 64%|██████▍   | 36/56 [02:42<01:30,  4.51s/it]"
          ]
        },
        {
          "name": "stdout",
          "output_type": "stream",
          "text": [
            "Loss: 0.0006743145640939474\n"
          ]
        },
        {
          "name": "stderr",
          "output_type": "stream",
          "text": [
            " 66%|██████▌   | 37/56 [02:45<01:20,  4.26s/it]"
          ]
        },
        {
          "name": "stdout",
          "output_type": "stream",
          "text": [
            "Loss: 0.0006838382687419653\n"
          ]
        },
        {
          "name": "stderr",
          "output_type": "stream",
          "text": [
            " 68%|██████▊   | 38/56 [02:50<01:17,  4.28s/it]"
          ]
        },
        {
          "name": "stdout",
          "output_type": "stream",
          "text": [
            "Loss: 0.00869715679436922\n"
          ]
        },
        {
          "name": "stderr",
          "output_type": "stream",
          "text": [
            " 70%|██████▉   | 39/56 [02:54<01:12,  4.25s/it]"
          ]
        },
        {
          "name": "stdout",
          "output_type": "stream",
          "text": [
            "Loss: 0.0006805082666687667\n"
          ]
        },
        {
          "name": "stderr",
          "output_type": "stream",
          "text": [
            " 71%|███████▏  | 40/56 [02:58<01:09,  4.35s/it]"
          ]
        },
        {
          "name": "stdout",
          "output_type": "stream",
          "text": [
            "Loss: 0.0006777290254831314\n"
          ]
        },
        {
          "name": "stderr",
          "output_type": "stream",
          "text": [
            " 73%|███████▎  | 41/56 [03:03<01:06,  4.47s/it]"
          ]
        },
        {
          "name": "stdout",
          "output_type": "stream",
          "text": [
            "Loss: 0.0007296146359294653\n"
          ]
        },
        {
          "name": "stderr",
          "output_type": "stream",
          "text": [
            " 75%|███████▌  | 42/56 [03:08<01:02,  4.48s/it]"
          ]
        },
        {
          "name": "stdout",
          "output_type": "stream",
          "text": [
            "Loss: 0.007777153514325619\n"
          ]
        },
        {
          "name": "stderr",
          "output_type": "stream",
          "text": [
            " 77%|███████▋  | 43/56 [03:12<00:58,  4.47s/it]"
          ]
        },
        {
          "name": "stdout",
          "output_type": "stream",
          "text": [
            "Loss: 0.018410641700029373\n"
          ]
        },
        {
          "name": "stderr",
          "output_type": "stream",
          "text": [
            " 79%|███████▊  | 44/56 [03:17<00:54,  4.52s/it]"
          ]
        },
        {
          "name": "stdout",
          "output_type": "stream",
          "text": [
            "Loss: 0.0006255790358409286\n"
          ]
        },
        {
          "name": "stderr",
          "output_type": "stream",
          "text": [
            " 80%|████████  | 45/56 [03:21<00:48,  4.42s/it]"
          ]
        },
        {
          "name": "stdout",
          "output_type": "stream",
          "text": [
            "Loss: 0.000680184515658766\n"
          ]
        },
        {
          "name": "stderr",
          "output_type": "stream",
          "text": [
            " 82%|████████▏ | 46/56 [03:25<00:43,  4.31s/it]"
          ]
        },
        {
          "name": "stdout",
          "output_type": "stream",
          "text": [
            "Loss: 0.0007039750926196575\n"
          ]
        },
        {
          "name": "stderr",
          "output_type": "stream",
          "text": [
            " 84%|████████▍ | 47/56 [03:29<00:38,  4.31s/it]"
          ]
        },
        {
          "name": "stdout",
          "output_type": "stream",
          "text": [
            "Loss: 0.0006623574299737811\n"
          ]
        },
        {
          "name": "stderr",
          "output_type": "stream",
          "text": [
            " 86%|████████▌ | 48/56 [03:33<00:34,  4.30s/it]"
          ]
        },
        {
          "name": "stdout",
          "output_type": "stream",
          "text": [
            "Loss: 0.0006862875889055431\n"
          ]
        },
        {
          "name": "stderr",
          "output_type": "stream",
          "text": [
            " 88%|████████▊ | 49/56 [03:38<00:31,  4.44s/it]"
          ]
        },
        {
          "name": "stdout",
          "output_type": "stream",
          "text": [
            "Loss: 0.018835105001926422\n"
          ]
        },
        {
          "name": "stderr",
          "output_type": "stream",
          "text": [
            " 89%|████████▉ | 50/56 [03:43<00:26,  4.40s/it]"
          ]
        },
        {
          "name": "stdout",
          "output_type": "stream",
          "text": [
            "Loss: 0.0006568903336301446\n"
          ]
        },
        {
          "name": "stderr",
          "output_type": "stream",
          "text": [
            " 91%|█████████ | 51/56 [03:47<00:22,  4.44s/it]"
          ]
        },
        {
          "name": "stdout",
          "output_type": "stream",
          "text": [
            "Loss: 0.0006861735018901527\n"
          ]
        },
        {
          "name": "stderr",
          "output_type": "stream",
          "text": [
            " 93%|█████████▎| 52/56 [03:51<00:17,  4.41s/it]"
          ]
        },
        {
          "name": "stdout",
          "output_type": "stream",
          "text": [
            "Loss: 0.0007000619661994278\n"
          ]
        },
        {
          "name": "stderr",
          "output_type": "stream",
          "text": [
            " 95%|█████████▍| 53/56 [03:55<00:12,  4.23s/it]"
          ]
        },
        {
          "name": "stdout",
          "output_type": "stream",
          "text": [
            "Loss: 0.00849150586873293\n"
          ]
        },
        {
          "name": "stderr",
          "output_type": "stream",
          "text": [
            " 96%|█████████▋| 54/56 [03:59<00:08,  4.22s/it]"
          ]
        },
        {
          "name": "stdout",
          "output_type": "stream",
          "text": [
            "Loss: 0.000648479734081775\n"
          ]
        },
        {
          "name": "stderr",
          "output_type": "stream",
          "text": [
            " 98%|█████████▊| 55/56 [04:04<00:04,  4.18s/it]"
          ]
        },
        {
          "name": "stdout",
          "output_type": "stream",
          "text": [
            "Loss: 0.0006899075815454125\n"
          ]
        },
        {
          "name": "stderr",
          "output_type": "stream",
          "text": [
            "100%|██████████| 56/56 [04:05<00:00,  4.38s/it]"
          ]
        },
        {
          "name": "stdout",
          "output_type": "stream",
          "text": [
            "Loss: 0.0006625596433877945\n"
          ]
        },
        {
          "name": "stderr",
          "output_type": "stream",
          "text": [
            "\n"
          ]
        },
        {
          "name": "stdout",
          "output_type": "stream",
          "text": [
            "Epoch 3: {'model_precision': 0.0, 'model_recall': 0.0, 'model_f1': 0.0, 'model_number': 17, 'other_precision': 0.9995317836289523, 'other_recall': 1.0, 'other_f1': 0.999765836995, 'other_number': 36291, 'overall_precision': 0.9995317836289523, 'overall_recall': 0.9995317836289523, 'overall_f1': 0.9995317836289523, 'overall_accuracy': 0.9995317836289523}\n"
          ]
        },
        {
          "name": "stderr",
          "output_type": "stream",
          "text": [
            "  2%|▏         | 1/56 [00:04<04:29,  4.89s/it]"
          ]
        },
        {
          "name": "stdout",
          "output_type": "stream",
          "text": [
            "Loss: 0.010747256688773632\n"
          ]
        },
        {
          "name": "stderr",
          "output_type": "stream",
          "text": [
            "  4%|▎         | 2/56 [00:09<04:01,  4.48s/it]"
          ]
        },
        {
          "name": "stdout",
          "output_type": "stream",
          "text": [
            "Loss: 0.0005693078273907304\n"
          ]
        },
        {
          "name": "stderr",
          "output_type": "stream",
          "text": [
            "  5%|▌         | 3/56 [00:13<04:01,  4.55s/it]"
          ]
        },
        {
          "name": "stdout",
          "output_type": "stream",
          "text": [
            "Loss: 0.009867382235825062\n"
          ]
        },
        {
          "name": "stderr",
          "output_type": "stream",
          "text": [
            "  7%|▋         | 4/56 [00:17<03:50,  4.44s/it]"
          ]
        },
        {
          "name": "stdout",
          "output_type": "stream",
          "text": [
            "Loss: 0.000591165735386312\n"
          ]
        },
        {
          "name": "stderr",
          "output_type": "stream",
          "text": [
            "  9%|▉         | 5/56 [00:22<03:43,  4.37s/it]"
          ]
        },
        {
          "name": "stdout",
          "output_type": "stream",
          "text": [
            "Loss: 0.0006876355619169772\n"
          ]
        },
        {
          "name": "stderr",
          "output_type": "stream",
          "text": [
            " 11%|█         | 6/56 [00:26<03:34,  4.29s/it]"
          ]
        },
        {
          "name": "stdout",
          "output_type": "stream",
          "text": [
            "Loss: 0.0007622696575708687\n"
          ]
        },
        {
          "name": "stderr",
          "output_type": "stream",
          "text": [
            " 12%|█▎        | 7/56 [00:30<03:28,  4.25s/it]"
          ]
        },
        {
          "name": "stdout",
          "output_type": "stream",
          "text": [
            "Loss: 0.0005793525488115847\n"
          ]
        },
        {
          "name": "stderr",
          "output_type": "stream",
          "text": [
            " 14%|█▍        | 8/56 [00:34<03:22,  4.21s/it]"
          ]
        },
        {
          "name": "stdout",
          "output_type": "stream",
          "text": [
            "Loss: 0.0007324846810661256\n"
          ]
        },
        {
          "name": "stderr",
          "output_type": "stream",
          "text": [
            " 16%|█▌        | 9/56 [00:38<03:18,  4.23s/it]"
          ]
        },
        {
          "name": "stdout",
          "output_type": "stream",
          "text": [
            "Loss: 0.005652423482388258\n"
          ]
        },
        {
          "name": "stderr",
          "output_type": "stream",
          "text": [
            " 18%|█▊        | 10/56 [00:44<03:26,  4.50s/it]"
          ]
        },
        {
          "name": "stdout",
          "output_type": "stream",
          "text": [
            "Loss: 0.000619021593593061\n"
          ]
        },
        {
          "name": "stderr",
          "output_type": "stream",
          "text": [
            " 20%|█▉        | 11/56 [00:48<03:17,  4.38s/it]"
          ]
        },
        {
          "name": "stdout",
          "output_type": "stream",
          "text": [
            "Loss: 0.0005172462551854551\n"
          ]
        },
        {
          "name": "stderr",
          "output_type": "stream",
          "text": [
            " 21%|██▏       | 12/56 [00:52<03:16,  4.47s/it]"
          ]
        },
        {
          "name": "stdout",
          "output_type": "stream",
          "text": [
            "Loss: 0.0005919271497987211\n"
          ]
        },
        {
          "name": "stderr",
          "output_type": "stream",
          "text": [
            " 23%|██▎       | 13/56 [00:56<03:05,  4.32s/it]"
          ]
        },
        {
          "name": "stdout",
          "output_type": "stream",
          "text": [
            "Loss: 0.007093268912285566\n"
          ]
        },
        {
          "name": "stderr",
          "output_type": "stream",
          "text": [
            " 25%|██▌       | 14/56 [01:01<03:06,  4.43s/it]"
          ]
        },
        {
          "name": "stdout",
          "output_type": "stream",
          "text": [
            "Loss: 0.0005187986535020173\n"
          ]
        },
        {
          "name": "stderr",
          "output_type": "stream",
          "text": [
            " 27%|██▋       | 15/56 [01:06<03:04,  4.49s/it]"
          ]
        },
        {
          "name": "stdout",
          "output_type": "stream",
          "text": [
            "Loss: 0.007911707274615765\n"
          ]
        },
        {
          "name": "stderr",
          "output_type": "stream",
          "text": [
            " 29%|██▊       | 16/56 [01:09<02:51,  4.29s/it]"
          ]
        },
        {
          "name": "stdout",
          "output_type": "stream",
          "text": [
            "Loss: 0.006548676174134016\n"
          ]
        },
        {
          "name": "stderr",
          "output_type": "stream",
          "text": [
            " 30%|███       | 17/56 [01:14<02:47,  4.30s/it]"
          ]
        },
        {
          "name": "stdout",
          "output_type": "stream",
          "text": [
            "Loss: 0.013257094658911228\n"
          ]
        },
        {
          "name": "stderr",
          "output_type": "stream",
          "text": [
            " 32%|███▏      | 18/56 [01:18<02:45,  4.34s/it]"
          ]
        },
        {
          "name": "stdout",
          "output_type": "stream",
          "text": [
            "Loss: 0.000569673371501267\n"
          ]
        },
        {
          "name": "stderr",
          "output_type": "stream",
          "text": [
            " 34%|███▍      | 19/56 [01:23<02:43,  4.42s/it]"
          ]
        },
        {
          "name": "stdout",
          "output_type": "stream",
          "text": [
            "Loss: 0.0007577237556688488\n"
          ]
        },
        {
          "name": "stderr",
          "output_type": "stream",
          "text": [
            " 36%|███▌      | 20/56 [01:28<02:44,  4.56s/it]"
          ]
        },
        {
          "name": "stdout",
          "output_type": "stream",
          "text": [
            "Loss: 0.000846448412630707\n"
          ]
        },
        {
          "name": "stderr",
          "output_type": "stream",
          "text": [
            " 38%|███▊      | 21/56 [01:34<02:56,  5.04s/it]"
          ]
        },
        {
          "name": "stdout",
          "output_type": "stream",
          "text": [
            "Loss: 0.0007311733206734061\n"
          ]
        },
        {
          "name": "stderr",
          "output_type": "stream",
          "text": [
            " 39%|███▉      | 22/56 [01:40<02:59,  5.29s/it]"
          ]
        },
        {
          "name": "stdout",
          "output_type": "stream",
          "text": [
            "Loss: 0.0008377482881769538\n"
          ]
        },
        {
          "name": "stderr",
          "output_type": "stream",
          "text": [
            " 41%|████      | 23/56 [01:46<03:01,  5.50s/it]"
          ]
        },
        {
          "name": "stdout",
          "output_type": "stream",
          "text": [
            "Loss: 0.0007303683669306338\n"
          ]
        },
        {
          "name": "stderr",
          "output_type": "stream",
          "text": [
            " 43%|████▎     | 24/56 [01:51<02:55,  5.47s/it]"
          ]
        },
        {
          "name": "stdout",
          "output_type": "stream",
          "text": [
            "Loss: 0.0008884831913746893\n"
          ]
        },
        {
          "name": "stderr",
          "output_type": "stream",
          "text": [
            " 45%|████▍     | 25/56 [01:58<03:00,  5.81s/it]"
          ]
        },
        {
          "name": "stdout",
          "output_type": "stream",
          "text": [
            "Loss: 0.0007220946718007326\n"
          ]
        },
        {
          "name": "stderr",
          "output_type": "stream",
          "text": [
            " 46%|████▋     | 26/56 [02:03<02:53,  5.77s/it]"
          ]
        },
        {
          "name": "stdout",
          "output_type": "stream",
          "text": [
            "Loss: 0.0006365891313180327\n"
          ]
        },
        {
          "name": "stderr",
          "output_type": "stream",
          "text": [
            " 48%|████▊     | 27/56 [02:10<02:50,  5.87s/it]"
          ]
        },
        {
          "name": "stdout",
          "output_type": "stream",
          "text": [
            "Loss: 0.0007056114845909178\n"
          ]
        },
        {
          "name": "stderr",
          "output_type": "stream",
          "text": [
            " 50%|█████     | 28/56 [02:16<02:47,  5.98s/it]"
          ]
        },
        {
          "name": "stdout",
          "output_type": "stream",
          "text": [
            "Loss: 0.0005633183754980564\n"
          ]
        },
        {
          "name": "stderr",
          "output_type": "stream",
          "text": [
            " 52%|█████▏    | 29/56 [02:22<02:41,  5.98s/it]"
          ]
        },
        {
          "name": "stdout",
          "output_type": "stream",
          "text": [
            "Loss: 0.00048047254676930606\n"
          ]
        },
        {
          "name": "stderr",
          "output_type": "stream",
          "text": [
            " 54%|█████▎    | 30/56 [02:28<02:34,  5.94s/it]"
          ]
        },
        {
          "name": "stdout",
          "output_type": "stream",
          "text": [
            "Loss: 0.0005078922840766609\n"
          ]
        },
        {
          "name": "stderr",
          "output_type": "stream",
          "text": [
            " 55%|█████▌    | 31/56 [02:33<02:28,  5.93s/it]"
          ]
        },
        {
          "name": "stdout",
          "output_type": "stream",
          "text": [
            "Loss: 0.0004774780827574432\n"
          ]
        },
        {
          "name": "stderr",
          "output_type": "stream",
          "text": [
            " 57%|█████▋    | 32/56 [02:39<02:18,  5.77s/it]"
          ]
        },
        {
          "name": "stdout",
          "output_type": "stream",
          "text": [
            "Loss: 0.0004727728955913335\n"
          ]
        },
        {
          "name": "stderr",
          "output_type": "stream",
          "text": [
            " 59%|█████▉    | 33/56 [02:45<02:16,  5.92s/it]"
          ]
        },
        {
          "name": "stdout",
          "output_type": "stream",
          "text": [
            "Loss: 0.00040530675323680043\n"
          ]
        },
        {
          "name": "stderr",
          "output_type": "stream",
          "text": [
            " 61%|██████    | 34/56 [02:51<02:12,  6.04s/it]"
          ]
        },
        {
          "name": "stdout",
          "output_type": "stream",
          "text": [
            "Loss: 0.01576053537428379\n"
          ]
        },
        {
          "name": "stderr",
          "output_type": "stream",
          "text": [
            " 62%|██████▎   | 35/56 [02:58<02:08,  6.13s/it]"
          ]
        },
        {
          "name": "stdout",
          "output_type": "stream",
          "text": [
            "Loss: 0.00042966107139363885\n"
          ]
        },
        {
          "name": "stderr",
          "output_type": "stream",
          "text": [
            " 64%|██████▍   | 36/56 [03:04<02:01,  6.06s/it]"
          ]
        },
        {
          "name": "stdout",
          "output_type": "stream",
          "text": [
            "Loss: 0.0004086526168975979\n"
          ]
        },
        {
          "name": "stderr",
          "output_type": "stream",
          "text": [
            " 66%|██████▌   | 37/56 [03:10<01:57,  6.17s/it]"
          ]
        },
        {
          "name": "stdout",
          "output_type": "stream",
          "text": [
            "Loss: 0.0003697772917803377\n"
          ]
        },
        {
          "name": "stderr",
          "output_type": "stream",
          "text": [
            " 68%|██████▊   | 38/56 [03:16<01:48,  6.01s/it]"
          ]
        },
        {
          "name": "stdout",
          "output_type": "stream",
          "text": [
            "Loss: 0.0005298279575072229\n"
          ]
        },
        {
          "name": "stderr",
          "output_type": "stream",
          "text": [
            " 70%|██████▉   | 39/56 [03:22<01:41,  5.98s/it]"
          ]
        },
        {
          "name": "stdout",
          "output_type": "stream",
          "text": [
            "Loss: 0.011495450511574745\n"
          ]
        },
        {
          "name": "stderr",
          "output_type": "stream",
          "text": [
            " 71%|███████▏  | 40/56 [03:27<01:33,  5.83s/it]"
          ]
        },
        {
          "name": "stdout",
          "output_type": "stream",
          "text": [
            "Loss: 0.007127890828996897\n"
          ]
        },
        {
          "name": "stderr",
          "output_type": "stream",
          "text": [
            " 73%|███████▎  | 41/56 [03:33<01:29,  5.98s/it]"
          ]
        },
        {
          "name": "stdout",
          "output_type": "stream",
          "text": [
            "Loss: 0.00047191540943458676\n"
          ]
        },
        {
          "name": "stderr",
          "output_type": "stream",
          "text": [
            " 75%|███████▌  | 42/56 [03:39<01:22,  5.91s/it]"
          ]
        },
        {
          "name": "stdout",
          "output_type": "stream",
          "text": [
            "Loss: 0.000863094290252775\n"
          ]
        },
        {
          "name": "stderr",
          "output_type": "stream",
          "text": [
            " 77%|███████▋  | 43/56 [03:45<01:17,  5.95s/it]"
          ]
        },
        {
          "name": "stdout",
          "output_type": "stream",
          "text": [
            "Loss: 0.004289249423891306\n"
          ]
        },
        {
          "name": "stderr",
          "output_type": "stream",
          "text": [
            " 79%|███████▊  | 44/56 [03:51<01:11,  5.97s/it]"
          ]
        },
        {
          "name": "stdout",
          "output_type": "stream",
          "text": [
            "Loss: 0.0016353782266378403\n"
          ]
        },
        {
          "name": "stderr",
          "output_type": "stream",
          "text": [
            " 80%|████████  | 45/56 [03:58<01:06,  6.06s/it]"
          ]
        },
        {
          "name": "stdout",
          "output_type": "stream",
          "text": [
            "Loss: 0.0012870724312961102\n"
          ]
        },
        {
          "name": "stderr",
          "output_type": "stream",
          "text": [
            " 82%|████████▏ | 46/56 [04:04<01:00,  6.09s/it]"
          ]
        },
        {
          "name": "stdout",
          "output_type": "stream",
          "text": [
            "Loss: 0.001036743400618434\n"
          ]
        },
        {
          "name": "stderr",
          "output_type": "stream",
          "text": [
            " 84%|████████▍ | 47/56 [04:10<00:56,  6.27s/it]"
          ]
        },
        {
          "name": "stdout",
          "output_type": "stream",
          "text": [
            "Loss: 0.005204011220484972\n"
          ]
        },
        {
          "name": "stderr",
          "output_type": "stream",
          "text": [
            " 86%|████████▌ | 48/56 [04:16<00:49,  6.15s/it]"
          ]
        },
        {
          "name": "stdout",
          "output_type": "stream",
          "text": [
            "Loss: 0.0008123539155349135\n"
          ]
        },
        {
          "name": "stderr",
          "output_type": "stream",
          "text": [
            " 88%|████████▊ | 49/56 [04:23<00:43,  6.19s/it]"
          ]
        },
        {
          "name": "stdout",
          "output_type": "stream",
          "text": [
            "Loss: 0.0045530591160058975\n"
          ]
        },
        {
          "name": "stderr",
          "output_type": "stream",
          "text": [
            " 89%|████████▉ | 50/56 [04:29<00:37,  6.18s/it]"
          ]
        },
        {
          "name": "stdout",
          "output_type": "stream",
          "text": [
            "Loss: 0.0009942019823938608\n"
          ]
        },
        {
          "name": "stderr",
          "output_type": "stream",
          "text": [
            " 91%|█████████ | 51/56 [04:35<00:31,  6.23s/it]"
          ]
        },
        {
          "name": "stdout",
          "output_type": "stream",
          "text": [
            "Loss: 0.000421932025346905\n"
          ]
        },
        {
          "name": "stderr",
          "output_type": "stream",
          "text": [
            " 93%|█████████▎| 52/56 [04:41<00:24,  6.15s/it]"
          ]
        },
        {
          "name": "stdout",
          "output_type": "stream",
          "text": [
            "Loss: 0.0011981988791376352\n"
          ]
        },
        {
          "name": "stderr",
          "output_type": "stream",
          "text": [
            " 95%|█████████▍| 53/56 [04:47<00:18,  6.08s/it]"
          ]
        },
        {
          "name": "stdout",
          "output_type": "stream",
          "text": [
            "Loss: 0.0007334440597333014\n"
          ]
        },
        {
          "name": "stderr",
          "output_type": "stream",
          "text": [
            " 96%|█████████▋| 54/56 [04:53<00:12,  6.09s/it]"
          ]
        },
        {
          "name": "stdout",
          "output_type": "stream",
          "text": [
            "Loss: 0.004235835745930672\n"
          ]
        },
        {
          "name": "stderr",
          "output_type": "stream",
          "text": [
            " 98%|█████████▊| 55/56 [04:59<00:06,  6.12s/it]"
          ]
        },
        {
          "name": "stdout",
          "output_type": "stream",
          "text": [
            "Loss: 0.0007193561759777367\n"
          ]
        },
        {
          "name": "stderr",
          "output_type": "stream",
          "text": [
            "100%|██████████| 56/56 [05:01<00:00,  5.39s/it]"
          ]
        },
        {
          "name": "stdout",
          "output_type": "stream",
          "text": [
            "Loss: 0.000334622134687379\n"
          ]
        },
        {
          "name": "stderr",
          "output_type": "stream",
          "text": [
            "\n"
          ]
        },
        {
          "name": "stdout",
          "output_type": "stream",
          "text": [
            "Epoch 4: {'model_precision': 0.0, 'model_recall': 0.0, 'model_f1': 0.0, 'model_number': 17, 'other_precision': 0.9995317836289523, 'other_recall': 1.0, 'other_f1': 0.999765836995, 'other_number': 36291, 'overall_precision': 0.9995317836289523, 'overall_recall': 0.9995317836289523, 'overall_f1': 0.9995317836289523, 'overall_accuracy': 0.9995317836289523}\n"
          ]
        }
      ],
      "source": [
        "import torch\n",
        "from torch.optim import AdamW\n",
        "from tqdm.auto import tqdm\n",
        "\n",
        "optimizer = AdamW(model.parameters(), lr=2e-5)\n",
        "\n",
        "model.to(device)\n",
        "\n",
        "model.train()\n",
        "for epoch in range(5):  # loop over the dataset multiple times\n",
        "    for batch in tqdm(train_dataloader):\n",
        "        # get the inputs;\n",
        "        inputs = {k:v.to(device) for k,v in batch.items()}\n",
        "\n",
        "        # zero the parameter gradients\n",
        "        optimizer.zero_grad()\n",
        "\n",
        "        # forward + backward + optimize\n",
        "        outputs = model(**inputs)\n",
        "\n",
        "        loss = outputs.loss\n",
        "        loss.backward()\n",
        "        optimizer.step()\n",
        "\n",
        "        print(\"Loss:\", loss.item())\n",
        "\n",
        "        predictions = outputs.logits.argmax(dim=-1)\n",
        "        labels = batch[\"labels\"]\n",
        "        preds, refs = get_labels(predictions, labels)\n",
        "        metric.add_batch(\n",
        "            predictions=preds,\n",
        "            references=refs,\n",
        "        )\n",
        "\n",
        "    eval_metric = compute_metrics()\n",
        "    print(f\"Epoch {epoch}:\", eval_metric)"
      ]
    },
    {
      "cell_type": "code",
      "execution_count": null,
      "metadata": {},
      "outputs": [],
      "source": [
        "metric = evaluate.load(\"seqeval\")\n",
        "\n",
        "model.eval()\n",
        "for batch in eval_dataloader:\n",
        "    batch = {k: v.to(device) for k, v in batch.items()}\n",
        "    with torch.no_grad():\n",
        "        outputs = model(**batch)\n",
        "\n",
        "\n",
        "    predictions = outputs.logits.argmax(dim=-1)\n",
        "    labels = batch[\"labels\"]\n",
        "\n",
        "    preds, refs = get_labels(predictions, labels)\n",
        "\n",
        "    metric.add_batch(\n",
        "        predictions=preds,\n",
        "        references=refs,\n",
        "    )\n",
        "\n",
        "\n",
        "eval_metrics = metric.compute()"
      ]
    },
    {
      "cell_type": "code",
      "execution_count": 14,
      "metadata": {},
      "outputs": [
        {
          "data": {
            "text/plain": [
              "{'manufacturer': {'precision': 0.0, 'recall': 0.0, 'f1': 0.0, 'number': 100},\n",
              " 'model': {'precision': 0.0, 'recall': 0.0, 'f1': 0.0, 'number': 77},\n",
              " 'other': {'precision': 0.9946530525934205,\n",
              "  'recall': 1.0,\n",
              "  'f1': 0.9973193596752942,\n",
              "  'number': 32926},\n",
              " 'overall_precision': 0.9946530525934205,\n",
              " 'overall_recall': 0.9946530525934205,\n",
              " 'overall_f1': 0.9946530525934205,\n",
              " 'overall_accuracy': 0.9946530525934205}"
            ]
          },
          "execution_count": 14,
          "metadata": {},
          "output_type": "execute_result"
        }
      ],
      "source": [
        "eval_metrics"
      ]
    },
    {
      "cell_type": "code",
      "execution_count": null,
      "metadata": {},
      "outputs": [],
      "source": [
        "# res = {}\n",
        "\n",
        "# for x in all_refs:\n",
        "#     for y in x:\n",
        "#         y = int(y)\n",
        "#         if y in res:\n",
        "#             res[y] += 1\n",
        "#         else:\n",
        "#             res[y] = 1\n",
        "# print(res)"
      ]
    },
    {
      "cell_type": "code",
      "execution_count": null,
      "metadata": {},
      "outputs": [],
      "source": [
        "# from collections import Counter\n",
        "\n",
        "# count = {\n",
        "#     0: 0,\n",
        "#     1: 0,\n",
        "#     2: 0,\n",
        "#     3: 0\n",
        "# }\n",
        "\n",
        "# for example in valid_data:\n",
        "#     example_cnt = Counter(example[\"node_labels\"][0])\n",
        "#     # print(example_cnt)\n",
        "#     for key in count.keys():\n",
        "#         count[key] += example_cnt[key]\n",
        "\n",
        "# print(count)"
      ]
    },
    {
      "cell_type": "markdown",
      "metadata": {
        "id": "JE12rK9mLCor"
      },
      "source": [
        "## Inference\n",
        "\n",
        "Let's try out the model on a new web page for which we have the nodes and xpaths. Here we'll just use one of our training set."
      ]
    },
    {
      "cell_type": "code",
      "execution_count": null,
      "metadata": {
        "colab": {
          "base_uri": "https://localhost:8080/"
        },
        "id": "ymI2oy8ULQR_",
        "outputId": "064c4ced-508b-4872-ee88-f7c78bcc3a3b"
      },
      "outputs": [],
      "source": [
        "nodes = data[0]['nodes']\n",
        "xpaths = data[0]['xpaths']\n",
        "node_labels = data[0]['node_labels']\n",
        "print(\"Nodes:\", nodes)\n",
        "print(\"Xpaths:\", xpaths)"
      ]
    },
    {
      "cell_type": "markdown",
      "metadata": {
        "id": "2jQtg6oQKWZR"
      },
      "source": [
        "We'll prepare the example for the model using the processor. Note that we're passing `return_offsets_mapping=True`, as the offsets allow us to determine which tokens are at the start of a given word at which aren't."
      ]
    },
    {
      "cell_type": "code",
      "execution_count": null,
      "metadata": {
        "colab": {
          "base_uri": "https://localhost:8080/"
        },
        "id": "n50NqF54Lbae",
        "outputId": "cde4d236-c885-4844-ede8-13d2f0f7f698"
      },
      "outputs": [],
      "source": [
        "# prepare for model\n",
        "# note that you don't need to prepare node_labels, we just have them available here so we'll compare to the ground truth\n",
        "# print(processor.max_length)\n",
        "encoding = processor(nodes=nodes, xpaths=xpaths, node_labels=node_labels, truncation=True, max_length=max_length, return_offsets_mapping=True, return_tensors=\"pt\").to(device)\n",
        "for k,v in encoding.items():\n",
        "  print(k,v.shape)"
      ]
    },
    {
      "cell_type": "markdown",
      "metadata": {
        "id": "I-W-GXeELgJ1"
      },
      "source": [
        "Let's perform a forward pass:"
      ]
    },
    {
      "cell_type": "code",
      "execution_count": null,
      "metadata": {
        "id": "x-h3hDVxLijL"
      },
      "outputs": [],
      "source": [
        "# we don't need the offset mapping and labels for the forward pass\n",
        "offset_mapping = encoding.pop(\"offset_mapping\")\n",
        "labels = encoding.pop(\"labels\")\n",
        "\n",
        "# forward pass\n",
        "with torch.no_grad():\n",
        "  outputs = model(**encoding)"
      ]
    },
    {
      "cell_type": "markdown",
      "metadata": {
        "id": "Udp-oVfDLlvA"
      },
      "source": [
        "The model outputs logits of shape (batch_size, seq_len, num_labels). We just take the highest logit (score) per token as prediction:"
      ]
    },
    {
      "cell_type": "code",
      "execution_count": null,
      "metadata": {
        "colab": {
          "base_uri": "https://localhost:8080/"
        },
        "id": "dWdwzINYLoFd",
        "outputId": "67ce9009-0c57-43a6-c6fa-08aa06569f35"
      },
      "outputs": [],
      "source": [
        "predictions = outputs.logits.argmax(-1)\n",
        "print(predictions)"
      ]
    },
    {
      "cell_type": "markdown",
      "metadata": {
        "id": "TkI-FtHlQ2Hb"
      },
      "source": [
        "The model makes predictions at the token level, however we're only interested in the predicted label for the first token of each node.\n",
        "\n",
        "This can be achieved by accessing the word_ids (to know whether or not the token is a special token or not) and the offset_mapping (to know whether or not the token is the first of a particular node)."
      ]
    },
    {
      "cell_type": "code",
      "execution_count": null,
      "metadata": {
        "id": "byCinM3WOYSL"
      },
      "outputs": [],
      "source": [
        "results = {\"Node\": [], \"Predicted\": [], \"Ground truth\": []}\n",
        "\n",
        "for pred_id, word_id, offset, label_id in zip(predictions[0].tolist(), encoding.word_ids(0), offset_mapping[0].tolist(), labels[0].tolist()):\n",
        "  if word_id is not None and offset[0] == 0:\n",
        "    # print(f\"Node: {nodes[0][word_id]}\")\n",
        "    # print(f\"Predicted: {id2label[pred_id]}\")\n",
        "    # print(f\"Ground truth: {id2label[label_id]}\")\n",
        "    # print(\"----------\")\n",
        "    results[\"Node\"].append(nodes[0][word_id])\n",
        "    results[\"Predicted\"].append(id2label[pred_id])\n",
        "    results[\"Ground truth\"].append(id2label[label_id])"
      ]
    },
    {
      "cell_type": "markdown",
      "metadata": {
        "id": "nqUsGFfZLxVl"
      },
      "source": [
        "Let's pretty print the results as a Pandas dataframe:"
      ]
    },
    {
      "cell_type": "code",
      "execution_count": null,
      "metadata": {
        "colab": {
          "base_uri": "https://localhost:8080/",
          "height": 206
        },
        "id": "dBCkbX-_QUUa",
        "outputId": "5090c1a0-c0ca-4aaf-de1b-821ff6249d1e"
      },
      "outputs": [],
      "source": [
        "import pandas as pd\n",
        "\n",
        "pd.DataFrame.from_dict(results).head()"
      ]
    }
  ],
  "metadata": {
    "accelerator": "GPU",
    "colab": {
      "authorship_tag": "ABX9TyMOoO54DUdf281sZF6bB3Ce",
      "collapsed_sections": [],
      "include_colab_link": true,
      "mount_file_id": "1d5VDVNQZqiF2mYAzIfzL_4g8IdVnRb1M",
      "provenance": []
    },
    "kernelspec": {
      "display_name": "Python 3",
      "name": "python3"
    },
    "language_info": {
      "codemirror_mode": {
        "name": "ipython",
        "version": 3
      },
      "file_extension": ".py",
      "mimetype": "text/x-python",
      "name": "python",
      "nbconvert_exporter": "python",
      "pygments_lexer": "ipython3",
      "version": "3.8.10"
    },
    "widgets": {
      "application/vnd.jupyter.widget-state+json": {
        "0bd6f854922b42209c34644d064fc784": {
          "model_module": "@jupyter-widgets/controls",
          "model_module_version": "1.5.0",
          "model_name": "DescriptionStyleModel",
          "state": {
            "_model_module": "@jupyter-widgets/controls",
            "_model_module_version": "1.5.0",
            "_model_name": "DescriptionStyleModel",
            "_view_count": null,
            "_view_module": "@jupyter-widgets/base",
            "_view_module_version": "1.2.0",
            "_view_name": "StyleView",
            "description_width": ""
          }
        },
        "0c145c54461e4f748e630608e572d656": {
          "model_module": "@jupyter-widgets/base",
          "model_module_version": "1.2.0",
          "model_name": "LayoutModel",
          "state": {
            "_model_module": "@jupyter-widgets/base",
            "_model_module_version": "1.2.0",
            "_model_name": "LayoutModel",
            "_view_count": null,
            "_view_module": "@jupyter-widgets/base",
            "_view_module_version": "1.2.0",
            "_view_name": "LayoutView",
            "align_content": null,
            "align_items": null,
            "align_self": null,
            "border": null,
            "bottom": null,
            "display": null,
            "flex": null,
            "flex_flow": null,
            "grid_area": null,
            "grid_auto_columns": null,
            "grid_auto_flow": null,
            "grid_auto_rows": null,
            "grid_column": null,
            "grid_gap": null,
            "grid_row": null,
            "grid_template_areas": null,
            "grid_template_columns": null,
            "grid_template_rows": null,
            "height": null,
            "justify_content": null,
            "justify_items": null,
            "left": null,
            "margin": null,
            "max_height": null,
            "max_width": null,
            "min_height": null,
            "min_width": null,
            "object_fit": null,
            "object_position": null,
            "order": null,
            "overflow": null,
            "overflow_x": null,
            "overflow_y": null,
            "padding": null,
            "right": null,
            "top": null,
            "visibility": null,
            "width": null
          }
        },
        "111db982b6c34747bd360624ea4cbe5e": {
          "model_module": "@jupyter-widgets/base",
          "model_module_version": "1.2.0",
          "model_name": "LayoutModel",
          "state": {
            "_model_module": "@jupyter-widgets/base",
            "_model_module_version": "1.2.0",
            "_model_name": "LayoutModel",
            "_view_count": null,
            "_view_module": "@jupyter-widgets/base",
            "_view_module_version": "1.2.0",
            "_view_name": "LayoutView",
            "align_content": null,
            "align_items": null,
            "align_self": null,
            "border": null,
            "bottom": null,
            "display": null,
            "flex": null,
            "flex_flow": null,
            "grid_area": null,
            "grid_auto_columns": null,
            "grid_auto_flow": null,
            "grid_auto_rows": null,
            "grid_column": null,
            "grid_gap": null,
            "grid_row": null,
            "grid_template_areas": null,
            "grid_template_columns": null,
            "grid_template_rows": null,
            "height": null,
            "justify_content": null,
            "justify_items": null,
            "left": null,
            "margin": null,
            "max_height": null,
            "max_width": null,
            "min_height": null,
            "min_width": null,
            "object_fit": null,
            "object_position": null,
            "order": null,
            "overflow": null,
            "overflow_x": null,
            "overflow_y": null,
            "padding": null,
            "right": null,
            "top": null,
            "visibility": null,
            "width": null
          }
        },
        "13540c3628654bed8a11669c7070f499": {
          "model_module": "@jupyter-widgets/controls",
          "model_module_version": "1.5.0",
          "model_name": "HTMLModel",
          "state": {
            "_dom_classes": [],
            "_model_module": "@jupyter-widgets/controls",
            "_model_module_version": "1.5.0",
            "_model_name": "HTMLModel",
            "_view_count": null,
            "_view_module": "@jupyter-widgets/controls",
            "_view_module_version": "1.5.0",
            "_view_name": "HTMLView",
            "description": "",
            "description_tooltip": null,
            "layout": "IPY_MODEL_50b92ebd8a87409bbca2981181978509",
            "placeholder": "​",
            "style": "IPY_MODEL_7b94dad419b641fca3c7eac0d1c5ffc2",
            "value": " 0/0 [00:00&lt;?, ?it/s]"
          }
        },
        "17e96e75dd304daf900d88d4f7048c6a": {
          "model_module": "@jupyter-widgets/base",
          "model_module_version": "1.2.0",
          "model_name": "LayoutModel",
          "state": {
            "_model_module": "@jupyter-widgets/base",
            "_model_module_version": "1.2.0",
            "_model_name": "LayoutModel",
            "_view_count": null,
            "_view_module": "@jupyter-widgets/base",
            "_view_module_version": "1.2.0",
            "_view_name": "LayoutView",
            "align_content": null,
            "align_items": null,
            "align_self": null,
            "border": null,
            "bottom": null,
            "display": null,
            "flex": null,
            "flex_flow": null,
            "grid_area": null,
            "grid_auto_columns": null,
            "grid_auto_flow": null,
            "grid_auto_rows": null,
            "grid_column": null,
            "grid_gap": null,
            "grid_row": null,
            "grid_template_areas": null,
            "grid_template_columns": null,
            "grid_template_rows": null,
            "height": null,
            "justify_content": null,
            "justify_items": null,
            "left": null,
            "margin": null,
            "max_height": null,
            "max_width": null,
            "min_height": null,
            "min_width": null,
            "object_fit": null,
            "object_position": null,
            "order": null,
            "overflow": null,
            "overflow_x": null,
            "overflow_y": null,
            "padding": null,
            "right": null,
            "top": null,
            "visibility": null,
            "width": null
          }
        },
        "18aa73713f2d4662b644a5da65ed0abc": {
          "model_module": "@jupyter-widgets/base",
          "model_module_version": "1.2.0",
          "model_name": "LayoutModel",
          "state": {
            "_model_module": "@jupyter-widgets/base",
            "_model_module_version": "1.2.0",
            "_model_name": "LayoutModel",
            "_view_count": null,
            "_view_module": "@jupyter-widgets/base",
            "_view_module_version": "1.2.0",
            "_view_name": "LayoutView",
            "align_content": null,
            "align_items": null,
            "align_self": null,
            "border": null,
            "bottom": null,
            "display": null,
            "flex": null,
            "flex_flow": null,
            "grid_area": null,
            "grid_auto_columns": null,
            "grid_auto_flow": null,
            "grid_auto_rows": null,
            "grid_column": null,
            "grid_gap": null,
            "grid_row": null,
            "grid_template_areas": null,
            "grid_template_columns": null,
            "grid_template_rows": null,
            "height": null,
            "justify_content": null,
            "justify_items": null,
            "left": null,
            "margin": null,
            "max_height": null,
            "max_width": null,
            "min_height": null,
            "min_width": null,
            "object_fit": null,
            "object_position": null,
            "order": null,
            "overflow": null,
            "overflow_x": null,
            "overflow_y": null,
            "padding": null,
            "right": null,
            "top": null,
            "visibility": null,
            "width": null
          }
        },
        "1b04d7d7c64e46c7a65fec70a8aa6d47": {
          "model_module": "@jupyter-widgets/controls",
          "model_module_version": "1.5.0",
          "model_name": "HTMLModel",
          "state": {
            "_dom_classes": [],
            "_model_module": "@jupyter-widgets/controls",
            "_model_module_version": "1.5.0",
            "_model_name": "HTMLModel",
            "_view_count": null,
            "_view_module": "@jupyter-widgets/controls",
            "_view_module_version": "1.5.0",
            "_view_name": "HTMLView",
            "description": "",
            "description_tooltip": null,
            "layout": "IPY_MODEL_4161733518e9413dbfd46df36b44cdfc",
            "placeholder": "​",
            "style": "IPY_MODEL_fd55d9ea99994dbe9fcbde47912f6d3c",
            "value": "100%"
          }
        },
        "1b31f8ee960a4559b7e928d98acd088b": {
          "model_module": "@jupyter-widgets/controls",
          "model_module_version": "1.5.0",
          "model_name": "HBoxModel",
          "state": {
            "_dom_classes": [],
            "_model_module": "@jupyter-widgets/controls",
            "_model_module_version": "1.5.0",
            "_model_name": "HBoxModel",
            "_view_count": null,
            "_view_module": "@jupyter-widgets/controls",
            "_view_module_version": "1.5.0",
            "_view_name": "HBoxView",
            "box_style": "",
            "children": [
              "IPY_MODEL_daeabfc06460439ebde9fb9436ff244a",
              "IPY_MODEL_90385338c5694374b42d47c84a76fcd9",
              "IPY_MODEL_fd2e438e8b4a47928e8d42476dca5c6a"
            ],
            "layout": "IPY_MODEL_99d03b6b90ae412891ed40a7f7a8fc17"
          }
        },
        "1dfb949779dd4c63a6008aa28c7ce877": {
          "model_module": "@jupyter-widgets/controls",
          "model_module_version": "1.5.0",
          "model_name": "HTMLModel",
          "state": {
            "_dom_classes": [],
            "_model_module": "@jupyter-widgets/controls",
            "_model_module_version": "1.5.0",
            "_model_name": "HTMLModel",
            "_view_count": null,
            "_view_module": "@jupyter-widgets/controls",
            "_view_module_version": "1.5.0",
            "_view_name": "HTMLView",
            "description": "",
            "description_tooltip": null,
            "layout": "IPY_MODEL_2403434c28334c5b9fdc25e39177673d",
            "placeholder": "​",
            "style": "IPY_MODEL_a7268c5d50a8461eb505c826d7e7fa8f",
            "value": " 5/5 [00:02&lt;00:00,  2.68it/s]"
          }
        },
        "1efaab196cdf413290a431658a7c37e8": {
          "model_module": "@jupyter-widgets/controls",
          "model_module_version": "1.5.0",
          "model_name": "HBoxModel",
          "state": {
            "_dom_classes": [],
            "_model_module": "@jupyter-widgets/controls",
            "_model_module_version": "1.5.0",
            "_model_name": "HBoxModel",
            "_view_count": null,
            "_view_module": "@jupyter-widgets/controls",
            "_view_module_version": "1.5.0",
            "_view_name": "HBoxView",
            "box_style": "",
            "children": [
              "IPY_MODEL_e950ba6862394e4483a706a568dcf3cb",
              "IPY_MODEL_d8e5f48f3f7840e0b838df80f9d07527",
              "IPY_MODEL_5449b664cffc4fbb8418fddcd42259b5"
            ],
            "layout": "IPY_MODEL_2a11a94624d34901806ceafd5108ca41"
          }
        },
        "2403434c28334c5b9fdc25e39177673d": {
          "model_module": "@jupyter-widgets/base",
          "model_module_version": "1.2.0",
          "model_name": "LayoutModel",
          "state": {
            "_model_module": "@jupyter-widgets/base",
            "_model_module_version": "1.2.0",
            "_model_name": "LayoutModel",
            "_view_count": null,
            "_view_module": "@jupyter-widgets/base",
            "_view_module_version": "1.2.0",
            "_view_name": "LayoutView",
            "align_content": null,
            "align_items": null,
            "align_self": null,
            "border": null,
            "bottom": null,
            "display": null,
            "flex": null,
            "flex_flow": null,
            "grid_area": null,
            "grid_auto_columns": null,
            "grid_auto_flow": null,
            "grid_auto_rows": null,
            "grid_column": null,
            "grid_gap": null,
            "grid_row": null,
            "grid_template_areas": null,
            "grid_template_columns": null,
            "grid_template_rows": null,
            "height": null,
            "justify_content": null,
            "justify_items": null,
            "left": null,
            "margin": null,
            "max_height": null,
            "max_width": null,
            "min_height": null,
            "min_width": null,
            "object_fit": null,
            "object_position": null,
            "order": null,
            "overflow": null,
            "overflow_x": null,
            "overflow_y": null,
            "padding": null,
            "right": null,
            "top": null,
            "visibility": null,
            "width": null
          }
        },
        "2884c008a0064b488b0e5e8882ab4db8": {
          "model_module": "@jupyter-widgets/base",
          "model_module_version": "1.2.0",
          "model_name": "LayoutModel",
          "state": {
            "_model_module": "@jupyter-widgets/base",
            "_model_module_version": "1.2.0",
            "_model_name": "LayoutModel",
            "_view_count": null,
            "_view_module": "@jupyter-widgets/base",
            "_view_module_version": "1.2.0",
            "_view_name": "LayoutView",
            "align_content": null,
            "align_items": null,
            "align_self": null,
            "border": null,
            "bottom": null,
            "display": null,
            "flex": null,
            "flex_flow": null,
            "grid_area": null,
            "grid_auto_columns": null,
            "grid_auto_flow": null,
            "grid_auto_rows": null,
            "grid_column": null,
            "grid_gap": null,
            "grid_row": null,
            "grid_template_areas": null,
            "grid_template_columns": null,
            "grid_template_rows": null,
            "height": null,
            "justify_content": null,
            "justify_items": null,
            "left": null,
            "margin": null,
            "max_height": null,
            "max_width": null,
            "min_height": null,
            "min_width": null,
            "object_fit": null,
            "object_position": null,
            "order": null,
            "overflow": null,
            "overflow_x": null,
            "overflow_y": null,
            "padding": null,
            "right": null,
            "top": null,
            "visibility": null,
            "width": null
          }
        },
        "295b69341c314474acc9de4eaab35361": {
          "model_module": "@jupyter-widgets/controls",
          "model_module_version": "1.5.0",
          "model_name": "ProgressStyleModel",
          "state": {
            "_model_module": "@jupyter-widgets/controls",
            "_model_module_version": "1.5.0",
            "_model_name": "ProgressStyleModel",
            "_view_count": null,
            "_view_module": "@jupyter-widgets/base",
            "_view_module_version": "1.2.0",
            "_view_name": "StyleView",
            "bar_color": null,
            "description_width": ""
          }
        },
        "2a11a94624d34901806ceafd5108ca41": {
          "model_module": "@jupyter-widgets/base",
          "model_module_version": "1.2.0",
          "model_name": "LayoutModel",
          "state": {
            "_model_module": "@jupyter-widgets/base",
            "_model_module_version": "1.2.0",
            "_model_name": "LayoutModel",
            "_view_count": null,
            "_view_module": "@jupyter-widgets/base",
            "_view_module_version": "1.2.0",
            "_view_name": "LayoutView",
            "align_content": null,
            "align_items": null,
            "align_self": null,
            "border": null,
            "bottom": null,
            "display": null,
            "flex": null,
            "flex_flow": null,
            "grid_area": null,
            "grid_auto_columns": null,
            "grid_auto_flow": null,
            "grid_auto_rows": null,
            "grid_column": null,
            "grid_gap": null,
            "grid_row": null,
            "grid_template_areas": null,
            "grid_template_columns": null,
            "grid_template_rows": null,
            "height": null,
            "justify_content": null,
            "justify_items": null,
            "left": null,
            "margin": null,
            "max_height": null,
            "max_width": null,
            "min_height": null,
            "min_width": null,
            "object_fit": null,
            "object_position": null,
            "order": null,
            "overflow": null,
            "overflow_x": null,
            "overflow_y": null,
            "padding": null,
            "right": null,
            "top": null,
            "visibility": null,
            "width": null
          }
        },
        "2b0d37003ffd4f548bb493ff2f96fd40": {
          "model_module": "@jupyter-widgets/controls",
          "model_module_version": "1.5.0",
          "model_name": "ProgressStyleModel",
          "state": {
            "_model_module": "@jupyter-widgets/controls",
            "_model_module_version": "1.5.0",
            "_model_name": "ProgressStyleModel",
            "_view_count": null,
            "_view_module": "@jupyter-widgets/base",
            "_view_module_version": "1.2.0",
            "_view_name": "StyleView",
            "bar_color": null,
            "description_width": ""
          }
        },
        "309e78727d274c75bdfbe6f3e0bc382c": {
          "model_module": "@jupyter-widgets/base",
          "model_module_version": "1.2.0",
          "model_name": "LayoutModel",
          "state": {
            "_model_module": "@jupyter-widgets/base",
            "_model_module_version": "1.2.0",
            "_model_name": "LayoutModel",
            "_view_count": null,
            "_view_module": "@jupyter-widgets/base",
            "_view_module_version": "1.2.0",
            "_view_name": "LayoutView",
            "align_content": null,
            "align_items": null,
            "align_self": null,
            "border": null,
            "bottom": null,
            "display": null,
            "flex": null,
            "flex_flow": null,
            "grid_area": null,
            "grid_auto_columns": null,
            "grid_auto_flow": null,
            "grid_auto_rows": null,
            "grid_column": null,
            "grid_gap": null,
            "grid_row": null,
            "grid_template_areas": null,
            "grid_template_columns": null,
            "grid_template_rows": null,
            "height": null,
            "justify_content": null,
            "justify_items": null,
            "left": null,
            "margin": null,
            "max_height": null,
            "max_width": null,
            "min_height": null,
            "min_width": null,
            "object_fit": null,
            "object_position": null,
            "order": null,
            "overflow": null,
            "overflow_x": null,
            "overflow_y": null,
            "padding": null,
            "right": null,
            "top": null,
            "visibility": null,
            "width": null
          }
        },
        "34cf46270d844b4e9d9de27d9437a0bf": {
          "model_module": "@jupyter-widgets/controls",
          "model_module_version": "1.5.0",
          "model_name": "HTMLModel",
          "state": {
            "_dom_classes": [],
            "_model_module": "@jupyter-widgets/controls",
            "_model_module_version": "1.5.0",
            "_model_name": "HTMLModel",
            "_view_count": null,
            "_view_module": "@jupyter-widgets/controls",
            "_view_module_version": "1.5.0",
            "_view_name": "HTMLView",
            "description": "",
            "description_tooltip": null,
            "layout": "IPY_MODEL_a7e6451644684b0ba08b1fef97d8bffe",
            "placeholder": "​",
            "style": "IPY_MODEL_0bd6f854922b42209c34644d064fc784",
            "value": " 5/5 [00:02&lt;00:00,  2.69it/s]"
          }
        },
        "4161733518e9413dbfd46df36b44cdfc": {
          "model_module": "@jupyter-widgets/base",
          "model_module_version": "1.2.0",
          "model_name": "LayoutModel",
          "state": {
            "_model_module": "@jupyter-widgets/base",
            "_model_module_version": "1.2.0",
            "_model_name": "LayoutModel",
            "_view_count": null,
            "_view_module": "@jupyter-widgets/base",
            "_view_module_version": "1.2.0",
            "_view_name": "LayoutView",
            "align_content": null,
            "align_items": null,
            "align_self": null,
            "border": null,
            "bottom": null,
            "display": null,
            "flex": null,
            "flex_flow": null,
            "grid_area": null,
            "grid_auto_columns": null,
            "grid_auto_flow": null,
            "grid_auto_rows": null,
            "grid_column": null,
            "grid_gap": null,
            "grid_row": null,
            "grid_template_areas": null,
            "grid_template_columns": null,
            "grid_template_rows": null,
            "height": null,
            "justify_content": null,
            "justify_items": null,
            "left": null,
            "margin": null,
            "max_height": null,
            "max_width": null,
            "min_height": null,
            "min_width": null,
            "object_fit": null,
            "object_position": null,
            "order": null,
            "overflow": null,
            "overflow_x": null,
            "overflow_y": null,
            "padding": null,
            "right": null,
            "top": null,
            "visibility": null,
            "width": null
          }
        },
        "41b1ff7ceb27460f8d728e6adbaabb73": {
          "model_module": "@jupyter-widgets/controls",
          "model_module_version": "1.5.0",
          "model_name": "HBoxModel",
          "state": {
            "_dom_classes": [],
            "_model_module": "@jupyter-widgets/controls",
            "_model_module_version": "1.5.0",
            "_model_name": "HBoxModel",
            "_view_count": null,
            "_view_module": "@jupyter-widgets/controls",
            "_view_module_version": "1.5.0",
            "_view_name": "HBoxView",
            "box_style": "",
            "children": [
              "IPY_MODEL_77abcf0972874873bcd42396f9df50e8",
              "IPY_MODEL_c804100a751046b880c6f3d351fa8bc7",
              "IPY_MODEL_c2241e09ad504051a7eb87496c53f1a5"
            ],
            "layout": "IPY_MODEL_17e96e75dd304daf900d88d4f7048c6a"
          }
        },
        "4a5f6116b4504b79845fe0f024f76045": {
          "model_module": "@jupyter-widgets/controls",
          "model_module_version": "1.5.0",
          "model_name": "ProgressStyleModel",
          "state": {
            "_model_module": "@jupyter-widgets/controls",
            "_model_module_version": "1.5.0",
            "_model_name": "ProgressStyleModel",
            "_view_count": null,
            "_view_module": "@jupyter-widgets/base",
            "_view_module_version": "1.2.0",
            "_view_name": "StyleView",
            "bar_color": null,
            "description_width": ""
          }
        },
        "4b54ca9031904579a18f8b08bdfc2b27": {
          "model_module": "@jupyter-widgets/base",
          "model_module_version": "1.2.0",
          "model_name": "LayoutModel",
          "state": {
            "_model_module": "@jupyter-widgets/base",
            "_model_module_version": "1.2.0",
            "_model_name": "LayoutModel",
            "_view_count": null,
            "_view_module": "@jupyter-widgets/base",
            "_view_module_version": "1.2.0",
            "_view_name": "LayoutView",
            "align_content": null,
            "align_items": null,
            "align_self": null,
            "border": null,
            "bottom": null,
            "display": null,
            "flex": null,
            "flex_flow": null,
            "grid_area": null,
            "grid_auto_columns": null,
            "grid_auto_flow": null,
            "grid_auto_rows": null,
            "grid_column": null,
            "grid_gap": null,
            "grid_row": null,
            "grid_template_areas": null,
            "grid_template_columns": null,
            "grid_template_rows": null,
            "height": null,
            "justify_content": null,
            "justify_items": null,
            "left": null,
            "margin": null,
            "max_height": null,
            "max_width": null,
            "min_height": null,
            "min_width": null,
            "object_fit": null,
            "object_position": null,
            "order": null,
            "overflow": null,
            "overflow_x": null,
            "overflow_y": null,
            "padding": null,
            "right": null,
            "top": null,
            "visibility": null,
            "width": "20px"
          }
        },
        "4b58dbaea1e64cc0887d32810f0b2994": {
          "model_module": "@jupyter-widgets/controls",
          "model_module_version": "1.5.0",
          "model_name": "DescriptionStyleModel",
          "state": {
            "_model_module": "@jupyter-widgets/controls",
            "_model_module_version": "1.5.0",
            "_model_name": "DescriptionStyleModel",
            "_view_count": null,
            "_view_module": "@jupyter-widgets/base",
            "_view_module_version": "1.2.0",
            "_view_name": "StyleView",
            "description_width": ""
          }
        },
        "5070cf89966f4169847c5f9fbc3bc607": {
          "model_module": "@jupyter-widgets/controls",
          "model_module_version": "1.5.0",
          "model_name": "FloatProgressModel",
          "state": {
            "_dom_classes": [],
            "_model_module": "@jupyter-widgets/controls",
            "_model_module_version": "1.5.0",
            "_model_name": "FloatProgressModel",
            "_view_count": null,
            "_view_module": "@jupyter-widgets/controls",
            "_view_module_version": "1.5.0",
            "_view_name": "ProgressView",
            "bar_style": "success",
            "description": "",
            "description_tooltip": null,
            "layout": "IPY_MODEL_4b54ca9031904579a18f8b08bdfc2b27",
            "max": 1,
            "min": 0,
            "orientation": "horizontal",
            "style": "IPY_MODEL_ce145570f63f4e63b9e36c2dd5e50392",
            "value": 0
          }
        },
        "50b92ebd8a87409bbca2981181978509": {
          "model_module": "@jupyter-widgets/base",
          "model_module_version": "1.2.0",
          "model_name": "LayoutModel",
          "state": {
            "_model_module": "@jupyter-widgets/base",
            "_model_module_version": "1.2.0",
            "_model_name": "LayoutModel",
            "_view_count": null,
            "_view_module": "@jupyter-widgets/base",
            "_view_module_version": "1.2.0",
            "_view_name": "LayoutView",
            "align_content": null,
            "align_items": null,
            "align_self": null,
            "border": null,
            "bottom": null,
            "display": null,
            "flex": null,
            "flex_flow": null,
            "grid_area": null,
            "grid_auto_columns": null,
            "grid_auto_flow": null,
            "grid_auto_rows": null,
            "grid_column": null,
            "grid_gap": null,
            "grid_row": null,
            "grid_template_areas": null,
            "grid_template_columns": null,
            "grid_template_rows": null,
            "height": null,
            "justify_content": null,
            "justify_items": null,
            "left": null,
            "margin": null,
            "max_height": null,
            "max_width": null,
            "min_height": null,
            "min_width": null,
            "object_fit": null,
            "object_position": null,
            "order": null,
            "overflow": null,
            "overflow_x": null,
            "overflow_y": null,
            "padding": null,
            "right": null,
            "top": null,
            "visibility": null,
            "width": null
          }
        },
        "5449b664cffc4fbb8418fddcd42259b5": {
          "model_module": "@jupyter-widgets/controls",
          "model_module_version": "1.5.0",
          "model_name": "HTMLModel",
          "state": {
            "_dom_classes": [],
            "_model_module": "@jupyter-widgets/controls",
            "_model_module_version": "1.5.0",
            "_model_name": "HTMLModel",
            "_view_count": null,
            "_view_module": "@jupyter-widgets/controls",
            "_view_module_version": "1.5.0",
            "_view_name": "HTMLView",
            "description": "",
            "description_tooltip": null,
            "layout": "IPY_MODEL_18aa73713f2d4662b644a5da65ed0abc",
            "placeholder": "​",
            "style": "IPY_MODEL_709a75a2ea9544f3af191e5da3f455b1",
            "value": " 5/5 [00:02&lt;00:00,  2.49it/s]"
          }
        },
        "560a2a34c5d84469b61da36f5884a102": {
          "model_module": "@jupyter-widgets/controls",
          "model_module_version": "1.5.0",
          "model_name": "DescriptionStyleModel",
          "state": {
            "_model_module": "@jupyter-widgets/controls",
            "_model_module_version": "1.5.0",
            "_model_name": "DescriptionStyleModel",
            "_view_count": null,
            "_view_module": "@jupyter-widgets/base",
            "_view_module_version": "1.2.0",
            "_view_name": "StyleView",
            "description_width": ""
          }
        },
        "5ba1470b67624caf890815a747351c6b": {
          "model_module": "@jupyter-widgets/controls",
          "model_module_version": "1.5.0",
          "model_name": "DescriptionStyleModel",
          "state": {
            "_model_module": "@jupyter-widgets/controls",
            "_model_module_version": "1.5.0",
            "_model_name": "DescriptionStyleModel",
            "_view_count": null,
            "_view_module": "@jupyter-widgets/base",
            "_view_module_version": "1.2.0",
            "_view_name": "StyleView",
            "description_width": ""
          }
        },
        "62ca6a355eba4d8b9246196543651611": {
          "model_module": "@jupyter-widgets/controls",
          "model_module_version": "1.5.0",
          "model_name": "FloatProgressModel",
          "state": {
            "_dom_classes": [],
            "_model_module": "@jupyter-widgets/controls",
            "_model_module_version": "1.5.0",
            "_model_name": "FloatProgressModel",
            "_view_count": null,
            "_view_module": "@jupyter-widgets/controls",
            "_view_module_version": "1.5.0",
            "_view_name": "ProgressView",
            "bar_style": "success",
            "description": "",
            "description_tooltip": null,
            "layout": "IPY_MODEL_c2bd8b713ab34602882409fce6ea137c",
            "max": 5,
            "min": 0,
            "orientation": "horizontal",
            "style": "IPY_MODEL_bad50a6972ba4cc89ace07948e418348",
            "value": 5
          }
        },
        "65ab01632bcf4b7a8fc1c8226284ca35": {
          "model_module": "@jupyter-widgets/controls",
          "model_module_version": "1.5.0",
          "model_name": "HTMLModel",
          "state": {
            "_dom_classes": [],
            "_model_module": "@jupyter-widgets/controls",
            "_model_module_version": "1.5.0",
            "_model_name": "HTMLModel",
            "_view_count": null,
            "_view_module": "@jupyter-widgets/controls",
            "_view_module_version": "1.5.0",
            "_view_name": "HTMLView",
            "description": "",
            "description_tooltip": null,
            "layout": "IPY_MODEL_9fc13da36c3e4a0eb56ac32cfaa40f88",
            "placeholder": "​",
            "style": "IPY_MODEL_5ba1470b67624caf890815a747351c6b",
            "value": ""
          }
        },
        "709a75a2ea9544f3af191e5da3f455b1": {
          "model_module": "@jupyter-widgets/controls",
          "model_module_version": "1.5.0",
          "model_name": "DescriptionStyleModel",
          "state": {
            "_model_module": "@jupyter-widgets/controls",
            "_model_module_version": "1.5.0",
            "_model_name": "DescriptionStyleModel",
            "_view_count": null,
            "_view_module": "@jupyter-widgets/base",
            "_view_module_version": "1.2.0",
            "_view_name": "StyleView",
            "description_width": ""
          }
        },
        "75aa20be4912412b9326ad4fd175e94c": {
          "model_module": "@jupyter-widgets/controls",
          "model_module_version": "1.5.0",
          "model_name": "DescriptionStyleModel",
          "state": {
            "_model_module": "@jupyter-widgets/controls",
            "_model_module_version": "1.5.0",
            "_model_name": "DescriptionStyleModel",
            "_view_count": null,
            "_view_module": "@jupyter-widgets/base",
            "_view_module_version": "1.2.0",
            "_view_name": "StyleView",
            "description_width": ""
          }
        },
        "77abcf0972874873bcd42396f9df50e8": {
          "model_module": "@jupyter-widgets/controls",
          "model_module_version": "1.5.0",
          "model_name": "HTMLModel",
          "state": {
            "_dom_classes": [],
            "_model_module": "@jupyter-widgets/controls",
            "_model_module_version": "1.5.0",
            "_model_name": "HTMLModel",
            "_view_count": null,
            "_view_module": "@jupyter-widgets/controls",
            "_view_module_version": "1.5.0",
            "_view_name": "HTMLView",
            "description": "",
            "description_tooltip": null,
            "layout": "IPY_MODEL_309e78727d274c75bdfbe6f3e0bc382c",
            "placeholder": "​",
            "style": "IPY_MODEL_b5ff4bccd4624e84bb0fd0a5f9039564",
            "value": "100%"
          }
        },
        "7b94dad419b641fca3c7eac0d1c5ffc2": {
          "model_module": "@jupyter-widgets/controls",
          "model_module_version": "1.5.0",
          "model_name": "DescriptionStyleModel",
          "state": {
            "_model_module": "@jupyter-widgets/controls",
            "_model_module_version": "1.5.0",
            "_model_name": "DescriptionStyleModel",
            "_view_count": null,
            "_view_module": "@jupyter-widgets/base",
            "_view_module_version": "1.2.0",
            "_view_name": "StyleView",
            "description_width": ""
          }
        },
        "810c4546e9a54279a0169a8f219921d1": {
          "model_module": "@jupyter-widgets/base",
          "model_module_version": "1.2.0",
          "model_name": "LayoutModel",
          "state": {
            "_model_module": "@jupyter-widgets/base",
            "_model_module_version": "1.2.0",
            "_model_name": "LayoutModel",
            "_view_count": null,
            "_view_module": "@jupyter-widgets/base",
            "_view_module_version": "1.2.0",
            "_view_name": "LayoutView",
            "align_content": null,
            "align_items": null,
            "align_self": null,
            "border": null,
            "bottom": null,
            "display": null,
            "flex": null,
            "flex_flow": null,
            "grid_area": null,
            "grid_auto_columns": null,
            "grid_auto_flow": null,
            "grid_auto_rows": null,
            "grid_column": null,
            "grid_gap": null,
            "grid_row": null,
            "grid_template_areas": null,
            "grid_template_columns": null,
            "grid_template_rows": null,
            "height": null,
            "justify_content": null,
            "justify_items": null,
            "left": null,
            "margin": null,
            "max_height": null,
            "max_width": null,
            "min_height": null,
            "min_width": null,
            "object_fit": null,
            "object_position": null,
            "order": null,
            "overflow": null,
            "overflow_x": null,
            "overflow_y": null,
            "padding": null,
            "right": null,
            "top": null,
            "visibility": null,
            "width": null
          }
        },
        "897d441504394c13be74d6527d43e2ad": {
          "model_module": "@jupyter-widgets/controls",
          "model_module_version": "1.5.0",
          "model_name": "HTMLModel",
          "state": {
            "_dom_classes": [],
            "_model_module": "@jupyter-widgets/controls",
            "_model_module_version": "1.5.0",
            "_model_name": "HTMLModel",
            "_view_count": null,
            "_view_module": "@jupyter-widgets/controls",
            "_view_module_version": "1.5.0",
            "_view_name": "HTMLView",
            "description": "",
            "description_tooltip": null,
            "layout": "IPY_MODEL_0c145c54461e4f748e630608e572d656",
            "placeholder": "​",
            "style": "IPY_MODEL_a3d2d3776c50425e82e880aaf53266c5",
            "value": "100%"
          }
        },
        "8ad2aabc468c4ac28ca7ec74f5d5c609": {
          "model_module": "@jupyter-widgets/base",
          "model_module_version": "1.2.0",
          "model_name": "LayoutModel",
          "state": {
            "_model_module": "@jupyter-widgets/base",
            "_model_module_version": "1.2.0",
            "_model_name": "LayoutModel",
            "_view_count": null,
            "_view_module": "@jupyter-widgets/base",
            "_view_module_version": "1.2.0",
            "_view_name": "LayoutView",
            "align_content": null,
            "align_items": null,
            "align_self": null,
            "border": null,
            "bottom": null,
            "display": null,
            "flex": null,
            "flex_flow": null,
            "grid_area": null,
            "grid_auto_columns": null,
            "grid_auto_flow": null,
            "grid_auto_rows": null,
            "grid_column": null,
            "grid_gap": null,
            "grid_row": null,
            "grid_template_areas": null,
            "grid_template_columns": null,
            "grid_template_rows": null,
            "height": null,
            "justify_content": null,
            "justify_items": null,
            "left": null,
            "margin": null,
            "max_height": null,
            "max_width": null,
            "min_height": null,
            "min_width": null,
            "object_fit": null,
            "object_position": null,
            "order": null,
            "overflow": null,
            "overflow_x": null,
            "overflow_y": null,
            "padding": null,
            "right": null,
            "top": null,
            "visibility": null,
            "width": null
          }
        },
        "90385338c5694374b42d47c84a76fcd9": {
          "model_module": "@jupyter-widgets/controls",
          "model_module_version": "1.5.0",
          "model_name": "FloatProgressModel",
          "state": {
            "_dom_classes": [],
            "_model_module": "@jupyter-widgets/controls",
            "_model_module_version": "1.5.0",
            "_model_name": "FloatProgressModel",
            "_view_count": null,
            "_view_module": "@jupyter-widgets/controls",
            "_view_module_version": "1.5.0",
            "_view_name": "ProgressView",
            "bar_style": "success",
            "description": "",
            "description_tooltip": null,
            "layout": "IPY_MODEL_2884c008a0064b488b0e5e8882ab4db8",
            "max": 5,
            "min": 0,
            "orientation": "horizontal",
            "style": "IPY_MODEL_ff10c7e80e604bf9934af3d6c87b3d69",
            "value": 5
          }
        },
        "9209dbaeba4941a5841cc1ca3a4ae845": {
          "model_module": "@jupyter-widgets/base",
          "model_module_version": "1.2.0",
          "model_name": "LayoutModel",
          "state": {
            "_model_module": "@jupyter-widgets/base",
            "_model_module_version": "1.2.0",
            "_model_name": "LayoutModel",
            "_view_count": null,
            "_view_module": "@jupyter-widgets/base",
            "_view_module_version": "1.2.0",
            "_view_name": "LayoutView",
            "align_content": null,
            "align_items": null,
            "align_self": null,
            "border": null,
            "bottom": null,
            "display": null,
            "flex": null,
            "flex_flow": null,
            "grid_area": null,
            "grid_auto_columns": null,
            "grid_auto_flow": null,
            "grid_auto_rows": null,
            "grid_column": null,
            "grid_gap": null,
            "grid_row": null,
            "grid_template_areas": null,
            "grid_template_columns": null,
            "grid_template_rows": null,
            "height": null,
            "justify_content": null,
            "justify_items": null,
            "left": null,
            "margin": null,
            "max_height": null,
            "max_width": null,
            "min_height": null,
            "min_width": null,
            "object_fit": null,
            "object_position": null,
            "order": null,
            "overflow": null,
            "overflow_x": null,
            "overflow_y": null,
            "padding": null,
            "right": null,
            "top": null,
            "visibility": null,
            "width": null
          }
        },
        "95fc5b04e9174cda9e6ba8859355eac2": {
          "model_module": "@jupyter-widgets/base",
          "model_module_version": "1.2.0",
          "model_name": "LayoutModel",
          "state": {
            "_model_module": "@jupyter-widgets/base",
            "_model_module_version": "1.2.0",
            "_model_name": "LayoutModel",
            "_view_count": null,
            "_view_module": "@jupyter-widgets/base",
            "_view_module_version": "1.2.0",
            "_view_name": "LayoutView",
            "align_content": null,
            "align_items": null,
            "align_self": null,
            "border": null,
            "bottom": null,
            "display": null,
            "flex": null,
            "flex_flow": null,
            "grid_area": null,
            "grid_auto_columns": null,
            "grid_auto_flow": null,
            "grid_auto_rows": null,
            "grid_column": null,
            "grid_gap": null,
            "grid_row": null,
            "grid_template_areas": null,
            "grid_template_columns": null,
            "grid_template_rows": null,
            "height": null,
            "justify_content": null,
            "justify_items": null,
            "left": null,
            "margin": null,
            "max_height": null,
            "max_width": null,
            "min_height": null,
            "min_width": null,
            "object_fit": null,
            "object_position": null,
            "order": null,
            "overflow": null,
            "overflow_x": null,
            "overflow_y": null,
            "padding": null,
            "right": null,
            "top": null,
            "visibility": null,
            "width": null
          }
        },
        "96f3fd4d5d8c41b0b1e90de870504274": {
          "model_module": "@jupyter-widgets/controls",
          "model_module_version": "1.5.0",
          "model_name": "HBoxModel",
          "state": {
            "_dom_classes": [],
            "_model_module": "@jupyter-widgets/controls",
            "_model_module_version": "1.5.0",
            "_model_name": "HBoxModel",
            "_view_count": null,
            "_view_module": "@jupyter-widgets/controls",
            "_view_module_version": "1.5.0",
            "_view_name": "HBoxView",
            "box_style": "",
            "children": [
              "IPY_MODEL_65ab01632bcf4b7a8fc1c8226284ca35",
              "IPY_MODEL_5070cf89966f4169847c5f9fbc3bc607",
              "IPY_MODEL_13540c3628654bed8a11669c7070f499"
            ],
            "layout": "IPY_MODEL_8ad2aabc468c4ac28ca7ec74f5d5c609"
          }
        },
        "99d03b6b90ae412891ed40a7f7a8fc17": {
          "model_module": "@jupyter-widgets/base",
          "model_module_version": "1.2.0",
          "model_name": "LayoutModel",
          "state": {
            "_model_module": "@jupyter-widgets/base",
            "_model_module_version": "1.2.0",
            "_model_name": "LayoutModel",
            "_view_count": null,
            "_view_module": "@jupyter-widgets/base",
            "_view_module_version": "1.2.0",
            "_view_name": "LayoutView",
            "align_content": null,
            "align_items": null,
            "align_self": null,
            "border": null,
            "bottom": null,
            "display": null,
            "flex": null,
            "flex_flow": null,
            "grid_area": null,
            "grid_auto_columns": null,
            "grid_auto_flow": null,
            "grid_auto_rows": null,
            "grid_column": null,
            "grid_gap": null,
            "grid_row": null,
            "grid_template_areas": null,
            "grid_template_columns": null,
            "grid_template_rows": null,
            "height": null,
            "justify_content": null,
            "justify_items": null,
            "left": null,
            "margin": null,
            "max_height": null,
            "max_width": null,
            "min_height": null,
            "min_width": null,
            "object_fit": null,
            "object_position": null,
            "order": null,
            "overflow": null,
            "overflow_x": null,
            "overflow_y": null,
            "padding": null,
            "right": null,
            "top": null,
            "visibility": null,
            "width": null
          }
        },
        "9a960e309c4547739b85684fd22a7434": {
          "model_module": "@jupyter-widgets/controls",
          "model_module_version": "1.5.0",
          "model_name": "HBoxModel",
          "state": {
            "_dom_classes": [],
            "_model_module": "@jupyter-widgets/controls",
            "_model_module_version": "1.5.0",
            "_model_name": "HBoxModel",
            "_view_count": null,
            "_view_module": "@jupyter-widgets/controls",
            "_view_module_version": "1.5.0",
            "_view_name": "HBoxView",
            "box_style": "",
            "children": [
              "IPY_MODEL_1b04d7d7c64e46c7a65fec70a8aa6d47",
              "IPY_MODEL_62ca6a355eba4d8b9246196543651611",
              "IPY_MODEL_1dfb949779dd4c63a6008aa28c7ce877"
            ],
            "layout": "IPY_MODEL_a3d7e773a941411d843e1d97501bbbc1"
          }
        },
        "9fc13da36c3e4a0eb56ac32cfaa40f88": {
          "model_module": "@jupyter-widgets/base",
          "model_module_version": "1.2.0",
          "model_name": "LayoutModel",
          "state": {
            "_model_module": "@jupyter-widgets/base",
            "_model_module_version": "1.2.0",
            "_model_name": "LayoutModel",
            "_view_count": null,
            "_view_module": "@jupyter-widgets/base",
            "_view_module_version": "1.2.0",
            "_view_name": "LayoutView",
            "align_content": null,
            "align_items": null,
            "align_self": null,
            "border": null,
            "bottom": null,
            "display": null,
            "flex": null,
            "flex_flow": null,
            "grid_area": null,
            "grid_auto_columns": null,
            "grid_auto_flow": null,
            "grid_auto_rows": null,
            "grid_column": null,
            "grid_gap": null,
            "grid_row": null,
            "grid_template_areas": null,
            "grid_template_columns": null,
            "grid_template_rows": null,
            "height": null,
            "justify_content": null,
            "justify_items": null,
            "left": null,
            "margin": null,
            "max_height": null,
            "max_width": null,
            "min_height": null,
            "min_width": null,
            "object_fit": null,
            "object_position": null,
            "order": null,
            "overflow": null,
            "overflow_x": null,
            "overflow_y": null,
            "padding": null,
            "right": null,
            "top": null,
            "visibility": null,
            "width": null
          }
        },
        "a3d2d3776c50425e82e880aaf53266c5": {
          "model_module": "@jupyter-widgets/controls",
          "model_module_version": "1.5.0",
          "model_name": "DescriptionStyleModel",
          "state": {
            "_model_module": "@jupyter-widgets/controls",
            "_model_module_version": "1.5.0",
            "_model_name": "DescriptionStyleModel",
            "_view_count": null,
            "_view_module": "@jupyter-widgets/base",
            "_view_module_version": "1.2.0",
            "_view_name": "StyleView",
            "description_width": ""
          }
        },
        "a3d7e773a941411d843e1d97501bbbc1": {
          "model_module": "@jupyter-widgets/base",
          "model_module_version": "1.2.0",
          "model_name": "LayoutModel",
          "state": {
            "_model_module": "@jupyter-widgets/base",
            "_model_module_version": "1.2.0",
            "_model_name": "LayoutModel",
            "_view_count": null,
            "_view_module": "@jupyter-widgets/base",
            "_view_module_version": "1.2.0",
            "_view_name": "LayoutView",
            "align_content": null,
            "align_items": null,
            "align_self": null,
            "border": null,
            "bottom": null,
            "display": null,
            "flex": null,
            "flex_flow": null,
            "grid_area": null,
            "grid_auto_columns": null,
            "grid_auto_flow": null,
            "grid_auto_rows": null,
            "grid_column": null,
            "grid_gap": null,
            "grid_row": null,
            "grid_template_areas": null,
            "grid_template_columns": null,
            "grid_template_rows": null,
            "height": null,
            "justify_content": null,
            "justify_items": null,
            "left": null,
            "margin": null,
            "max_height": null,
            "max_width": null,
            "min_height": null,
            "min_width": null,
            "object_fit": null,
            "object_position": null,
            "order": null,
            "overflow": null,
            "overflow_x": null,
            "overflow_y": null,
            "padding": null,
            "right": null,
            "top": null,
            "visibility": null,
            "width": null
          }
        },
        "a7268c5d50a8461eb505c826d7e7fa8f": {
          "model_module": "@jupyter-widgets/controls",
          "model_module_version": "1.5.0",
          "model_name": "DescriptionStyleModel",
          "state": {
            "_model_module": "@jupyter-widgets/controls",
            "_model_module_version": "1.5.0",
            "_model_name": "DescriptionStyleModel",
            "_view_count": null,
            "_view_module": "@jupyter-widgets/base",
            "_view_module_version": "1.2.0",
            "_view_name": "StyleView",
            "description_width": ""
          }
        },
        "a7e6451644684b0ba08b1fef97d8bffe": {
          "model_module": "@jupyter-widgets/base",
          "model_module_version": "1.2.0",
          "model_name": "LayoutModel",
          "state": {
            "_model_module": "@jupyter-widgets/base",
            "_model_module_version": "1.2.0",
            "_model_name": "LayoutModel",
            "_view_count": null,
            "_view_module": "@jupyter-widgets/base",
            "_view_module_version": "1.2.0",
            "_view_name": "LayoutView",
            "align_content": null,
            "align_items": null,
            "align_self": null,
            "border": null,
            "bottom": null,
            "display": null,
            "flex": null,
            "flex_flow": null,
            "grid_area": null,
            "grid_auto_columns": null,
            "grid_auto_flow": null,
            "grid_auto_rows": null,
            "grid_column": null,
            "grid_gap": null,
            "grid_row": null,
            "grid_template_areas": null,
            "grid_template_columns": null,
            "grid_template_rows": null,
            "height": null,
            "justify_content": null,
            "justify_items": null,
            "left": null,
            "margin": null,
            "max_height": null,
            "max_width": null,
            "min_height": null,
            "min_width": null,
            "object_fit": null,
            "object_position": null,
            "order": null,
            "overflow": null,
            "overflow_x": null,
            "overflow_y": null,
            "padding": null,
            "right": null,
            "top": null,
            "visibility": null,
            "width": null
          }
        },
        "b5c7931dc5fb471f99612f60c6b1b6e6": {
          "model_module": "@jupyter-widgets/base",
          "model_module_version": "1.2.0",
          "model_name": "LayoutModel",
          "state": {
            "_model_module": "@jupyter-widgets/base",
            "_model_module_version": "1.2.0",
            "_model_name": "LayoutModel",
            "_view_count": null,
            "_view_module": "@jupyter-widgets/base",
            "_view_module_version": "1.2.0",
            "_view_name": "LayoutView",
            "align_content": null,
            "align_items": null,
            "align_self": null,
            "border": null,
            "bottom": null,
            "display": null,
            "flex": null,
            "flex_flow": null,
            "grid_area": null,
            "grid_auto_columns": null,
            "grid_auto_flow": null,
            "grid_auto_rows": null,
            "grid_column": null,
            "grid_gap": null,
            "grid_row": null,
            "grid_template_areas": null,
            "grid_template_columns": null,
            "grid_template_rows": null,
            "height": null,
            "justify_content": null,
            "justify_items": null,
            "left": null,
            "margin": null,
            "max_height": null,
            "max_width": null,
            "min_height": null,
            "min_width": null,
            "object_fit": null,
            "object_position": null,
            "order": null,
            "overflow": null,
            "overflow_x": null,
            "overflow_y": null,
            "padding": null,
            "right": null,
            "top": null,
            "visibility": null,
            "width": null
          }
        },
        "b5ff4bccd4624e84bb0fd0a5f9039564": {
          "model_module": "@jupyter-widgets/controls",
          "model_module_version": "1.5.0",
          "model_name": "DescriptionStyleModel",
          "state": {
            "_model_module": "@jupyter-widgets/controls",
            "_model_module_version": "1.5.0",
            "_model_name": "DescriptionStyleModel",
            "_view_count": null,
            "_view_module": "@jupyter-widgets/base",
            "_view_module_version": "1.2.0",
            "_view_name": "StyleView",
            "description_width": ""
          }
        },
        "bad50a6972ba4cc89ace07948e418348": {
          "model_module": "@jupyter-widgets/controls",
          "model_module_version": "1.5.0",
          "model_name": "ProgressStyleModel",
          "state": {
            "_model_module": "@jupyter-widgets/controls",
            "_model_module_version": "1.5.0",
            "_model_name": "ProgressStyleModel",
            "_view_count": null,
            "_view_module": "@jupyter-widgets/base",
            "_view_module_version": "1.2.0",
            "_view_name": "StyleView",
            "bar_color": null,
            "description_width": ""
          }
        },
        "c2241e09ad504051a7eb87496c53f1a5": {
          "model_module": "@jupyter-widgets/controls",
          "model_module_version": "1.5.0",
          "model_name": "HTMLModel",
          "state": {
            "_dom_classes": [],
            "_model_module": "@jupyter-widgets/controls",
            "_model_module_version": "1.5.0",
            "_model_name": "HTMLModel",
            "_view_count": null,
            "_view_module": "@jupyter-widgets/controls",
            "_view_module_version": "1.5.0",
            "_view_name": "HTMLView",
            "description": "",
            "description_tooltip": null,
            "layout": "IPY_MODEL_efe083fa06ba4ef985fb8994f1b06c14",
            "placeholder": "​",
            "style": "IPY_MODEL_560a2a34c5d84469b61da36f5884a102",
            "value": " 5/5 [00:02&lt;00:00,  2.70it/s]"
          }
        },
        "c2bd8b713ab34602882409fce6ea137c": {
          "model_module": "@jupyter-widgets/base",
          "model_module_version": "1.2.0",
          "model_name": "LayoutModel",
          "state": {
            "_model_module": "@jupyter-widgets/base",
            "_model_module_version": "1.2.0",
            "_model_name": "LayoutModel",
            "_view_count": null,
            "_view_module": "@jupyter-widgets/base",
            "_view_module_version": "1.2.0",
            "_view_name": "LayoutView",
            "align_content": null,
            "align_items": null,
            "align_self": null,
            "border": null,
            "bottom": null,
            "display": null,
            "flex": null,
            "flex_flow": null,
            "grid_area": null,
            "grid_auto_columns": null,
            "grid_auto_flow": null,
            "grid_auto_rows": null,
            "grid_column": null,
            "grid_gap": null,
            "grid_row": null,
            "grid_template_areas": null,
            "grid_template_columns": null,
            "grid_template_rows": null,
            "height": null,
            "justify_content": null,
            "justify_items": null,
            "left": null,
            "margin": null,
            "max_height": null,
            "max_width": null,
            "min_height": null,
            "min_width": null,
            "object_fit": null,
            "object_position": null,
            "order": null,
            "overflow": null,
            "overflow_x": null,
            "overflow_y": null,
            "padding": null,
            "right": null,
            "top": null,
            "visibility": null,
            "width": null
          }
        },
        "c5cf507b895043df88478cb0b36c88c8": {
          "model_module": "@jupyter-widgets/controls",
          "model_module_version": "1.5.0",
          "model_name": "FloatProgressModel",
          "state": {
            "_dom_classes": [],
            "_model_module": "@jupyter-widgets/controls",
            "_model_module_version": "1.5.0",
            "_model_name": "FloatProgressModel",
            "_view_count": null,
            "_view_module": "@jupyter-widgets/controls",
            "_view_module_version": "1.5.0",
            "_view_name": "ProgressView",
            "bar_style": "success",
            "description": "",
            "description_tooltip": null,
            "layout": "IPY_MODEL_810c4546e9a54279a0169a8f219921d1",
            "max": 5,
            "min": 0,
            "orientation": "horizontal",
            "style": "IPY_MODEL_4a5f6116b4504b79845fe0f024f76045",
            "value": 5
          }
        },
        "c804100a751046b880c6f3d351fa8bc7": {
          "model_module": "@jupyter-widgets/controls",
          "model_module_version": "1.5.0",
          "model_name": "FloatProgressModel",
          "state": {
            "_dom_classes": [],
            "_model_module": "@jupyter-widgets/controls",
            "_model_module_version": "1.5.0",
            "_model_name": "FloatProgressModel",
            "_view_count": null,
            "_view_module": "@jupyter-widgets/controls",
            "_view_module_version": "1.5.0",
            "_view_name": "ProgressView",
            "bar_style": "success",
            "description": "",
            "description_tooltip": null,
            "layout": "IPY_MODEL_fee7a9b53c43490ea51965ec41493e32",
            "max": 5,
            "min": 0,
            "orientation": "horizontal",
            "style": "IPY_MODEL_2b0d37003ffd4f548bb493ff2f96fd40",
            "value": 5
          }
        },
        "ce145570f63f4e63b9e36c2dd5e50392": {
          "model_module": "@jupyter-widgets/controls",
          "model_module_version": "1.5.0",
          "model_name": "ProgressStyleModel",
          "state": {
            "_model_module": "@jupyter-widgets/controls",
            "_model_module_version": "1.5.0",
            "_model_name": "ProgressStyleModel",
            "_view_count": null,
            "_view_module": "@jupyter-widgets/base",
            "_view_module_version": "1.2.0",
            "_view_name": "StyleView",
            "bar_color": null,
            "description_width": ""
          }
        },
        "d78d5b3f146f4604a78c08caae41b4d3": {
          "model_module": "@jupyter-widgets/base",
          "model_module_version": "1.2.0",
          "model_name": "LayoutModel",
          "state": {
            "_model_module": "@jupyter-widgets/base",
            "_model_module_version": "1.2.0",
            "_model_name": "LayoutModel",
            "_view_count": null,
            "_view_module": "@jupyter-widgets/base",
            "_view_module_version": "1.2.0",
            "_view_name": "LayoutView",
            "align_content": null,
            "align_items": null,
            "align_self": null,
            "border": null,
            "bottom": null,
            "display": null,
            "flex": null,
            "flex_flow": null,
            "grid_area": null,
            "grid_auto_columns": null,
            "grid_auto_flow": null,
            "grid_auto_rows": null,
            "grid_column": null,
            "grid_gap": null,
            "grid_row": null,
            "grid_template_areas": null,
            "grid_template_columns": null,
            "grid_template_rows": null,
            "height": null,
            "justify_content": null,
            "justify_items": null,
            "left": null,
            "margin": null,
            "max_height": null,
            "max_width": null,
            "min_height": null,
            "min_width": null,
            "object_fit": null,
            "object_position": null,
            "order": null,
            "overflow": null,
            "overflow_x": null,
            "overflow_y": null,
            "padding": null,
            "right": null,
            "top": null,
            "visibility": null,
            "width": null
          }
        },
        "d8e5f48f3f7840e0b838df80f9d07527": {
          "model_module": "@jupyter-widgets/controls",
          "model_module_version": "1.5.0",
          "model_name": "FloatProgressModel",
          "state": {
            "_dom_classes": [],
            "_model_module": "@jupyter-widgets/controls",
            "_model_module_version": "1.5.0",
            "_model_name": "FloatProgressModel",
            "_view_count": null,
            "_view_module": "@jupyter-widgets/controls",
            "_view_module_version": "1.5.0",
            "_view_name": "ProgressView",
            "bar_style": "success",
            "description": "",
            "description_tooltip": null,
            "layout": "IPY_MODEL_111db982b6c34747bd360624ea4cbe5e",
            "max": 5,
            "min": 0,
            "orientation": "horizontal",
            "style": "IPY_MODEL_295b69341c314474acc9de4eaab35361",
            "value": 5
          }
        },
        "daeabfc06460439ebde9fb9436ff244a": {
          "model_module": "@jupyter-widgets/controls",
          "model_module_version": "1.5.0",
          "model_name": "HTMLModel",
          "state": {
            "_dom_classes": [],
            "_model_module": "@jupyter-widgets/controls",
            "_model_module_version": "1.5.0",
            "_model_name": "HTMLModel",
            "_view_count": null,
            "_view_module": "@jupyter-widgets/controls",
            "_view_module_version": "1.5.0",
            "_view_name": "HTMLView",
            "description": "",
            "description_tooltip": null,
            "layout": "IPY_MODEL_d78d5b3f146f4604a78c08caae41b4d3",
            "placeholder": "​",
            "style": "IPY_MODEL_fa4d09ebbd604480bb7cfeaf6bcb4a2b",
            "value": "100%"
          }
        },
        "e950ba6862394e4483a706a568dcf3cb": {
          "model_module": "@jupyter-widgets/controls",
          "model_module_version": "1.5.0",
          "model_name": "HTMLModel",
          "state": {
            "_dom_classes": [],
            "_model_module": "@jupyter-widgets/controls",
            "_model_module_version": "1.5.0",
            "_model_name": "HTMLModel",
            "_view_count": null,
            "_view_module": "@jupyter-widgets/controls",
            "_view_module_version": "1.5.0",
            "_view_name": "HTMLView",
            "description": "",
            "description_tooltip": null,
            "layout": "IPY_MODEL_9209dbaeba4941a5841cc1ca3a4ae845",
            "placeholder": "​",
            "style": "IPY_MODEL_4b58dbaea1e64cc0887d32810f0b2994",
            "value": "100%"
          }
        },
        "efe083fa06ba4ef985fb8994f1b06c14": {
          "model_module": "@jupyter-widgets/base",
          "model_module_version": "1.2.0",
          "model_name": "LayoutModel",
          "state": {
            "_model_module": "@jupyter-widgets/base",
            "_model_module_version": "1.2.0",
            "_model_name": "LayoutModel",
            "_view_count": null,
            "_view_module": "@jupyter-widgets/base",
            "_view_module_version": "1.2.0",
            "_view_name": "LayoutView",
            "align_content": null,
            "align_items": null,
            "align_self": null,
            "border": null,
            "bottom": null,
            "display": null,
            "flex": null,
            "flex_flow": null,
            "grid_area": null,
            "grid_auto_columns": null,
            "grid_auto_flow": null,
            "grid_auto_rows": null,
            "grid_column": null,
            "grid_gap": null,
            "grid_row": null,
            "grid_template_areas": null,
            "grid_template_columns": null,
            "grid_template_rows": null,
            "height": null,
            "justify_content": null,
            "justify_items": null,
            "left": null,
            "margin": null,
            "max_height": null,
            "max_width": null,
            "min_height": null,
            "min_width": null,
            "object_fit": null,
            "object_position": null,
            "order": null,
            "overflow": null,
            "overflow_x": null,
            "overflow_y": null,
            "padding": null,
            "right": null,
            "top": null,
            "visibility": null,
            "width": null
          }
        },
        "fa4d09ebbd604480bb7cfeaf6bcb4a2b": {
          "model_module": "@jupyter-widgets/controls",
          "model_module_version": "1.5.0",
          "model_name": "DescriptionStyleModel",
          "state": {
            "_model_module": "@jupyter-widgets/controls",
            "_model_module_version": "1.5.0",
            "_model_name": "DescriptionStyleModel",
            "_view_count": null,
            "_view_module": "@jupyter-widgets/base",
            "_view_module_version": "1.2.0",
            "_view_name": "StyleView",
            "description_width": ""
          }
        },
        "fb87df90c6754443b848d2906b70c20c": {
          "model_module": "@jupyter-widgets/controls",
          "model_module_version": "1.5.0",
          "model_name": "HBoxModel",
          "state": {
            "_dom_classes": [],
            "_model_module": "@jupyter-widgets/controls",
            "_model_module_version": "1.5.0",
            "_model_name": "HBoxModel",
            "_view_count": null,
            "_view_module": "@jupyter-widgets/controls",
            "_view_module_version": "1.5.0",
            "_view_name": "HBoxView",
            "box_style": "",
            "children": [
              "IPY_MODEL_897d441504394c13be74d6527d43e2ad",
              "IPY_MODEL_c5cf507b895043df88478cb0b36c88c8",
              "IPY_MODEL_34cf46270d844b4e9d9de27d9437a0bf"
            ],
            "layout": "IPY_MODEL_95fc5b04e9174cda9e6ba8859355eac2"
          }
        },
        "fd2e438e8b4a47928e8d42476dca5c6a": {
          "model_module": "@jupyter-widgets/controls",
          "model_module_version": "1.5.0",
          "model_name": "HTMLModel",
          "state": {
            "_dom_classes": [],
            "_model_module": "@jupyter-widgets/controls",
            "_model_module_version": "1.5.0",
            "_model_name": "HTMLModel",
            "_view_count": null,
            "_view_module": "@jupyter-widgets/controls",
            "_view_module_version": "1.5.0",
            "_view_name": "HTMLView",
            "description": "",
            "description_tooltip": null,
            "layout": "IPY_MODEL_b5c7931dc5fb471f99612f60c6b1b6e6",
            "placeholder": "​",
            "style": "IPY_MODEL_75aa20be4912412b9326ad4fd175e94c",
            "value": " 5/5 [00:02&lt;00:00,  2.70it/s]"
          }
        },
        "fd55d9ea99994dbe9fcbde47912f6d3c": {
          "model_module": "@jupyter-widgets/controls",
          "model_module_version": "1.5.0",
          "model_name": "DescriptionStyleModel",
          "state": {
            "_model_module": "@jupyter-widgets/controls",
            "_model_module_version": "1.5.0",
            "_model_name": "DescriptionStyleModel",
            "_view_count": null,
            "_view_module": "@jupyter-widgets/base",
            "_view_module_version": "1.2.0",
            "_view_name": "StyleView",
            "description_width": ""
          }
        },
        "fee7a9b53c43490ea51965ec41493e32": {
          "model_module": "@jupyter-widgets/base",
          "model_module_version": "1.2.0",
          "model_name": "LayoutModel",
          "state": {
            "_model_module": "@jupyter-widgets/base",
            "_model_module_version": "1.2.0",
            "_model_name": "LayoutModel",
            "_view_count": null,
            "_view_module": "@jupyter-widgets/base",
            "_view_module_version": "1.2.0",
            "_view_name": "LayoutView",
            "align_content": null,
            "align_items": null,
            "align_self": null,
            "border": null,
            "bottom": null,
            "display": null,
            "flex": null,
            "flex_flow": null,
            "grid_area": null,
            "grid_auto_columns": null,
            "grid_auto_flow": null,
            "grid_auto_rows": null,
            "grid_column": null,
            "grid_gap": null,
            "grid_row": null,
            "grid_template_areas": null,
            "grid_template_columns": null,
            "grid_template_rows": null,
            "height": null,
            "justify_content": null,
            "justify_items": null,
            "left": null,
            "margin": null,
            "max_height": null,
            "max_width": null,
            "min_height": null,
            "min_width": null,
            "object_fit": null,
            "object_position": null,
            "order": null,
            "overflow": null,
            "overflow_x": null,
            "overflow_y": null,
            "padding": null,
            "right": null,
            "top": null,
            "visibility": null,
            "width": null
          }
        },
        "ff10c7e80e604bf9934af3d6c87b3d69": {
          "model_module": "@jupyter-widgets/controls",
          "model_module_version": "1.5.0",
          "model_name": "ProgressStyleModel",
          "state": {
            "_model_module": "@jupyter-widgets/controls",
            "_model_module_version": "1.5.0",
            "_model_name": "ProgressStyleModel",
            "_view_count": null,
            "_view_module": "@jupyter-widgets/base",
            "_view_module_version": "1.2.0",
            "_view_name": "StyleView",
            "bar_color": null,
            "description_width": ""
          }
        }
      }
    }
  },
  "nbformat": 4,
  "nbformat_minor": 0
}
