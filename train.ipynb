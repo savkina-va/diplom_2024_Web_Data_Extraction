{
  "cells": [
    {
      "cell_type": "markdown",
      "metadata": {
        "colab_type": "text",
        "id": "view-in-github"
      },
      "source": [
        "<a href=\"https://colab.research.google.com/github/NielsRogge/Transformers-Tutorials/blob/master/MarkupLM/Fine_tune_MarkupLMForTokenClassification_on_a_custom_dataset.ipynb\" target=\"_parent\"><img src=\"https://colab.research.google.com/assets/colab-badge.svg\" alt=\"Open In Colab\"/></a>"
      ]
    },
    {
      "cell_type": "markdown",
      "metadata": {
        "id": "dUVFZhSGHm9a"
      },
      "source": [
        "## Set-up environment\n",
        "\n",
        "First, we install 🤗 Transformers.\n",
        "\n",
        "We also install 🤗 Evaluate and Seqeval, for computing metrics like F1, recall and precision."
      ]
    },
    {
      "cell_type": "code",
      "execution_count": 1,
      "metadata": {},
      "outputs": [],
      "source": [
        "import os\n",
        "\n",
        "os.environ['CUDA_VISIBLE_DEVICES'] = '1'\n",
        "\n",
        "import torch\n",
        "device = torch.device(\"cuda\" if torch.cuda.is_available() else \"cpu\")"
      ]
    },
    {
      "cell_type": "code",
      "execution_count": 2,
      "metadata": {},
      "outputs": [
        {
          "name": "stdout",
          "output_type": "stream",
          "text": [
            "1\n"
          ]
        }
      ],
      "source": [
        "\n",
        "print(torch.cuda.device_count())"
      ]
    },
    {
      "cell_type": "markdown",
      "metadata": {
        "id": "MdzHRuE8HoQ3"
      },
      "source": [
        "## Prepare dataset\n",
        "\n",
        "Next, let's load a toy dataset which we'll use to fine-tune MarkupLM on.\n",
        "\n",
        "The goal for the model is to label nodes of HTML strings with the appropriate class."
      ]
    },
    {
      "cell_type": "code",
      "execution_count": 3,
      "metadata": {},
      "outputs": [],
      "source": [
        "import numpy as np\n",
        "\n",
        "def sample_websites(dataset, k, seed):\n",
        "    all_websites = list(dataset.keys())\n",
        "    training_websites = np.random.choice(all_websites, size=k, replace=False)\n",
        "    print(training_websites)\n",
        "\n",
        "    train = []\n",
        "    valid = []\n",
        "    for website in all_websites:\n",
        "        if website in training_websites:\n",
        "            train += dataset[website]\n",
        "        else:\n",
        "            valid += dataset[website]\n",
        "    \n",
        "    return train, valid"
      ]
    },
    {
      "cell_type": "code",
      "execution_count": 4,
      "metadata": {},
      "outputs": [
        {
          "name": "stdout",
          "output_type": "stream",
          "text": [
            "['jr' 'newegg' 'amazon' 'buy' 'beachaudio']\n"
          ]
        }
      ],
      "source": [
        "import json\n",
        "\n",
        "with open(\"/home/savkin/vera/all_camera_datasets_merged.json\", \"r\") as file:\n",
        "    data = json.load(file)\n",
        "\n",
        "train_data, valid_data = sample_websites(data, k=5, seed=0)"
      ]
    },
    {
      "cell_type": "code",
      "execution_count": 5,
      "metadata": {},
      "outputs": [
        {
          "name": "stdout",
          "output_type": "stream",
          "text": [
            "{'nodes': [['document.domain = \"buy.com\";', '//<![CDATA[\\n\\tif ((/[?&]ic=1/i).test(window.location.search))\\n\\t\\tdocument.cookie = \"classicsticky=1; path=/; domain=buy.com;\";\\n\\n\\tif (!(/classicsticky=1/).test(document.cookie)) {\\n\\t\\tvar uaCheck = navigator.userAgent.toLowerCase();\\n\\t\\tvar pgCheck = location.href.toLowerCase();\\n\\n\\t\\tif ((uaCheck.indexOf(\"iphone\") > -1) || (uaCheck.indexOf(\"ipod\") > -1) || (uaCheck.indexOf(\"android\") > -1) || (uaCheck.indexOf(\"blackberry\") > -1) || (uaCheck.indexOf(\"midp\") > -1) || (uaCheck.indexOf(\"cldc\") > -1) || (uaCheck.indexOf(\"windows ce\") > -1)) {\\n\\t\\t\\tif (pgCheck.indexOf(\"usersearchresults\") > -1 || pgCheck.indexOf(\"/umerch/\") > -1) {\\n\\t\\t\\t\\tif (pgCheck.indexOf(\"qu=\") > -1) {\\n\\t\\t\\t\\t    window.location = \\'http://mobile.buy.com/ibuy/SearchProducts.aspx?pg=0&s=\\';\\n\\t\\t\\t\\t} else {\\n\\t\\t\\t\\t\\twindow.location = \\'http://mobile.buy.com/ibuy/\\';\\n\\t\\t\\t\\t}\\n\\t\\t\\t} else if (pgCheck.indexOf(\"/prod/\") > -1 || pgCheck.indexOf(\"product.asp\") > -1) {\\n\\t\\t\\t\\twindow.location = \\'http://mobile.buy.com/ibuy/ProductDetail.aspx?loc=33409&sku=217127211\\';\\n\\t\\t\\t} else if (pgCheck.indexOf(\"/todaysdeals/\") > -1) {\\n\\t\\t\\twindow.location = \\'http://mobile.buy.com/ibuy/TodaysDeals.aspx?loc=14982&pg=0\\';\\n\\t\\t\\t} else if (pgCheck.indexOf(\"/weekly_deals/\") > -1) {\\n\\t\\t\\twindow.location = \\'http://mobile.buy.com/ibuy/Specials.aspx?loc=62329&pg=0\\';\\n\\t\\t\\t} else if (pgCheck.indexOf(\"/shakin/\") > -1) {\\n\\t\\t\\t\\twindow.location = \\'http://mobile.buy.com/ibuy/WhatsShakin.aspx\\';\\n\\t\\t\\t}\\n\\t\\t}\\n\\t}\\n//]]>', '//<![CDATA[\\n    function amznQtyChecker(idType, id) {\\n        if (idType == \"true\" || idType == \"True\") {\\n            { GetAMZN(\\'\\', id, 1) };\\n        }\\n        else if (document.getElementById(\"qty\")) {\\n            if (document.getElementById(\"qty\").value > 0) {\\n                { GetAMZN(id, \\'\\', document.getElementById(\"qty\").value) };\\n            }\\n        }\\n    }\\n\\n    OAS_rn = new String(Math.random());\\n    OAS_rns = \\'1\\' + OAS_rn.substring(2, 11);\\n    OAS_version = 10;\\n //]]>', 'if (BrowserDetect.browser == \"Explorer\" && BrowserDetect.version == \"7\") {\\n        $(function() {\\n            var zIndexNumber = 1000000;\\n            $(\\'div\\').each(function() {\\n                $(this).css(\\'zIndex\\', zIndexNumber);\\n                zIndexNumber -= 10;\\n            });\\n        });\\n    }', '<!-- // Visual basic helper required to detect Flash Player ActiveX control version information\\n        Function VBGetSwfVer(i)\\n          on error resume next\\n          Dim swControl, swVersion\\n          swVersion = 0\\n\\n          set swControl = CreateObject(\"ShockwaveFlash.ShockwaveFlash.\" + CStr(i))\\n          if (IsObject(swControl)) then\\n            swVersion = swControl.GetVariable(\"$version\")\\n          end if\\n          VBGetSwfVer = swVersion\\n        End Function\\n        // -->', 'Buy.com - Canon PowerShot SX130 IS 12 Megapixel Digital Camera with 12x Optical Zoom, 3\" LCD, Optical Image Stabilizer, PictBridge, Blink Detection, Black', 'Start of DoubleClick Floodlight Tag: Please do not remove\\n    Activity name of this tag: Freedom Buy.com\\n    URL of the webpage where the tag is expected to be placed: http://www.chasefreedomnow.com/buy\\n    This tag must be placed between the <body> and </body> tags, as close as possible to the opening tag.\\n    Creation Date: 05/20/2010', 'var axel = Math.random() + \"\";\\n        var a = axel * 10000000000000;\\n        document.write(\\'<iframe src=\"http://fls.doubleclick.net/activityi;src=2299144;type=newco086;cat=freed780;ord=1;num=\\' + a + \\'?\" width=\"1\" height=\"1\" frameborder=\"0\"></iframe>\\');', 'End of DoubleClick Floodlight Tag: Please do not remove', '// <![CDATA[\\n\\t    //if(GetCookie(\"BrowserClient\") != \"Safari\") \\n\\t    //{\\n\\n\\t    function deleteBasketCookie(days) {\\n\\t        var date = new Date();\\n\\t        date.setTime(date.getTime() + (days * 24 * 60 * 60 * 1000));\\n\\t        var expires = \"; expires=\" + date.toGMTString();\\n\\t        document.cookie = \"ShopperManager%2F=\" + expires + \"; domain=buy.com; path=/\";\\n\\t        document.cookie = \"BuyShopperID=\" + expires + \"; domain=buy.com; path=/\";\\n\\t        document.cookie = \"buyname=\" + expires + \"; domain=buy.com; path=/\";\\n\\t        window.location.href = \"https://ssl.buy.com/AC/loginAccount.aspx?ReturnUrl=myaccount.aspx\";\\n\\t    }\\n\\n\\t    function formatCustomerName(name, length) {\\n\\t        var atSymbolIndex = name.indexOf(\"@\");\\n\\n\\t        if (atSymbolIndex != -1) {\\n\\t            name = name.substring(0, atSymbolIndex);\\n\\t        }\\n\\n\\t        if (name.length > length)\\n\\t            name = name.substring(0, length);\\n\\n\\t        return name;\\n\\t    }\\n\\n\\t    if (GetCookie(\\'GuestBasketSession\\') != \\'null\\') {\\n\\t        document.write(\\'<p><span><b>Hello, <A href=\\\\\"https://ssl.buy.com/AC/loginAccount.aspx?ReturnUrl=myaccount.aspx\\\\\" target=\\\\\"_top\\\\\">Guest!</a></b>\\xa0</span>\\');\\n\\t    }\\n\\t    else if (GetCookie(\\'buyname\\') != \\'null\\') {\\n\\t        document.write(\\'<p><span><b>Hello, <A href=\\\\\"https://ssl.buy.com/AC/MyAccount.aspx\\\\\"target=\\\\\"_top\\\\\">\\' + formatCustomerName(GetCookie(\\'buyname\\'), 9) + \\'!</a></b>\\xa0</span>\\');\\n\\t    }\\n\\t    else {\\n\\t        document.write(\\'<p><span><b>Hello, <A href=\\\\\"https://ssl.buy.com/AC/loginAccount.aspx?ReturnUrl=myaccount.aspx\\\\\"target=\\\\\"_top\\\\\">Sign In</a>!</b>\\xa0</span>\\');\\n\\t    }\\n\\t    //}\\t\\t\\t\\n\\t    // ]]>', 'Track Your Order', '|', 'My Account', '|', 'Wishlist', '|', 'Help', '|', '// <![CDATA[\\n\\t\\t\\t\\t\\t    function formatCustomerName(name, length) {\\n\\t\\t\\t\\t\\t        var atSymbolIndex = name.indexOf(\"@\");\\n\\n\\t\\t\\t\\t\\t        if (atSymbolIndex != -1) {\\n\\t\\t\\t\\t\\t            name = name.substring(0, atSymbolIndex);\\n\\t\\t\\t\\t\\t        }\\n\\n\\t\\t\\t\\t\\t        if (name.length > length)\\n\\t\\t\\t\\t\\t            name = name.substring(0, length);\\n\\n\\t\\t\\t\\t\\t        return name;\\n\\t\\t\\t\\t\\t    }\\n\\n\\t\\t\\t\\t\\t    var HeaderCartInfo, HeaderCartData;\\n\\t\\t\\t\\t\\t    HeaderCartInfo = GetCookie(\\'headerTotal\\');\\n\\t\\t\\t\\t\\t    HeaderCartData = HeaderCartInfo.split(\"|\");\\n\\n\\t\\t\\t\\t\\t    if (mac && navigator.userAgent.indexOf(\"MSIE\") > -1) {\\n\\n\\t\\t\\t\\t\\t    } else {\\n\\t\\t\\t\\t\\t        if (HeaderCartInfo != \"null\" && HeaderCartData[1] != 0) {\\n\\t\\t\\t\\t\\t            document.write(\\'<a href=\"http://checkout.buy.com/CO/Basket/basketView.aspx\"><img src=\"http://ak.buy.com/buy_assets/v8/header/cart.png\" border=\"0\" height=\"13\"> <span class=\"itemNumber\">(\\' + HeaderCartData[1] + \\')</span></a>\\');\\n\\t\\t\\t\\t\\t        } else {\\n\\t\\t\\t\\t\\t        document.write(\\'<a href=\"http://checkout.buy.com/CO/Basket/basketView.aspx\"><img src=\"http://ak.buy.com/buy_assets/v8/header/cart.png\" border=\"0\" height=\"13\"></a>\\');\\n\\t\\t\\t\\t\\t        }\\n\\t\\t\\t\\t\\t    }\\n\\t\\t\\t\\t\\t    // ]]>', '|', 'Follow Us...', 'accountNav', 'All Products', 'Books, Movies/TV & Music', 'Books', 'Fiction', 'Non-Fiction', 'Young Adult', 'Calendars', 'Bestsellers', 'Pre-Orders', 'New Releases', 'Shop All Books', 'Movies & Television', 'Blu-ray', 'TV', 'Pre-Orders', 'New Releases', 'Shop All Movies & TV', 'Music', 'New Releases', 'Top Sellers', 'Pop/Rock', 'Country', 'Shop All Genres', 'Books, Movies/TV & Music', 'Clothing, Shoes & Jewelry', 'Clothing', 'Tees', 'Sweatshirts', 'Outerwear', 'Denim', 'Dresses', \"Children's Clothing\", 'Clothing Accessories', 'Shop All Clothing', 'Shoes', 'Athletic Shoes', 'Dress Shoes', 'Boots', \"Children's Shoes\", 'Shop All Shoes', 'Jewelry and Watches', \"Women's Watches\", \"Men's Watches\", 'Bracelets', 'Necklaces', 'Rings', 'Shop All Jewelry', 'Bags and Luggage', 'Laptop Backpacks', 'Computer Cases', 'Camera Cases', 'Luggage', 'Shop All Bags and Luggage', 'Clothing, Shoes & Jewelry', 'Computers & Office', 'See all in Computers', 'Computer Systems', 'Notebooks', 'Desktops', 'Netbooks', 'Gaming', 'Computer Components', 'Processors', 'Motherboards', 'Memory', 'Video Cards', 'Hard Drives', 'Solid State Drives', 'Power Supply', 'Cases', 'Sound Cards', 'Cooling', 'Flash Memory', 'USB Flash Drive', 'Secure Digital SD', 'microSD Card', 'CompactFlash', 'Memory Stick', 'Solid State Drives', 'Card Reader', 'Monitors', 'LCD', 'LED', 'Large Format', 'Hard Drives', 'Desktop Hard Drive', 'Portable Hard Drive', 'NAS', 'Internal', 'Deals', 'Networking', 'Wireless Routers', 'Wireless Adapters', 'Switches', 'Network Storage', 'Network Cameras', 'Powerline', 'Computer Accessories', 'Keyboard/Mice', 'Webcams', 'Computer Speakers', 'Laptop Cases', 'Optical Media & Drives', 'Cables & Interconnects', 'Printers', 'Wireless', 'Inkjet Multifunction', 'Photo Printers', 'Color Laser Printers', 'B/W Laser Printers', 'Label Printers', 'Scanners', 'Large Format Printers', 'Software', 'Security', 'Graphics', 'Multimedia', 'Business', 'Apple Software', 'Gaming', 'Office Supplies', 'Computers & Office', 'Electronics', 'See all in Electronics', 'Cameras', 'Digital Point and Shoot', 'Digital SLR', 'HD Camcorders', 'Shoot & Share', 'Digital Camcorders', 'Photo Printers', 'Webcams', 'Accessories', 'TV & HDTV', 'LED TV', 'LCD TV', 'Plasma TV', '3DTV', 'Projection TV', 'Hot TV Deals', 'Blu-ray Players', 'Portable DVD Players', 'Personal Electronics', 'MP3 Players', 'eReaders', 'Cell Phones', 'Bluetooth', 'Bluetooth Speakerphones', 'Bluetooth Stereo', '2-Way Radios', 'Headphones', 'Home Audio', 'Cables', 'Home Theater', 'Sound Bars', 'Receivers', 'Speakers', 'Internet Radio', 'electronics', 'Gift Cards', 'See all in Gift Cards', 'Buy.com Gift Card', 'Dining', 'Entertainment', 'Fashion', 'Home Improvement', 'Sporting', 'Musical Instruments', 'Home, Sports & Pets', 'Home & Outdoor', 'Appliances', 'Furniture & Décor', 'Kitchen & Dining', 'Patio & Garden', 'Tools & Home Improvement', 'Bed & Bath', 'Pet Supplies', 'Apparel', 'Beds, Carriers & Furniture', 'Collars, Harnesses & Leashes', 'Feeding & Watering Supplies', 'Flea & Tick Control', 'Food & Treats', 'Health Care & Grooming', 'Toys', 'Training Aids', 'Shop all Pet Supplies', 'Sporting Goods', 'Fitness', 'Basketball', 'Football', 'Baseball', 'Hunting', 'Skiing', 'Snowboarding', 'Camping', 'Yoga', 'Indoor Games', 'Shop All Sporting Goods', 'Home, outdoor and pets', 'Household, Health & Beauty', 'Household Essentials', 'Free Shipping on any 6 items from Alice', 'Bath and Shower Supplies', 'Nursery and Kids', 'Pet Supplies', 'Cleaning Supplies', 'Kitchen', 'Laundry Supplies', 'Medicine', 'Shop all Household Essentials', 'Health and Beauty', 'Fragrance', \"Men's Grooming\", 'Hair Care', 'Skin Care', 'Oral Care', 'Makeup and Cosmetics', 'Nail care', 'Shop all Health and Beauty', 'Health & Beauty', 'Musical Instruments', 'See all in Musical Instruments', 'Drums & Drum Sets', 'Guitars', 'Keyboards & Pianos', 'Turntables', 'Subwoofers', 'Speakers', 'Bags, Cases & Covers', 'Cables & Adapters', 'Instruments for Kids', 'Musical Instruments', 'Toys & Baby', 'Toys', 'Action Figures', 'Arts and Crafts', 'Games and Puzzles', 'Building Sets and Blocks', 'Riding Toys', 'Baby Toys', 'Learning and Exploration', 'Dolls and Stuffed Animals', 'Outdoor Play', 'Shop all Toys', 'Baby', 'Car Seats', 'Strollers and Joggers', 'Furniture', 'Activity', 'Feeding and Nursing', 'Health and Safety', 'Bath and Potty', 'Shop all Baby', 'Toys & Baby', 'Video Games', 'See all in Video Games', 'Xbox 360', 'PlayStation 3', 'Wii', 'PC Games', 'Nintendo DS', 'PSP', 'New Releases', 'Coming Soon', 'Top Sellers', 'Video Games', 'Everything Else', 'See all in Everything Else', 'Crafts', 'Food and Gourmet', 'Sports Memorabilia', 'Stamps', 'Sell on Buy', 'everything else', 'Deals', 'Holiday Specials', \"Today's Deals\", \"What's Shakin'\", 'Weekly Deals', 'Weekend Deals', 'BuyTV', 'BuyTV Reviews', 'Spotlight Videos', 'Trailers', 'News & Reviews', 'News & Blogs', 'Tech Reviews', 'Entertainment Reviews', 'navlist', 'nav', 'All Categories', 'Baby', 'Bags', 'Books', 'Cell Phones', 'Clothing and Shoes', 'Computers', 'Costumes', 'Digital Cameras', 'Electronics', 'Everything Else', 'Finance', 'Health and Beauty', 'Home and Outdoor', 'Jewelry and Watches', 'Movies and TV', 'Music', 'Musical Instruments', 'Networking', 'Office Supplies', 'Pet Supplies', 'Software', 'Sports', 'Toys', 'TV and HDTV', 'Video Games', 'Search by Keyword or Item#', 'if(!(/searchLayout=1/).test(document.cookie))\\n\\tdocument.forms[\"searchbox\"].display.value = \"col\";', '//placeholder logic:\\n(function(){\\n\\tvar $qu = $(document.forms[\"searchbox\"].qu);\\n\\tvar $placeHolder = $(\"#placeHolder\");\\n\\tfunction $clearquwm() { $qu.css(\"background-color\", \"#ffffff\"); }\\n\\tfunction $showquwm() { if ($qu.val() === \"\") $qu.css(\"background-color\", \"transparent\"); }\\n\\tfunction $plchldc() { $clearquwm(); $qu.focus(); }\\n\\t$qu.focus($clearquwm).bind(\"dragenter\", $clearquwm).bind(\"drop\", $clearquwm);\\n\\t$placeHolder.click($plchldc);\\n\\t$qu.blur($showquwm).bind(\"dragleave\", $showquwm).bind(\"dragend\", function() { window.setTimeout($showquwm,1); })\\n\\tif($qu.val() !== \"\") $clearquwm();\\n\\t$(function() { if($qu.val() !== \"\" && $qu.css(\"background-color\") !== \"#ffffff\") $clearquwm(); });\\n})();', 'BUY.autocomplete.init(document.forms[\"searchbox\"], \"http://www.buy.com\");', 'searchBar', 'navSearchCartContainer', 'Digital Cameras', \"Today's Deals\", 'Shop by Brand', 'Trade In & Save!', 'Rebate Center', 'headerContainer', \"//<![CDATA[\\nvar theForm = document.forms['product'];\\nif (!theForm) {\\n    theForm = document.product;\\n}\\nfunction __doPostBack(eventTarget, eventArgument) {\\n    if (!theForm.onsubmit || (theForm.onsubmit() != false)) {\\n        theForm.__EVENTTARGET.value = eventTarget;\\n        theForm.__EVENTARGUMENT.value = eventArgument;\\n        theForm.submit();\\n    }\\n}\\n//]]>\", \"//<![CDATA[\\nif (typeof(Sys) === 'undefined') throw new Error('ASP.NET Ajax client-side framework failed to load.');\\n//]]>\", 'var vsr_show_smart_button = false;\\n            \\n             var vsr_sku=\\'217127211\\';\\n             var vsr_button_url=\\'http://ak.buy.com/buy_assets/buttons/2008/btn_SP_demo.gif\\';\\n             var vsr_button_text=\\'\\';\\n\\n             // These are optional\\n             var vsr_shopping_cart=\\'\\';\\n             var vsr_price=\\'\\';\\n             var vsr_stock=\\'\\';\\n             var vsr_call_back=\\'\\';\\n\\n             function show_vsr_button()\\n             {\\n             var sButtonOrTxt = \\'\\';\\n             \\n \\t            if(! isNotDefinedTentoe(vsr_button_url))\\n \\t\\t            sButtonOrTxt = \\'<img src=\"\\'+ vsr_button_url +\\'\" border=\"0\" alt=\"Sellpoint Demo\">\\';\\n \\t            else if(! isNotDefinedTentoe(vsr_button_text))\\n \\t\\t            sButtonOrTxt = vsr_button_text;\\n             \\n               if(vsr_show_smart_button)\\n\\t                document.writeln(\\'\\xa0<a href=\"javascript:openTentoeVsrWin()\">\\'+ sButtonOrTxt +\\'</a>\\');\\n             }\\n\\n             function openTentoeVsrWin()\\n            {\\n              var vsr_server = \\'syndicate.sellpoint.net\\';\\n              var ttpid = \\'TTPID-D6-98\\'\\n              \\n\\t             var sVsrParams = \\'ttpid=\\'+ ttpid\\n\\t              + appendToUrlTentoe(\\'vsr_sku\\', vsr_sku)\\n\\t\\t            + appendToUrlTentoe(\\'vsr_price\\', vsr_price)\\n\\t\\t            + appendToUrlTentoe(\\'vsr_stock\\', vsr_stock)\\n\\t\\t            + appendToUrlTentoe(\\'vsr_shopping_cart\\', vsr_shopping_cart)\\n\\t\\t            + appendToUrlTentoe(\\'vsr_call_back\\', vsr_call_back);\\n\\n\\t            var sLink = \\'http://\\'+ vsr_server +\\'/Syndicate/SynMaster?\\'+ sVsrParams +\\'&ParentUrl=\\' + escape(window.location.href);\\n\\t            window.open(sLink,\\'_blank\\', \\'width=536,height=525,scrollbars=no,toolbar=no,personalbar=no,statusbar=no,directories=no,location=no,resizable=no,menubar=no,locationbar=no\\');\\n            }\\n\\n            function appendToUrlTentoe(sName, sValue)\\n            {\\n\\t            return isNotDefinedTentoe(sValue) ? \\'\\' : (\\'&\\'+ sName +\\'=\\' + escape(sValue));\\n            }\\n\\n            function isNotDefinedTentoe(sValue)\\n            {\\n\\t            if(sValue == null || typeof(sValue) == \\'undefined\\' || trimString(sValue).length == 0)\\n\\t\\t            return true;\\n            \\t\\n\\t            return false;\\n            }\\n\\n            function trimString(sString)\\n            {\\n\\t            return sString.replace(/^\\\\s*|\\\\s*$/g,\\'\\');\\n            }', 'function BVQADisplayed(questionCount, answerCount) {\\n\\t\\t            // Any custom items leveraging these values.\\n\\t\\t        }', 'Canon PowerShot SX130 IS 12 Megapixel Digital Camera with 12x Optical Zoom, 3\" LCD, Optical Image Stabilizer, PictBridge, Blink Detection, Black', '- 4345B001', 'Sorry, this selection is currently unavailable.', 'Earn 179', 'Super Points!*', 'Write a Review', 'enlarge\\xa0image', 'Write a Review', 'Write a Review', 'Images', 'See more in', '12 Megapixel', 'Share this Product', 'more', 'close', 'Digg', 'Delicious', 'Facebook', 'Twitter', 'Google', 'Yahoo', 'Reddit', 'Live Spaces', 'MySpace', 'Technorati', 'Mixx', 'StumbleUpon', 'UpdateProductViewHistoryCookie(\\'Canon PowerShot SX130 IS 12 Megapixel Digital Camera with 12x Optical Zoom, 3\" LCD, Optical Image Stabilizer, PictBridge, Blink Detection, Black\\',\\'217127211\\',\\'http://ak.buy.com/PI/0/125/217127211.jpg\\');', 'FREE SHIPPING', 'or get', '*Some restrictions apply.', 'Click here', 'for details.', 'List Price:', 'See Details', '$249.99', 'You Save:', '(28%)', '$70.99', 'Price', '$179.00', 'Shipping', ':', 'FREE', 'Total Price:', '$179.00', 'SquareTrade 3 Year Warranty  -  Digital Cameras', '$27.99', 'SquareTrade 3 Year Warranty with ADH  -  Digital Cameras', '$39.99', 'Qty', 'Ships from and sold by', 'Beach Camera', 'Seller Rating:', '4.66 out of 5', 'Seller Return Policy', 'In Stock', 'Usually Ships in 1 to 2 business days', 'Condition:', 'Brand New', '20 New', 'from', '$179.00', \"What's this?\", 'if (GetCookie(\"mpsa\") != \"null\") {\\n\\t\\t\\t\\t\\t\\t\\t                            document.write(\\'<div style=\"clear:both; margin-top:8px; margin-bottom:8px;\"><a id=\"sellyourslink\" href=\"https://sellertools.marketplace.buy.com/ListItemA.aspx?sku=217127211\"><img src=\"http://ak.buy.com/buy_assets/buttons/2008/btn_sellYoursHere.gif\" border=\"0\" alt=\"Sell Yours Here\"></a></div>\\')\\n\\t\\t\\t\\t\\t\\t\\t                        }', 'Marketplace Buying Choices', 'Buy.com', 'Price:', '$249.99', '+ FREE shipping', 'In Stock', 'datavis', 'Price:', '$179.00', '+ FREE shipping', 'In Stock', 'See all  20 New', 'from', '$179.00', '+ FREE shipping', \"What's this?\", 'if (GetCookie(\"mpsa\") != \"null\") {\\n                            document.write(\\'<div align=\"center\" style=\"clear:both; margin-top:8px; margin-bottom:8px;\"><a href=\"https://sellertools.marketplace.buy.com/ListItemA.aspx?sku=217127211\"><img src=\"http://ak.buy.com/buy_assets/buttons/2008//btn_sellYoursHere.gif\" border=\"0\" alt=\"Sell Yours Here\"></a></div>\\')\\n                        }', 'Frequently Bought Together', 'Add', 'This Item:', 'Canon PowerShot SX130 IS 12 Megapixel Digital Camera with 12x Optical Zoom, 3\" LCD, Optical Image Stabilizer, PictBridge, Blink Detection, Black', 'Add', 'SquareTrade 3 Year Warranty  -  Digital Cameras', '$27.99', 'Product Attributes', 'Color:', 'Black', 'Color Class:', 'Black', 'Display Technology:', 'LCD', 'Aspect Ratio:', '16:9', 'Resolution:', '4000 x 3000', 'Digital Zoom (x):', '4', 'Camera Resolution (Megapixel):', '12.1', 'Camera Megapixels:', '10 - 14 Megapixel', 'Focus Mode:', 'Auto', 'Image Stabilization Type:', 'Optical', 'Maximum Still Frame Rate (fps):', '30', 'Product Line:', 'PowerShot', 'Product Model:', 'SX130 IS', 'Product Summary', 'Manufacturer:', 'Canon', 'Mfg Part#:', '4345B001', 'Buy.com Sku:', '217127211', 'UPC:', '00013803127386', 'Buy.com Sales Rank:', '91', 'See more in', '12 Megapixel', 'Creative Memory Making.', \"Smart, sleek and creative, the PowerShot SX130 IS is the perfect companion to all your good times. Now you can capture every detail of special moments in crisp, stunning 720p HD - even while using the high-powered 12x Wide-Angle Optical Zoom! You'll record in stereo sound, then play back your videos instantly on you computer. The SX130 IS is all about creativity, with fun new scene modes like Miniature Effect for Movies, and Fisheye Effect for artistically distorted stills. While you're having fun creating, the camera's Smart Flash Exposure and advanced Smart AUTO systems are ensuring that every image is the best it can be. Add the DIGIC 4 Image Processor, 12.1 Megapixels and Canon's Optical Image Stabilizer, and you’ve got the ideal camera for making the good times last.\", 'Features', 'Greater shooting capabilities in 720p HD video - the SX130 IS can shoot HD video with stereo sound while using the optical zoom, offering better versatility and image quality so you can fully capture those fun, memorable moments.', 'A high-powered 12x Wide-Angle Optical Zoom with Optical Image Stabilizer reduces camera shake so you achieve brilliant images whether you are up close or far away.', 'Great new scene modes like Miniature Effect for Movie offers a creative option to capture your videos and Fisheye Effect offers a cool artistic option to capture your images.', 'Smart Flash Exposure where the camera determines the correct flash based on the shooting situation.', 'Advanced Smart AUTO detects and analyzes faces, brightness, colors, distance, and movement, then selects an appropriate setting based on 28 predefined shooting situations.', 'Powerful DIGIC 4 Image Processor, with 12.1 Megapixels, make this camera a perfect device for any shooter!', 'Large 3.0-inch LCD (230,000 dots) with high resolution and wide viewing angle.', 'This AA battery-powered camera enables you to easily power up.', \"What's in the Box\", 'PowerShot SX130 IS Camera Body', 'AA-size Alkaline Battery (x2)', 'Wrist Strap WS-800', 'AV Cable AVC-DC400ST', 'Digital Camera Solution CD-ROM', 'USB Interface Cable IFC-400PCU', 'Tech Specs', 'Battery Life', '130 Shot', 'Battery Chemistry', 'Alkaline', 'Battery Size Support', 'AA', 'Number of Batteries Support', '2', 'Battery Include', 'Yes', 'Camera Modes', 'Scene Modes:', 'Auto', 'Easy', 'Portrait', 'Landscape', 'Kids & Pets', 'Smart Shutter', 'Low Light', 'Super Vivid', 'Poster Effect', 'Color Accent', 'Color Swap', 'Fish-eye Effect', 'Miniature Effect', 'Beach', 'Foliage', 'Snow', 'Fireworks', 'Movie', 'USB', 'Yes', 'PictBridge', 'Yes', 'Analog Video Out', 'Yes', 'Display Resolution', '230000 Pixel', 'White Balance Modes', 'Auto', 'Daylight', 'Cloudy', 'Tungsten', 'Fluorescent', 'Fluorescent H', 'Custom', 'Screen Size', '3\"', 'Image Sensor Size', '1/2.3\" ( 0.24\" x 0.18\" )', 'Display Screen Type', 'LCD', 'Image Sensor Type', 'CCD', 'Effective Camera Resolution', '12.1 Megapixel', 'Total Camera Resolution', '12.4 Megapixel', 'Exposure Control', 'Auto', 'Manual', 'Program AE', 'Shutter Priority AE', 'Aperture Priority AE', 'ISO Sensitivity', 'Auto', 'ISO 80', 'ISO 100', 'ISO 200', 'ISO 400', 'ISO 800', 'ISO 1600', 'Longest Shutter Speed', '15 Second', 'Shortest Shutter Speed', '1/2500 Second', 'Flash Modes', 'Auto Flash', 'Flash ON', 'Flash OFF', 'Red-eye Reduction', 'Built-in Flash', 'Yes', 'Product Type', 'Compact Camera', 'Manufacturer Part Number', '4345B001', 'Manufacturer Website Address', 'www.usa.canon.com', 'Manufacturer', 'Canon, Inc', 'Product Model', 'SX130 IS', 'Product Name', 'PowerShot SX130 IS Compact Camera', 'Product Line', 'PowerShot', 'Product Series', 'S', 'Brand Name', 'Canon', 'Aspect Ratio', '16:9', 'Image Formats', 'JPEG', 'Maximum Image Resolution', '4000 x 3000', 'Aperture Range', 'f/3.4 to 5.6', 'Focus Modes', 'Auto', 'Optical Zoom', '12x', 'Digital Zoom', '4x', 'Focal Length', '5 mm to 60 mm', 'Lens Construction', '11 Elements in 9 Groups', 'Autofocus Points', '1', 'Image Stabilization', 'Optical', 'Minimum Focus Distance', '0.39\"', 'Wide Angle', 'Yes', 'Focal Length (35mm Equivalent)', '28 mm to 336 mm', 'Lens Mount Type', 'Not Applicable', 'Memory Card Support', 'MMCplus', 'HC MMCplus', 'MultiMediaCard (MMC)', 'Secure Digital (SD) Card', 'Secure Digital High Capacity (SDHC) Card', 'Secure Digital Extended Capacity (SDXC)', 'Package Contents', 'PowerShot SX130 IS Compact Camera', '2 x AA Alkaline Battery', 'Wrist Strap WS-800', 'AV Cable AVC-DC400ST', 'Digital Camera Solution CD-ROM', 'USB Interface Cable IFC-400PCU', 'Platform Support', 'PC', 'Mac', 'Features', 'Face Detection', 'Aperture Priority', 'Manual White Balance', 'Language Support', 'English', 'German', 'French', 'Dutch', 'Danish', 'Finnish', 'Italian', 'Norwegian', 'Swedish', 'Spanish', 'Simplified Chinese', 'Chinese (Traditional)', 'Japanese', 'Russian', 'Portuguese', 'Korean', 'Greek', 'Polish', 'Czech', 'Hungarian', 'Turkish', 'Thai', 'Arabic', 'Ukrainian', 'Romanian', 'Farsi', 'Weight (Approximate)', '9.17 oz', 'Color', 'Black', 'Height', '2.88\"', 'Width', '4.46\"', 'Depth', '1.80\"', 'Video Formats', 'QuickTime MOV', 'Maximum Video Resolution', '1280 x 720', 'Maximum Frame Rate', '30 fps', 'Standard Warranty', '1 Year Limited', 'Product Images', 'Essentials', 'Add', 'This Item:', 'Canon PowerShot SX130 IS 12 Megapixel Digital Camera with 12x Optical Zoom, 3\" LCD, Optical Image Stabilizer, PictBridge, Blink Detection, Black', '$10.98', 'Add', 'Centon 4GB SDHC Card, Class 4', '$19.99', 'Add', 'Canon PSC3300', '$37.24', 'Add', 'Canon AC Adapter Kit ACK800', '$8.99', 'Add', 'Canon IFC-400PCU USB Cable - Type A Male USB - Type B Male USB - 5ft', \"changeAccessoryProds('accProdTD',1,4);\", 'var BVQAisLoaded = false;\\n        function BVcheckQALoadState() {\\n\\t        if(!BVQAisLoaded) {\\n\\t        var page = document.getElementById(\\'BVQAFrame\\').src;\\n\\t        \\n                document.getElementById(\\'BVQAFrame\\').src=\\'http://answers.buy.com/logging?page=\\' + escape(page);\\n            \\n\\t        document.getElementById(\\'BVQAContainer\\').innerHTML = \"<!-- QA retrieval timed out -->\";\\n           }\\n        }', '__USERID__', 'http://www.buy.com/prod/canon-powershot-sx130-is-12-megapixel-digital-camera-with-12x-optical/q/loc/33409/217127211.html', '//Timeout for QA load.  Consider content unavailable if not loaded within 15 seconds\\n         setTimeout(\"BVcheckQALoadState()\", 15000);', 'End QuestionsAnswers', \"//<![CDATA[\\nSys.WebForms.PageRequestManager._initialize('ScriptManager1', document.getElementById('product'));\\nSys.WebForms.PageRequestManager.getInstance()._updateControls([], [], [], 90);\\n\\t//]]>\", 'Customers Who Bought This Item Also Bought.', '$99.95', 'Nikon COOLPIX L22 Digital Camera (Black) w/ 4 GB Memory Kit', '$18.49', 'Linksys EtherFast Cable/DSL Router w/4 Ports', '$249.99', 'Sony BDP-N460 Blu-ray Disc Player', '$26.99', 'Motorola EQ5 Bluetooth Travel Stereo Speaker', \"changeAccessoryProds('recommend',1,4);\", \"buildProdViewHistory('217127211')\", \"var dtmc_product_category = '12 Megapixel';\\n            var dtmc_product_category_id = 0;\\n            var dtmc_product_id = 217127211;\\n            var dtmc_product_price = 179.0000;\\n            var dtmc_product_img = 'http://ak.buy.com/PI/0/250/217127211.jpg';\\n            var dtmc_product_partitionid = 109;\\n            var dtmc_product_mfg = 'Canon';\\n            var dtmc_product_mfg_id = '280';\\n            var dtmc_product_store = 'electronics';\\n            var dtmc_product_locid = '33409';\\n            var dtmc_has_videos = 0;\\n            var dtmc_has_buytv = 0;\\n            var dtmc_has_spotlights = 0;\\n            var dtmc_has_trailers = 0;\\n            var dtmc_has_videoreviews = 0;\\n            var dtmc_has_turnhere = 0;\\n            var dtmc_has_youtube = 0;\\n            var dtmc_has_brightcove = 0;\\n            var dtmc_has_contestvideos = 0;\\n            var dtmc_has_buytvyoutube = 0;\\n            var dtmc_has_spotlightsyoutube = 0;\", '<!--\\n            var m_atc8 = GetCookie(\"Household\");\\n            m_atc8 = m_atc8.replace(/qu=/, \"\");\\n\\n            document.write(\\'<img height=\"1\" width=\"1\" alt=\"MSFT_Buy_AE_ExtData\" src=\"http://view.atdmt.com/action/MSFT_Buy_AE_ExtData/v3/atc1.product/atc2.33409/atc3.Electronics/atc4./atc5.217127211/atc6.0/atc7.Canon/atc8.\\' + m_atc8 + \\'/atc9.product-33409\"/>\\');\\n        //-->', 'for (var wrty = 0; wrty < 5; wrty++) {\\n                if (document.getElementById(\"sqtWarranties_ctrl\"+wrty+\"_warrantysku\"))\\n                    document.getElementById(\"sqtWarranties_ctrl\" + wrty + \"_warrantysku\").checked = false;\\n            }', '//<![CDATA[\\nSys.Application.initialize();\\n//]]>', 'function blankCheck(){\\n\\tvar returnVal;\\n\\tif(document.suggestionBox.comment.value != \"\"){\\n\\t\\treturnVal = true;\\n\\t}else{\\n\\t\\treturnVal = false;\\n\\t\\talert(\"Please enter your suggestion first!\");\\n\\t\\t\\n\\t}\\n\\treturn returnVal;\\t\\n}', 'Suggestion Box', 'Every voice counts, so stand up and be heard!   Your opinion is important to us.  If you have spotted a typo, discovered an incorrect price, or encountered a technical issue on this page, we want to hear about it. Thanks again for your feedback, and happy shopping!', 'Please note:', 'we are unable to reply directly to suggestions.', 'For additional information, visit our', 'Help Center', '.', 'Quick Help', 'My Account', 'What are you looking for?', 'Country', 'Forgot Password?', 'Redeem', 'or', 'Buy Gift Certificate', 'Low Price Guarantee', 'Help Center', 'Company Info', 'Customer Service', 'Return a Product', 'Login/Register', 'My Cart', 'Order Status', 'Wishlist', 'Track your Order', 'BuyTV', 'Careers@Buy.com', 'Advertising', 'Become an Affiliate', 'Buy.com Canada', 'Buy.com France', 'Buy.com Germany', 'Buy.com Italy', 'Buy.com Spain', 'Buy.com United Kingdom', 'Terms of Use', 'Copyright 1997-2010 Buy.com Inc., All rights reserved.', 'Buy.com Privacy Policy', '// <![CDATA[\\n    \\n    var isHTTPS = new String(window.parent.document.location); \\n    \\n  //Check for the CJ affiliate cookie \"buy301\"\\n\\tif (GetCookie(\\'Buy301\\') != \\'null\\')\\n\\t{\\n\\t\\tvar CJcookie = GetCookie(\\'Buy301\\');\\n\\t\\tvar tempArr = CJcookie.split(\\'&\\');\\n\\t\\tvar valueArr = new Array();\\n\\t\\tvar CJaid = \\'\\';\\n\\t\\tvar CJpid = \\'\\';\\n\\t\\tvar CJsid = \\'\\';\\n\\t\\tvar CJref = \\'\\';\\n\\t\\tvar x = 0;\\n\\t\\tfor (elName in tempArr) {\\n\\t\\t\\tvalueArr[x] = tempArr[elName].split(\\'=\\');\\n\\t\\t\\tx++;\\n\\t\\t}\\n\\t\\tfor (elName in valueArr) {\\n\\t\\t\\tif (valueArr[elName][0] == \\'aid\\')\\n\\t\\t\\t\\tCJaid = valueArr[elName][1];\\n\\t\\t\\tif (valueArr[elName][0] == \\'pid\\')\\n\\t\\t\\t\\tCJpid = valueArr[elName][1];\\n\\t\\t\\tif (valueArr[elName][0] == \\'sid\\')\\n\\t\\t\\t\\tCJsid = valueArr[elName][1];\\n\\t\\t\\tif (valueArr[elName][0] == \\'ref\\')\\n\\t\\t\\t\\tCJref = valueArr[elName][1];\\n\\t\\t}\\n\\t\\t//alert(CJaid+\\',\\'+CJpid+\\',\\'+CJsid+\\',\\'+escape(CJref));\\n\\t\\tif (isHTTPS.indexOf(\"https://\")!= -1) {\\n\\t\\t\\tdocument.write(\"<img src=\\\\\"https://www.anrdoezrs.net/click-l?AID=\"+CJaid+\"&PID=\"+CJpid+\"&SID=\"+CJsid+\"&ref=\"+CJref+\"\\\\\" width=\\\\\"1\\\\\" height=\\\\\"1\\\\\" border=\\\\\"0\\\\\">\");\\n\\t\\t} else {\\n\\t\\t\\tdocument.write(\"<img src=\\\\\"http://www.anrdoezrs.net/click-l?AID=\"+CJaid+\"&PID=\"+CJpid+\"&SID=\"+CJsid+\"&ref=\"+CJref+\"\\\\\" width=\\\\\"1\\\\\" height=\\\\\"1\\\\\" border=\\\\\"0\\\\\">\");\\n\\t\\t}\\n\\t\\tvar CJdate = new Date();\\n\\t\\tCJdate.setTime(CJdate.getTime()+(-1*24*60*60*1000));\\n\\t\\tvar CJexpires = \"; expires=\"+CJdate.toGMTString();\\n\\t\\tdocument.cookie = \"Buy301=\"+CJexpires+\"; domain=www.buy.com; path=/\";\\n\\t}\\n\\n\\n//Clickstream - set shopper cookie\\n    if (GetCookie(\\'ShopperManager%2F\\') == \\'null\\') {\\n\\t\\tvar smdate = new Date();\\n\\t    smdate.setDate(smdate.getDate() + 365);\\n\\t    document.cookie = \"ShopperManager%2F=ShopperManager%2F=\" + Math.uuid(32) + \";expires=\" + smdate.toUTCString() + \"; domain=buy.com; path=/\";\\n\\t}\\t\\n\\n    var fSid;\\n    var sid;\\n    var pid;\\n    \\n    if (GetCookie(\\'ShopperManager%2F\\') != \\'null\\') {\\n\\t\\t\\tfSid = GetCookie(\\'ShopperManager%2F\\')\\n\\t\\t\\tsid = fSid.substr(16)\\n\\t\\t\\tpid = GetRefererWebAddress()\\n\\t}\\t\\n\\telse {\\n\\t\\tsid = \"\"\\n\\t\\tpid = \"\"\\n\\t} \\n\\n\\t\\n\\tvar gsaCookie = GetCookie(\"GSASearch\");\\n\\tvar gsaParam = \"\";\\n\\tif (gsaCookie == \"1\")\\n\\t\\tgsaParam = \"%26gsap%3D1\";\\n\\tdocument.cookie = \"GSASearch=; path=/; expires=Thu, 01-Jan-70 00:00:01 GMT;\";\\n\\n\\t\\n    if (isHTTPS.indexOf(\"https://\")!= -1) {\\n\\t    document.write(\"<img src=\\\\\"https://traffic.buyservices.com/traffic.asmx/InsertEvent4?EventType=CL&EID=10000&ShopperId=\" + sid + \"&IP=197&referrer=\" + pid + \"&Url=product.aspx%3floc%3d33409%26sku%3d217127211\" + gsaParam + \"\\\\\" width=\\\\\"1\\\\\" height=\\\\\"1\\\\\" border=\\\\\"0\\\\\">\");\\n\\t} else {\\n\\t    document.write(\"<img src=\\\\\"http://traffic.buyservices.com/traffic.asmx/InsertEvent4?EventType=CL&EID=10000&ShopperId=\" + sid + \"&IP=197&referrer=\" + pid + \"&Url=product.aspx%3floc%3d33409%26sku%3d217127211\" + gsaParam + \"\\\\\" width=\\\\\"1\\\\\" height=\\\\\"1\\\\\" border=\\\\\"0\\\\\">\");\\n\\t    document.write(\"<iframe src=\\\\\"http://www.buy.com/corp/basket/wsCookie.asp\\\\\" width=\\\\\"1\\\\\" height=\\\\\"1\\\\\" marginheight=\\\\\"0\\\\\" marginwidth=\\\\\"0\\\\\" frameborder=\\\\\"0\\\\\" scrolling=\\\\\"no\\\\\"></iframe>\");\\n\\t}\\n\\n\\t\\n\\tfunction GetRefererWebAddress()\\n\\t{\\n\\t\\tvar referer = document.referrer;\\n\\t\\tvar re = new RegExp(\"http://|https://\", \"gi\");\\n\\t\\treferer = referer.replace(re, \"\");\\n\\t\\trefererParts = referer.split(\"/\");\\n\\t\\treturn refererParts[0];\\t\\t\\t\\t\\t\\t\\t\\t\\t\\t\\t\\t\\t\\t\\t\\n\\t}\\n\\t\\t\\t\\t   \\n// ]]>', \"var stBarCookie = BUY.Cookies['STBar2'];\\n\\t\\tif (BUY.ShopTogether.enabled || stBarCookie == 'ON') {\\n\\t\\t\\tShopTogether.id=217127211;\\n\\t\\t\\tShopTogether.type=2;\\n\\t\\t\\tShopTogether.category='Electronics';\\n\\t\\t\\tShopTogether.subcategory='12 Megapixel';\\n\\t\\t\\tShopTogether.URL='http://www.buy.com/prod/canon-powershot-sx130-is-12-megapixel-digital-camera-with-12x-optical/q/loc/33409/217127211.html';\\n\\t\\t\\tShopTogether.name='Canon PowerShot SX130 IS 12';\\n\\t\\t\\tShopTogether.description='';\\n\\t\\t\\tShopTogether.imageThumbnailURL='http://ak.buy.com/PI/0/125/217127211.jpg';\\n\\t\\t\\tShopTogether.imageLargeURL='http://ak.buy.com/PI/0/500/217127211.jpg';\\n\\t\\t\\tShopTogether.wait=500;\\n\\t\\t\\tShopTogether.Initialize();\\n\\t\\t}\"]], 'xpaths': [['/html/head/script[1]', '/html/head/script[2]', '/html/head/script[7]', '/html/head/script[8]', '/html/head/script[9]', '/html/head/title', '/html/body', '/html/body/script', '/html/body', '/html/body/div[2]/div[1]/div[1]/script[1]', '/html/body/div[2]/div[1]/div[1]/a[1]', '/html/body/div[2]/div[1]/div[1]/span[1]', '/html/body/div[2]/div[1]/div[1]/a[2]', '/html/body/div[2]/div[1]/div[1]/span[2]', '/html/body/div[2]/div[1]/div[1]/a[3]', '/html/body/div[2]/div[1]/div[1]/span[3]', '/html/body/div[2]/div[1]/div[1]/a[4]', '/html/body/div[2]/div[1]/div[1]/span[4]', '/html/body/div[2]/div[1]/div[1]/script[2]', '/html/body/div[2]/div[1]/div[1]/span[5]', '/html/body/div[2]/div[1]/div[1]', '/html/body/div[2]/div[1]', '/html/body/div[2]/div[1]/div[3]/div[1]/ul/li[1]/a', '/html/body/div[2]/div[1]/div[3]/div[1]/ul/li[1]/ul/li[1]/a', '/html/body/div[2]/div[1]/div[3]/div[1]/ul/li[1]/ul/li[1]/ul/li[1]/a', '/html/body/div[2]/div[1]/div[3]/div[1]/ul/li[1]/ul/li[1]/ul/li[1]/ul/li[1]/a', '/html/body/div[2]/div[1]/div[3]/div[1]/ul/li[1]/ul/li[1]/ul/li[1]/ul/li[2]/a', '/html/body/div[2]/div[1]/div[3]/div[1]/ul/li[1]/ul/li[1]/ul/li[1]/ul/li[3]/a', '/html/body/div[2]/div[1]/div[3]/div[1]/ul/li[1]/ul/li[1]/ul/li[1]/ul/li[4]/a', '/html/body/div[2]/div[1]/div[3]/div[1]/ul/li[1]/ul/li[1]/ul/li[1]/ul/li[5]/a', '/html/body/div[2]/div[1]/div[3]/div[1]/ul/li[1]/ul/li[1]/ul/li[1]/ul/li[6]/a', '/html/body/div[2]/div[1]/div[3]/div[1]/ul/li[1]/ul/li[1]/ul/li[1]/ul/li[7]/a', '/html/body/div[2]/div[1]/div[3]/div[1]/ul/li[1]/ul/li[1]/ul/li[1]/ul/li[8]/a', '/html/body/div[2]/div[1]/div[3]/div[1]/ul/li[1]/ul/li[1]/ul/li[2]/a', '/html/body/div[2]/div[1]/div[3]/div[1]/ul/li[1]/ul/li[1]/ul/li[2]/ul/li[1]/a', '/html/body/div[2]/div[1]/div[3]/div[1]/ul/li[1]/ul/li[1]/ul/li[2]/ul/li[2]/a', '/html/body/div[2]/div[1]/div[3]/div[1]/ul/li[1]/ul/li[1]/ul/li[2]/ul/li[3]/a', '/html/body/div[2]/div[1]/div[3]/div[1]/ul/li[1]/ul/li[1]/ul/li[2]/ul/li[4]/a', '/html/body/div[2]/div[1]/div[3]/div[1]/ul/li[1]/ul/li[1]/ul/li[2]/ul/li[5]/a', '/html/body/div[2]/div[1]/div[3]/div[1]/ul/li[1]/ul/li[1]/ul/li[3]/a', '/html/body/div[2]/div[1]/div[3]/div[1]/ul/li[1]/ul/li[1]/ul/li[3]/ul/li[1]/a', '/html/body/div[2]/div[1]/div[3]/div[1]/ul/li[1]/ul/li[1]/ul/li[3]/ul/li[2]/a', '/html/body/div[2]/div[1]/div[3]/div[1]/ul/li[1]/ul/li[1]/ul/li[3]/ul/li[3]/a', '/html/body/div[2]/div[1]/div[3]/div[1]/ul/li[1]/ul/li[1]/ul/li[3]/ul/li[4]/a', '/html/body/div[2]/div[1]/div[3]/div[1]/ul/li[1]/ul/li[1]/ul/li[3]/ul/li[5]/a', '/html/body/div[2]/div[1]/div[3]/div[1]/ul/li[1]/ul', '/html/body/div[2]/div[1]/div[3]/div[1]/ul/li[1]/ul/li[2]/a', '/html/body/div[2]/div[1]/div[3]/div[1]/ul/li[1]/ul/li[2]/ul/li[1]/a', '/html/body/div[2]/div[1]/div[3]/div[1]/ul/li[1]/ul/li[2]/ul/li[1]/ul/li[1]/a', '/html/body/div[2]/div[1]/div[3]/div[1]/ul/li[1]/ul/li[2]/ul/li[1]/ul/li[2]/a', '/html/body/div[2]/div[1]/div[3]/div[1]/ul/li[1]/ul/li[2]/ul/li[1]/ul/li[3]/a', '/html/body/div[2]/div[1]/div[3]/div[1]/ul/li[1]/ul/li[2]/ul/li[1]/ul/li[4]/a', '/html/body/div[2]/div[1]/div[3]/div[1]/ul/li[1]/ul/li[2]/ul/li[1]/ul/li[5]/a', '/html/body/div[2]/div[1]/div[3]/div[1]/ul/li[1]/ul/li[2]/ul/li[1]/ul/li[6]/a', '/html/body/div[2]/div[1]/div[3]/div[1]/ul/li[1]/ul/li[2]/ul/li[1]/ul/li[7]/a', '/html/body/div[2]/div[1]/div[3]/div[1]/ul/li[1]/ul/li[2]/ul/li[1]/ul/li[8]/a', '/html/body/div[2]/div[1]/div[3]/div[1]/ul/li[1]/ul/li[2]/ul/li[2]/a', '/html/body/div[2]/div[1]/div[3]/div[1]/ul/li[1]/ul/li[2]/ul/li[2]/ul/li[1]/a', '/html/body/div[2]/div[1]/div[3]/div[1]/ul/li[1]/ul/li[2]/ul/li[2]/ul/li[2]/a', '/html/body/div[2]/div[1]/div[3]/div[1]/ul/li[1]/ul/li[2]/ul/li[2]/ul/li[3]/a', '/html/body/div[2]/div[1]/div[3]/div[1]/ul/li[1]/ul/li[2]/ul/li[2]/ul/li[4]/a', '/html/body/div[2]/div[1]/div[3]/div[1]/ul/li[1]/ul/li[2]/ul/li[2]/ul/li[5]/a', '/html/body/div[2]/div[1]/div[3]/div[1]/ul/li[1]/ul/li[2]/ul/li[3]/a', '/html/body/div[2]/div[1]/div[3]/div[1]/ul/li[1]/ul/li[2]/ul/li[3]/ul/li[1]/a', '/html/body/div[2]/div[1]/div[3]/div[1]/ul/li[1]/ul/li[2]/ul/li[3]/ul/li[2]/a', '/html/body/div[2]/div[1]/div[3]/div[1]/ul/li[1]/ul/li[2]/ul/li[3]/ul/li[3]/a', '/html/body/div[2]/div[1]/div[3]/div[1]/ul/li[1]/ul/li[2]/ul/li[3]/ul/li[4]/a', '/html/body/div[2]/div[1]/div[3]/div[1]/ul/li[1]/ul/li[2]/ul/li[3]/ul/li[5]/a', '/html/body/div[2]/div[1]/div[3]/div[1]/ul/li[1]/ul/li[2]/ul/li[3]/ul/li[6]/a', '/html/body/div[2]/div[1]/div[3]/div[1]/ul/li[1]/ul/li[2]/ul/li[4]/a', '/html/body/div[2]/div[1]/div[3]/div[1]/ul/li[1]/ul/li[2]/ul/li[4]/ul/li[1]/a', '/html/body/div[2]/div[1]/div[3]/div[1]/ul/li[1]/ul/li[2]/ul/li[4]/ul/li[2]/a', '/html/body/div[2]/div[1]/div[3]/div[1]/ul/li[1]/ul/li[2]/ul/li[4]/ul/li[3]/a', '/html/body/div[2]/div[1]/div[3]/div[1]/ul/li[1]/ul/li[2]/ul/li[4]/ul/li[4]/a', '/html/body/div[2]/div[1]/div[3]/div[1]/ul/li[1]/ul/li[2]/ul/li[4]/ul/li[5]/a', '/html/body/div[2]/div[1]/div[3]/div[1]/ul/li[1]/ul', '/html/body/div[2]/div[1]/div[3]/div[1]/ul/li[1]/ul/li[3]/a', '/html/body/div[2]/div[1]/div[3]/div[1]/ul/li[1]/ul/li[3]/ul/li/a', '/html/body/div[2]/div[1]/div[3]/div[1]/ul/li[1]/ul/li[3]/ul/li/li[1]/a', '/html/body/div[2]/div[1]/div[3]/div[1]/ul/li[1]/ul/li[3]/ul/li/li[1]/ul/li[1]/a', '/html/body/div[2]/div[1]/div[3]/div[1]/ul/li[1]/ul/li[3]/ul/li/li[1]/ul/li[2]/a', '/html/body/div[2]/div[1]/div[3]/div[1]/ul/li[1]/ul/li[3]/ul/li/li[1]/ul/li[3]/a', '/html/body/div[2]/div[1]/div[3]/div[1]/ul/li[1]/ul/li[3]/ul/li/li[1]/ul/li[4]/a', '/html/body/div[2]/div[1]/div[3]/div[1]/ul/li[1]/ul/li[3]/ul/li/li[2]/a', '/html/body/div[2]/div[1]/div[3]/div[1]/ul/li[1]/ul/li[3]/ul/li/li[2]/ul/li[1]/a', '/html/body/div[2]/div[1]/div[3]/div[1]/ul/li[1]/ul/li[3]/ul/li/li[2]/ul/li[2]/a', '/html/body/div[2]/div[1]/div[3]/div[1]/ul/li[1]/ul/li[3]/ul/li/li[2]/ul/li[3]/a', '/html/body/div[2]/div[1]/div[3]/div[1]/ul/li[1]/ul/li[3]/ul/li/li[2]/ul/li[4]/a', '/html/body/div[2]/div[1]/div[3]/div[1]/ul/li[1]/ul/li[3]/ul/li/li[2]/ul/li[5]/a', '/html/body/div[2]/div[1]/div[3]/div[1]/ul/li[1]/ul/li[3]/ul/li/li[2]/ul/li[6]/a', '/html/body/div[2]/div[1]/div[3]/div[1]/ul/li[1]/ul/li[3]/ul/li/li[2]/ul/li[7]/a', '/html/body/div[2]/div[1]/div[3]/div[1]/ul/li[1]/ul/li[3]/ul/li/li[2]/ul/li[8]/a', '/html/body/div[2]/div[1]/div[3]/div[1]/ul/li[1]/ul/li[3]/ul/li/li[2]/ul/li[9]/a', '/html/body/div[2]/div[1]/div[3]/div[1]/ul/li[1]/ul/li[3]/ul/li/li[2]/ul/li[10]/a', '/html/body/div[2]/div[1]/div[3]/div[1]/ul/li[1]/ul/li[3]/ul/li/li[3]/a', '/html/body/div[2]/div[1]/div[3]/div[1]/ul/li[1]/ul/li[3]/ul/li/li[3]/ul/li[1]/a', '/html/body/div[2]/div[1]/div[3]/div[1]/ul/li[1]/ul/li[3]/ul/li/li[3]/ul/li[2]/a', '/html/body/div[2]/div[1]/div[3]/div[1]/ul/li[1]/ul/li[3]/ul/li/li[3]/ul/li[3]/a', '/html/body/div[2]/div[1]/div[3]/div[1]/ul/li[1]/ul/li[3]/ul/li/li[3]/ul/li[4]/a', '/html/body/div[2]/div[1]/div[3]/div[1]/ul/li[1]/ul/li[3]/ul/li/li[3]/ul/li[5]/a', '/html/body/div[2]/div[1]/div[3]/div[1]/ul/li[1]/ul/li[3]/ul/li/li[3]/ul/li[6]/a', '/html/body/div[2]/div[1]/div[3]/div[1]/ul/li[1]/ul/li[3]/ul/li/li[3]/ul/li[7]/a', '/html/body/div[2]/div[1]/div[3]/div[1]/ul/li[1]/ul/li[3]/ul/li/li[4]/a', '/html/body/div[2]/div[1]/div[3]/div[1]/ul/li[1]/ul/li[3]/ul/li/li[4]/ul/li[1]/a', '/html/body/div[2]/div[1]/div[3]/div[1]/ul/li[1]/ul/li[3]/ul/li/li[4]/ul/li[2]/a', '/html/body/div[2]/div[1]/div[3]/div[1]/ul/li[1]/ul/li[3]/ul/li/li[4]/ul/li[3]/a', '/html/body/div[2]/div[1]/div[3]/div[1]/ul/li[1]/ul/li[3]/ul/li/li[5]/a', '/html/body/div[2]/div[1]/div[3]/div[1]/ul/li[1]/ul/li[3]/ul/li/li[5]/ul/li[1]/a', '/html/body/div[2]/div[1]/div[3]/div[1]/ul/li[1]/ul/li[3]/ul/li/li[5]/ul/li[2]/a', '/html/body/div[2]/div[1]/div[3]/div[1]/ul/li[1]/ul/li[3]/ul/li/li[5]/ul/li[3]/a', '/html/body/div[2]/div[1]/div[3]/div[1]/ul/li[1]/ul/li[3]/ul/li/li[5]/ul/li[4]/a', '/html/body/div[2]/div[1]/div[3]/div[1]/ul/li[1]/ul/li[3]/ul/li/li[5]/ul/li[5]/a', '/html/body/div[2]/div[1]/div[3]/div[1]/ul/li[1]/ul/li[3]/ul/li/li[6]/a', '/html/body/div[2]/div[1]/div[3]/div[1]/ul/li[1]/ul/li[3]/ul/li/li[6]/ul/li[1]/a', '/html/body/div[2]/div[1]/div[3]/div[1]/ul/li[1]/ul/li[3]/ul/li/li[6]/ul/li[2]/a', '/html/body/div[2]/div[1]/div[3]/div[1]/ul/li[1]/ul/li[3]/ul/li/li[6]/ul/li[3]/a', '/html/body/div[2]/div[1]/div[3]/div[1]/ul/li[1]/ul/li[3]/ul/li/li[6]/ul/li[4]/a', '/html/body/div[2]/div[1]/div[3]/div[1]/ul/li[1]/ul/li[3]/ul/li/li[6]/ul/li[5]/a', '/html/body/div[2]/div[1]/div[3]/div[1]/ul/li[1]/ul/li[3]/ul/li/li[6]/ul/li[6]/a', '/html/body/div[2]/div[1]/div[3]/div[1]/ul/li[1]/ul/li[3]/ul/li/li[7]/a', '/html/body/div[2]/div[1]/div[3]/div[1]/ul/li[1]/ul/li[3]/ul/li/li[7]/ul/li[1]/a', '/html/body/div[2]/div[1]/div[3]/div[1]/ul/li[1]/ul/li[3]/ul/li/li[7]/ul/li[2]/a', '/html/body/div[2]/div[1]/div[3]/div[1]/ul/li[1]/ul/li[3]/ul/li/li[7]/ul/li[3]/a', '/html/body/div[2]/div[1]/div[3]/div[1]/ul/li[1]/ul/li[3]/ul/li/li[7]/ul/li[4]/a', '/html/body/div[2]/div[1]/div[3]/div[1]/ul/li[1]/ul/li[3]/ul/li/li[7]/ul/li[5]/a', '/html/body/div[2]/div[1]/div[3]/div[1]/ul/li[1]/ul/li[3]/ul/li/li[7]/ul/li[6]/a', '/html/body/div[2]/div[1]/div[3]/div[1]/ul/li[1]/ul/li[3]/ul/li/li[8]/a', '/html/body/div[2]/div[1]/div[3]/div[1]/ul/li[1]/ul/li[3]/ul/li/li[8]/ul/li[1]/a', '/html/body/div[2]/div[1]/div[3]/div[1]/ul/li[1]/ul/li[3]/ul/li/li[8]/ul/li[2]/a', '/html/body/div[2]/div[1]/div[3]/div[1]/ul/li[1]/ul/li[3]/ul/li/li[8]/ul/li[3]/a', '/html/body/div[2]/div[1]/div[3]/div[1]/ul/li[1]/ul/li[3]/ul/li/li[8]/ul/li[4]/a', '/html/body/div[2]/div[1]/div[3]/div[1]/ul/li[1]/ul/li[3]/ul/li/li[8]/ul/li[5]/a', '/html/body/div[2]/div[1]/div[3]/div[1]/ul/li[1]/ul/li[3]/ul/li/li[8]/ul/li[6]/a', '/html/body/div[2]/div[1]/div[3]/div[1]/ul/li[1]/ul/li[3]/ul/li/li[8]/ul/li[7]/a', '/html/body/div[2]/div[1]/div[3]/div[1]/ul/li[1]/ul/li[3]/ul/li/li[8]/ul/li[8]/a', '/html/body/div[2]/div[1]/div[3]/div[1]/ul/li[1]/ul/li[3]/ul/li/li[9]/a', '/html/body/div[2]/div[1]/div[3]/div[1]/ul/li[1]/ul/li[3]/ul/li/li[9]/ul/li[1]/a', '/html/body/div[2]/div[1]/div[3]/div[1]/ul/li[1]/ul/li[3]/ul/li/li[9]/ul/li[2]/a', '/html/body/div[2]/div[1]/div[3]/div[1]/ul/li[1]/ul/li[3]/ul/li/li[9]/ul/li[3]/a', '/html/body/div[2]/div[1]/div[3]/div[1]/ul/li[1]/ul/li[3]/ul/li/li[9]/ul/li[4]/a', '/html/body/div[2]/div[1]/div[3]/div[1]/ul/li[1]/ul/li[3]/ul/li/li[9]/ul/li[5]/a', '/html/body/div[2]/div[1]/div[3]/div[1]/ul/li[1]/ul/li[3]/ul/li/li[9]/ul/li[6]/a', '/html/body/div[2]/div[1]/div[3]/div[1]/ul/li[1]/ul/li[3]/ul/li/li[10]/a', '/html/body/div[2]/div[1]/div[3]/div[1]/ul/li[1]/ul', '/html/body/div[2]/div[1]/div[3]/div[1]/ul/li[1]/ul/li[4]/a', '/html/body/div[2]/div[1]/div[3]/div[1]/ul/li[1]/ul/li[4]/ul/li[1]/a', '/html/body/div[2]/div[1]/div[3]/div[1]/ul/li[1]/ul/li[4]/ul/li[2]/a', '/html/body/div[2]/div[1]/div[3]/div[1]/ul/li[1]/ul/li[4]/ul/li[2]/ul/li[1]/a', '/html/body/div[2]/div[1]/div[3]/div[1]/ul/li[1]/ul/li[4]/ul/li[2]/ul/li[2]/a', '/html/body/div[2]/div[1]/div[3]/div[1]/ul/li[1]/ul/li[4]/ul/li[2]/ul/li[3]/a', '/html/body/div[2]/div[1]/div[3]/div[1]/ul/li[1]/ul/li[4]/ul/li[2]/ul/li[4]/a', '/html/body/div[2]/div[1]/div[3]/div[1]/ul/li[1]/ul/li[4]/ul/li[2]/ul/li[5]/a', '/html/body/div[2]/div[1]/div[3]/div[1]/ul/li[1]/ul/li[4]/ul/li[2]/ul/li[6]/a', '/html/body/div[2]/div[1]/div[3]/div[1]/ul/li[1]/ul/li[4]/ul/li[2]/ul/li[7]/a', '/html/body/div[2]/div[1]/div[3]/div[1]/ul/li[1]/ul/li[4]/ul/li[2]/ul/li[8]/a', '/html/body/div[2]/div[1]/div[3]/div[1]/ul/li[1]/ul/li[4]/ul/li[3]/a', '/html/body/div[2]/div[1]/div[3]/div[1]/ul/li[1]/ul/li[4]/ul/li[3]/ul/li[1]/a', '/html/body/div[2]/div[1]/div[3]/div[1]/ul/li[1]/ul/li[4]/ul/li[3]/ul/li[2]/a', '/html/body/div[2]/div[1]/div[3]/div[1]/ul/li[1]/ul/li[4]/ul/li[3]/ul/li[3]/a', '/html/body/div[2]/div[1]/div[3]/div[1]/ul/li[1]/ul/li[4]/ul/li[3]/ul/li[4]/a', '/html/body/div[2]/div[1]/div[3]/div[1]/ul/li[1]/ul/li[4]/ul/li[3]/ul/li[5]/a', '/html/body/div[2]/div[1]/div[3]/div[1]/ul/li[1]/ul/li[4]/ul/li[3]/ul/li[6]/a', '/html/body/div[2]/div[1]/div[3]/div[1]/ul/li[1]/ul/li[4]/ul/li[3]/ul/li[7]/a', '/html/body/div[2]/div[1]/div[3]/div[1]/ul/li[1]/ul/li[4]/ul/li[3]/ul/li[8]/a', '/html/body/div[2]/div[1]/div[3]/div[1]/ul/li[1]/ul/li[4]/ul/li[4]/a', '/html/body/div[2]/div[1]/div[3]/div[1]/ul/li[1]/ul/li[4]/ul/li[4]/ul/li[1]/a', '/html/body/div[2]/div[1]/div[3]/div[1]/ul/li[1]/ul/li[4]/ul/li[4]/ul/li[2]/a', '/html/body/div[2]/div[1]/div[3]/div[1]/ul/li[1]/ul/li[4]/ul/li[4]/ul/li[3]/a', '/html/body/div[2]/div[1]/div[3]/div[1]/ul/li[1]/ul/li[4]/ul/li[4]/ul/li[4]/a', '/html/body/div[2]/div[1]/div[3]/div[1]/ul/li[1]/ul/li[4]/ul/li[4]/ul/li[5]/a', '/html/body/div[2]/div[1]/div[3]/div[1]/ul/li[1]/ul/li[4]/ul/li[4]/ul/li[6]/a', '/html/body/div[2]/div[1]/div[3]/div[1]/ul/li[1]/ul/li[4]/ul/li[4]/ul/li[7]/a', '/html/body/div[2]/div[1]/div[3]/div[1]/ul/li[1]/ul/li[4]/ul/li[4]/ul/li[8]/a', '/html/body/div[2]/div[1]/div[3]/div[1]/ul/li[1]/ul/li[4]/ul/li[5]/a', '/html/body/div[2]/div[1]/div[3]/div[1]/ul/li[1]/ul/li[4]/ul/li[5]/ul/li[1]/a', '/html/body/div[2]/div[1]/div[3]/div[1]/ul/li[1]/ul/li[4]/ul/li[5]/ul/li[2]/a', '/html/body/div[2]/div[1]/div[3]/div[1]/ul/li[1]/ul/li[4]/ul/li[5]/ul/li[3]/a', '/html/body/div[2]/div[1]/div[3]/div[1]/ul/li[1]/ul/li[4]/ul/li[5]/ul/li[4]/a', '/html/body/div[2]/div[1]/div[3]/div[1]/ul/li[1]/ul/li[4]/ul/li[5]/ul/li[5]/a', '/html/body/div[2]/div[1]/div[3]/div[1]/ul/li[1]/ul/li[4]/ul/li[5]/ul/li[6]/a', '/html/body/div[2]/div[1]/div[3]/div[1]/ul/li[1]/ul', '/html/body/div[2]/div[1]/div[3]/div[1]/ul/li[1]/ul/li[5]/a', '/html/body/div[2]/div[1]/div[3]/div[1]/ul/li[1]/ul/li[5]/ul/li/a', '/html/body/div[2]/div[1]/div[3]/div[1]/ul/li[1]/ul/li[5]/ul/li/li[1]/a', '/html/body/div[2]/div[1]/div[3]/div[1]/ul/li[1]/ul/li[5]/ul/li/li[2]/a', '/html/body/div[2]/div[1]/div[3]/div[1]/ul/li[1]/ul/li[5]/ul/li/li[3]/a', '/html/body/div[2]/div[1]/div[3]/div[1]/ul/li[1]/ul/li[5]/ul/li/li[4]/a', '/html/body/div[2]/div[1]/div[3]/div[1]/ul/li[1]/ul/li[5]/ul/li/li[5]/a', '/html/body/div[2]/div[1]/div[3]/div[1]/ul/li[1]/ul/li[5]/ul/li/li[6]/a', '/html/body/div[2]/div[1]/div[3]/div[1]/ul/li[1]/ul', '/html/body/div[2]/div[1]/div[3]/div[1]/ul/li[1]/ul/li[6]/a', '/html/body/div[2]/div[1]/div[3]/div[1]/ul/li[1]/ul/li[6]/ul/li[1]/a', '/html/body/div[2]/div[1]/div[3]/div[1]/ul/li[1]/ul/li[6]/ul/li[1]/ul/li[1]/a', '/html/body/div[2]/div[1]/div[3]/div[1]/ul/li[1]/ul/li[6]/ul/li[1]/ul/li[2]/a', '/html/body/div[2]/div[1]/div[3]/div[1]/ul/li[1]/ul/li[6]/ul/li[1]/ul/li[3]/a', '/html/body/div[2]/div[1]/div[3]/div[1]/ul/li[1]/ul/li[6]/ul/li[1]/ul/li[4]/a', '/html/body/div[2]/div[1]/div[3]/div[1]/ul/li[1]/ul/li[6]/ul/li[1]/ul/li[5]/a', '/html/body/div[2]/div[1]/div[3]/div[1]/ul/li[1]/ul/li[6]/ul/li[1]/ul/li[6]/a', '/html/body/div[2]/div[1]/div[3]/div[1]/ul/li[1]/ul/li[6]/ul/li[2]/a', '/html/body/div[2]/div[1]/div[3]/div[1]/ul/li[1]/ul/li[6]/ul/li[2]/ul/li[1]/a', '/html/body/div[2]/div[1]/div[3]/div[1]/ul/li[1]/ul/li[6]/ul/li[2]/ul/li[2]/a', '/html/body/div[2]/div[1]/div[3]/div[1]/ul/li[1]/ul/li[6]/ul/li[2]/ul/li[3]/a', '/html/body/div[2]/div[1]/div[3]/div[1]/ul/li[1]/ul/li[6]/ul/li[2]/ul/li[4]/a', '/html/body/div[2]/div[1]/div[3]/div[1]/ul/li[1]/ul/li[6]/ul/li[2]/ul/li[5]/a', '/html/body/div[2]/div[1]/div[3]/div[1]/ul/li[1]/ul/li[6]/ul/li[2]/ul/li[6]/a', '/html/body/div[2]/div[1]/div[3]/div[1]/ul/li[1]/ul/li[6]/ul/li[2]/ul/li[7]/a', '/html/body/div[2]/div[1]/div[3]/div[1]/ul/li[1]/ul/li[6]/ul/li[2]/ul/li[8]/a', '/html/body/div[2]/div[1]/div[3]/div[1]/ul/li[1]/ul/li[6]/ul/li[2]/ul/li[9]/a', '/html/body/div[2]/div[1]/div[3]/div[1]/ul/li[1]/ul/li[6]/ul/li[2]/ul/li[10]/a', '/html/body/div[2]/div[1]/div[3]/div[1]/ul/li[1]/ul/li[6]/ul/li[3]/a', '/html/body/div[2]/div[1]/div[3]/div[1]/ul/li[1]/ul/li[6]/ul/li[3]/ul/li[1]/a', '/html/body/div[2]/div[1]/div[3]/div[1]/ul/li[1]/ul/li[6]/ul/li[3]/ul/li[2]/a', '/html/body/div[2]/div[1]/div[3]/div[1]/ul/li[1]/ul/li[6]/ul/li[3]/ul/li[3]/a', '/html/body/div[2]/div[1]/div[3]/div[1]/ul/li[1]/ul/li[6]/ul/li[3]/ul/li[4]/a', '/html/body/div[2]/div[1]/div[3]/div[1]/ul/li[1]/ul/li[6]/ul/li[3]/ul/li[5]/a', '/html/body/div[2]/div[1]/div[3]/div[1]/ul/li[1]/ul/li[6]/ul/li[3]/ul/li[6]/a', '/html/body/div[2]/div[1]/div[3]/div[1]/ul/li[1]/ul/li[6]/ul/li[3]/ul/li[7]/a', '/html/body/div[2]/div[1]/div[3]/div[1]/ul/li[1]/ul/li[6]/ul/li[3]/ul/li[8]/a', '/html/body/div[2]/div[1]/div[3]/div[1]/ul/li[1]/ul/li[6]/ul/li[3]/ul/li[9]/a', '/html/body/div[2]/div[1]/div[3]/div[1]/ul/li[1]/ul/li[6]/ul/li[3]/ul/li[10]/a', '/html/body/div[2]/div[1]/div[3]/div[1]/ul/li[1]/ul/li[6]/ul/li[3]/ul/li[11]/a', '/html/body/div[2]/div[1]/div[3]/div[1]/ul/li[1]/ul', '/html/body/div[2]/div[1]/div[3]/div[1]/ul/li[1]/ul/li[7]/a', '/html/body/div[2]/div[1]/div[3]/div[1]/ul/li[1]/ul/li[7]/ul/li[1]/a', '/html/body/div[2]/div[1]/div[3]/div[1]/ul/li[1]/ul/li[7]/ul/li[1]/a/p', '/html/body/div[2]/div[1]/div[3]/div[1]/ul/li[1]/ul/li[7]/ul/li[1]/ul/li[1]/a', '/html/body/div[2]/div[1]/div[3]/div[1]/ul/li[1]/ul/li[7]/ul/li[1]/ul/li[2]/a', '/html/body/div[2]/div[1]/div[3]/div[1]/ul/li[1]/ul/li[7]/ul/li[1]/ul/li[3]/a', '/html/body/div[2]/div[1]/div[3]/div[1]/ul/li[1]/ul/li[7]/ul/li[1]/ul/li[4]/a', '/html/body/div[2]/div[1]/div[3]/div[1]/ul/li[1]/ul/li[7]/ul/li[1]/ul/li[5]/a', '/html/body/div[2]/div[1]/div[3]/div[1]/ul/li[1]/ul/li[7]/ul/li[1]/ul/li[6]/a', '/html/body/div[2]/div[1]/div[3]/div[1]/ul/li[1]/ul/li[7]/ul/li[1]/ul/li[7]/a', '/html/body/div[2]/div[1]/div[3]/div[1]/ul/li[1]/ul/li[7]/ul/li[1]/ul/li[8]/a', '/html/body/div[2]/div[1]/div[3]/div[1]/ul/li[1]/ul/li[7]/ul/li[2]/a', '/html/body/div[2]/div[1]/div[3]/div[1]/ul/li[1]/ul/li[7]/ul/li[2]/ul/li[1]/a', '/html/body/div[2]/div[1]/div[3]/div[1]/ul/li[1]/ul/li[7]/ul/li[2]/ul/li[2]/a', '/html/body/div[2]/div[1]/div[3]/div[1]/ul/li[1]/ul/li[7]/ul/li[2]/ul/li[3]/a', '/html/body/div[2]/div[1]/div[3]/div[1]/ul/li[1]/ul/li[7]/ul/li[2]/ul/li[4]/a', '/html/body/div[2]/div[1]/div[3]/div[1]/ul/li[1]/ul/li[7]/ul/li[2]/ul/li[5]/a', '/html/body/div[2]/div[1]/div[3]/div[1]/ul/li[1]/ul/li[7]/ul/li[2]/ul/li[6]/a', '/html/body/div[2]/div[1]/div[3]/div[1]/ul/li[1]/ul/li[7]/ul/li[2]/ul/li[7]/a', '/html/body/div[2]/div[1]/div[3]/div[1]/ul/li[1]/ul/li[7]/ul/li[2]/ul/li[8]/a', '/html/body/div[2]/div[1]/div[3]/div[1]/ul/li[1]/ul', '/html/body/div[2]/div[1]/div[3]/div[1]/ul/li[1]/ul/li[8]/a', '/html/body/div[2]/div[1]/div[3]/div[1]/ul/li[1]/ul/li[8]/ul/li[1]/a', '/html/body/div[2]/div[1]/div[3]/div[1]/ul/li[1]/ul/li[8]/ul/li[2]/a', '/html/body/div[2]/div[1]/div[3]/div[1]/ul/li[1]/ul/li[8]/ul/li[3]/a', '/html/body/div[2]/div[1]/div[3]/div[1]/ul/li[1]/ul/li[8]/ul/li[3]/li/a', '/html/body/div[2]/div[1]/div[3]/div[1]/ul/li[1]/ul/li[8]/ul/li[3]/li/li/a', '/html/body/div[2]/div[1]/div[3]/div[1]/ul/li[1]/ul/li[8]/ul/li[3]/li/li/li/a', '/html/body/div[2]/div[1]/div[3]/div[1]/ul/li[1]/ul/li[8]/ul/li[3]/li/li/li/li/a', '/html/body/div[2]/div[1]/div[3]/div[1]/ul/li[1]/ul/li[8]/ul/li[3]/li/li/li/li/li/a', '/html/body/div[2]/div[1]/div[3]/div[1]/ul/li[1]/ul/li[8]/ul/li[3]/li/li/li/li/li/li/a', '/html/body/div[2]/div[1]/div[3]/div[1]/ul/li[1]/ul/li[8]/ul/li[3]/li/li/li/li/li/li/li/a', '/html/body/div[2]/div[1]/div[3]/div[1]/ul/li[1]/ul', '/html/body/div[2]/div[1]/div[3]/div[1]/ul/li[1]/ul/li[9]/a', '/html/body/div[2]/div[1]/div[3]/div[1]/ul/li[1]/ul/li[9]/ul/li[1]/a', '/html/body/div[2]/div[1]/div[3]/div[1]/ul/li[1]/ul/li[9]/ul/li[1]/ul/li[1]/a', '/html/body/div[2]/div[1]/div[3]/div[1]/ul/li[1]/ul/li[9]/ul/li[1]/ul/li[2]/a', '/html/body/div[2]/div[1]/div[3]/div[1]/ul/li[1]/ul/li[9]/ul/li[1]/ul/li[3]/a', '/html/body/div[2]/div[1]/div[3]/div[1]/ul/li[1]/ul/li[9]/ul/li[1]/ul/li[4]/a', '/html/body/div[2]/div[1]/div[3]/div[1]/ul/li[1]/ul/li[9]/ul/li[1]/ul/li[5]/a', '/html/body/div[2]/div[1]/div[3]/div[1]/ul/li[1]/ul/li[9]/ul/li[1]/ul/li[6]/a', '/html/body/div[2]/div[1]/div[3]/div[1]/ul/li[1]/ul/li[9]/ul/li[1]/ul/li[7]/a', '/html/body/div[2]/div[1]/div[3]/div[1]/ul/li[1]/ul/li[9]/ul/li[1]/ul/li[8]/a', '/html/body/div[2]/div[1]/div[3]/div[1]/ul/li[1]/ul/li[9]/ul/li[1]/ul/li[9]/a', '/html/body/div[2]/div[1]/div[3]/div[1]/ul/li[1]/ul/li[9]/ul/li[1]/ul/li[10]/a', '/html/body/div[2]/div[1]/div[3]/div[1]/ul/li[1]/ul/li[9]/ul/li[2]/a', '/html/body/div[2]/div[1]/div[3]/div[1]/ul/li[1]/ul/li[9]/ul/li[2]/ul/li[1]/a', '/html/body/div[2]/div[1]/div[3]/div[1]/ul/li[1]/ul/li[9]/ul/li[2]/ul/li[2]/a', '/html/body/div[2]/div[1]/div[3]/div[1]/ul/li[1]/ul/li[9]/ul/li[2]/ul/li[3]/a', '/html/body/div[2]/div[1]/div[3]/div[1]/ul/li[1]/ul/li[9]/ul/li[2]/ul/li[4]/a', '/html/body/div[2]/div[1]/div[3]/div[1]/ul/li[1]/ul/li[9]/ul/li[2]/ul/li[5]/a', '/html/body/div[2]/div[1]/div[3]/div[1]/ul/li[1]/ul/li[9]/ul/li[2]/ul/li[6]/a', '/html/body/div[2]/div[1]/div[3]/div[1]/ul/li[1]/ul/li[9]/ul/li[2]/ul/li[7]/a', '/html/body/div[2]/div[1]/div[3]/div[1]/ul/li[1]/ul/li[9]/ul/li[2]/ul/li[8]/a', '/html/body/div[2]/div[1]/div[3]/div[1]/ul/li[1]/ul', '/html/body/div[2]/div[1]/div[3]/div[1]/ul/li[1]/ul/li[10]/a', '/html/body/div[2]/div[1]/div[3]/div[1]/ul/li[1]/ul/li[10]/ul/li[1]/a', '/html/body/div[2]/div[1]/div[3]/div[1]/ul/li[1]/ul/li[10]/ul/li[2]/a', '/html/body/div[2]/div[1]/div[3]/div[1]/ul/li[1]/ul/li[10]/ul/li[3]/a', '/html/body/div[2]/div[1]/div[3]/div[1]/ul/li[1]/ul/li[10]/ul/li[4]/a', '/html/body/div[2]/div[1]/div[3]/div[1]/ul/li[1]/ul/li[10]/ul/li[5]/a', '/html/body/div[2]/div[1]/div[3]/div[1]/ul/li[1]/ul/li[10]/ul/li[6]/a', '/html/body/div[2]/div[1]/div[3]/div[1]/ul/li[1]/ul/li[10]/ul/li[7]/a', '/html/body/div[2]/div[1]/div[3]/div[1]/ul/li[1]/ul/li[10]/ul/li[8]/a', '/html/body/div[2]/div[1]/div[3]/div[1]/ul/li[1]/ul/li[10]/ul/li[9]/a', '/html/body/div[2]/div[1]/div[3]/div[1]/ul/li[1]/ul/li[10]/ul/li[10]/a', '/html/body/div[2]/div[1]/div[3]/div[1]/ul/li[1]/ul', '/html/body/div[2]/div[1]/div[3]/div[1]/ul/li[1]/ul/li[11]/a', '/html/body/div[2]/div[1]/div[3]/div[1]/ul/li[1]/ul/li[11]/ul/li[1]/a', '/html/body/div[2]/div[1]/div[3]/div[1]/ul/li[1]/ul/li[11]/ul/li[2]/a', '/html/body/div[2]/div[1]/div[3]/div[1]/ul/li[1]/ul/li[11]/ul/li[3]/a', '/html/body/div[2]/div[1]/div[3]/div[1]/ul/li[1]/ul/li[11]/ul/li[4]/a', '/html/body/div[2]/div[1]/div[3]/div[1]/ul/li[1]/ul/li[11]/ul/li[5]/a', '/html/body/div[2]/div[1]/div[3]/div[1]/ul/li[1]/ul/li[11]/ul/li[6]/a', '/html/body/div[2]/div[1]/div[3]/div[1]/ul/li[1]/ul', '/html/body/div[2]/div[1]/div[3]/div[1]/ul/li[2]/a', '/html/body/div[2]/div[1]/div[3]/div[1]/ul/li[2]/ul/li[1]/a', '/html/body/div[2]/div[1]/div[3]/div[1]/ul/li[2]/ul/li[2]/a', '/html/body/div[2]/div[1]/div[3]/div[1]/ul/li[2]/ul/li[3]/a', '/html/body/div[2]/div[1]/div[3]/div[1]/ul/li[2]/ul/li[4]/a', '/html/body/div[2]/div[1]/div[3]/div[1]/ul/li[2]/ul/li[5]/a', '/html/body/div[2]/div[1]/div[3]/div[1]/ul/li[3]/a', '/html/body/div[2]/div[1]/div[3]/div[1]/ul/li[3]/ul/li[1]/a', '/html/body/div[2]/div[1]/div[3]/div[1]/ul/li[3]/ul/li[2]/a', '/html/body/div[2]/div[1]/div[3]/div[1]/ul/li[3]/ul/li[3]/a', '/html/body/div[2]/div[1]/div[3]/div[1]/ul/li[4]/a', '/html/body/div[2]/div[1]/div[3]/div[1]/ul/li[4]/ul/li[1]/a', '/html/body/div[2]/div[1]/div[3]/div[1]/ul/li[4]/ul/li[2]/a', '/html/body/div[2]/div[1]/div[3]/div[1]/ul/li[4]/ul/li[3]/a', '/html/body/div[2]/div[1]/div[3]/div[1]', '/html/body/div[2]/div[1]/div[3]', '/html/body/div[2]/div[1]/div[3]/div[2]/form/div[2]/select/option[1]', '/html/body/div[2]/div[1]/div[3]/div[2]/form/div[2]/select/option[2]', '/html/body/div[2]/div[1]/div[3]/div[2]/form/div[2]/select/option[3]', '/html/body/div[2]/div[1]/div[3]/div[2]/form/div[2]/select/option[4]', '/html/body/div[2]/div[1]/div[3]/div[2]/form/div[2]/select/option[5]', '/html/body/div[2]/div[1]/div[3]/div[2]/form/div[2]/select/option[6]', '/html/body/div[2]/div[1]/div[3]/div[2]/form/div[2]/select/option[7]', '/html/body/div[2]/div[1]/div[3]/div[2]/form/div[2]/select/option[8]', '/html/body/div[2]/div[1]/div[3]/div[2]/form/div[2]/select/option[9]', '/html/body/div[2]/div[1]/div[3]/div[2]/form/div[2]/select/option[10]', '/html/body/div[2]/div[1]/div[3]/div[2]/form/div[2]/select/option[11]', '/html/body/div[2]/div[1]/div[3]/div[2]/form/div[2]/select/option[12]', '/html/body/div[2]/div[1]/div[3]/div[2]/form/div[2]/select/option[13]', '/html/body/div[2]/div[1]/div[3]/div[2]/form/div[2]/select/option[14]', '/html/body/div[2]/div[1]/div[3]/div[2]/form/div[2]/select/option[15]', '/html/body/div[2]/div[1]/div[3]/div[2]/form/div[2]/select/option[16]', '/html/body/div[2]/div[1]/div[3]/div[2]/form/div[2]/select/option[17]', '/html/body/div[2]/div[1]/div[3]/div[2]/form/div[2]/select/option[18]', '/html/body/div[2]/div[1]/div[3]/div[2]/form/div[2]/select/option[19]', '/html/body/div[2]/div[1]/div[3]/div[2]/form/div[2]/select/option[20]', '/html/body/div[2]/div[1]/div[3]/div[2]/form/div[2]/select/option[21]', '/html/body/div[2]/div[1]/div[3]/div[2]/form/div[2]/select/option[22]', '/html/body/div[2]/div[1]/div[3]/div[2]/form/div[2]/select/option[23]', '/html/body/div[2]/div[1]/div[3]/div[2]/form/div[2]/select/option[24]', '/html/body/div[2]/div[1]/div[3]/div[2]/form/div[2]/select/option[25]', '/html/body/div[2]/div[1]/div[3]/div[2]/form/div[2]/select/option[26]', '/html/body/div[2]/div[1]/div[3]/div[2]/form/div[3]/div/label', '/html/body/div[2]/div[1]/div[3]/div[2]/script[1]', '/html/body/div[2]/div[1]/div[3]/div[2]/script[2]', '/html/body/div[2]/div[1]/div[3]/div[2]/script[3]', '/html/body/div[2]/div[1]/div[3]', '/html/body/div[2]/div[1]', '/html/body/div[2]/div[1]/div[4]/a[1]', '/html/body/div[2]/div[1]/div[4]/a[2]', '/html/body/div[2]/div[1]/div[4]/a[3]', '/html/body/div[2]/div[1]/div[4]/a[4]', '/html/body/div[2]/div[1]/div[4]/a[5]', '/html/body/div[2]', '/html/body/div[2]/div[2]/div/form/script[1]', '/html/body/div[2]/div[2]/div/form/script[4]', '/html/body/div[2]/div[2]/div/form/script[7]', '/html/body/div[2]/div[2]/div/form/link/script[2]', '/html/body/div[2]/div[2]/div/form/link/div/div/table/tr[1]/td[1]/table/tr[1]/td/div[1]/h1/a', '/html/body/div[2]/div[2]/div/form/link/div/div/table/tr[1]/td[1]/table/tr[1]/td/div[1]/h1/b', '/html/body/div[2]/div[2]/div/form/link/div/div/table/tr[1]/td[1]/table/tr[2]/td/table/tr/td[1]/div[1]/div[1]/b', '/html/body/div[2]/div[2]/div/form/link/div/div/table/tr[1]/td[1]/table/tr[2]/td/table/tr/td[1]/div[1]/div[2]/div/span', '/html/body/div[2]/div[2]/div/form/link/div/div/table/tr[1]/td[1]/table/tr[2]/td/table/tr/td[1]/div[1]/div[2]/div/span', '/html/body/div[2]/div[2]/div/form/link/div/div/table/tr[1]/td[1]/table/tr[2]/td/table/tr/td[1]/div[1]/table/tr[1]/td/div[2]/table/tr/td/div[2]/a', '/html/body/div[2]/div[2]/div/form/link/div/div/table/tr[1]/td[1]/table/tr[2]/td/table/tr/td[1]/div[1]/table/tr[1]/td/div[2]/table/tr/td/div[3]/a', '/html/body/div[2]/div[2]/div/form/link/div/div/table/tr[1]/td[1]/table/tr[2]/td/table/tr/td[1]/div[1]/table/tr[1]/td/div[3]/table/tr[2]/td/div/a', '/html/body/div[2]/div[2]/div/form/link/div/div/table/tr[1]/td[1]/table/tr[2]/td/table/tr/td[1]/div[1]/table/tr[1]/td/div[4]/table/tr[2]/td/div/a', '/html/body/div[2]/div[2]/div/form/link/div/div/table/tr[1]/td[1]/table/tr[2]/td/table/tr/td[1]/div[1]/table/tr[2]/td/table/tr/td/div/a/b', '/html/body/div[2]/div[2]/div/form/link/div/div/table/tr[1]/td[1]/table/tr[2]/td/table/tr/td[1]/div[1]/table/tr[4]/td/div/b', '/html/body/div[2]/div[2]/div/form/link/div/div/table/tr[1]/td[1]/table/tr[2]/td/table/tr/td[1]/div[1]/table/tr[4]/td/div/a', '/html/body/div[2]/div[2]/div/form/link/div/div/table/tr[1]/td[1]/table/tr[2]/td/table/tr/td[1]/div[2]/div[1]/b', '/html/body/div[2]/div[2]/div/form/link/div/div/table/tr[1]/td[1]/table/tr[2]/td/table/tr/td[1]/div[2]/div[2]/a', '/html/body/div[2]/div[2]/div/form/link/div/div/table/tr[1]/td[1]/table/tr[2]/td/table/tr/td[1]/div[2]/div[3]/a', '/html/body/div[2]/div[2]/div/form/link/div/div/table/tr[1]/td[1]/table/tr[2]/td/table/tr/td[1]/div[2]/div[4]/div[1]/a', '/html/body/div[2]/div[2]/div/form/link/div/div/table/tr[1]/td[1]/table/tr[2]/td/table/tr/td[1]/div[2]/div[4]/div[2]/a', '/html/body/div[2]/div[2]/div/form/link/div/div/table/tr[1]/td[1]/table/tr[2]/td/table/tr/td[1]/div[2]/div[4]/div[3]/a', '/html/body/div[2]/div[2]/div/form/link/div/div/table/tr[1]/td[1]/table/tr[2]/td/table/tr/td[1]/div[2]/div[4]/div[4]/a', '/html/body/div[2]/div[2]/div/form/link/div/div/table/tr[1]/td[1]/table/tr[2]/td/table/tr/td[1]/div[2]/div[4]/div[5]/div[1]/a', '/html/body/div[2]/div[2]/div/form/link/div/div/table/tr[1]/td[1]/table/tr[2]/td/table/tr/td[1]/div[2]/div[4]/div[5]/div[2]/a', '/html/body/div[2]/div[2]/div/form/link/div/div/table/tr[1]/td[1]/table/tr[2]/td/table/tr/td[1]/div[2]/div[4]/div[5]/div[3]/a', '/html/body/div[2]/div[2]/div/form/link/div/div/table/tr[1]/td[1]/table/tr[2]/td/table/tr/td[1]/div[2]/div[4]/div[5]/div[4]/a', '/html/body/div[2]/div[2]/div/form/link/div/div/table/tr[1]/td[1]/table/tr[2]/td/table/tr/td[1]/div[2]/div[4]/div[5]/div[5]/a', '/html/body/div[2]/div[2]/div/form/link/div/div/table/tr[1]/td[1]/table/tr[2]/td/table/tr/td[1]/div[2]/div[4]/div[5]/div[6]/a', '/html/body/div[2]/div[2]/div/form/link/div/div/table/tr[1]/td[1]/table/tr[2]/td/table/tr/td[1]/div[2]/div[4]/div[5]/div[7]/a', '/html/body/div[2]/div[2]/div/form/link/div/div/table/tr[1]/td[1]/table/tr[2]/td/table/tr/td[1]/div[2]/div[4]/div[5]/div[8]/a', '/html/body/div[2]/div[2]/div/form/link/div/div/table/tr[1]/td[1]/table/tr[2]/td/table/tr/td[1]/script', '/html/body/div[2]/div[2]/div/form/link/div/div/table/tr[1]/td[1]/table/tr[2]/td/table/tr/td[3]/table/tr[1]/td/div[1]/div[1]/div/div[1]/div[1]/a', '/html/body/div[2]/div[2]/div/form/link/div/div/table/tr[1]/td[1]/table/tr[2]/td/table/tr/td[3]/table/tr[1]/td/div[1]/div[1]/div/div[1]/div[1]/span', '/html/body/div[2]/div[2]/div/form/link/div/div/table/tr[1]/td[1]/table/tr[2]/td/table/tr/td[3]/table/tr[1]/td/div[1]/div[1]/div/div[1]/div[2]/span/nobr', '/html/body/div[2]/div[2]/div/form/link/div/div/table/tr[1]/td[1]/table/tr[2]/td/table/tr/td[3]/table/tr[1]/td/div[1]/div[1]/div/div[1]/div[2]/span/nobr/a', '/html/body/div[2]/div[2]/div/form/link/div/div/table/tr[1]/td[1]/table/tr[2]/td/table/tr/td[3]/table/tr[1]/td/div[1]/div[1]/div/div[1]/div[2]/span/nobr', '/html/body/div[2]/div[2]/div/form/link/div/div/table/tr[1]/td[1]/table/tr[2]/td/table/tr/td[3]/table/tr[1]/td/div[1]/div[1]/div/div[2]/div[1]', '/html/body/div[2]/div[2]/div/form/link/div/div/table/tr[1]/td[1]/table/tr[2]/td/table/tr/td[3]/table/tr[1]/td/div[1]/div[1]/div/div[2]/div[1]/a', '/html/body/div[2]/div[2]/div/form/link/div/div/table/tr[1]/td[1]/table/tr[2]/td/table/tr/td[3]/table/tr[1]/td/div[1]/div[1]/div/div[2]/div[2]/span', '/html/body/div[2]/div[2]/div/form/link/div/div/table/tr[1]/td[1]/table/tr[2]/td/table/tr/td[3]/table/tr[1]/td/div[1]/div[1]/div/div[3]/div[1]', '/html/body/div[2]/div[2]/div/form/link/div/div/table/tr[1]/td[1]/table/tr[2]/td/table/tr/td[3]/table/tr[1]/td/div[1]/div[1]/div/div[3]/div[2]/nobr/span[1]', '/html/body/div[2]/div[2]/div/form/link/div/div/table/tr[1]/td[1]/table/tr[2]/td/table/tr/td[3]/table/tr[1]/td/div[1]/div[1]/div/div[3]/div[2]/nobr/span[2]', '/html/body/div[2]/div[2]/div/form/link/div/div/table/tr[1]/td[1]/table/tr[2]/td/table/tr/td[3]/table/tr[1]/td/div[1]/div[1]/div/div[4]/div[1]/span', '/html/body/div[2]/div[2]/div/form/link/div/div/table/tr[1]/td[1]/table/tr[2]/td/table/tr/td[3]/table/tr[1]/td/div[1]/div[1]/div/div[4]/div[2]/span', '/html/body/div[2]/div[2]/div/form/link/div/div/table/tr[1]/td[1]/table/tr[2]/td/table/tr/td[3]/table/tr[1]/td/div[1]/div[1]/div/div[5]/div[1]/a', '/html/body/div[2]/div[2]/div/form/link/div/div/table/tr[1]/td[1]/table/tr[2]/td/table/tr/td[3]/table/tr[1]/td/div[1]/div[1]/div/div[5]/div[1]', '/html/body/div[2]/div[2]/div/form/link/div/div/table/tr[1]/td[1]/table/tr[2]/td/table/tr/td[3]/table/tr[1]/td/div[1]/div[1]/div/div[5]/div[2]/span', '/html/body/div[2]/div[2]/div/form/link/div/div/table/tr[1]/td[1]/table/tr[2]/td/table/tr/td[3]/table/tr[1]/td/div[1]/div[1]/div/div[7]/div[1]/span', '/html/body/div[2]/div[2]/div/form/link/div/div/table/tr[1]/td[1]/table/tr[2]/td/table/tr/td[3]/table/tr[1]/td/div[1]/div[1]/div/div[7]/div[2]/span', '/html/body/div[2]/div[2]/div/form/link/div/div/table/tr[1]/td[1]/table/tr[2]/td/table/tr/td[3]/table/tr[1]/td/div[1]/table/tr[1]/td[2]/span[1]', '/html/body/div[2]/div[2]/div/form/link/div/div/table/tr[1]/td[1]/table/tr[2]/td/table/tr/td[3]/table/tr[1]/td/div[1]/table/tr[1]/td[2]/span[2]', '/html/body/div[2]/div[2]/div/form/link/div/div/table/tr[1]/td[1]/table/tr[2]/td/table/tr/td[3]/table/tr[1]/td/div[1]/table/tr[2]/td[2]/span[1]', '/html/body/div[2]/div[2]/div/form/link/div/div/table/tr[1]/td[1]/table/tr[2]/td/table/tr/td[3]/table/tr[1]/td/div[1]/table/tr[2]/td[2]/span[2]', '/html/body/div[2]/div[2]/div/form/link/div/div/table/tr[1]/td[1]/table/tr[2]/td/table/tr/td[3]/table/tr[1]/td/div[1]/div[3]/div/b', '/html/body/div[2]/div[2]/div/form/link/div/div/table/tr[1]/td[1]/table/tr[2]/td/table/tr/td[3]/table/tr[1]/td/div[3]', '/html/body/div[2]/div[2]/div/form/link/div/div/table/tr[1]/td[1]/table/tr[2]/td/table/tr/td[3]/table/tr[1]/td/div[3]/a', '/html/body/div[2]/div[2]/div/form/link/div/div/table/tr[1]/td[1]/table/tr[2]/td/table/tr/td[3]/table/tr[1]/td/div[4]/b', '/html/body/div[2]/div[2]/div/form/link/div/div/table/tr[1]/td[1]/table/tr[2]/td/table/tr/td[3]/table/tr[1]/td/div[4]/a', '/html/body/div[2]/div[2]/div/form/link/div/div/table/tr[1]/td[1]/table/tr[2]/td/table/tr/td[3]/table/tr[1]/td/div[5]/a', '/html/body/div[2]/div[2]/div/form/link/div/div/table/tr[1]/td[1]/table/tr[2]/td/table/tr/td[3]/table/tr[1]/td/div[6]/span', '/html/body/div[2]/div[2]/div/form/link/div/div/table/tr[1]/td[1]/table/tr[2]/td/table/tr/td[3]/table/tr[1]/td/div[6]/a', '/html/body/div[2]/div[2]/div/form/link/div/div/table/tr[1]/td[1]/table/tr[2]/td/table/tr/td[3]/table/tr[1]/td/div[7]/b', '/html/body/div[2]/div[2]/div/form/link/div/div/table/tr[1]/td[1]/table/tr[2]/td/table/tr/td[3]/table/tr[1]/td/div[7]/span', '/html/body/div[2]/div[2]/div/form/link/div/div/table/tr[1]/td[1]/table/tr[2]/td/table/tr/td[3]/table/tr[1]/td/div[8]/div/span[1]', '/html/body/div[2]/div[2]/div/form/link/div/div/table/tr[1]/td[1]/table/tr[2]/td/table/tr/td[3]/table/tr[1]/td/div[8]/div/span[2]', '/html/body/div[2]/div[2]/div/form/link/div/div/table/tr[1]/td[1]/table/tr[2]/td/table/tr/td[3]/table/tr[1]/td/div[8]/div/span[3]', '/html/body/div[2]/div[2]/div/form/link/div/div/table/tr[1]/td[1]/table/tr[2]/td/table/tr/td[3]/table/tr[1]/td/div[8]/div/a[2]', '/html/body/div[2]/div[2]/div/form/link/div/div/table/tr[1]/td[1]/table/tr[2]/td/table/tr/td[3]/table/tr[1]/td/script', '/html/body/div[2]/div[2]/div/form/link/div/div/table/tr[1]/td[3]/div[1]/table/tr[1]/td/table/tr/td/b', '/html/body/div[2]/div[2]/div/form/link/div/div/table/tr[1]/td[3]/div[1]/table/tr[2]/td/div/table/tr[1]/td[1]/a/b', '/html/body/div[2]/div[2]/div/form/link/div/div/table/tr[1]/td[3]/div[1]/table/tr[2]/td/div/table/tr[1]/td[1]/div/span[1]/b[1]', '/html/body/div[2]/div[2]/div/form/link/div/div/table/tr[1]/td[3]/div[1]/table/tr[2]/td/div/table/tr[1]/td[1]/div/span[1]/b[2]', '/html/body/div[2]/div[2]/div/form/link/div/div/table/tr[1]/td[3]/div[1]/table/tr[2]/td/div/table/tr[1]/td[1]/div/span[2]', '/html/body/div[2]/div[2]/div/form/link/div/div/table/tr[1]/td[3]/div[1]/table/tr[2]/td/div/table/tr[1]/td[1]/div/span[3]', '/html/body/div[2]/div[2]/div/form/link/div/div/table/tr[1]/td[3]/div[1]/table/tr[2]/td/div/table/tr[3]/td[1]/a', '/html/body/div[2]/div[2]/div/form/link/div/div/table/tr[1]/td[3]/div[1]/table/tr[2]/td/div/table/tr[3]/td[1]/div/span[1]/b[1]', '/html/body/div[2]/div[2]/div/form/link/div/div/table/tr[1]/td[3]/div[1]/table/tr[2]/td/div/table/tr[3]/td[1]/div/span[1]/b[2]', '/html/body/div[2]/div[2]/div/form/link/div/div/table/tr[1]/td[3]/div[1]/table/tr[2]/td/div/table/tr[3]/td[1]/div/span[2]', '/html/body/div[2]/div[2]/div/form/link/div/div/table/tr[1]/td[3]/div[1]/table/tr[2]/td/div/table/tr[3]/td[1]/div/span[3]', '/html/body/div[2]/div[2]/div/form/link/div/div/table/tr[1]/td[3]/div[1]/table/tr[2]/td/div/table/tr[5]/td/div/a[1]', '/html/body/div[2]/div[2]/div/form/link/div/div/table/tr[1]/td[3]/div[1]/table/tr[2]/td/div/table/tr[5]/td/div/span[1]', '/html/body/div[2]/div[2]/div/form/link/div/div/table/tr[1]/td[3]/div[1]/table/tr[2]/td/div/table/tr[5]/td/div/span[1]/b', '/html/body/div[2]/div[2]/div/form/link/div/div/table/tr[1]/td[3]/div[1]/table/tr[2]/td/div/table/tr[5]/td/div/span[2]', '/html/body/div[2]/div[2]/div/form/link/div/div/table/tr[1]/td[3]/div[1]/table/tr[2]/td/div/table/tr[5]/td/div/a[2]', '/html/body/div[2]/div[2]/div/form/link/div/div/table/tr[1]/td[3]/div[1]/table/tr[2]/td/div/table/tr[5]/td/script', '/html/body/div[2]/div[2]/div/form/link/div/div/table/tr[3]/td/div[2]/b', '/html/body/div[2]/div[2]/div/form/link/div/div/table/tr[3]/td/table/tr[1]/td/table/tr/td[1]/span', '/html/body/div[2]/div[2]/div/form/link/div/div/table/tr[3]/td/table/tr[1]/td/table/tr/td[4]/b', '/html/body/div[2]/div[2]/div/form/link/div/div/table/tr[3]/td/table/tr[1]/td/table/tr/td[4]/span', '/html/body/div[2]/div[2]/div/form/link/div/div/table/tr[3]/td/table/tr[2]/td/table/tr/td[1]/span', '/html/body/div[2]/div[2]/div/form/link/div/div/table/tr[3]/td/table/tr[2]/td/table/tr/td[4]/div[1]/span/a', '/html/body/div[2]/div[2]/div/form/link/div/div/table/tr[3]/td/table/tr[2]/td/table/tr/td[4]/div[2]/a', '/html/body/div[2]/div[2]/div/form/link/div/div/table/tr[5]/td/div/table/tr/td/table/tr/td/div[1]/div[1]/div[1]/div[1]/b', '/html/body/div[2]/div[2]/div/form/link/div/div/table/tr[5]/td/div/table/tr/td/table/tr/td/div[1]/div[1]/div[1]/table/tr[1]/td[1]', '/html/body/div[2]/div[2]/div/form/link/div/div/table/tr[5]/td/div/table/tr/td/table/tr/td/div[1]/div[1]/div[1]/table/tr[1]/td[3]', '/html/body/div[2]/div[2]/div/form/link/div/div/table/tr[5]/td/div/table/tr/td/table/tr/td/div[1]/div[1]/div[1]/table/tr[2]/td[1]', '/html/body/div[2]/div[2]/div/form/link/div/div/table/tr[5]/td/div/table/tr/td/table/tr/td/div[1]/div[1]/div[1]/table/tr[2]/td[3]', '/html/body/div[2]/div[2]/div/form/link/div/div/table/tr[5]/td/div/table/tr/td/table/tr/td/div[1]/div[1]/div[1]/table/tr[3]/td[1]', '/html/body/div[2]/div[2]/div/form/link/div/div/table/tr[5]/td/div/table/tr/td/table/tr/td/div[1]/div[1]/div[1]/table/tr[3]/td[3]', '/html/body/div[2]/div[2]/div/form/link/div/div/table/tr[5]/td/div/table/tr/td/table/tr/td/div[1]/div[1]/div[1]/table/tr[4]/td[1]', '/html/body/div[2]/div[2]/div/form/link/div/div/table/tr[5]/td/div/table/tr/td/table/tr/td/div[1]/div[1]/div[1]/table/tr[4]/td[3]', '/html/body/div[2]/div[2]/div/form/link/div/div/table/tr[5]/td/div/table/tr/td/table/tr/td/div[1]/div[1]/div[1]/table/tr[5]/td[1]', '/html/body/div[2]/div[2]/div/form/link/div/div/table/tr[5]/td/div/table/tr/td/table/tr/td/div[1]/div[1]/div[1]/table/tr[5]/td[3]', '/html/body/div[2]/div[2]/div/form/link/div/div/table/tr[5]/td/div/table/tr/td/table/tr/td/div[1]/div[1]/div[1]/table/tr[6]/td[1]', '/html/body/div[2]/div[2]/div/form/link/div/div/table/tr[5]/td/div/table/tr/td/table/tr/td/div[1]/div[1]/div[1]/table/tr[6]/td[3]', '/html/body/div[2]/div[2]/div/form/link/div/div/table/tr[5]/td/div/table/tr/td/table/tr/td/div[1]/div[1]/div[1]/table/tr[7]/td[1]', '/html/body/div[2]/div[2]/div/form/link/div/div/table/tr[5]/td/div/table/tr/td/table/tr/td/div[1]/div[1]/div[1]/table/tr[7]/td[3]', '/html/body/div[2]/div[2]/div/form/link/div/div/table/tr[5]/td/div/table/tr/td/table/tr/td/div[1]/div[1]/div[1]/table/tr[8]/td[1]', '/html/body/div[2]/div[2]/div/form/link/div/div/table/tr[5]/td/div/table/tr/td/table/tr/td/div[1]/div[1]/div[1]/table/tr[8]/td[3]', '/html/body/div[2]/div[2]/div/form/link/div/div/table/tr[5]/td/div/table/tr/td/table/tr/td/div[1]/div[1]/div[1]/table/tr[9]/td[1]', '/html/body/div[2]/div[2]/div/form/link/div/div/table/tr[5]/td/div/table/tr/td/table/tr/td/div[1]/div[1]/div[1]/table/tr[9]/td[3]', '/html/body/div[2]/div[2]/div/form/link/div/div/table/tr[5]/td/div/table/tr/td/table/tr/td/div[1]/div[1]/div[1]/table/tr[10]/td[1]', '/html/body/div[2]/div[2]/div/form/link/div/div/table/tr[5]/td/div/table/tr/td/table/tr/td/div[1]/div[1]/div[1]/table/tr[10]/td[3]', '/html/body/div[2]/div[2]/div/form/link/div/div/table/tr[5]/td/div/table/tr/td/table/tr/td/div[1]/div[1]/div[1]/table/tr[11]/td[1]', '/html/body/div[2]/div[2]/div/form/link/div/div/table/tr[5]/td/div/table/tr/td/table/tr/td/div[1]/div[1]/div[1]/table/tr[11]/td[3]', '/html/body/div[2]/div[2]/div/form/link/div/div/table/tr[5]/td/div/table/tr/td/table/tr/td/div[1]/div[1]/div[1]/table/tr[12]/td[1]', '/html/body/div[2]/div[2]/div/form/link/div/div/table/tr[5]/td/div/table/tr/td/table/tr/td/div[1]/div[1]/div[1]/table/tr[12]/td[3]', '/html/body/div[2]/div[2]/div/form/link/div/div/table/tr[5]/td/div/table/tr/td/table/tr/td/div[1]/div[1]/div[1]/table/tr[13]/td[1]', '/html/body/div[2]/div[2]/div/form/link/div/div/table/tr[5]/td/div/table/tr/td/table/tr/td/div[1]/div[1]/div[1]/table/tr[13]/td[3]', '/html/body/div[2]/div[2]/div/form/link/div/div/table/tr[5]/td/div/table/tr/td/table/tr/td/div[1]/div[1]/div[2]/div[1]/b', '/html/body/div[2]/div[2]/div/form/link/div/div/table/tr[5]/td/div/table/tr/td/table/tr/td/div[1]/div[1]/div[2]/div[2]/b', '/html/body/div[2]/div[2]/div/form/link/div/div/table/tr[5]/td/div/table/tr/td/table/tr/td/div[1]/div[1]/div[2]/div[2]/b/a', '/html/body/div[2]/div[2]/div/form/link/div/div/table/tr[5]/td/div/table/tr/td/table/tr/td/div[1]/div[1]/div[2]/div[3]/b', '/html/body/div[2]/div[2]/div/form/link/div/div/table/tr[5]/td/div/table/tr/td/table/tr/td/div[1]/div[1]/div[2]/div[3]', '/html/body/div[2]/div[2]/div/form/link/div/div/table/tr[5]/td/div/table/tr/td/table/tr/td/div[1]/div[1]/div[2]/div[4]/b', '/html/body/div[2]/div[2]/div/form/link/div/div/table/tr[5]/td/div/table/tr/td/table/tr/td/div[1]/div[1]/div[2]/div[4]', '/html/body/div[2]/div[2]/div/form/link/div/div/table/tr[5]/td/div/table/tr/td/table/tr/td/div[1]/div[1]/div[2]/div[5]/b', '/html/body/div[2]/div[2]/div/form/link/div/div/table/tr[5]/td/div/table/tr/td/table/tr/td/div[1]/div[1]/div[2]/div[5]', '/html/body/div[2]/div[2]/div/form/link/div/div/table/tr[5]/td/div/table/tr/td/table/tr/td/div[1]/div[1]/div[3]/b', '/html/body/div[2]/div[2]/div/form/link/div/div/table/tr[5]/td/div/table/tr/td/table/tr/td/div[1]/div[1]/div[3]', '/html/body/div[2]/div[2]/div/form/link/div/div/table/tr[5]/td/div/table/tr/td/table/tr/td/div[1]/div[1]/div[4]/b', '/html/body/div[2]/div[2]/div/form/link/div/div/table/tr[5]/td/div/table/tr/td/table/tr/td/div[1]/div[1]/div[4]/a', '/html/body/div[2]/div[2]/div/form/link/div/div/table/tr[5]/td/div/table/tr/td/table/tr/td/div[3]/b', '/html/body/div[2]/div[2]/div/form/link/div/div/table/tr[5]/td/div/table/tr/td/table/tr/td/div[3]', '/html/body/div[2]/div[2]/div/form/link/div/div/table/tr[5]/td/div/table/tr/td/table/tr/td/div[4]/div[1]/b', '/html/body/div[2]/div[2]/div/form/link/div/div/table/tr[5]/td/div/table/tr/td/table/tr/td/div[4]/table[1]/tr[1]/td[2]', '/html/body/div[2]/div[2]/div/form/link/div/div/table/tr[5]/td/div/table/tr/td/table/tr/td/div[4]/table[1]/tr[2]/td[2]', '/html/body/div[2]/div[2]/div/form/link/div/div/table/tr[5]/td/div/table/tr/td/table/tr/td/div[4]/table[1]/tr[3]/td[2]', '/html/body/div[2]/div[2]/div/form/link/div/div/table/tr[5]/td/div/table/tr/td/table/tr/td/div[4]/table[1]/tr[4]/td[2]', '/html/body/div[2]/div[2]/div/form/link/div/div/table/tr[5]/td/div/table/tr/td/table/tr/td/div[4]/table[1]/tr[5]/td[2]', '/html/body/div[2]/div[2]/div/form/link/div/div/table/tr[5]/td/div/table/tr/td/table/tr/td/div[4]/table[1]/tr[6]/td[2]', '/html/body/div[2]/div[2]/div/form/link/div/div/table/tr[5]/td/div/table/tr/td/table/tr/td/div[4]/table[1]/tr[7]/td[2]', '/html/body/div[2]/div[2]/div/form/link/div/div/table/tr[5]/td/div/table/tr/td/table/tr/td/div[4]/table[1]/tr[8]/td[2]', '/html/body/div[2]/div[2]/div/form/link/div/div/table/tr[5]/td/div/table/tr/td/table/tr/td/div[4]/table[1]/tr[9]/td[2]/b', '/html/body/div[2]/div[2]/div/form/link/div/div/table/tr[5]/td/div/table/tr/td/table/tr/td/div[4]/table[1]/tr[10]/td[2]', '/html/body/div[2]/div[2]/div/form/link/div/div/table/tr[5]/td/div/table/tr/td/table/tr/td/div[4]/table[1]/tr[11]/td[2]', '/html/body/div[2]/div[2]/div/form/link/div/div/table/tr[5]/td/div/table/tr/td/table/tr/td/div[4]/table[1]/tr[12]/td[2]', '/html/body/div[2]/div[2]/div/form/link/div/div/table/tr[5]/td/div/table/tr/td/table/tr/td/div[4]/table[1]/tr[13]/td[2]', '/html/body/div[2]/div[2]/div/form/link/div/div/table/tr[5]/td/div/table/tr/td/table/tr/td/div[4]/table[1]/tr[14]/td[2]', '/html/body/div[2]/div[2]/div/form/link/div/div/table/tr[5]/td/div/table/tr/td/table/tr/td/div[4]/table[1]/tr[15]/td[2]', '/html/body/div[2]/div[2]/div/form/link/div/div/table/tr[5]/td/div/table/tr/td/table/tr/td/div[4]/div[2]/b', '/html/body/div[2]/div[2]/div/form/link/div/div/table/tr[5]/td/div/table/tr/td/table/tr/td/div[4]/table[2]/tr[1]/td[2]', '/html/body/div[2]/div[2]/div/form/link/div/div/table/tr[5]/td/div/table/tr/td/table/tr/td/div[4]/table[2]/tr[1]/td[3]', '/html/body/div[2]/div[2]/div/form/link/div/div/table/tr[5]/td/div/table/tr/td/table/tr/td/div[4]/table[2]/tr[2]/td[2]', '/html/body/div[2]/div[2]/div/form/link/div/div/table/tr[5]/td/div/table/tr/td/table/tr/td/div[4]/table[2]/tr[2]/td[3]', '/html/body/div[2]/div[2]/div/form/link/div/div/table/tr[5]/td/div/table/tr/td/table/tr/td/div[4]/table[2]/tr[3]/td[2]', '/html/body/div[2]/div[2]/div/form/link/div/div/table/tr[5]/td/div/table/tr/td/table/tr/td/div[4]/table[2]/tr[3]/td[3]', '/html/body/div[2]/div[2]/div/form/link/div/div/table/tr[5]/td/div/table/tr/td/table/tr/td/div[4]/table[2]/tr[4]/td[2]', '/html/body/div[2]/div[2]/div/form/link/div/div/table/tr[5]/td/div/table/tr/td/table/tr/td/div[4]/table[2]/tr[4]/td[3]', '/html/body/div[2]/div[2]/div/form/link/div/div/table/tr[5]/td/div/table/tr/td/table/tr/td/div[4]/table[2]/tr[5]/td[2]', '/html/body/div[2]/div[2]/div/form/link/div/div/table/tr[5]/td/div/table/tr/td/table/tr/td/div[4]/table[2]/tr[5]/td[3]', '/html/body/div[2]/div[2]/div/form/link/div/div/table/tr[5]/td/div/table/tr/td/table/tr/td/div[4]/table[2]/tr[6]/td[2]', '/html/body/div[2]/div[2]/div/form/link/div/div/table/tr[5]/td/div/table/tr/td/table/tr/td/div[4]/table[2]/tr[6]/td[3]/p/b', '/html/body/div[2]/div[2]/div/form/link/div/div/table/tr[5]/td/div/table/tr/td/table/tr/td/div[4]/table[2]/tr[6]/td[3]/p/li[1]', '/html/body/div[2]/div[2]/div/form/link/div/div/table/tr[5]/td/div/table/tr/td/table/tr/td/div[4]/table[2]/tr[6]/td[3]/p/li[2]', '/html/body/div[2]/div[2]/div/form/link/div/div/table/tr[5]/td/div/table/tr/td/table/tr/td/div[4]/table[2]/tr[6]/td[3]/p/li[3]', '/html/body/div[2]/div[2]/div/form/link/div/div/table/tr[5]/td/div/table/tr/td/table/tr/td/div[4]/table[2]/tr[6]/td[3]/p/li[4]', '/html/body/div[2]/div[2]/div/form/link/div/div/table/tr[5]/td/div/table/tr/td/table/tr/td/div[4]/table[2]/tr[6]/td[3]/p/li[5]', '/html/body/div[2]/div[2]/div/form/link/div/div/table/tr[5]/td/div/table/tr/td/table/tr/td/div[4]/table[2]/tr[6]/td[3]/p/li[6]', '/html/body/div[2]/div[2]/div/form/link/div/div/table/tr[5]/td/div/table/tr/td/table/tr/td/div[4]/table[2]/tr[6]/td[3]/p/li[7]', '/html/body/div[2]/div[2]/div/form/link/div/div/table/tr[5]/td/div/table/tr/td/table/tr/td/div[4]/table[2]/tr[6]/td[3]/p/li[8]', '/html/body/div[2]/div[2]/div/form/link/div/div/table/tr[5]/td/div/table/tr/td/table/tr/td/div[4]/table[2]/tr[6]/td[3]/p/li[9]', '/html/body/div[2]/div[2]/div/form/link/div/div/table/tr[5]/td/div/table/tr/td/table/tr/td/div[4]/table[2]/tr[6]/td[3]/p/li[10]', '/html/body/div[2]/div[2]/div/form/link/div/div/table/tr[5]/td/div/table/tr/td/table/tr/td/div[4]/table[2]/tr[6]/td[3]/p/li[11]', '/html/body/div[2]/div[2]/div/form/link/div/div/table/tr[5]/td/div/table/tr/td/table/tr/td/div[4]/table[2]/tr[6]/td[3]/p/li[12]', '/html/body/div[2]/div[2]/div/form/link/div/div/table/tr[5]/td/div/table/tr/td/table/tr/td/div[4]/table[2]/tr[6]/td[3]/p/li[13]', '/html/body/div[2]/div[2]/div/form/link/div/div/table/tr[5]/td/div/table/tr/td/table/tr/td/div[4]/table[2]/tr[6]/td[3]/p/li[14]', '/html/body/div[2]/div[2]/div/form/link/div/div/table/tr[5]/td/div/table/tr/td/table/tr/td/div[4]/table[2]/tr[6]/td[3]/p/li[15]', '/html/body/div[2]/div[2]/div/form/link/div/div/table/tr[5]/td/div/table/tr/td/table/tr/td/div[4]/table[2]/tr[6]/td[3]/p/li[16]', '/html/body/div[2]/div[2]/div/form/link/div/div/table/tr[5]/td/div/table/tr/td/table/tr/td/div[4]/table[2]/tr[6]/td[3]/p/li[17]', '/html/body/div[2]/div[2]/div/form/link/div/div/table/tr[5]/td/div/table/tr/td/table/tr/td/div[4]/table[2]/tr[6]/td[3]/p/li[18]', '/html/body/div[2]/div[2]/div/form/link/div/div/table/tr[5]/td/div/table/tr/td/table/tr/td/div[4]/table[2]/tr[7]/td[2]', '/html/body/div[2]/div[2]/div/form/link/div/div/table/tr[5]/td/div/table/tr/td/table/tr/td/div[4]/table[2]/tr[7]/td[3]', '/html/body/div[2]/div[2]/div/form/link/div/div/table/tr[5]/td/div/table/tr/td/table/tr/td/div[4]/table[2]/tr[8]/td[2]', '/html/body/div[2]/div[2]/div/form/link/div/div/table/tr[5]/td/div/table/tr/td/table/tr/td/div[4]/table[2]/tr[8]/td[3]', '/html/body/div[2]/div[2]/div/form/link/div/div/table/tr[5]/td/div/table/tr/td/table/tr/td/div[4]/table[2]/tr[9]/td[2]', '/html/body/div[2]/div[2]/div/form/link/div/div/table/tr[5]/td/div/table/tr/td/table/tr/td/div[4]/table[2]/tr[9]/td[3]', '/html/body/div[2]/div[2]/div/form/link/div/div/table/tr[5]/td/div/table/tr/td/table/tr/td/div[4]/table[2]/tr[10]/td[2]', '/html/body/div[2]/div[2]/div/form/link/div/div/table/tr[5]/td/div/table/tr/td/table/tr/td/div[4]/table[2]/tr[10]/td[3]', '/html/body/div[2]/div[2]/div/form/link/div/div/table/tr[5]/td/div/table/tr/td/table/tr/td/div[4]/table[2]/tr[11]/td[2]', '/html/body/div[2]/div[2]/div/form/link/div/div/table/tr[5]/td/div/table/tr/td/table/tr/td/div[4]/table[2]/tr[11]/td[3]/li[1]', '/html/body/div[2]/div[2]/div/form/link/div/div/table/tr[5]/td/div/table/tr/td/table/tr/td/div[4]/table[2]/tr[11]/td[3]/li[2]', '/html/body/div[2]/div[2]/div/form/link/div/div/table/tr[5]/td/div/table/tr/td/table/tr/td/div[4]/table[2]/tr[11]/td[3]/li[3]', '/html/body/div[2]/div[2]/div/form/link/div/div/table/tr[5]/td/div/table/tr/td/table/tr/td/div[4]/table[2]/tr[11]/td[3]/li[4]', '/html/body/div[2]/div[2]/div/form/link/div/div/table/tr[5]/td/div/table/tr/td/table/tr/td/div[4]/table[2]/tr[11]/td[3]/li[5]', '/html/body/div[2]/div[2]/div/form/link/div/div/table/tr[5]/td/div/table/tr/td/table/tr/td/div[4]/table[2]/tr[11]/td[3]/li[6]', '/html/body/div[2]/div[2]/div/form/link/div/div/table/tr[5]/td/div/table/tr/td/table/tr/td/div[4]/table[2]/tr[11]/td[3]/li[7]', '/html/body/div[2]/div[2]/div/form/link/div/div/table/tr[5]/td/div/table/tr/td/table/tr/td/div[4]/table[2]/tr[12]/td[2]', '/html/body/div[2]/div[2]/div/form/link/div/div/table/tr[5]/td/div/table/tr/td/table/tr/td/div[4]/table[2]/tr[12]/td[3]', '/html/body/div[2]/div[2]/div/form/link/div/div/table/tr[5]/td/div/table/tr/td/table/tr/td/div[4]/table[2]/tr[13]/td[2]', '/html/body/div[2]/div[2]/div/form/link/div/div/table/tr[5]/td/div/table/tr/td/table/tr/td/div[4]/table[2]/tr[13]/td[3]', '/html/body/div[2]/div[2]/div/form/link/div/div/table/tr[5]/td/div/table/tr/td/table/tr/td/div[4]/table[2]/tr[14]/td[2]', '/html/body/div[2]/div[2]/div/form/link/div/div/table/tr[5]/td/div/table/tr/td/table/tr/td/div[4]/table[2]/tr[14]/td[3]', '/html/body/div[2]/div[2]/div/form/link/div/div/table/tr[5]/td/div/table/tr/td/table/tr/td/div[4]/table[2]/tr[15]/td[2]', '/html/body/div[2]/div[2]/div/form/link/div/div/table/tr[5]/td/div/table/tr/td/table/tr/td/div[4]/table[2]/tr[15]/td[3]', '/html/body/div[2]/div[2]/div/form/link/div/div/table/tr[5]/td/div/table/tr/td/table/tr/td/div[4]/table[2]/tr[16]/td[2]', '/html/body/div[2]/div[2]/div/form/link/div/div/table/tr[5]/td/div/table/tr/td/table/tr/td/div[4]/table[2]/tr[16]/td[3]', '/html/body/div[2]/div[2]/div/form/link/div/div/table/tr[5]/td/div/table/tr/td/table/tr/td/div[4]/table[2]/tr[17]/td[2]', '/html/body/div[2]/div[2]/div/form/link/div/div/table/tr[5]/td/div/table/tr/td/table/tr/td/div[4]/table[2]/tr[17]/td[3]', '/html/body/div[2]/div[2]/div/form/link/div/div/table/tr[5]/td/div/table/tr/td/table/tr/td/div[4]/table[2]/tr[18]/td[2]', '/html/body/div[2]/div[2]/div/form/link/div/div/table/tr[5]/td/div/table/tr/td/table/tr/td/div[4]/table[2]/tr[18]/td[3]/li[1]', '/html/body/div[2]/div[2]/div/form/link/div/div/table/tr[5]/td/div/table/tr/td/table/tr/td/div[4]/table[2]/tr[18]/td[3]/li[2]', '/html/body/div[2]/div[2]/div/form/link/div/div/table/tr[5]/td/div/table/tr/td/table/tr/td/div[4]/table[2]/tr[18]/td[3]/li[3]', '/html/body/div[2]/div[2]/div/form/link/div/div/table/tr[5]/td/div/table/tr/td/table/tr/td/div[4]/table[2]/tr[18]/td[3]/li[4]', '/html/body/div[2]/div[2]/div/form/link/div/div/table/tr[5]/td/div/table/tr/td/table/tr/td/div[4]/table[2]/tr[18]/td[3]/li[5]', '/html/body/div[2]/div[2]/div/form/link/div/div/table/tr[5]/td/div/table/tr/td/table/tr/td/div[4]/table[2]/tr[19]/td[2]', '/html/body/div[2]/div[2]/div/form/link/div/div/table/tr[5]/td/div/table/tr/td/table/tr/td/div[4]/table[2]/tr[19]/td[3]', '/html/body/div[2]/div[2]/div/form/link/div/div/table/tr[5]/td/div/table/tr/td/table/tr/td/div[4]/table[2]/tr[20]/td/div', '/html/body/div[2]/div[2]/div/form/link/div/div/table/tr[5]/td/div/table/tr/td/table/tr/td/div[4]/table[2]/tr[21]/td/div', '/html/body/div[2]/div[2]/div/form/link/div/div/table/tr[5]/td/div/table/tr/td/table/tr/td/div[4]/table[2]/tr[22]/td/div', '/html/body/div[2]/div[2]/div/form/link/div/div/table/tr[5]/td/div/table/tr/td/table/tr/td/div[4]/table[2]/tr[23]/td/div', '/html/body/div[2]/div[2]/div/form/link/div/div/table/tr[5]/td/div/table/tr/td/table/tr/td/div[4]/table[2]/tr[24]/td/div', '/html/body/div[2]/div[2]/div/form/link/div/div/table/tr[5]/td/div/table/tr/td/table/tr/td/div[4]/table[2]/tr[25]/td/div', '/html/body/div[2]/div[2]/div/form/link/div/div/table/tr[5]/td/div/table/tr/td/table/tr/td/div[4]/table[2]/tr[26]/td[2]', '/html/body/div[2]/div[2]/div/form/link/div/div/table/tr[5]/td/div/table/tr/td/table/tr/td/div[4]/table[2]/tr[26]/td[3]', '/html/body/div[2]/div[2]/div/form/link/div/div/table/tr[5]/td/div/table/tr/td/table/tr/td/div[4]/table[2]/tr[27]/td[2]', '/html/body/div[2]/div[2]/div/form/link/div/div/table/tr[5]/td/div/table/tr/td/table/tr/td/div[4]/table[2]/tr[27]/td[3]', '/html/body/div[2]/div[2]/div/form/link/div/div/table/tr[5]/td/div/table/tr/td/table/tr/td/div[4]/table[2]/tr[28]/td[2]', '/html/body/div[2]/div[2]/div/form/link/div/div/table/tr[5]/td/div/table/tr/td/table/tr/td/div[4]/table[2]/tr[28]/td[3]', '/html/body/div[2]/div[2]/div/form/link/div/div/table/tr[5]/td/div/table/tr/td/table/tr/td/div[4]/table[2]/tr[29]/td/div', '/html/body/div[2]/div[2]/div/form/link/div/div/table/tr[5]/td/div/table/tr/td/table/tr/td/div[4]/table[2]/tr[30]/td/div', '/html/body/div[2]/div[2]/div/form/link/div/div/table/tr[5]/td/div/table/tr/td/table/tr/td/div[4]/table[2]/tr[31]/td/div', '/html/body/div[2]/div[2]/div/form/link/div/div/table/tr[5]/td/div/table/tr/td/table/tr/td/div[4]/table[2]/tr[32]/td[2]', '/html/body/div[2]/div[2]/div/form/link/div/div/table/tr[5]/td/div/table/tr/td/table/tr/td/div[4]/table[2]/tr[32]/td[3]', '/html/body/div[2]/div[2]/div/form/link/div/div/table/tr[5]/td/div/table/tr/td/table/tr/td/div[4]/table[2]/tr[33]/td[2]', '/html/body/div[2]/div[2]/div/form/link/div/div/table/tr[5]/td/div/table/tr/td/table/tr/td/div[4]/table[2]/tr[33]/td[3]', '/html/body/div[2]/div[2]/div/form/link/div/div/table/tr[5]/td/div/table/tr/td/table/tr/td/div[4]/table[2]/tr[34]/td[2]', '/html/body/div[2]/div[2]/div/form/link/div/div/table/tr[5]/td/div/table/tr/td/table/tr/td/div[4]/table[2]/tr[34]/td[3]', '/html/body/div[2]/div[2]/div/form/link/div/div/table/tr[5]/td/div/table/tr/td/table/tr/td/div[4]/table[2]/tr[35]/td[2]', '/html/body/div[2]/div[2]/div/form/link/div/div/table/tr[5]/td/div/table/tr/td/table/tr/td/div[4]/table[2]/tr[35]/td[3]', '/html/body/div[2]/div[2]/div/form/link/div/div/table/tr[5]/td/div/table/tr/td/table/tr/td/div[4]/table[2]/tr[36]/td[2]', '/html/body/div[2]/div[2]/div/form/link/div/div/table/tr[5]/td/div/table/tr/td/table/tr/td/div[4]/table[2]/tr[36]/td[3]', '/html/body/div[2]/div[2]/div/form/link/div/div/table/tr[5]/td/div/table/tr/td/table/tr/td/div[4]/table[2]/tr[37]/td[2]', '/html/body/div[2]/div[2]/div/form/link/div/div/table/tr[5]/td/div/table/tr/td/table/tr/td/div[4]/table[2]/tr[37]/td[3]', '/html/body/div[2]/div[2]/div/form/link/div/div/table/tr[5]/td/div/table/tr/td/table/tr/td/div[4]/table[2]/tr[38]/td[2]', '/html/body/div[2]/div[2]/div/form/link/div/div/table/tr[5]/td/div/table/tr/td/table/tr/td/div[4]/table[2]/tr[38]/td[3]', '/html/body/div[2]/div[2]/div/form/link/div/div/table/tr[5]/td/div/table/tr/td/table/tr/td/div[4]/table[2]/tr[39]/td[2]', '/html/body/div[2]/div[2]/div/form/link/div/div/table/tr[5]/td/div/table/tr/td/table/tr/td/div[4]/table[2]/tr[39]/td[3]', '/html/body/div[2]/div[2]/div/form/link/div/div/table/tr[5]/td/div/table/tr/td/table/tr/td/div[4]/table[2]/tr[40]/td[2]', '/html/body/div[2]/div[2]/div/form/link/div/div/table/tr[5]/td/div/table/tr/td/table/tr/td/div[4]/table[2]/tr[40]/td[3]', '/html/body/div[2]/div[2]/div/form/link/div/div/table/tr[5]/td/div/table/tr/td/table/tr/td/div[4]/table[2]/tr[41]/td[2]', '/html/body/div[2]/div[2]/div/form/link/div/div/table/tr[5]/td/div/table/tr/td/table/tr/td/div[4]/table[2]/tr[41]/td[3]', '/html/body/div[2]/div[2]/div/form/link/div/div/table/tr[5]/td/div/table/tr/td/table/tr/td/div[4]/table[2]/tr[42]/td[2]', '/html/body/div[2]/div[2]/div/form/link/div/div/table/tr[5]/td/div/table/tr/td/table/tr/td/div[4]/table[2]/tr[42]/td[3]', '/html/body/div[2]/div[2]/div/form/link/div/div/table/tr[5]/td/div/table/tr/td/table/tr/td/div[4]/table[2]/tr[43]/td[2]', '/html/body/div[2]/div[2]/div/form/link/div/div/table/tr[5]/td/div/table/tr/td/table/tr/td/div[4]/table[2]/tr[43]/td[3]', '/html/body/div[2]/div[2]/div/form/link/div/div/table/tr[5]/td/div/table/tr/td/table/tr/td/div[4]/table[2]/tr[44]/td[2]', '/html/body/div[2]/div[2]/div/form/link/div/div/table/tr[5]/td/div/table/tr/td/table/tr/td/div[4]/table[2]/tr[44]/td[3]', '/html/body/div[2]/div[2]/div/form/link/div/div/table/tr[5]/td/div/table/tr/td/table/tr/td/div[4]/table[2]/tr[45]/td[2]', '/html/body/div[2]/div[2]/div/form/link/div/div/table/tr[5]/td/div/table/tr/td/table/tr/td/div[4]/table[2]/tr[45]/td[3]', '/html/body/div[2]/div[2]/div/form/link/div/div/table/tr[5]/td/div/table/tr/td/table/tr/td/div[4]/table[2]/tr[46]/td[2]', '/html/body/div[2]/div[2]/div/form/link/div/div/table/tr[5]/td/div/table/tr/td/table/tr/td/div[4]/table[2]/tr[46]/td[3]', '/html/body/div[2]/div[2]/div/form/link/div/div/table/tr[5]/td/div/table/tr/td/table/tr/td/div[4]/table[2]/tr[47]/td[2]', '/html/body/div[2]/div[2]/div/form/link/div/div/table/tr[5]/td/div/table/tr/td/table/tr/td/div[4]/table[2]/tr[47]/td[3]', '/html/body/div[2]/div[2]/div/form/link/div/div/table/tr[5]/td/div/table/tr/td/table/tr/td/div[4]/table[2]/tr[48]/td[2]', '/html/body/div[2]/div[2]/div/form/link/div/div/table/tr[5]/td/div/table/tr/td/table/tr/td/div[4]/table[2]/tr[48]/td[3]', '/html/body/div[2]/div[2]/div/form/link/div/div/table/tr[5]/td/div/table/tr/td/table/tr/td/div[4]/table[2]/tr[49]/td[2]', '/html/body/div[2]/div[2]/div/form/link/div/div/table/tr[5]/td/div/table/tr/td/table/tr/td/div[4]/table[2]/tr[49]/td[3]', '/html/body/div[2]/div[2]/div/form/link/div/div/table/tr[5]/td/div/table/tr/td/table/tr/td/div[4]/table[2]/tr[50]/td[2]', '/html/body/div[2]/div[2]/div/form/link/div/div/table/tr[5]/td/div/table/tr/td/table/tr/td/div[4]/table[2]/tr[50]/td[3]', '/html/body/div[2]/div[2]/div/form/link/div/div/table/tr[5]/td/div/table/tr/td/table/tr/td/div[4]/table[2]/tr[51]/td[2]', '/html/body/div[2]/div[2]/div/form/link/div/div/table/tr[5]/td/div/table/tr/td/table/tr/td/div[4]/table[2]/tr[51]/td[3]', '/html/body/div[2]/div[2]/div/form/link/div/div/table/tr[5]/td/div/table/tr/td/table/tr/td/div[4]/table[2]/tr[52]/td[2]', '/html/body/div[2]/div[2]/div/form/link/div/div/table/tr[5]/td/div/table/tr/td/table/tr/td/div[4]/table[2]/tr[52]/td[3]', '/html/body/div[2]/div[2]/div/form/link/div/div/table/tr[5]/td/div/table/tr/td/table/tr/td/div[4]/table[2]/tr[53]/td[2]', '/html/body/div[2]/div[2]/div/form/link/div/div/table/tr[5]/td/div/table/tr/td/table/tr/td/div[4]/table[2]/tr[53]/td[3]', '/html/body/div[2]/div[2]/div/form/link/div/div/table/tr[5]/td/div/table/tr/td/table/tr/td/div[4]/table[2]/tr[54]/td[2]', '/html/body/div[2]/div[2]/div/form/link/div/div/table/tr[5]/td/div/table/tr/td/table/tr/td/div[4]/table[2]/tr[54]/td[3]', '/html/body/div[2]/div[2]/div/form/link/div/div/table/tr[5]/td/div/table/tr/td/table/tr/td/div[4]/table[2]/tr[55]/td[2]', '/html/body/div[2]/div[2]/div/form/link/div/div/table/tr[5]/td/div/table/tr/td/table/tr/td/div[4]/table[2]/tr[55]/td[3]', '/html/body/div[2]/div[2]/div/form/link/div/div/table/tr[5]/td/div/table/tr/td/table/tr/td/div[4]/table[2]/tr[56]/td[2]', '/html/body/div[2]/div[2]/div/form/link/div/div/table/tr[5]/td/div/table/tr/td/table/tr/td/div[4]/table[2]/tr[56]/td[3]', '/html/body/div[2]/div[2]/div/form/link/div/div/table/tr[5]/td/div/table/tr/td/table/tr/td/div[4]/table[2]/tr[57]/td[2]', '/html/body/div[2]/div[2]/div/form/link/div/div/table/tr[5]/td/div/table/tr/td/table/tr/td/div[4]/table[2]/tr[57]/td[3]', '/html/body/div[2]/div[2]/div/form/link/div/div/table/tr[5]/td/div/table/tr/td/table/tr/td/div[4]/table[2]/tr[58]/td/div', '/html/body/div[2]/div[2]/div/form/link/div/div/table/tr[5]/td/div/table/tr/td/table/tr/td/div[4]/table[2]/tr[59]/td/div', '/html/body/div[2]/div[2]/div/form/link/div/div/table/tr[5]/td/div/table/tr/td/table/tr/td/div[4]/table[2]/tr[60]/td/div', '/html/body/div[2]/div[2]/div/form/link/div/div/table/tr[5]/td/div/table/tr/td/table/tr/td/div[4]/table[2]/tr[61]/td/div', '/html/body/div[2]/div[2]/div/form/link/div/div/table/tr[5]/td/div/table/tr/td/table/tr/td/div[4]/table[2]/tr[62]/td/div', '/html/body/div[2]/div[2]/div/form/link/div/div/table/tr[5]/td/div/table/tr/td/table/tr/td/div[4]/table[2]/tr[63]/td[2]', '/html/body/div[2]/div[2]/div/form/link/div/div/table/tr[5]/td/div/table/tr/td/table/tr/td/div[4]/table[2]/tr[63]/td[3]/li[1]', '/html/body/div[2]/div[2]/div/form/link/div/div/table/tr[5]/td/div/table/tr/td/table/tr/td/div[4]/table[2]/tr[63]/td[3]/li[2]', '/html/body/div[2]/div[2]/div/form/link/div/div/table/tr[5]/td/div/table/tr/td/table/tr/td/div[4]/table[2]/tr[63]/td[3]/li[3]', '/html/body/div[2]/div[2]/div/form/link/div/div/table/tr[5]/td/div/table/tr/td/table/tr/td/div[4]/table[2]/tr[63]/td[3]/li[4]', '/html/body/div[2]/div[2]/div/form/link/div/div/table/tr[5]/td/div/table/tr/td/table/tr/td/div[4]/table[2]/tr[63]/td[3]/li[5]', '/html/body/div[2]/div[2]/div/form/link/div/div/table/tr[5]/td/div/table/tr/td/table/tr/td/div[4]/table[2]/tr[63]/td[3]/li[6]', '/html/body/div[2]/div[2]/div/form/link/div/div/table/tr[5]/td/div/table/tr/td/table/tr/td/div[4]/table[2]/tr[64]/td[2]', '/html/body/div[2]/div[2]/div/form/link/div/div/table/tr[5]/td/div/table/tr/td/table/tr/td/div[4]/table[2]/tr[64]/td[3]', '/html/body/div[2]/div[2]/div/form/link/div/div/table/tr[5]/td/div/table/tr/td/table/tr/td/div[4]/table[2]/tr[65]/td/div', '/html/body/div[2]/div[2]/div/form/link/div/div/table/tr[5]/td/div/table/tr/td/table/tr/td/div[4]/table[2]/tr[66]/td[2]', '/html/body/div[2]/div[2]/div/form/link/div/div/table/tr[5]/td/div/table/tr/td/table/tr/td/div[4]/table[2]/tr[66]/td[3]', '/html/body/div[2]/div[2]/div/form/link/div/div/table/tr[5]/td/div/table/tr/td/table/tr/td/div[4]/table[2]/tr[67]/td/div', '/html/body/div[2]/div[2]/div/form/link/div/div/table/tr[5]/td/div/table/tr/td/table/tr/td/div[4]/table[2]/tr[68]/td/div', '/html/body/div[2]/div[2]/div/form/link/div/div/table/tr[5]/td/div/table/tr/td/table/tr/td/div[4]/table[2]/tr[69]/td[2]', '/html/body/div[2]/div[2]/div/form/link/div/div/table/tr[5]/td/div/table/tr/td/table/tr/td/div[4]/table[2]/tr[69]/td[3]/li[1]', '/html/body/div[2]/div[2]/div/form/link/div/div/table/tr[5]/td/div/table/tr/td/table/tr/td/div[4]/table[2]/tr[69]/td[3]/li[2]', '/html/body/div[2]/div[2]/div/form/link/div/div/table/tr[5]/td/div/table/tr/td/table/tr/td/div[4]/table[2]/tr[69]/td[3]/li[3]', '/html/body/div[2]/div[2]/div/form/link/div/div/table/tr[5]/td/div/table/tr/td/table/tr/td/div[4]/table[2]/tr[69]/td[3]/li[4]', '/html/body/div[2]/div[2]/div/form/link/div/div/table/tr[5]/td/div/table/tr/td/table/tr/td/div[4]/table[2]/tr[69]/td[3]/li[5]', '/html/body/div[2]/div[2]/div/form/link/div/div/table/tr[5]/td/div/table/tr/td/table/tr/td/div[4]/table[2]/tr[69]/td[3]/li[6]', '/html/body/div[2]/div[2]/div/form/link/div/div/table/tr[5]/td/div/table/tr/td/table/tr/td/div[4]/table[2]/tr[69]/td[3]/li[7]', '/html/body/div[2]/div[2]/div/form/link/div/div/table/tr[5]/td/div/table/tr/td/table/tr/td/div[4]/table[2]/tr[69]/td[3]/li[8]', '/html/body/div[2]/div[2]/div/form/link/div/div/table/tr[5]/td/div/table/tr/td/table/tr/td/div[4]/table[2]/tr[69]/td[3]/li[9]', '/html/body/div[2]/div[2]/div/form/link/div/div/table/tr[5]/td/div/table/tr/td/table/tr/td/div[4]/table[2]/tr[69]/td[3]/li[10]', '/html/body/div[2]/div[2]/div/form/link/div/div/table/tr[5]/td/div/table/tr/td/table/tr/td/div[4]/table[2]/tr[69]/td[3]/li[11]', '/html/body/div[2]/div[2]/div/form/link/div/div/table/tr[5]/td/div/table/tr/td/table/tr/td/div[4]/table[2]/tr[69]/td[3]/li[12]', '/html/body/div[2]/div[2]/div/form/link/div/div/table/tr[5]/td/div/table/tr/td/table/tr/td/div[4]/table[2]/tr[69]/td[3]/li[13]', '/html/body/div[2]/div[2]/div/form/link/div/div/table/tr[5]/td/div/table/tr/td/table/tr/td/div[4]/table[2]/tr[69]/td[3]/li[14]', '/html/body/div[2]/div[2]/div/form/link/div/div/table/tr[5]/td/div/table/tr/td/table/tr/td/div[4]/table[2]/tr[69]/td[3]/li[15]', '/html/body/div[2]/div[2]/div/form/link/div/div/table/tr[5]/td/div/table/tr/td/table/tr/td/div[4]/table[2]/tr[69]/td[3]/li[16]', '/html/body/div[2]/div[2]/div/form/link/div/div/table/tr[5]/td/div/table/tr/td/table/tr/td/div[4]/table[2]/tr[69]/td[3]/li[17]', '/html/body/div[2]/div[2]/div/form/link/div/div/table/tr[5]/td/div/table/tr/td/table/tr/td/div[4]/table[2]/tr[69]/td[3]/li[18]', '/html/body/div[2]/div[2]/div/form/link/div/div/table/tr[5]/td/div/table/tr/td/table/tr/td/div[4]/table[2]/tr[69]/td[3]/li[19]', '/html/body/div[2]/div[2]/div/form/link/div/div/table/tr[5]/td/div/table/tr/td/table/tr/td/div[4]/table[2]/tr[69]/td[3]/li[20]', '/html/body/div[2]/div[2]/div/form/link/div/div/table/tr[5]/td/div/table/tr/td/table/tr/td/div[4]/table[2]/tr[69]/td[3]/li[21]', '/html/body/div[2]/div[2]/div/form/link/div/div/table/tr[5]/td/div/table/tr/td/table/tr/td/div[4]/table[2]/tr[69]/td[3]/li[22]', '/html/body/div[2]/div[2]/div/form/link/div/div/table/tr[5]/td/div/table/tr/td/table/tr/td/div[4]/table[2]/tr[69]/td[3]/li[23]', '/html/body/div[2]/div[2]/div/form/link/div/div/table/tr[5]/td/div/table/tr/td/table/tr/td/div[4]/table[2]/tr[69]/td[3]/li[24]', '/html/body/div[2]/div[2]/div/form/link/div/div/table/tr[5]/td/div/table/tr/td/table/tr/td/div[4]/table[2]/tr[69]/td[3]/li[25]', '/html/body/div[2]/div[2]/div/form/link/div/div/table/tr[5]/td/div/table/tr/td/table/tr/td/div[4]/table[2]/tr[69]/td[3]/li[26]', '/html/body/div[2]/div[2]/div/form/link/div/div/table/tr[5]/td/div/table/tr/td/table/tr/td/div[4]/table[2]/tr[70]/td[2]', '/html/body/div[2]/div[2]/div/form/link/div/div/table/tr[5]/td/div/table/tr/td/table/tr/td/div[4]/table[2]/tr[70]/td[3]', '/html/body/div[2]/div[2]/div/form/link/div/div/table/tr[5]/td/div/table/tr/td/table/tr/td/div[4]/table[2]/tr[71]/td[2]', '/html/body/div[2]/div[2]/div/form/link/div/div/table/tr[5]/td/div/table/tr/td/table/tr/td/div[4]/table[2]/tr[71]/td[3]', '/html/body/div[2]/div[2]/div/form/link/div/div/table/tr[5]/td/div/table/tr/td/table/tr/td/div[4]/table[2]/tr[72]/td[2]', '/html/body/div[2]/div[2]/div/form/link/div/div/table/tr[5]/td/div/table/tr/td/table/tr/td/div[4]/table[2]/tr[72]/td[3]', '/html/body/div[2]/div[2]/div/form/link/div/div/table/tr[5]/td/div/table/tr/td/table/tr/td/div[4]/table[2]/tr[73]/td[2]', '/html/body/div[2]/div[2]/div/form/link/div/div/table/tr[5]/td/div/table/tr/td/table/tr/td/div[4]/table[2]/tr[73]/td[3]', '/html/body/div[2]/div[2]/div/form/link/div/div/table/tr[5]/td/div/table/tr/td/table/tr/td/div[4]/table[2]/tr[74]/td[2]', '/html/body/div[2]/div[2]/div/form/link/div/div/table/tr[5]/td/div/table/tr/td/table/tr/td/div[4]/table[2]/tr[74]/td[3]', '/html/body/div[2]/div[2]/div/form/link/div/div/table/tr[5]/td/div/table/tr/td/table/tr/td/div[4]/table[2]/tr[75]/td[2]', '/html/body/div[2]/div[2]/div/form/link/div/div/table/tr[5]/td/div/table/tr/td/table/tr/td/div[4]/table[2]/tr[75]/td[3]', '/html/body/div[2]/div[2]/div/form/link/div/div/table/tr[5]/td/div/table/tr/td/table/tr/td/div[4]/table[2]/tr[76]/td[2]', '/html/body/div[2]/div[2]/div/form/link/div/div/table/tr[5]/td/div/table/tr/td/table/tr/td/div[4]/table[2]/tr[76]/td[3]', '/html/body/div[2]/div[2]/div/form/link/div/div/table/tr[5]/td/div/table/tr/td/table/tr/td/div[4]/table[2]/tr[77]/td[2]', '/html/body/div[2]/div[2]/div/form/link/div/div/table/tr[5]/td/div/table/tr/td/table/tr/td/div[4]/table[2]/tr[77]/td[3]', '/html/body/div[2]/div[2]/div/form/link/div/div/table/tr[5]/td/div/table/tr/td/table/tr/td/div[4]/table[2]/tr[78]/td[2]', '/html/body/div[2]/div[2]/div/form/link/div/div/table/tr[5]/td/div/table/tr/td/table/tr/td/div[4]/table[2]/tr[78]/td[3]', '/html/body/div[2]/div[2]/div/form/link/div/div/table/tr[5]/td/div/table/tr/td/table/tr/td/div[5]/div[1]/span', '/html/body/div[2]/div[2]/div/form/link/div/div/table/tr[5]/td/div/table/tr/td/table/tr/td/div[6]/b', '/html/body/div[2]/div[2]/div/form/link/div/div/table/tr[5]/td/div/table/tr/td/table/tr/td/div[7]/table/tr/td[1]/span', '/html/body/div[2]/div[2]/div/form/link/div/div/table/tr[5]/td/div/table/tr/td/table/tr/td/div[7]/table/tr/td[4]/b', '/html/body/div[2]/div[2]/div/form/link/div/div/table/tr[5]/td/div/table/tr/td/table/tr/td/div[7]/table/tr/td[4]/span', '/html/body/div[2]/div[2]/div/form/link/div/div/table/tr[5]/td/div/table/tr/td/table/tr/td/table[1]/tr[1]/td[2]/table[1]/tr/td[2]/a', '/html/body/div[2]/div[2]/div/form/link/div/div/table/tr[5]/td/div/table/tr/td/table/tr/td/table[1]/tr[1]/td[2]/table[1]/tr/td[2]/br/span', '/html/body/div[2]/div[2]/div/form/link/div/div/table/tr[5]/td/div/table/tr/td/table/tr/td/table[1]/tr[1]/td[2]/table[2]/tr/td/div/span/a', '/html/body/div[2]/div[2]/div/form/link/div/div/table/tr[5]/td/div/table/tr/td/table/tr/td/table[1]/tr[1]/td[3]/table[1]/tr/td[2]/a', '/html/body/div[2]/div[2]/div/form/link/div/div/table/tr[5]/td/div/table/tr/td/table/tr/td/table[1]/tr[1]/td[3]/table[1]/tr/td[2]/br/span', '/html/body/div[2]/div[2]/div/form/link/div/div/table/tr[5]/td/div/table/tr/td/table/tr/td/table[1]/tr[1]/td[3]/table[2]/tr/td/div/span/a', '/html/body/div[2]/div[2]/div/form/link/div/div/table/tr[5]/td/div/table/tr/td/table/tr/td/table[1]/tr[1]/td[4]/table[1]/tr/td[2]/a', '/html/body/div[2]/div[2]/div/form/link/div/div/table/tr[5]/td/div/table/tr/td/table/tr/td/table[1]/tr[1]/td[4]/table[1]/tr/td[2]/br/span', '/html/body/div[2]/div[2]/div/form/link/div/div/table/tr[5]/td/div/table/tr/td/table/tr/td/table[1]/tr[1]/td[4]/table[2]/tr/td/div/span/a', '/html/body/div[2]/div[2]/div/form/link/div/div/table/tr[5]/td/div/table/tr/td/table/tr/td/table[1]/tr[1]/td[5]/table[1]/tr/td[2]/a', '/html/body/div[2]/div[2]/div/form/link/div/div/table/tr[5]/td/div/table/tr/td/table/tr/td/table[1]/tr[1]/td[5]/table[1]/tr/td[2]/br/span', '/html/body/div[2]/div[2]/div/form/link/div/div/table/tr[5]/td/div/table/tr/td/table/tr/td/table[1]/tr[1]/td[5]/table[2]/tr/td/div/span/a', '/html/body/div[2]/div[2]/div/form/link/div/div/table/tr[5]/td/div/table/tr/td/table/tr/td/script[1]', '/html/body/div[2]/div[2]/div/form/link/div/div/table/tr[5]/td/div/table/tr/td/table/tr/td/div[11]/br/script[1]', '/html/body/div[2]/div[2]/div/form/link/div/div/table/tr[5]/td/div/table/tr/td/table/tr/td/div[11]/br/div[1]', '/html/body/div[2]/div[2]/div/form/link/div/div/table/tr[5]/td/div/table/tr/td/table/tr/td/div[11]/br/div[2]', '/html/body/div[2]/div[2]/div/form/link/div/div/table/tr[5]/td/div/table/tr/td/table/tr/td/div[11]/br/script[2]', '/html/body/div[2]/div[2]/div/form/link/div/div/table/tr[5]/td/div/table/tr/td/table/tr/td/div[11]/br', '/html/body/div[2]/div[2]/div/form/link/div/div/table/tr[5]/td/div/table/tr/td/table/tr/td/script[2]', '/html/body/div[2]/div[2]/div/form/link/div/div/table/tr[5]/td/div/table/tr/td/table/tr/td/div[14]/b', '/html/body/div[2]/div[2]/div/form/link/div/div/table/tr[5]/td/div/table/tr/td/table/tr/td/table[2]/tr/td[2]/table[1]/tr/td[2]/a', '/html/body/div[2]/div[2]/div/form/link/div/div/table/tr[5]/td/div/table/tr/td/table/tr/td/table[2]/tr/td[2]/table[2]/tr/td/div/span/a', '/html/body/div[2]/div[2]/div/form/link/div/div/table/tr[5]/td/div/table/tr/td/table/tr/td/table[2]/tr/td[3]/table[1]/tr/td[2]/a', '/html/body/div[2]/div[2]/div/form/link/div/div/table/tr[5]/td/div/table/tr/td/table/tr/td/table[2]/tr/td[3]/table[2]/tr/td/div/span/a', '/html/body/div[2]/div[2]/div/form/link/div/div/table/tr[5]/td/div/table/tr/td/table/tr/td/table[2]/tr/td[4]/table[1]/tr/td[2]/a', '/html/body/div[2]/div[2]/div/form/link/div/div/table/tr[5]/td/div/table/tr/td/table/tr/td/table[2]/tr/td[4]/table[2]/tr/td/div/span/a', '/html/body/div[2]/div[2]/div/form/link/div/div/table/tr[5]/td/div/table/tr/td/table/tr/td/table[2]/tr/td[5]/table[1]/tr/td[2]/a', '/html/body/div[2]/div[2]/div/form/link/div/div/table/tr[5]/td/div/table/tr/td/table/tr/td/table[2]/tr/td[5]/table[2]/tr/td/div/span/a', '/html/body/div[2]/div[2]/div/form/link/div/div/table/tr[5]/td/div/table/tr/td/table/tr/td/script[3]', '/html/body/div[2]/div[2]/div/form/link/div/div/table/tr[5]/td/div/table/tr/td/table/tr/td/script[4]', '/html/body/div[2]/div[2]/div/form/link/script[4]', '/html/body/div[2]/div[2]/div/form/link/script[5]', '/html/body/div[2]/div[2]/div/form/link/script[6]', '/html/body/div[2]/div[2]/div/form/link/script[7]', '/html/body/div[2]/div[2]/div/script[4]', '/html/body/div[2]/div[2]/div/table[1]/tr/td/form/table/tr[1]/td[2]/span', '/html/body/div[2]/div[2]/div/table[1]/tr/td/form/table/tr[1]/td[2]', '/html/body/div[2]/div[2]/div/table[1]/tr/td/form/table/tr[1]/td[2]/b', '/html/body/div[2]/div[2]/div/table[1]/tr/td/form/table/tr[1]/td[2]', '/html/body/div[2]/div[2]/div/table[1]/tr/td/form/table/tr[3]/td/table/tr/td[2]', '/html/body/div[2]/div[2]/div/table[1]/tr/td/form/table/tr[3]/td/table/tr/td[2]/a', '/html/body/div[2]/div[2]/div/table[1]/tr/td/form/table/tr[3]/td/table/tr/td[2]', '/html/body/div[2]/div[2]/div/div[2]/table/tr/td/table/tr[1]/td[1]/b', '/html/body/div[2]/div[2]/div/div[2]/table/tr/td/table/tr[1]/td[2]/b', '/html/body/div[2]/div[2]/div/div[2]/table/tr/td/table/tr[1]/td[3]/b', '/html/body/div[2]/div[2]/div/div[2]/table/tr/td/table/tr[1]/td[4]/b', '/html/body/div[2]/div[2]/div/div[2]/table/tr/td/table/tr[2]/td[1]/div[1]/a', '/html/body/div[2]/div[2]/div/div[2]/table/tr/td/table/tr[2]/td[1]/div[2]/a[1]', '/html/body/div[2]/div[2]/div/div[2]/table/tr/td/table/tr[2]/td[1]/div[2]/span', '/html/body/div[2]/div[2]/div/div[2]/table/tr/td/table/tr[2]/td[1]/div[2]/a[2]', '/html/body/div[2]/div[2]/div/div[2]/table/tr/td/table/tr[2]/td[1]/div[3]/a', '/html/body/div[2]/div[2]/div/div[2]/table/tr/td/table/tr[2]/td[1]/div[4]/a', '/html/body/div[2]/div[2]/div/div[2]/table/tr/td/table/tr[2]/td[1]/div[5]/a', '/html/body/div[2]/div[2]/div/div[2]/table/tr/td/table/tr[2]/td[1]/div[6]/a', '/html/body/div[2]/div[2]/div/div[2]/table/tr/td/table/tr[2]/td[2]/div[1]/a', '/html/body/div[2]/div[2]/div/div[2]/table/tr/td/table/tr[2]/td[2]/div[2]/a', '/html/body/div[2]/div[2]/div/div[2]/table/tr/td/table/tr[2]/td[2]/div[3]/a', '/html/body/div[2]/div[2]/div/div[2]/table/tr/td/table/tr[2]/td[2]/div[4]/a', '/html/body/div[2]/div[2]/div/div[2]/table/tr/td/table/tr[2]/td[2]/div[5]/a', '/html/body/div[2]/div[2]/div/div[2]/table/tr/td/table/tr[2]/td[2]/div[6]/a', '/html/body/div[2]/div[2]/div/div[2]/table/tr/td/table/tr[2]/td[3]/div[1]/a', '/html/body/div[2]/div[2]/div/div[2]/table/tr/td/table/tr[2]/td[3]/div[2]/a', '/html/body/div[2]/div[2]/div/div[2]/table/tr/td/table/tr[2]/td[3]/div[3]/a', '/html/body/div[2]/div[2]/div/div[2]/table/tr/td/table/tr[2]/td[3]/div[4]/a', '/html/body/div[2]/div[2]/div/div[2]/table/tr/td/table/tr[2]/td[4]/div[1]/a[2]', '/html/body/div[2]/div[2]/div/div[2]/table/tr/td/table/tr[2]/td[4]/div[2]/a[2]', '/html/body/div[2]/div[2]/div/div[2]/table/tr/td/table/tr[2]/td[4]/div[3]/a[2]', '/html/body/div[2]/div[2]/div/div[2]/table/tr/td/table/tr[2]/td[4]/div[4]/a[2]', '/html/body/div[2]/div[2]/div/div[2]/table/tr/td/table/tr[2]/td[4]/div[5]/a[2]', '/html/body/div[2]/div[2]/div/div[2]/table/tr/td/table/tr[2]/td[4]/div[6]/a[2]', '/html/body/div[2]/div[2]/div/div[3]/a[1]', '/html/body/div[2]/div[2]/div/div[3]/a[2]', '/html/body/div[2]/div[2]/div/div[3]/a[3]', '/html/body/div[2]/div[2]/div/div[4]/script', '/html/body/div[2]/div[2]/div/script[6]']], 'node_labels': [[3, 3, 3, 3, 3, 3, 3, 3, 3, 3, 3, 3, 3, 3, 3, 3, 3, 3, 3, 3, 3, 3, 3, 3, 3, 3, 3, 3, 3, 3, 3, 3, 3, 3, 3, 3, 3, 3, 3, 3, 3, 3, 3, 3, 3, 3, 3, 3, 3, 3, 3, 3, 3, 3, 3, 3, 3, 3, 3, 3, 3, 3, 3, 3, 3, 3, 3, 3, 3, 3, 3, 3, 3, 3, 3, 3, 3, 3, 3, 3, 3, 3, 3, 3, 3, 3, 3, 3, 3, 3, 3, 3, 3, 3, 3, 3, 3, 3, 3, 3, 3, 3, 3, 3, 3, 3, 3, 3, 3, 3, 3, 3, 3, 3, 3, 3, 3, 3, 3, 3, 3, 3, 3, 3, 3, 3, 3, 3, 3, 3, 3, 3, 3, 3, 3, 3, 3, 3, 3, 3, 3, 3, 3, 3, 3, 3, 3, 3, 3, 3, 3, 3, 3, 3, 3, 3, 3, 3, 3, 3, 3, 3, 3, 3, 3, 3, 3, 3, 3, 3, 3, 3, 3, 3, 3, 3, 3, 3, 3, 3, 3, 3, 3, 3, 3, 3, 3, 3, 3, 3, 3, 3, 3, 3, 3, 3, 3, 3, 3, 3, 3, 3, 3, 3, 3, 3, 3, 3, 3, 3, 3, 3, 3, 3, 3, 3, 3, 3, 3, 3, 3, 3, 3, 3, 3, 3, 3, 3, 3, 3, 3, 3, 3, 3, 3, 3, 3, 3, 3, 3, 3, 3, 3, 3, 3, 3, 3, 3, 3, 3, 3, 3, 3, 3, 3, 3, 3, 3, 3, 3, 3, 3, 3, 3, 3, 3, 3, 3, 3, 3, 3, 3, 3, 3, 3, 3, 3, 3, 3, 3, 3, 3, 3, 3, 3, 3, 3, 3, 3, 3, 3, 3, 3, 3, 3, 3, 3, 3, 3, 3, 3, 3, 3, 3, 3, 3, 3, 3, 3, 3, 3, 3, 3, 3, 3, 3, 3, 3, 3, 3, 3, 3, 3, 3, 3, 3, 3, 3, 3, 3, 3, 3, 3, 3, 3, 3, 3, 3, 3, 3, 3, 3, 3, 3, 3, 3, 3, 3, 3, 3, 3, 3, 3, 3, 3, 0, 3, 3, 3, 3, 3, 3, 3, 3, 3, 3, 3, 3, 3, 3, 3, 3, 3, 3, 3, 3, 3, 3, 3, 3, 3, 3, 3, 3, 3, 3, 3, 3, 3, 3, 3, 3, 3, 3, 3, 1, 3, 3, 3, 3, 1, 3, 3, 3, 3, 3, 3, 3, 3, 3, 3, 3, 3, 3, 3, 3, 3, 1, 3, 3, 3, 3, 3, 3, 3, 3, 3, 3, 1, 3, 3, 3, 3, 1, 3, 3, 3, 3, 3, 3, 0, 3, 3, 3, 3, 3, 3, 3, 3, 3, 3, 3, 3, 3, 3, 3, 3, 3, 3, 3, 3, 3, 3, 3, 3, 3, 3, 3, 3, 3, 3, 3, 3, 2, 3, 3, 3, 3, 3, 3, 3, 3, 3, 3, 3, 3, 3, 3, 3, 3, 3, 3, 3, 3, 3, 3, 3, 3, 3, 3, 3, 3, 3, 3, 3, 3, 3, 3, 3, 3, 3, 3, 3, 3, 3, 3, 3, 3, 3, 3, 3, 3, 3, 3, 3, 3, 3, 3, 3, 3, 3, 3, 3, 3, 3, 3, 3, 3, 3, 3, 3, 3, 3, 3, 3, 3, 3, 3, 3, 3, 3, 3, 3, 3, 3, 3, 3, 3, 3, 3, 3, 3, 3, 3, 3, 3, 3, 3, 3, 3, 3, 3, 3, 3, 3, 3, 3, 3, 3, 3, 3, 3, 3, 3, 3, 3, 3, 3, 3, 3, 3, 3, 3, 3, 3, 3, 3, 3, 3, 3, 3, 3, 3, 2, 3, 3, 3, 3, 3, 3, 3, 3, 3, 3, 3, 3, 3, 3, 3, 3, 3, 3, 3, 3, 3, 3, 3, 3, 3, 3, 3, 3, 3, 3, 3, 3, 3, 3, 3, 3, 3, 3, 3, 3, 3, 3, 3, 3, 3, 3, 3, 3, 3, 3, 3, 3, 3, 3, 3, 3, 3, 3, 3, 3, 3, 3, 3, 3, 3, 3, 3, 3, 3, 3, 3, 3, 3, 3, 3, 3, 3, 3, 3, 3, 3, 3, 3, 3, 3, 3, 3, 3, 3, 3, 3, 3, 3, 3, 3, 3, 3, 3, 3, 3, 0, 3, 3, 3, 3, 3, 3, 3, 3, 3, 3, 3, 3, 3, 3, 3, 3, 3, 3, 3, 3, 3, 3, 3, 3, 3, 3, 3, 3, 3, 3, 3, 3, 3, 3, 3, 3, 3, 3, 3, 3, 3, 3, 3, 3, 3, 3, 3, 3, 3, 3, 3, 3, 3, 3, 3, 3, 3, 3, 3, 3, 3, 3, 3, 3, 3, 3, 3, 3, 3, 3, 3, 3, 3, 3, 3]]}\n"
          ]
        }
      ],
      "source": [
        "print(train_data[0])"
      ]
    },
    {
      "cell_type": "markdown",
      "metadata": {
        "id": "T8EJSDe9pFiG"
      },
      "source": [
        "## Create PyTorch Dataset\n",
        "\n",
        "Next, we'll create a regular PyTorch dataset. Each item of the dataset is an HTML string, encoded using MarkupLMProcessor. Note that we initialize the processor with parse_html = False, as we have already parsed the HTML ourselves and we're providing the nodes, xpaths and node labels.\n",
        "\n",
        "Note that by default, the processor will only label the first token of a given node and label the remaining tokens with -100. you can change this by setting the `only_label_first_subword` attribute of the processor's tokenizer to `False`."
      ]
    },
    {
      "cell_type": "code",
      "execution_count": 6,
      "metadata": {
        "id": "s9dHuyYuIW4B"
      },
      "outputs": [],
      "source": [
        "from torch.utils.data import Dataset\n",
        "\n",
        "max_length=1024\n",
        "\n",
        "class MarkupLMDataset(Dataset):\n",
        "    \"\"\"Dataset for token classification with MarkupLM.\"\"\"\n",
        "\n",
        "    def __init__(self, data, processor=None, max_length=max_length):\n",
        "        self.data = data\n",
        "        self.processor = processor\n",
        "        self.max_length = max_length\n",
        "\n",
        "    def __len__(self):\n",
        "        return len(self.data)\n",
        "\n",
        "    def __getitem__(self, idx):\n",
        "        # first, get nodes, xpaths and node labels\n",
        "        item = self.data[idx]\n",
        "        nodes, xpaths, node_labels = item['nodes'], item['xpaths'], item['node_labels']\n",
        "\n",
        "        # provide to processor\n",
        "        encoding = self.processor(nodes=nodes, \n",
        "                                  xpaths=xpaths, \n",
        "                                  node_labels=node_labels, \n",
        "                                  padding=True, \n",
        "                                  truncation=True,\n",
        "                                  max_length=self.max_length, \n",
        "                                  return_tensors=\"pt\")\n",
        "\n",
        "        # remove batch dimension\n",
        "        encoding = {k: v.squeeze() for k, v in encoding.items()}\n",
        "\n",
        "        return encoding"
      ]
    },
    {
      "cell_type": "code",
      "execution_count": 7,
      "metadata": {
        "id": "WCUKWCQBJsbO"
      },
      "outputs": [
        {
          "name": "stderr",
          "output_type": "stream",
          "text": [
            "/home/savkin/vera/venv/lib/python3.8/site-packages/tqdm/auto.py:21: TqdmWarning: IProgress not found. Please update jupyter and ipywidgets. See https://ipywidgets.readthedocs.io/en/stable/user_install.html\n",
            "  from .autonotebook import tqdm as notebook_tqdm\n"
          ]
        }
      ],
      "source": [
        "from transformers import MarkupLMProcessor\n",
        "\n",
        "processor = MarkupLMProcessor.from_pretrained(\"microsoft/markuplm-base\")\n",
        "processor.parse_html = False\n",
        "\n",
        "train_dataset = MarkupLMDataset(data=train_data, processor=processor, max_length=max_length)\n",
        "valid_dataset = MarkupLMDataset(data=valid_data, processor=processor, max_length=max_length)"
      ]
    },
    {
      "cell_type": "code",
      "execution_count": 8,
      "metadata": {},
      "outputs": [],
      "source": [
        "# dataset[0]['labels']"
      ]
    },
    {
      "cell_type": "markdown",
      "metadata": {
        "id": "21smnsuRHT1L"
      },
      "source": [
        "Let's check an example:"
      ]
    },
    {
      "cell_type": "code",
      "execution_count": 9,
      "metadata": {
        "colab": {
          "base_uri": "https://localhost:8080/"
        },
        "id": "DUy59jVdJNiz",
        "outputId": "6a490859-c59b-44b5-aed2-c9a280fee8b6"
      },
      "outputs": [],
      "source": [
        "# example = dataset[0]\n",
        "# for k,v in example.items():\n",
        "#   print(k,v.shape)"
      ]
    },
    {
      "cell_type": "markdown",
      "metadata": {
        "id": "VIjOQ1JBHVID"
      },
      "source": [
        "Let's decode the input_ids back to text:"
      ]
    },
    {
      "cell_type": "code",
      "execution_count": 10,
      "metadata": {
        "colab": {
          "base_uri": "https://localhost:8080/",
          "height": 143
        },
        "id": "TMrAPw06KpYk",
        "outputId": "d19a80e4-c815-4582-f03d-25e55c20993a"
      },
      "outputs": [],
      "source": [
        "# processor.decode(example['input_ids'])"
      ]
    },
    {
      "cell_type": "markdown",
      "metadata": {
        "id": "rlBLWvTWHXXV"
      },
      "source": [
        "Let's verify the correspondence between input_ids and labels. -100 means that those tokens will be ignored by the loss function, hence these won't contribute to the final loss. "
      ]
    },
    {
      "cell_type": "code",
      "execution_count": 11,
      "metadata": {
        "colab": {
          "base_uri": "https://localhost:8080/"
        },
        "id": "jQSPFE02Ks7C",
        "outputId": "dc7dbf76-18dd-4f77-f679-6fffb37c2b4e"
      },
      "outputs": [],
      "source": [
        "# for id, label in zip(example['input_ids'].tolist(), example['labels'].tolist()):\n",
        "#   if label != -100:\n",
        "#     print(processor.decode([id]), id2label[label])\n",
        "#   else:\n",
        "#     print(processor.decode([id]), label)"
      ]
    },
    {
      "cell_type": "markdown",
      "metadata": {
        "id": "r3M3GO0epfN6"
      },
      "source": [
        "## Create PyTorch Dataloaders\n",
        "\n",
        "The next step is to create a PyTorch DataLoader, which allows us to get batches from the dataset."
      ]
    },
    {
      "cell_type": "code",
      "execution_count": 12,
      "metadata": {
        "id": "Nw8AYMRtJPXh"
      },
      "outputs": [],
      "source": [
        "from torch.utils.data import DataLoader\n",
        "\n",
        "train_dataloader = DataLoader(train_dataset, batch_size=64, shuffle=True)\n",
        "eval_dataloader = DataLoader(valid_dataset, batch_size=64, shuffle=True)"
      ]
    },
    {
      "cell_type": "markdown",
      "metadata": {
        "id": "-9RF4YuYtPfZ"
      },
      "source": [
        "## Define model\n",
        "\n",
        "We define the model here, which is a MarkupLM-base Transformer, with a token classifier head on top. The token classifier will have randomly initialized weights, while the base Transformer has pre-trained weights.\n",
        "\n"
      ]
    },
    {
      "cell_type": "code",
      "execution_count": 13,
      "metadata": {
        "colab": {
          "base_uri": "https://localhost:8080/"
        },
        "id": "JyAcG4VttQPF",
        "outputId": "27d68619-6d2c-4296-d3d9-7b5df27fb105"
      },
      "outputs": [
        {
          "name": "stderr",
          "output_type": "stream",
          "text": [
            "Some weights of MarkupLMForTokenClassification were not initialized from the model checkpoint at microsoft/markuplm-base and are newly initialized: ['classifier.weight', 'classifier.bias']\n",
            "You should probably TRAIN this model on a down-stream task to be able to use it for predictions and inference.\n"
          ]
        }
      ],
      "source": [
        "from transformers import MarkupLMForTokenClassification\n",
        "\n",
        "id2label = {0: \"model\", 1: \"price\", 2: \"manufacturer\", 3: \"other\"}\n",
        "label2id = {label:id for id, label in id2label.items()}\n",
        "\n",
        "model = MarkupLMForTokenClassification.from_pretrained(\"microsoft/markuplm-base\", id2label=id2label, label2id=label2id)"
      ]
    },
    {
      "cell_type": "markdown",
      "metadata": {
        "id": "_PNbHdFRJtsA"
      },
      "source": [
        "We also create a label_list, where each tag starts with a B (as seqeval expects the labels to be in IOB format)."
      ]
    },
    {
      "cell_type": "code",
      "execution_count": 14,
      "metadata": {
        "colab": {
          "base_uri": "https://localhost:8080/"
        },
        "id": "wJsuIvJiJURr",
        "outputId": "b546f913-44df-4e2b-d47a-362a665807b1"
      },
      "outputs": [
        {
          "data": {
            "text/plain": [
              "['B-model', 'B-price', 'B-manufacturer', 'B-other']"
            ]
          },
          "execution_count": 14,
          "metadata": {},
          "output_type": "execute_result"
        }
      ],
      "source": [
        "label_list = [\"B-\" + x for x in list(id2label.values())]\n",
        "label_list"
      ]
    },
    {
      "cell_type": "markdown",
      "metadata": {
        "id": "ltFVhjQxH3ju"
      },
      "source": [
        "We also define metric calculations (as we'd like to know the F1 score etc. during training). We'll use 🤗 [Evaluate](https://huggingface.co/docs/evaluate/index) for that, which is a library containing many tools for evaluating ML models."
      ]
    },
    {
      "cell_type": "code",
      "execution_count": 15,
      "metadata": {
        "id": "AY2-kD30Fqrh"
      },
      "outputs": [],
      "source": [
        "# import evaluate\n",
        "\n",
        "# # Metric\n",
        "# metric = evaluate.load(\"seqeval\")\n",
        "\n",
        "# def get_labels(y_pred, y_true):\n",
        "#     # Transform predictions and references tensos to numpy arrays\n",
        "\n",
        "#     # y_pred = predictions.detach().cpu().clone().numpy()\n",
        "#     # y_true = references.detach().cpu().clone().numpy()\n",
        "\n",
        "#     # Remove ignored index (special tokens)\n",
        "#     true_predictions = [\n",
        "#         [label_list[p] for (p, l) in zip(pred, gold_label) if l != -100]\n",
        "#         for pred, gold_label in zip(y_pred, y_true)\n",
        "#     ]\n",
        "#     true_labels = [\n",
        "#         [label_list[l] for (p, l) in zip(pred, gold_label) if l != -100]\n",
        "#         for pred, gold_label in zip(y_pred, y_true)\n",
        "#     ]\n",
        "#     return true_predictions, true_labels\n",
        "\n",
        "\n",
        "# def compute_metrics(eval_pred):\n",
        "#     logits, labels = eval_pred\n",
        "    \n",
        "\n",
        "#     predictions = np.argmax(logits, axis=-1)\n",
        "#     # predictions = logits.argmax(dim=-1)\n",
        "#     print(labels)\n",
        "#     print(\"________________\")\n",
        "    \n",
        "#     preds, refs = get_labels(predictions, labels)\n",
        "#     print(preds)\n",
        "#     print(\"________________\")\n",
        "#     print(refs)\n",
        "\n",
        "#     return metric.compute(predictions=predictions, references=labels)\n",
        "\n"
      ]
    },
    {
      "cell_type": "code",
      "execution_count": 16,
      "metadata": {},
      "outputs": [],
      "source": [
        "# from transformers import Trainer, TrainingArguments\n",
        "\n",
        "# train_args = TrainingArguments(\n",
        "#     output_dir=\"train_logs\",\n",
        "#     evaluation_strategy=\"epoch\",\n",
        "#     learning_rate=2e-05,\n",
        "#     num_train_epochs=10,\n",
        "#     per_device_train_batch_size=24,\n",
        "#     per_device_eval_batch_size=24,\n",
        "#     warmup_ratio=0.1\n",
        "# )\n",
        "\n",
        "# trainer = Trainer(\n",
        "#     model,\n",
        "#     args=train_args,\n",
        "#     train_dataset=train_dataset,\n",
        "#     eval_dataset=valid_dataset,\n",
        "#     compute_metrics=compute_metrics\n",
        "# )\n",
        "\n",
        "# trainer.evaluate()"
      ]
    },
    {
      "cell_type": "code",
      "execution_count": 17,
      "metadata": {},
      "outputs": [],
      "source": [
        "import evaluate\n",
        "\n",
        "# Metric\n",
        "metric = evaluate.load(\"seqeval\")\n",
        "\n",
        "def get_labels(predictions, references):\n",
        "    # Transform predictions and references tensos to numpy arrays\n",
        "    if device.type == \"cpu\":\n",
        "        y_pred = predictions.detach().clone().numpy()\n",
        "        y_true = references.detach().clone().numpy()\n",
        "    else:\n",
        "        y_pred = predictions.detach().cpu().clone().numpy()\n",
        "        y_true = references.detach().cpu().clone().numpy()\n",
        "\n",
        "\n",
        "    # Remove ignored index (special tokens)\n",
        "    true_predictions = [\n",
        "        [label_list[p] for (p, l) in zip(pred, gold_label) if l != -100]\n",
        "        for pred, gold_label in zip(y_pred, y_true)\n",
        "    ]\n",
        "    true_labels = [\n",
        "        [label_list[l] for (p, l) in zip(pred, gold_label) if l != -100]\n",
        "        for pred, gold_label in zip(y_pred, y_true)\n",
        "    ]\n",
        "    return true_predictions, true_labels\n",
        "\n",
        "def compute_metrics(return_entity_level_metrics=True):\n",
        "    results = metric.compute()\n",
        "    if return_entity_level_metrics:\n",
        "        # Unpack nested dictionaries\n",
        "        final_results = {}\n",
        "        for key, value in results.items():\n",
        "            if isinstance(value, dict):\n",
        "                for n, v in value.items():\n",
        "                    final_results[f\"{key}_{n}\"] = v\n",
        "            else:\n",
        "                final_results[key] = value\n",
        "        return final_results\n",
        "    else:\n",
        "        return {\n",
        "            \"precision\": results[\"overall_precision\"],\n",
        "            \"recall\": results[\"overall_recall\"],\n",
        "            \"f1\": results[\"overall_f1\"],\n",
        "            \"accuracy\": results[\"overall_accuracy\"],\n",
        "        }"
      ]
    },
    {
      "cell_type": "markdown",
      "metadata": {
        "id": "r2RfrAhyKIcJ"
      },
      "source": [
        "## Train\n",
        "\n",
        "Alright, let's train! Here we're training the model in native PyTorch, but of course you could also opt for things like 🤗 Accelerate, 🤗 Trainer, PyTorch Lightning,..."
      ]
    },
    {
      "cell_type": "code",
      "execution_count": 19,
      "metadata": {
        "colab": {
          "base_uri": "https://localhost:8080/",
          "height": 733,
          "referenced_widgets": [
            "1efaab196cdf413290a431658a7c37e8",
            "e950ba6862394e4483a706a568dcf3cb",
            "d8e5f48f3f7840e0b838df80f9d07527",
            "5449b664cffc4fbb8418fddcd42259b5",
            "2a11a94624d34901806ceafd5108ca41",
            "9209dbaeba4941a5841cc1ca3a4ae845",
            "4b58dbaea1e64cc0887d32810f0b2994",
            "111db982b6c34747bd360624ea4cbe5e",
            "295b69341c314474acc9de4eaab35361",
            "18aa73713f2d4662b644a5da65ed0abc",
            "709a75a2ea9544f3af191e5da3f455b1",
            "41b1ff7ceb27460f8d728e6adbaabb73",
            "77abcf0972874873bcd42396f9df50e8",
            "c804100a751046b880c6f3d351fa8bc7",
            "c2241e09ad504051a7eb87496c53f1a5",
            "17e96e75dd304daf900d88d4f7048c6a",
            "309e78727d274c75bdfbe6f3e0bc382c",
            "b5ff4bccd4624e84bb0fd0a5f9039564",
            "fee7a9b53c43490ea51965ec41493e32",
            "2b0d37003ffd4f548bb493ff2f96fd40",
            "efe083fa06ba4ef985fb8994f1b06c14",
            "560a2a34c5d84469b61da36f5884a102",
            "1b31f8ee960a4559b7e928d98acd088b",
            "daeabfc06460439ebde9fb9436ff244a",
            "90385338c5694374b42d47c84a76fcd9",
            "fd2e438e8b4a47928e8d42476dca5c6a",
            "99d03b6b90ae412891ed40a7f7a8fc17",
            "d78d5b3f146f4604a78c08caae41b4d3",
            "fa4d09ebbd604480bb7cfeaf6bcb4a2b",
            "2884c008a0064b488b0e5e8882ab4db8",
            "ff10c7e80e604bf9934af3d6c87b3d69",
            "b5c7931dc5fb471f99612f60c6b1b6e6",
            "75aa20be4912412b9326ad4fd175e94c",
            "fb87df90c6754443b848d2906b70c20c",
            "897d441504394c13be74d6527d43e2ad",
            "c5cf507b895043df88478cb0b36c88c8",
            "34cf46270d844b4e9d9de27d9437a0bf",
            "95fc5b04e9174cda9e6ba8859355eac2",
            "0c145c54461e4f748e630608e572d656",
            "a3d2d3776c50425e82e880aaf53266c5",
            "810c4546e9a54279a0169a8f219921d1",
            "4a5f6116b4504b79845fe0f024f76045",
            "a7e6451644684b0ba08b1fef97d8bffe",
            "0bd6f854922b42209c34644d064fc784",
            "9a960e309c4547739b85684fd22a7434",
            "1b04d7d7c64e46c7a65fec70a8aa6d47",
            "62ca6a355eba4d8b9246196543651611",
            "1dfb949779dd4c63a6008aa28c7ce877",
            "a3d7e773a941411d843e1d97501bbbc1",
            "4161733518e9413dbfd46df36b44cdfc",
            "fd55d9ea99994dbe9fcbde47912f6d3c",
            "c2bd8b713ab34602882409fce6ea137c",
            "bad50a6972ba4cc89ace07948e418348",
            "2403434c28334c5b9fdc25e39177673d",
            "a7268c5d50a8461eb505c826d7e7fa8f"
          ]
        },
        "id": "JMqpXGx6sJ7u",
        "outputId": "1d8b34aa-531b-4590-b718-7fde4ff85f97"
      },
      "outputs": [
        {
          "name": "stderr",
          "output_type": "stream",
          "text": [
            "  0%|          | 0/49 [00:04<?, ?it/s]"
          ]
        },
        {
          "name": "stdout",
          "output_type": "stream",
          "text": [
            "[torch.Size([64, 1024]), torch.Size([64, 1024]), torch.Size([64, 1024]), torch.Size([64, 1024, 50]), torch.Size([64, 1024, 50]), torch.Size([64, 1024])]\n"
          ]
        },
        {
          "name": "stderr",
          "output_type": "stream",
          "text": [
            "\n"
          ]
        },
        {
          "ename": "Exception",
          "evalue": "",
          "output_type": "error",
          "traceback": [
            "\u001b[0;31m---------------------------------------------------------------------------\u001b[0m",
            "\u001b[0;31mException\u001b[0m                                 Traceback (most recent call last)",
            "\u001b[1;32m/home/savkin/vera/train.ipynb Cell 30\u001b[0m line \u001b[0;36m1\n\u001b[1;32m     <a href='vscode-notebook-cell://ssh-remote%2Bgpu11/home/savkin/vera/train.ipynb#X41sdnNjb2RlLXJlbW90ZQ%3D%3D?line=12'>13</a>\u001b[0m inputs \u001b[39m=\u001b[39m {k:v\u001b[39m.\u001b[39mto(device) \u001b[39mfor\u001b[39;00m k,v \u001b[39min\u001b[39;00m batch\u001b[39m.\u001b[39mitems()}\n\u001b[1;32m     <a href='vscode-notebook-cell://ssh-remote%2Bgpu11/home/savkin/vera/train.ipynb#X41sdnNjb2RlLXJlbW90ZQ%3D%3D?line=14'>15</a>\u001b[0m \u001b[39mprint\u001b[39m([x\u001b[39m.\u001b[39msize() \u001b[39mfor\u001b[39;00m x \u001b[39min\u001b[39;00m batch\u001b[39m.\u001b[39mvalues()])\n\u001b[0;32m---> <a href='vscode-notebook-cell://ssh-remote%2Bgpu11/home/savkin/vera/train.ipynb#X41sdnNjb2RlLXJlbW90ZQ%3D%3D?line=15'>16</a>\u001b[0m \u001b[39mraise\u001b[39;00m \u001b[39mException\u001b[39;00m\n\u001b[1;32m     <a href='vscode-notebook-cell://ssh-remote%2Bgpu11/home/savkin/vera/train.ipynb#X41sdnNjb2RlLXJlbW90ZQ%3D%3D?line=17'>18</a>\u001b[0m \u001b[39m# zero the parameter gradients\u001b[39;00m\n\u001b[1;32m     <a href='vscode-notebook-cell://ssh-remote%2Bgpu11/home/savkin/vera/train.ipynb#X41sdnNjb2RlLXJlbW90ZQ%3D%3D?line=18'>19</a>\u001b[0m optimizer\u001b[39m.\u001b[39mzero_grad()\n",
            "\u001b[0;31mException\u001b[0m: "
          ]
        }
      ],
      "source": [
        "import torch\n",
        "from torch.optim import AdamW\n",
        "from tqdm.auto import tqdm\n",
        "\n",
        "optimizer = AdamW(model.parameters(), lr=2e-5)\n",
        "\n",
        "model.to(device)\n",
        "\n",
        "model.train()\n",
        "for epoch in range(10):  # loop over the dataset multiple times\n",
        "    for batch in tqdm(train_dataloader):\n",
        "        # get the inputs;\n",
        "        inputs = {k:v.to(device) for k,v in batch.items()}\n",
        "\n",
        "        \n",
        "\n",
        "        # zero the parameter gradients\n",
        "        optimizer.zero_grad()\n",
        "\n",
        "        # forward + backward + optimize\n",
        "        outputs = model(**inputs)\n",
        "\n",
        "        loss = outputs.loss\n",
        "        loss.backward()\n",
        "        optimizer.step()\n",
        "\n",
        "        print(\"Loss:\", loss.item())\n",
        "\n",
        "        predictions = outputs.logits.argmax(dim=-1)\n",
        "        labels = batch[\"labels\"]\n",
        "        preds, refs = get_labels(predictions, labels)\n",
        "        metric.add_batch(\n",
        "            predictions=preds,\n",
        "            references=refs,\n",
        "        )\n",
        "\n",
        "    eval_metric = compute_metrics()\n",
        "    print(f\"Epoch {epoch}:\", eval_metric)"
      ]
    },
    {
      "cell_type": "code",
      "execution_count": null,
      "metadata": {},
      "outputs": [],
      "source": [
        "metric = evaluate.load(\"seqeval\")\n",
        "\n",
        "all_preds = []\n",
        "all_refs = []\n",
        "\n",
        "model.eval()\n",
        "for batch in eval_dataloader:\n",
        "    batch = {k: v.to(device) for k, v in batch.items()}\n",
        "    # with torch.no_grad():\n",
        "    #     outputs = model(**batch)\n",
        "\n",
        "\n",
        "    # predictions = outputs.logits.argmax(dim=-1)\n",
        "    labels = batch[\"labels\"]\n",
        "    # print(len(labels))\n",
        "\n",
        "    # DELETE ME DELETE ME DELETE ME DELETE ME DELETE ME DELETE ME DELETE ME DELETE ME DELETE ME DELETE ME DELETE ME \n",
        "    # predictions = labels\n",
        "    # preds, refs = get_labels(predictions, labels)\n",
        "    # print(len(refs))\n",
        "\n",
        "    # all_preds += preds\n",
        "    all_refs += labels\n",
        "\n",
        "    # print(compute_metrics())\n",
        "# metric.add_batch(\n",
        "#         predictions=all_preds,\n",
        "#         references=all_refs,\n",
        "#     )\n",
        "# eval_metrics = metric.compute()"
      ]
    },
    {
      "cell_type": "code",
      "execution_count": null,
      "metadata": {},
      "outputs": [],
      "source": [
        "res = {}\n",
        "\n",
        "for x in all_refs:\n",
        "    for y in x:\n",
        "        y = int(y)\n",
        "        if y in res:\n",
        "            res[y] += 1\n",
        "        else:\n",
        "            res[y] = 1\n",
        "print(res)"
      ]
    },
    {
      "cell_type": "code",
      "execution_count": null,
      "metadata": {},
      "outputs": [],
      "source": [
        "print(all_refs[0])"
      ]
    },
    {
      "cell_type": "code",
      "execution_count": null,
      "metadata": {},
      "outputs": [],
      "source": [
        "eval_metrics"
      ]
    },
    {
      "cell_type": "code",
      "execution_count": null,
      "metadata": {},
      "outputs": [],
      "source": [
        "from collections import Counter\n",
        "\n",
        "# count = {\n",
        "#     \"model\": 0,\n",
        "#     \"manufacturer\": 0,\n",
        "#     \"other\": 0,\n",
        "#     \"price\": 0\n",
        "# }\n",
        "\n",
        "count = {\n",
        "    0: 0,\n",
        "    1: 0,\n",
        "    2: 0,\n",
        "    3: 0\n",
        "}\n",
        "\n",
        "for example in valid_data:\n",
        "    example_cnt = Counter(example[\"node_labels\"][0])\n",
        "    # print(example_cnt)\n",
        "    for key in count.keys():\n",
        "        count[key] += example_cnt[key]\n",
        "\n",
        "print(count)"
      ]
    },
    {
      "cell_type": "markdown",
      "metadata": {
        "id": "JE12rK9mLCor"
      },
      "source": [
        "## Inference\n",
        "\n",
        "Let's try out the model on a new web page for which we have the nodes and xpaths. Here we'll just use one of our training set."
      ]
    },
    {
      "cell_type": "code",
      "execution_count": null,
      "metadata": {
        "colab": {
          "base_uri": "https://localhost:8080/"
        },
        "id": "ymI2oy8ULQR_",
        "outputId": "064c4ced-508b-4872-ee88-f7c78bcc3a3b"
      },
      "outputs": [],
      "source": [
        "nodes = data[0]['nodes']\n",
        "xpaths = data[0]['xpaths']\n",
        "node_labels = data[0]['node_labels']\n",
        "print(\"Nodes:\", nodes)\n",
        "print(\"Xpaths:\", xpaths)"
      ]
    },
    {
      "cell_type": "markdown",
      "metadata": {
        "id": "2jQtg6oQKWZR"
      },
      "source": [
        "We'll prepare the example for the model using the processor. Note that we're passing `return_offsets_mapping=True`, as the offsets allow us to determine which tokens are at the start of a given word at which aren't."
      ]
    },
    {
      "cell_type": "code",
      "execution_count": null,
      "metadata": {
        "colab": {
          "base_uri": "https://localhost:8080/"
        },
        "id": "n50NqF54Lbae",
        "outputId": "cde4d236-c885-4844-ede8-13d2f0f7f698"
      },
      "outputs": [],
      "source": [
        "# prepare for model\n",
        "# note that you don't need to prepare node_labels, we just have them available here so we'll compare to the ground truth\n",
        "# print(processor.max_length)\n",
        "encoding = processor(nodes=nodes, xpaths=xpaths, node_labels=node_labels, truncation=True, max_length=max_length, return_offsets_mapping=True, return_tensors=\"pt\").to(device)\n",
        "for k,v in encoding.items():\n",
        "  print(k,v.shape)"
      ]
    },
    {
      "cell_type": "markdown",
      "metadata": {
        "id": "I-W-GXeELgJ1"
      },
      "source": [
        "Let's perform a forward pass:"
      ]
    },
    {
      "cell_type": "code",
      "execution_count": null,
      "metadata": {
        "id": "x-h3hDVxLijL"
      },
      "outputs": [],
      "source": [
        "# we don't need the offset mapping and labels for the forward pass\n",
        "offset_mapping = encoding.pop(\"offset_mapping\")\n",
        "labels = encoding.pop(\"labels\")\n",
        "\n",
        "# forward pass\n",
        "with torch.no_grad():\n",
        "  outputs = model(**encoding)"
      ]
    },
    {
      "cell_type": "markdown",
      "metadata": {
        "id": "Udp-oVfDLlvA"
      },
      "source": [
        "The model outputs logits of shape (batch_size, seq_len, num_labels). We just take the highest logit (score) per token as prediction:"
      ]
    },
    {
      "cell_type": "code",
      "execution_count": null,
      "metadata": {
        "colab": {
          "base_uri": "https://localhost:8080/"
        },
        "id": "dWdwzINYLoFd",
        "outputId": "67ce9009-0c57-43a6-c6fa-08aa06569f35"
      },
      "outputs": [],
      "source": [
        "predictions = outputs.logits.argmax(-1)\n",
        "print(predictions)"
      ]
    },
    {
      "cell_type": "markdown",
      "metadata": {
        "id": "TkI-FtHlQ2Hb"
      },
      "source": [
        "The model makes predictions at the token level, however we're only interested in the predicted label for the first token of each node.\n",
        "\n",
        "This can be achieved by accessing the word_ids (to know whether or not the token is a special token or not) and the offset_mapping (to know whether or not the token is the first of a particular node)."
      ]
    },
    {
      "cell_type": "code",
      "execution_count": null,
      "metadata": {
        "id": "byCinM3WOYSL"
      },
      "outputs": [],
      "source": [
        "results = {\"Node\": [], \"Predicted\": [], \"Ground truth\": []}\n",
        "\n",
        "for pred_id, word_id, offset, label_id in zip(predictions[0].tolist(), encoding.word_ids(0), offset_mapping[0].tolist(), labels[0].tolist()):\n",
        "  if word_id is not None and offset[0] == 0:\n",
        "    # print(f\"Node: {nodes[0][word_id]}\")\n",
        "    # print(f\"Predicted: {id2label[pred_id]}\")\n",
        "    # print(f\"Ground truth: {id2label[label_id]}\")\n",
        "    # print(\"----------\")\n",
        "    results[\"Node\"].append(nodes[0][word_id])\n",
        "    results[\"Predicted\"].append(id2label[pred_id])\n",
        "    results[\"Ground truth\"].append(id2label[label_id])"
      ]
    },
    {
      "cell_type": "markdown",
      "metadata": {
        "id": "nqUsGFfZLxVl"
      },
      "source": [
        "Let's pretty print the results as a Pandas dataframe:"
      ]
    },
    {
      "cell_type": "code",
      "execution_count": null,
      "metadata": {
        "colab": {
          "base_uri": "https://localhost:8080/",
          "height": 206
        },
        "id": "dBCkbX-_QUUa",
        "outputId": "5090c1a0-c0ca-4aaf-de1b-821ff6249d1e"
      },
      "outputs": [],
      "source": [
        "import pandas as pd\n",
        "\n",
        "pd.DataFrame.from_dict(results).head()"
      ]
    }
  ],
  "metadata": {
    "accelerator": "GPU",
    "colab": {
      "authorship_tag": "ABX9TyMOoO54DUdf281sZF6bB3Ce",
      "collapsed_sections": [],
      "include_colab_link": true,
      "mount_file_id": "1d5VDVNQZqiF2mYAzIfzL_4g8IdVnRb1M",
      "provenance": []
    },
    "kernelspec": {
      "display_name": "Python 3",
      "name": "python3"
    },
    "language_info": {
      "codemirror_mode": {
        "name": "ipython",
        "version": 3
      },
      "file_extension": ".py",
      "mimetype": "text/x-python",
      "name": "python",
      "nbconvert_exporter": "python",
      "pygments_lexer": "ipython3",
      "version": "3.8.10"
    },
    "widgets": {
      "application/vnd.jupyter.widget-state+json": {
        "0bd6f854922b42209c34644d064fc784": {
          "model_module": "@jupyter-widgets/controls",
          "model_module_version": "1.5.0",
          "model_name": "DescriptionStyleModel",
          "state": {
            "_model_module": "@jupyter-widgets/controls",
            "_model_module_version": "1.5.0",
            "_model_name": "DescriptionStyleModel",
            "_view_count": null,
            "_view_module": "@jupyter-widgets/base",
            "_view_module_version": "1.2.0",
            "_view_name": "StyleView",
            "description_width": ""
          }
        },
        "0c145c54461e4f748e630608e572d656": {
          "model_module": "@jupyter-widgets/base",
          "model_module_version": "1.2.0",
          "model_name": "LayoutModel",
          "state": {
            "_model_module": "@jupyter-widgets/base",
            "_model_module_version": "1.2.0",
            "_model_name": "LayoutModel",
            "_view_count": null,
            "_view_module": "@jupyter-widgets/base",
            "_view_module_version": "1.2.0",
            "_view_name": "LayoutView",
            "align_content": null,
            "align_items": null,
            "align_self": null,
            "border": null,
            "bottom": null,
            "display": null,
            "flex": null,
            "flex_flow": null,
            "grid_area": null,
            "grid_auto_columns": null,
            "grid_auto_flow": null,
            "grid_auto_rows": null,
            "grid_column": null,
            "grid_gap": null,
            "grid_row": null,
            "grid_template_areas": null,
            "grid_template_columns": null,
            "grid_template_rows": null,
            "height": null,
            "justify_content": null,
            "justify_items": null,
            "left": null,
            "margin": null,
            "max_height": null,
            "max_width": null,
            "min_height": null,
            "min_width": null,
            "object_fit": null,
            "object_position": null,
            "order": null,
            "overflow": null,
            "overflow_x": null,
            "overflow_y": null,
            "padding": null,
            "right": null,
            "top": null,
            "visibility": null,
            "width": null
          }
        },
        "111db982b6c34747bd360624ea4cbe5e": {
          "model_module": "@jupyter-widgets/base",
          "model_module_version": "1.2.0",
          "model_name": "LayoutModel",
          "state": {
            "_model_module": "@jupyter-widgets/base",
            "_model_module_version": "1.2.0",
            "_model_name": "LayoutModel",
            "_view_count": null,
            "_view_module": "@jupyter-widgets/base",
            "_view_module_version": "1.2.0",
            "_view_name": "LayoutView",
            "align_content": null,
            "align_items": null,
            "align_self": null,
            "border": null,
            "bottom": null,
            "display": null,
            "flex": null,
            "flex_flow": null,
            "grid_area": null,
            "grid_auto_columns": null,
            "grid_auto_flow": null,
            "grid_auto_rows": null,
            "grid_column": null,
            "grid_gap": null,
            "grid_row": null,
            "grid_template_areas": null,
            "grid_template_columns": null,
            "grid_template_rows": null,
            "height": null,
            "justify_content": null,
            "justify_items": null,
            "left": null,
            "margin": null,
            "max_height": null,
            "max_width": null,
            "min_height": null,
            "min_width": null,
            "object_fit": null,
            "object_position": null,
            "order": null,
            "overflow": null,
            "overflow_x": null,
            "overflow_y": null,
            "padding": null,
            "right": null,
            "top": null,
            "visibility": null,
            "width": null
          }
        },
        "13540c3628654bed8a11669c7070f499": {
          "model_module": "@jupyter-widgets/controls",
          "model_module_version": "1.5.0",
          "model_name": "HTMLModel",
          "state": {
            "_dom_classes": [],
            "_model_module": "@jupyter-widgets/controls",
            "_model_module_version": "1.5.0",
            "_model_name": "HTMLModel",
            "_view_count": null,
            "_view_module": "@jupyter-widgets/controls",
            "_view_module_version": "1.5.0",
            "_view_name": "HTMLView",
            "description": "",
            "description_tooltip": null,
            "layout": "IPY_MODEL_50b92ebd8a87409bbca2981181978509",
            "placeholder": "​",
            "style": "IPY_MODEL_7b94dad419b641fca3c7eac0d1c5ffc2",
            "value": " 0/0 [00:00&lt;?, ?it/s]"
          }
        },
        "17e96e75dd304daf900d88d4f7048c6a": {
          "model_module": "@jupyter-widgets/base",
          "model_module_version": "1.2.0",
          "model_name": "LayoutModel",
          "state": {
            "_model_module": "@jupyter-widgets/base",
            "_model_module_version": "1.2.0",
            "_model_name": "LayoutModel",
            "_view_count": null,
            "_view_module": "@jupyter-widgets/base",
            "_view_module_version": "1.2.0",
            "_view_name": "LayoutView",
            "align_content": null,
            "align_items": null,
            "align_self": null,
            "border": null,
            "bottom": null,
            "display": null,
            "flex": null,
            "flex_flow": null,
            "grid_area": null,
            "grid_auto_columns": null,
            "grid_auto_flow": null,
            "grid_auto_rows": null,
            "grid_column": null,
            "grid_gap": null,
            "grid_row": null,
            "grid_template_areas": null,
            "grid_template_columns": null,
            "grid_template_rows": null,
            "height": null,
            "justify_content": null,
            "justify_items": null,
            "left": null,
            "margin": null,
            "max_height": null,
            "max_width": null,
            "min_height": null,
            "min_width": null,
            "object_fit": null,
            "object_position": null,
            "order": null,
            "overflow": null,
            "overflow_x": null,
            "overflow_y": null,
            "padding": null,
            "right": null,
            "top": null,
            "visibility": null,
            "width": null
          }
        },
        "18aa73713f2d4662b644a5da65ed0abc": {
          "model_module": "@jupyter-widgets/base",
          "model_module_version": "1.2.0",
          "model_name": "LayoutModel",
          "state": {
            "_model_module": "@jupyter-widgets/base",
            "_model_module_version": "1.2.0",
            "_model_name": "LayoutModel",
            "_view_count": null,
            "_view_module": "@jupyter-widgets/base",
            "_view_module_version": "1.2.0",
            "_view_name": "LayoutView",
            "align_content": null,
            "align_items": null,
            "align_self": null,
            "border": null,
            "bottom": null,
            "display": null,
            "flex": null,
            "flex_flow": null,
            "grid_area": null,
            "grid_auto_columns": null,
            "grid_auto_flow": null,
            "grid_auto_rows": null,
            "grid_column": null,
            "grid_gap": null,
            "grid_row": null,
            "grid_template_areas": null,
            "grid_template_columns": null,
            "grid_template_rows": null,
            "height": null,
            "justify_content": null,
            "justify_items": null,
            "left": null,
            "margin": null,
            "max_height": null,
            "max_width": null,
            "min_height": null,
            "min_width": null,
            "object_fit": null,
            "object_position": null,
            "order": null,
            "overflow": null,
            "overflow_x": null,
            "overflow_y": null,
            "padding": null,
            "right": null,
            "top": null,
            "visibility": null,
            "width": null
          }
        },
        "1b04d7d7c64e46c7a65fec70a8aa6d47": {
          "model_module": "@jupyter-widgets/controls",
          "model_module_version": "1.5.0",
          "model_name": "HTMLModel",
          "state": {
            "_dom_classes": [],
            "_model_module": "@jupyter-widgets/controls",
            "_model_module_version": "1.5.0",
            "_model_name": "HTMLModel",
            "_view_count": null,
            "_view_module": "@jupyter-widgets/controls",
            "_view_module_version": "1.5.0",
            "_view_name": "HTMLView",
            "description": "",
            "description_tooltip": null,
            "layout": "IPY_MODEL_4161733518e9413dbfd46df36b44cdfc",
            "placeholder": "​",
            "style": "IPY_MODEL_fd55d9ea99994dbe9fcbde47912f6d3c",
            "value": "100%"
          }
        },
        "1b31f8ee960a4559b7e928d98acd088b": {
          "model_module": "@jupyter-widgets/controls",
          "model_module_version": "1.5.0",
          "model_name": "HBoxModel",
          "state": {
            "_dom_classes": [],
            "_model_module": "@jupyter-widgets/controls",
            "_model_module_version": "1.5.0",
            "_model_name": "HBoxModel",
            "_view_count": null,
            "_view_module": "@jupyter-widgets/controls",
            "_view_module_version": "1.5.0",
            "_view_name": "HBoxView",
            "box_style": "",
            "children": [
              "IPY_MODEL_daeabfc06460439ebde9fb9436ff244a",
              "IPY_MODEL_90385338c5694374b42d47c84a76fcd9",
              "IPY_MODEL_fd2e438e8b4a47928e8d42476dca5c6a"
            ],
            "layout": "IPY_MODEL_99d03b6b90ae412891ed40a7f7a8fc17"
          }
        },
        "1dfb949779dd4c63a6008aa28c7ce877": {
          "model_module": "@jupyter-widgets/controls",
          "model_module_version": "1.5.0",
          "model_name": "HTMLModel",
          "state": {
            "_dom_classes": [],
            "_model_module": "@jupyter-widgets/controls",
            "_model_module_version": "1.5.0",
            "_model_name": "HTMLModel",
            "_view_count": null,
            "_view_module": "@jupyter-widgets/controls",
            "_view_module_version": "1.5.0",
            "_view_name": "HTMLView",
            "description": "",
            "description_tooltip": null,
            "layout": "IPY_MODEL_2403434c28334c5b9fdc25e39177673d",
            "placeholder": "​",
            "style": "IPY_MODEL_a7268c5d50a8461eb505c826d7e7fa8f",
            "value": " 5/5 [00:02&lt;00:00,  2.68it/s]"
          }
        },
        "1efaab196cdf413290a431658a7c37e8": {
          "model_module": "@jupyter-widgets/controls",
          "model_module_version": "1.5.0",
          "model_name": "HBoxModel",
          "state": {
            "_dom_classes": [],
            "_model_module": "@jupyter-widgets/controls",
            "_model_module_version": "1.5.0",
            "_model_name": "HBoxModel",
            "_view_count": null,
            "_view_module": "@jupyter-widgets/controls",
            "_view_module_version": "1.5.0",
            "_view_name": "HBoxView",
            "box_style": "",
            "children": [
              "IPY_MODEL_e950ba6862394e4483a706a568dcf3cb",
              "IPY_MODEL_d8e5f48f3f7840e0b838df80f9d07527",
              "IPY_MODEL_5449b664cffc4fbb8418fddcd42259b5"
            ],
            "layout": "IPY_MODEL_2a11a94624d34901806ceafd5108ca41"
          }
        },
        "2403434c28334c5b9fdc25e39177673d": {
          "model_module": "@jupyter-widgets/base",
          "model_module_version": "1.2.0",
          "model_name": "LayoutModel",
          "state": {
            "_model_module": "@jupyter-widgets/base",
            "_model_module_version": "1.2.0",
            "_model_name": "LayoutModel",
            "_view_count": null,
            "_view_module": "@jupyter-widgets/base",
            "_view_module_version": "1.2.0",
            "_view_name": "LayoutView",
            "align_content": null,
            "align_items": null,
            "align_self": null,
            "border": null,
            "bottom": null,
            "display": null,
            "flex": null,
            "flex_flow": null,
            "grid_area": null,
            "grid_auto_columns": null,
            "grid_auto_flow": null,
            "grid_auto_rows": null,
            "grid_column": null,
            "grid_gap": null,
            "grid_row": null,
            "grid_template_areas": null,
            "grid_template_columns": null,
            "grid_template_rows": null,
            "height": null,
            "justify_content": null,
            "justify_items": null,
            "left": null,
            "margin": null,
            "max_height": null,
            "max_width": null,
            "min_height": null,
            "min_width": null,
            "object_fit": null,
            "object_position": null,
            "order": null,
            "overflow": null,
            "overflow_x": null,
            "overflow_y": null,
            "padding": null,
            "right": null,
            "top": null,
            "visibility": null,
            "width": null
          }
        },
        "2884c008a0064b488b0e5e8882ab4db8": {
          "model_module": "@jupyter-widgets/base",
          "model_module_version": "1.2.0",
          "model_name": "LayoutModel",
          "state": {
            "_model_module": "@jupyter-widgets/base",
            "_model_module_version": "1.2.0",
            "_model_name": "LayoutModel",
            "_view_count": null,
            "_view_module": "@jupyter-widgets/base",
            "_view_module_version": "1.2.0",
            "_view_name": "LayoutView",
            "align_content": null,
            "align_items": null,
            "align_self": null,
            "border": null,
            "bottom": null,
            "display": null,
            "flex": null,
            "flex_flow": null,
            "grid_area": null,
            "grid_auto_columns": null,
            "grid_auto_flow": null,
            "grid_auto_rows": null,
            "grid_column": null,
            "grid_gap": null,
            "grid_row": null,
            "grid_template_areas": null,
            "grid_template_columns": null,
            "grid_template_rows": null,
            "height": null,
            "justify_content": null,
            "justify_items": null,
            "left": null,
            "margin": null,
            "max_height": null,
            "max_width": null,
            "min_height": null,
            "min_width": null,
            "object_fit": null,
            "object_position": null,
            "order": null,
            "overflow": null,
            "overflow_x": null,
            "overflow_y": null,
            "padding": null,
            "right": null,
            "top": null,
            "visibility": null,
            "width": null
          }
        },
        "295b69341c314474acc9de4eaab35361": {
          "model_module": "@jupyter-widgets/controls",
          "model_module_version": "1.5.0",
          "model_name": "ProgressStyleModel",
          "state": {
            "_model_module": "@jupyter-widgets/controls",
            "_model_module_version": "1.5.0",
            "_model_name": "ProgressStyleModel",
            "_view_count": null,
            "_view_module": "@jupyter-widgets/base",
            "_view_module_version": "1.2.0",
            "_view_name": "StyleView",
            "bar_color": null,
            "description_width": ""
          }
        },
        "2a11a94624d34901806ceafd5108ca41": {
          "model_module": "@jupyter-widgets/base",
          "model_module_version": "1.2.0",
          "model_name": "LayoutModel",
          "state": {
            "_model_module": "@jupyter-widgets/base",
            "_model_module_version": "1.2.0",
            "_model_name": "LayoutModel",
            "_view_count": null,
            "_view_module": "@jupyter-widgets/base",
            "_view_module_version": "1.2.0",
            "_view_name": "LayoutView",
            "align_content": null,
            "align_items": null,
            "align_self": null,
            "border": null,
            "bottom": null,
            "display": null,
            "flex": null,
            "flex_flow": null,
            "grid_area": null,
            "grid_auto_columns": null,
            "grid_auto_flow": null,
            "grid_auto_rows": null,
            "grid_column": null,
            "grid_gap": null,
            "grid_row": null,
            "grid_template_areas": null,
            "grid_template_columns": null,
            "grid_template_rows": null,
            "height": null,
            "justify_content": null,
            "justify_items": null,
            "left": null,
            "margin": null,
            "max_height": null,
            "max_width": null,
            "min_height": null,
            "min_width": null,
            "object_fit": null,
            "object_position": null,
            "order": null,
            "overflow": null,
            "overflow_x": null,
            "overflow_y": null,
            "padding": null,
            "right": null,
            "top": null,
            "visibility": null,
            "width": null
          }
        },
        "2b0d37003ffd4f548bb493ff2f96fd40": {
          "model_module": "@jupyter-widgets/controls",
          "model_module_version": "1.5.0",
          "model_name": "ProgressStyleModel",
          "state": {
            "_model_module": "@jupyter-widgets/controls",
            "_model_module_version": "1.5.0",
            "_model_name": "ProgressStyleModel",
            "_view_count": null,
            "_view_module": "@jupyter-widgets/base",
            "_view_module_version": "1.2.0",
            "_view_name": "StyleView",
            "bar_color": null,
            "description_width": ""
          }
        },
        "309e78727d274c75bdfbe6f3e0bc382c": {
          "model_module": "@jupyter-widgets/base",
          "model_module_version": "1.2.0",
          "model_name": "LayoutModel",
          "state": {
            "_model_module": "@jupyter-widgets/base",
            "_model_module_version": "1.2.0",
            "_model_name": "LayoutModel",
            "_view_count": null,
            "_view_module": "@jupyter-widgets/base",
            "_view_module_version": "1.2.0",
            "_view_name": "LayoutView",
            "align_content": null,
            "align_items": null,
            "align_self": null,
            "border": null,
            "bottom": null,
            "display": null,
            "flex": null,
            "flex_flow": null,
            "grid_area": null,
            "grid_auto_columns": null,
            "grid_auto_flow": null,
            "grid_auto_rows": null,
            "grid_column": null,
            "grid_gap": null,
            "grid_row": null,
            "grid_template_areas": null,
            "grid_template_columns": null,
            "grid_template_rows": null,
            "height": null,
            "justify_content": null,
            "justify_items": null,
            "left": null,
            "margin": null,
            "max_height": null,
            "max_width": null,
            "min_height": null,
            "min_width": null,
            "object_fit": null,
            "object_position": null,
            "order": null,
            "overflow": null,
            "overflow_x": null,
            "overflow_y": null,
            "padding": null,
            "right": null,
            "top": null,
            "visibility": null,
            "width": null
          }
        },
        "34cf46270d844b4e9d9de27d9437a0bf": {
          "model_module": "@jupyter-widgets/controls",
          "model_module_version": "1.5.0",
          "model_name": "HTMLModel",
          "state": {
            "_dom_classes": [],
            "_model_module": "@jupyter-widgets/controls",
            "_model_module_version": "1.5.0",
            "_model_name": "HTMLModel",
            "_view_count": null,
            "_view_module": "@jupyter-widgets/controls",
            "_view_module_version": "1.5.0",
            "_view_name": "HTMLView",
            "description": "",
            "description_tooltip": null,
            "layout": "IPY_MODEL_a7e6451644684b0ba08b1fef97d8bffe",
            "placeholder": "​",
            "style": "IPY_MODEL_0bd6f854922b42209c34644d064fc784",
            "value": " 5/5 [00:02&lt;00:00,  2.69it/s]"
          }
        },
        "4161733518e9413dbfd46df36b44cdfc": {
          "model_module": "@jupyter-widgets/base",
          "model_module_version": "1.2.0",
          "model_name": "LayoutModel",
          "state": {
            "_model_module": "@jupyter-widgets/base",
            "_model_module_version": "1.2.0",
            "_model_name": "LayoutModel",
            "_view_count": null,
            "_view_module": "@jupyter-widgets/base",
            "_view_module_version": "1.2.0",
            "_view_name": "LayoutView",
            "align_content": null,
            "align_items": null,
            "align_self": null,
            "border": null,
            "bottom": null,
            "display": null,
            "flex": null,
            "flex_flow": null,
            "grid_area": null,
            "grid_auto_columns": null,
            "grid_auto_flow": null,
            "grid_auto_rows": null,
            "grid_column": null,
            "grid_gap": null,
            "grid_row": null,
            "grid_template_areas": null,
            "grid_template_columns": null,
            "grid_template_rows": null,
            "height": null,
            "justify_content": null,
            "justify_items": null,
            "left": null,
            "margin": null,
            "max_height": null,
            "max_width": null,
            "min_height": null,
            "min_width": null,
            "object_fit": null,
            "object_position": null,
            "order": null,
            "overflow": null,
            "overflow_x": null,
            "overflow_y": null,
            "padding": null,
            "right": null,
            "top": null,
            "visibility": null,
            "width": null
          }
        },
        "41b1ff7ceb27460f8d728e6adbaabb73": {
          "model_module": "@jupyter-widgets/controls",
          "model_module_version": "1.5.0",
          "model_name": "HBoxModel",
          "state": {
            "_dom_classes": [],
            "_model_module": "@jupyter-widgets/controls",
            "_model_module_version": "1.5.0",
            "_model_name": "HBoxModel",
            "_view_count": null,
            "_view_module": "@jupyter-widgets/controls",
            "_view_module_version": "1.5.0",
            "_view_name": "HBoxView",
            "box_style": "",
            "children": [
              "IPY_MODEL_77abcf0972874873bcd42396f9df50e8",
              "IPY_MODEL_c804100a751046b880c6f3d351fa8bc7",
              "IPY_MODEL_c2241e09ad504051a7eb87496c53f1a5"
            ],
            "layout": "IPY_MODEL_17e96e75dd304daf900d88d4f7048c6a"
          }
        },
        "4a5f6116b4504b79845fe0f024f76045": {
          "model_module": "@jupyter-widgets/controls",
          "model_module_version": "1.5.0",
          "model_name": "ProgressStyleModel",
          "state": {
            "_model_module": "@jupyter-widgets/controls",
            "_model_module_version": "1.5.0",
            "_model_name": "ProgressStyleModel",
            "_view_count": null,
            "_view_module": "@jupyter-widgets/base",
            "_view_module_version": "1.2.0",
            "_view_name": "StyleView",
            "bar_color": null,
            "description_width": ""
          }
        },
        "4b54ca9031904579a18f8b08bdfc2b27": {
          "model_module": "@jupyter-widgets/base",
          "model_module_version": "1.2.0",
          "model_name": "LayoutModel",
          "state": {
            "_model_module": "@jupyter-widgets/base",
            "_model_module_version": "1.2.0",
            "_model_name": "LayoutModel",
            "_view_count": null,
            "_view_module": "@jupyter-widgets/base",
            "_view_module_version": "1.2.0",
            "_view_name": "LayoutView",
            "align_content": null,
            "align_items": null,
            "align_self": null,
            "border": null,
            "bottom": null,
            "display": null,
            "flex": null,
            "flex_flow": null,
            "grid_area": null,
            "grid_auto_columns": null,
            "grid_auto_flow": null,
            "grid_auto_rows": null,
            "grid_column": null,
            "grid_gap": null,
            "grid_row": null,
            "grid_template_areas": null,
            "grid_template_columns": null,
            "grid_template_rows": null,
            "height": null,
            "justify_content": null,
            "justify_items": null,
            "left": null,
            "margin": null,
            "max_height": null,
            "max_width": null,
            "min_height": null,
            "min_width": null,
            "object_fit": null,
            "object_position": null,
            "order": null,
            "overflow": null,
            "overflow_x": null,
            "overflow_y": null,
            "padding": null,
            "right": null,
            "top": null,
            "visibility": null,
            "width": "20px"
          }
        },
        "4b58dbaea1e64cc0887d32810f0b2994": {
          "model_module": "@jupyter-widgets/controls",
          "model_module_version": "1.5.0",
          "model_name": "DescriptionStyleModel",
          "state": {
            "_model_module": "@jupyter-widgets/controls",
            "_model_module_version": "1.5.0",
            "_model_name": "DescriptionStyleModel",
            "_view_count": null,
            "_view_module": "@jupyter-widgets/base",
            "_view_module_version": "1.2.0",
            "_view_name": "StyleView",
            "description_width": ""
          }
        },
        "5070cf89966f4169847c5f9fbc3bc607": {
          "model_module": "@jupyter-widgets/controls",
          "model_module_version": "1.5.0",
          "model_name": "FloatProgressModel",
          "state": {
            "_dom_classes": [],
            "_model_module": "@jupyter-widgets/controls",
            "_model_module_version": "1.5.0",
            "_model_name": "FloatProgressModel",
            "_view_count": null,
            "_view_module": "@jupyter-widgets/controls",
            "_view_module_version": "1.5.0",
            "_view_name": "ProgressView",
            "bar_style": "success",
            "description": "",
            "description_tooltip": null,
            "layout": "IPY_MODEL_4b54ca9031904579a18f8b08bdfc2b27",
            "max": 1,
            "min": 0,
            "orientation": "horizontal",
            "style": "IPY_MODEL_ce145570f63f4e63b9e36c2dd5e50392",
            "value": 0
          }
        },
        "50b92ebd8a87409bbca2981181978509": {
          "model_module": "@jupyter-widgets/base",
          "model_module_version": "1.2.0",
          "model_name": "LayoutModel",
          "state": {
            "_model_module": "@jupyter-widgets/base",
            "_model_module_version": "1.2.0",
            "_model_name": "LayoutModel",
            "_view_count": null,
            "_view_module": "@jupyter-widgets/base",
            "_view_module_version": "1.2.0",
            "_view_name": "LayoutView",
            "align_content": null,
            "align_items": null,
            "align_self": null,
            "border": null,
            "bottom": null,
            "display": null,
            "flex": null,
            "flex_flow": null,
            "grid_area": null,
            "grid_auto_columns": null,
            "grid_auto_flow": null,
            "grid_auto_rows": null,
            "grid_column": null,
            "grid_gap": null,
            "grid_row": null,
            "grid_template_areas": null,
            "grid_template_columns": null,
            "grid_template_rows": null,
            "height": null,
            "justify_content": null,
            "justify_items": null,
            "left": null,
            "margin": null,
            "max_height": null,
            "max_width": null,
            "min_height": null,
            "min_width": null,
            "object_fit": null,
            "object_position": null,
            "order": null,
            "overflow": null,
            "overflow_x": null,
            "overflow_y": null,
            "padding": null,
            "right": null,
            "top": null,
            "visibility": null,
            "width": null
          }
        },
        "5449b664cffc4fbb8418fddcd42259b5": {
          "model_module": "@jupyter-widgets/controls",
          "model_module_version": "1.5.0",
          "model_name": "HTMLModel",
          "state": {
            "_dom_classes": [],
            "_model_module": "@jupyter-widgets/controls",
            "_model_module_version": "1.5.0",
            "_model_name": "HTMLModel",
            "_view_count": null,
            "_view_module": "@jupyter-widgets/controls",
            "_view_module_version": "1.5.0",
            "_view_name": "HTMLView",
            "description": "",
            "description_tooltip": null,
            "layout": "IPY_MODEL_18aa73713f2d4662b644a5da65ed0abc",
            "placeholder": "​",
            "style": "IPY_MODEL_709a75a2ea9544f3af191e5da3f455b1",
            "value": " 5/5 [00:02&lt;00:00,  2.49it/s]"
          }
        },
        "560a2a34c5d84469b61da36f5884a102": {
          "model_module": "@jupyter-widgets/controls",
          "model_module_version": "1.5.0",
          "model_name": "DescriptionStyleModel",
          "state": {
            "_model_module": "@jupyter-widgets/controls",
            "_model_module_version": "1.5.0",
            "_model_name": "DescriptionStyleModel",
            "_view_count": null,
            "_view_module": "@jupyter-widgets/base",
            "_view_module_version": "1.2.0",
            "_view_name": "StyleView",
            "description_width": ""
          }
        },
        "5ba1470b67624caf890815a747351c6b": {
          "model_module": "@jupyter-widgets/controls",
          "model_module_version": "1.5.0",
          "model_name": "DescriptionStyleModel",
          "state": {
            "_model_module": "@jupyter-widgets/controls",
            "_model_module_version": "1.5.0",
            "_model_name": "DescriptionStyleModel",
            "_view_count": null,
            "_view_module": "@jupyter-widgets/base",
            "_view_module_version": "1.2.0",
            "_view_name": "StyleView",
            "description_width": ""
          }
        },
        "62ca6a355eba4d8b9246196543651611": {
          "model_module": "@jupyter-widgets/controls",
          "model_module_version": "1.5.0",
          "model_name": "FloatProgressModel",
          "state": {
            "_dom_classes": [],
            "_model_module": "@jupyter-widgets/controls",
            "_model_module_version": "1.5.0",
            "_model_name": "FloatProgressModel",
            "_view_count": null,
            "_view_module": "@jupyter-widgets/controls",
            "_view_module_version": "1.5.0",
            "_view_name": "ProgressView",
            "bar_style": "success",
            "description": "",
            "description_tooltip": null,
            "layout": "IPY_MODEL_c2bd8b713ab34602882409fce6ea137c",
            "max": 5,
            "min": 0,
            "orientation": "horizontal",
            "style": "IPY_MODEL_bad50a6972ba4cc89ace07948e418348",
            "value": 5
          }
        },
        "65ab01632bcf4b7a8fc1c8226284ca35": {
          "model_module": "@jupyter-widgets/controls",
          "model_module_version": "1.5.0",
          "model_name": "HTMLModel",
          "state": {
            "_dom_classes": [],
            "_model_module": "@jupyter-widgets/controls",
            "_model_module_version": "1.5.0",
            "_model_name": "HTMLModel",
            "_view_count": null,
            "_view_module": "@jupyter-widgets/controls",
            "_view_module_version": "1.5.0",
            "_view_name": "HTMLView",
            "description": "",
            "description_tooltip": null,
            "layout": "IPY_MODEL_9fc13da36c3e4a0eb56ac32cfaa40f88",
            "placeholder": "​",
            "style": "IPY_MODEL_5ba1470b67624caf890815a747351c6b",
            "value": ""
          }
        },
        "709a75a2ea9544f3af191e5da3f455b1": {
          "model_module": "@jupyter-widgets/controls",
          "model_module_version": "1.5.0",
          "model_name": "DescriptionStyleModel",
          "state": {
            "_model_module": "@jupyter-widgets/controls",
            "_model_module_version": "1.5.0",
            "_model_name": "DescriptionStyleModel",
            "_view_count": null,
            "_view_module": "@jupyter-widgets/base",
            "_view_module_version": "1.2.0",
            "_view_name": "StyleView",
            "description_width": ""
          }
        },
        "75aa20be4912412b9326ad4fd175e94c": {
          "model_module": "@jupyter-widgets/controls",
          "model_module_version": "1.5.0",
          "model_name": "DescriptionStyleModel",
          "state": {
            "_model_module": "@jupyter-widgets/controls",
            "_model_module_version": "1.5.0",
            "_model_name": "DescriptionStyleModel",
            "_view_count": null,
            "_view_module": "@jupyter-widgets/base",
            "_view_module_version": "1.2.0",
            "_view_name": "StyleView",
            "description_width": ""
          }
        },
        "77abcf0972874873bcd42396f9df50e8": {
          "model_module": "@jupyter-widgets/controls",
          "model_module_version": "1.5.0",
          "model_name": "HTMLModel",
          "state": {
            "_dom_classes": [],
            "_model_module": "@jupyter-widgets/controls",
            "_model_module_version": "1.5.0",
            "_model_name": "HTMLModel",
            "_view_count": null,
            "_view_module": "@jupyter-widgets/controls",
            "_view_module_version": "1.5.0",
            "_view_name": "HTMLView",
            "description": "",
            "description_tooltip": null,
            "layout": "IPY_MODEL_309e78727d274c75bdfbe6f3e0bc382c",
            "placeholder": "​",
            "style": "IPY_MODEL_b5ff4bccd4624e84bb0fd0a5f9039564",
            "value": "100%"
          }
        },
        "7b94dad419b641fca3c7eac0d1c5ffc2": {
          "model_module": "@jupyter-widgets/controls",
          "model_module_version": "1.5.0",
          "model_name": "DescriptionStyleModel",
          "state": {
            "_model_module": "@jupyter-widgets/controls",
            "_model_module_version": "1.5.0",
            "_model_name": "DescriptionStyleModel",
            "_view_count": null,
            "_view_module": "@jupyter-widgets/base",
            "_view_module_version": "1.2.0",
            "_view_name": "StyleView",
            "description_width": ""
          }
        },
        "810c4546e9a54279a0169a8f219921d1": {
          "model_module": "@jupyter-widgets/base",
          "model_module_version": "1.2.0",
          "model_name": "LayoutModel",
          "state": {
            "_model_module": "@jupyter-widgets/base",
            "_model_module_version": "1.2.0",
            "_model_name": "LayoutModel",
            "_view_count": null,
            "_view_module": "@jupyter-widgets/base",
            "_view_module_version": "1.2.0",
            "_view_name": "LayoutView",
            "align_content": null,
            "align_items": null,
            "align_self": null,
            "border": null,
            "bottom": null,
            "display": null,
            "flex": null,
            "flex_flow": null,
            "grid_area": null,
            "grid_auto_columns": null,
            "grid_auto_flow": null,
            "grid_auto_rows": null,
            "grid_column": null,
            "grid_gap": null,
            "grid_row": null,
            "grid_template_areas": null,
            "grid_template_columns": null,
            "grid_template_rows": null,
            "height": null,
            "justify_content": null,
            "justify_items": null,
            "left": null,
            "margin": null,
            "max_height": null,
            "max_width": null,
            "min_height": null,
            "min_width": null,
            "object_fit": null,
            "object_position": null,
            "order": null,
            "overflow": null,
            "overflow_x": null,
            "overflow_y": null,
            "padding": null,
            "right": null,
            "top": null,
            "visibility": null,
            "width": null
          }
        },
        "897d441504394c13be74d6527d43e2ad": {
          "model_module": "@jupyter-widgets/controls",
          "model_module_version": "1.5.0",
          "model_name": "HTMLModel",
          "state": {
            "_dom_classes": [],
            "_model_module": "@jupyter-widgets/controls",
            "_model_module_version": "1.5.0",
            "_model_name": "HTMLModel",
            "_view_count": null,
            "_view_module": "@jupyter-widgets/controls",
            "_view_module_version": "1.5.0",
            "_view_name": "HTMLView",
            "description": "",
            "description_tooltip": null,
            "layout": "IPY_MODEL_0c145c54461e4f748e630608e572d656",
            "placeholder": "​",
            "style": "IPY_MODEL_a3d2d3776c50425e82e880aaf53266c5",
            "value": "100%"
          }
        },
        "8ad2aabc468c4ac28ca7ec74f5d5c609": {
          "model_module": "@jupyter-widgets/base",
          "model_module_version": "1.2.0",
          "model_name": "LayoutModel",
          "state": {
            "_model_module": "@jupyter-widgets/base",
            "_model_module_version": "1.2.0",
            "_model_name": "LayoutModel",
            "_view_count": null,
            "_view_module": "@jupyter-widgets/base",
            "_view_module_version": "1.2.0",
            "_view_name": "LayoutView",
            "align_content": null,
            "align_items": null,
            "align_self": null,
            "border": null,
            "bottom": null,
            "display": null,
            "flex": null,
            "flex_flow": null,
            "grid_area": null,
            "grid_auto_columns": null,
            "grid_auto_flow": null,
            "grid_auto_rows": null,
            "grid_column": null,
            "grid_gap": null,
            "grid_row": null,
            "grid_template_areas": null,
            "grid_template_columns": null,
            "grid_template_rows": null,
            "height": null,
            "justify_content": null,
            "justify_items": null,
            "left": null,
            "margin": null,
            "max_height": null,
            "max_width": null,
            "min_height": null,
            "min_width": null,
            "object_fit": null,
            "object_position": null,
            "order": null,
            "overflow": null,
            "overflow_x": null,
            "overflow_y": null,
            "padding": null,
            "right": null,
            "top": null,
            "visibility": null,
            "width": null
          }
        },
        "90385338c5694374b42d47c84a76fcd9": {
          "model_module": "@jupyter-widgets/controls",
          "model_module_version": "1.5.0",
          "model_name": "FloatProgressModel",
          "state": {
            "_dom_classes": [],
            "_model_module": "@jupyter-widgets/controls",
            "_model_module_version": "1.5.0",
            "_model_name": "FloatProgressModel",
            "_view_count": null,
            "_view_module": "@jupyter-widgets/controls",
            "_view_module_version": "1.5.0",
            "_view_name": "ProgressView",
            "bar_style": "success",
            "description": "",
            "description_tooltip": null,
            "layout": "IPY_MODEL_2884c008a0064b488b0e5e8882ab4db8",
            "max": 5,
            "min": 0,
            "orientation": "horizontal",
            "style": "IPY_MODEL_ff10c7e80e604bf9934af3d6c87b3d69",
            "value": 5
          }
        },
        "9209dbaeba4941a5841cc1ca3a4ae845": {
          "model_module": "@jupyter-widgets/base",
          "model_module_version": "1.2.0",
          "model_name": "LayoutModel",
          "state": {
            "_model_module": "@jupyter-widgets/base",
            "_model_module_version": "1.2.0",
            "_model_name": "LayoutModel",
            "_view_count": null,
            "_view_module": "@jupyter-widgets/base",
            "_view_module_version": "1.2.0",
            "_view_name": "LayoutView",
            "align_content": null,
            "align_items": null,
            "align_self": null,
            "border": null,
            "bottom": null,
            "display": null,
            "flex": null,
            "flex_flow": null,
            "grid_area": null,
            "grid_auto_columns": null,
            "grid_auto_flow": null,
            "grid_auto_rows": null,
            "grid_column": null,
            "grid_gap": null,
            "grid_row": null,
            "grid_template_areas": null,
            "grid_template_columns": null,
            "grid_template_rows": null,
            "height": null,
            "justify_content": null,
            "justify_items": null,
            "left": null,
            "margin": null,
            "max_height": null,
            "max_width": null,
            "min_height": null,
            "min_width": null,
            "object_fit": null,
            "object_position": null,
            "order": null,
            "overflow": null,
            "overflow_x": null,
            "overflow_y": null,
            "padding": null,
            "right": null,
            "top": null,
            "visibility": null,
            "width": null
          }
        },
        "95fc5b04e9174cda9e6ba8859355eac2": {
          "model_module": "@jupyter-widgets/base",
          "model_module_version": "1.2.0",
          "model_name": "LayoutModel",
          "state": {
            "_model_module": "@jupyter-widgets/base",
            "_model_module_version": "1.2.0",
            "_model_name": "LayoutModel",
            "_view_count": null,
            "_view_module": "@jupyter-widgets/base",
            "_view_module_version": "1.2.0",
            "_view_name": "LayoutView",
            "align_content": null,
            "align_items": null,
            "align_self": null,
            "border": null,
            "bottom": null,
            "display": null,
            "flex": null,
            "flex_flow": null,
            "grid_area": null,
            "grid_auto_columns": null,
            "grid_auto_flow": null,
            "grid_auto_rows": null,
            "grid_column": null,
            "grid_gap": null,
            "grid_row": null,
            "grid_template_areas": null,
            "grid_template_columns": null,
            "grid_template_rows": null,
            "height": null,
            "justify_content": null,
            "justify_items": null,
            "left": null,
            "margin": null,
            "max_height": null,
            "max_width": null,
            "min_height": null,
            "min_width": null,
            "object_fit": null,
            "object_position": null,
            "order": null,
            "overflow": null,
            "overflow_x": null,
            "overflow_y": null,
            "padding": null,
            "right": null,
            "top": null,
            "visibility": null,
            "width": null
          }
        },
        "96f3fd4d5d8c41b0b1e90de870504274": {
          "model_module": "@jupyter-widgets/controls",
          "model_module_version": "1.5.0",
          "model_name": "HBoxModel",
          "state": {
            "_dom_classes": [],
            "_model_module": "@jupyter-widgets/controls",
            "_model_module_version": "1.5.0",
            "_model_name": "HBoxModel",
            "_view_count": null,
            "_view_module": "@jupyter-widgets/controls",
            "_view_module_version": "1.5.0",
            "_view_name": "HBoxView",
            "box_style": "",
            "children": [
              "IPY_MODEL_65ab01632bcf4b7a8fc1c8226284ca35",
              "IPY_MODEL_5070cf89966f4169847c5f9fbc3bc607",
              "IPY_MODEL_13540c3628654bed8a11669c7070f499"
            ],
            "layout": "IPY_MODEL_8ad2aabc468c4ac28ca7ec74f5d5c609"
          }
        },
        "99d03b6b90ae412891ed40a7f7a8fc17": {
          "model_module": "@jupyter-widgets/base",
          "model_module_version": "1.2.0",
          "model_name": "LayoutModel",
          "state": {
            "_model_module": "@jupyter-widgets/base",
            "_model_module_version": "1.2.0",
            "_model_name": "LayoutModel",
            "_view_count": null,
            "_view_module": "@jupyter-widgets/base",
            "_view_module_version": "1.2.0",
            "_view_name": "LayoutView",
            "align_content": null,
            "align_items": null,
            "align_self": null,
            "border": null,
            "bottom": null,
            "display": null,
            "flex": null,
            "flex_flow": null,
            "grid_area": null,
            "grid_auto_columns": null,
            "grid_auto_flow": null,
            "grid_auto_rows": null,
            "grid_column": null,
            "grid_gap": null,
            "grid_row": null,
            "grid_template_areas": null,
            "grid_template_columns": null,
            "grid_template_rows": null,
            "height": null,
            "justify_content": null,
            "justify_items": null,
            "left": null,
            "margin": null,
            "max_height": null,
            "max_width": null,
            "min_height": null,
            "min_width": null,
            "object_fit": null,
            "object_position": null,
            "order": null,
            "overflow": null,
            "overflow_x": null,
            "overflow_y": null,
            "padding": null,
            "right": null,
            "top": null,
            "visibility": null,
            "width": null
          }
        },
        "9a960e309c4547739b85684fd22a7434": {
          "model_module": "@jupyter-widgets/controls",
          "model_module_version": "1.5.0",
          "model_name": "HBoxModel",
          "state": {
            "_dom_classes": [],
            "_model_module": "@jupyter-widgets/controls",
            "_model_module_version": "1.5.0",
            "_model_name": "HBoxModel",
            "_view_count": null,
            "_view_module": "@jupyter-widgets/controls",
            "_view_module_version": "1.5.0",
            "_view_name": "HBoxView",
            "box_style": "",
            "children": [
              "IPY_MODEL_1b04d7d7c64e46c7a65fec70a8aa6d47",
              "IPY_MODEL_62ca6a355eba4d8b9246196543651611",
              "IPY_MODEL_1dfb949779dd4c63a6008aa28c7ce877"
            ],
            "layout": "IPY_MODEL_a3d7e773a941411d843e1d97501bbbc1"
          }
        },
        "9fc13da36c3e4a0eb56ac32cfaa40f88": {
          "model_module": "@jupyter-widgets/base",
          "model_module_version": "1.2.0",
          "model_name": "LayoutModel",
          "state": {
            "_model_module": "@jupyter-widgets/base",
            "_model_module_version": "1.2.0",
            "_model_name": "LayoutModel",
            "_view_count": null,
            "_view_module": "@jupyter-widgets/base",
            "_view_module_version": "1.2.0",
            "_view_name": "LayoutView",
            "align_content": null,
            "align_items": null,
            "align_self": null,
            "border": null,
            "bottom": null,
            "display": null,
            "flex": null,
            "flex_flow": null,
            "grid_area": null,
            "grid_auto_columns": null,
            "grid_auto_flow": null,
            "grid_auto_rows": null,
            "grid_column": null,
            "grid_gap": null,
            "grid_row": null,
            "grid_template_areas": null,
            "grid_template_columns": null,
            "grid_template_rows": null,
            "height": null,
            "justify_content": null,
            "justify_items": null,
            "left": null,
            "margin": null,
            "max_height": null,
            "max_width": null,
            "min_height": null,
            "min_width": null,
            "object_fit": null,
            "object_position": null,
            "order": null,
            "overflow": null,
            "overflow_x": null,
            "overflow_y": null,
            "padding": null,
            "right": null,
            "top": null,
            "visibility": null,
            "width": null
          }
        },
        "a3d2d3776c50425e82e880aaf53266c5": {
          "model_module": "@jupyter-widgets/controls",
          "model_module_version": "1.5.0",
          "model_name": "DescriptionStyleModel",
          "state": {
            "_model_module": "@jupyter-widgets/controls",
            "_model_module_version": "1.5.0",
            "_model_name": "DescriptionStyleModel",
            "_view_count": null,
            "_view_module": "@jupyter-widgets/base",
            "_view_module_version": "1.2.0",
            "_view_name": "StyleView",
            "description_width": ""
          }
        },
        "a3d7e773a941411d843e1d97501bbbc1": {
          "model_module": "@jupyter-widgets/base",
          "model_module_version": "1.2.0",
          "model_name": "LayoutModel",
          "state": {
            "_model_module": "@jupyter-widgets/base",
            "_model_module_version": "1.2.0",
            "_model_name": "LayoutModel",
            "_view_count": null,
            "_view_module": "@jupyter-widgets/base",
            "_view_module_version": "1.2.0",
            "_view_name": "LayoutView",
            "align_content": null,
            "align_items": null,
            "align_self": null,
            "border": null,
            "bottom": null,
            "display": null,
            "flex": null,
            "flex_flow": null,
            "grid_area": null,
            "grid_auto_columns": null,
            "grid_auto_flow": null,
            "grid_auto_rows": null,
            "grid_column": null,
            "grid_gap": null,
            "grid_row": null,
            "grid_template_areas": null,
            "grid_template_columns": null,
            "grid_template_rows": null,
            "height": null,
            "justify_content": null,
            "justify_items": null,
            "left": null,
            "margin": null,
            "max_height": null,
            "max_width": null,
            "min_height": null,
            "min_width": null,
            "object_fit": null,
            "object_position": null,
            "order": null,
            "overflow": null,
            "overflow_x": null,
            "overflow_y": null,
            "padding": null,
            "right": null,
            "top": null,
            "visibility": null,
            "width": null
          }
        },
        "a7268c5d50a8461eb505c826d7e7fa8f": {
          "model_module": "@jupyter-widgets/controls",
          "model_module_version": "1.5.0",
          "model_name": "DescriptionStyleModel",
          "state": {
            "_model_module": "@jupyter-widgets/controls",
            "_model_module_version": "1.5.0",
            "_model_name": "DescriptionStyleModel",
            "_view_count": null,
            "_view_module": "@jupyter-widgets/base",
            "_view_module_version": "1.2.0",
            "_view_name": "StyleView",
            "description_width": ""
          }
        },
        "a7e6451644684b0ba08b1fef97d8bffe": {
          "model_module": "@jupyter-widgets/base",
          "model_module_version": "1.2.0",
          "model_name": "LayoutModel",
          "state": {
            "_model_module": "@jupyter-widgets/base",
            "_model_module_version": "1.2.0",
            "_model_name": "LayoutModel",
            "_view_count": null,
            "_view_module": "@jupyter-widgets/base",
            "_view_module_version": "1.2.0",
            "_view_name": "LayoutView",
            "align_content": null,
            "align_items": null,
            "align_self": null,
            "border": null,
            "bottom": null,
            "display": null,
            "flex": null,
            "flex_flow": null,
            "grid_area": null,
            "grid_auto_columns": null,
            "grid_auto_flow": null,
            "grid_auto_rows": null,
            "grid_column": null,
            "grid_gap": null,
            "grid_row": null,
            "grid_template_areas": null,
            "grid_template_columns": null,
            "grid_template_rows": null,
            "height": null,
            "justify_content": null,
            "justify_items": null,
            "left": null,
            "margin": null,
            "max_height": null,
            "max_width": null,
            "min_height": null,
            "min_width": null,
            "object_fit": null,
            "object_position": null,
            "order": null,
            "overflow": null,
            "overflow_x": null,
            "overflow_y": null,
            "padding": null,
            "right": null,
            "top": null,
            "visibility": null,
            "width": null
          }
        },
        "b5c7931dc5fb471f99612f60c6b1b6e6": {
          "model_module": "@jupyter-widgets/base",
          "model_module_version": "1.2.0",
          "model_name": "LayoutModel",
          "state": {
            "_model_module": "@jupyter-widgets/base",
            "_model_module_version": "1.2.0",
            "_model_name": "LayoutModel",
            "_view_count": null,
            "_view_module": "@jupyter-widgets/base",
            "_view_module_version": "1.2.0",
            "_view_name": "LayoutView",
            "align_content": null,
            "align_items": null,
            "align_self": null,
            "border": null,
            "bottom": null,
            "display": null,
            "flex": null,
            "flex_flow": null,
            "grid_area": null,
            "grid_auto_columns": null,
            "grid_auto_flow": null,
            "grid_auto_rows": null,
            "grid_column": null,
            "grid_gap": null,
            "grid_row": null,
            "grid_template_areas": null,
            "grid_template_columns": null,
            "grid_template_rows": null,
            "height": null,
            "justify_content": null,
            "justify_items": null,
            "left": null,
            "margin": null,
            "max_height": null,
            "max_width": null,
            "min_height": null,
            "min_width": null,
            "object_fit": null,
            "object_position": null,
            "order": null,
            "overflow": null,
            "overflow_x": null,
            "overflow_y": null,
            "padding": null,
            "right": null,
            "top": null,
            "visibility": null,
            "width": null
          }
        },
        "b5ff4bccd4624e84bb0fd0a5f9039564": {
          "model_module": "@jupyter-widgets/controls",
          "model_module_version": "1.5.0",
          "model_name": "DescriptionStyleModel",
          "state": {
            "_model_module": "@jupyter-widgets/controls",
            "_model_module_version": "1.5.0",
            "_model_name": "DescriptionStyleModel",
            "_view_count": null,
            "_view_module": "@jupyter-widgets/base",
            "_view_module_version": "1.2.0",
            "_view_name": "StyleView",
            "description_width": ""
          }
        },
        "bad50a6972ba4cc89ace07948e418348": {
          "model_module": "@jupyter-widgets/controls",
          "model_module_version": "1.5.0",
          "model_name": "ProgressStyleModel",
          "state": {
            "_model_module": "@jupyter-widgets/controls",
            "_model_module_version": "1.5.0",
            "_model_name": "ProgressStyleModel",
            "_view_count": null,
            "_view_module": "@jupyter-widgets/base",
            "_view_module_version": "1.2.0",
            "_view_name": "StyleView",
            "bar_color": null,
            "description_width": ""
          }
        },
        "c2241e09ad504051a7eb87496c53f1a5": {
          "model_module": "@jupyter-widgets/controls",
          "model_module_version": "1.5.0",
          "model_name": "HTMLModel",
          "state": {
            "_dom_classes": [],
            "_model_module": "@jupyter-widgets/controls",
            "_model_module_version": "1.5.0",
            "_model_name": "HTMLModel",
            "_view_count": null,
            "_view_module": "@jupyter-widgets/controls",
            "_view_module_version": "1.5.0",
            "_view_name": "HTMLView",
            "description": "",
            "description_tooltip": null,
            "layout": "IPY_MODEL_efe083fa06ba4ef985fb8994f1b06c14",
            "placeholder": "​",
            "style": "IPY_MODEL_560a2a34c5d84469b61da36f5884a102",
            "value": " 5/5 [00:02&lt;00:00,  2.70it/s]"
          }
        },
        "c2bd8b713ab34602882409fce6ea137c": {
          "model_module": "@jupyter-widgets/base",
          "model_module_version": "1.2.0",
          "model_name": "LayoutModel",
          "state": {
            "_model_module": "@jupyter-widgets/base",
            "_model_module_version": "1.2.0",
            "_model_name": "LayoutModel",
            "_view_count": null,
            "_view_module": "@jupyter-widgets/base",
            "_view_module_version": "1.2.0",
            "_view_name": "LayoutView",
            "align_content": null,
            "align_items": null,
            "align_self": null,
            "border": null,
            "bottom": null,
            "display": null,
            "flex": null,
            "flex_flow": null,
            "grid_area": null,
            "grid_auto_columns": null,
            "grid_auto_flow": null,
            "grid_auto_rows": null,
            "grid_column": null,
            "grid_gap": null,
            "grid_row": null,
            "grid_template_areas": null,
            "grid_template_columns": null,
            "grid_template_rows": null,
            "height": null,
            "justify_content": null,
            "justify_items": null,
            "left": null,
            "margin": null,
            "max_height": null,
            "max_width": null,
            "min_height": null,
            "min_width": null,
            "object_fit": null,
            "object_position": null,
            "order": null,
            "overflow": null,
            "overflow_x": null,
            "overflow_y": null,
            "padding": null,
            "right": null,
            "top": null,
            "visibility": null,
            "width": null
          }
        },
        "c5cf507b895043df88478cb0b36c88c8": {
          "model_module": "@jupyter-widgets/controls",
          "model_module_version": "1.5.0",
          "model_name": "FloatProgressModel",
          "state": {
            "_dom_classes": [],
            "_model_module": "@jupyter-widgets/controls",
            "_model_module_version": "1.5.0",
            "_model_name": "FloatProgressModel",
            "_view_count": null,
            "_view_module": "@jupyter-widgets/controls",
            "_view_module_version": "1.5.0",
            "_view_name": "ProgressView",
            "bar_style": "success",
            "description": "",
            "description_tooltip": null,
            "layout": "IPY_MODEL_810c4546e9a54279a0169a8f219921d1",
            "max": 5,
            "min": 0,
            "orientation": "horizontal",
            "style": "IPY_MODEL_4a5f6116b4504b79845fe0f024f76045",
            "value": 5
          }
        },
        "c804100a751046b880c6f3d351fa8bc7": {
          "model_module": "@jupyter-widgets/controls",
          "model_module_version": "1.5.0",
          "model_name": "FloatProgressModel",
          "state": {
            "_dom_classes": [],
            "_model_module": "@jupyter-widgets/controls",
            "_model_module_version": "1.5.0",
            "_model_name": "FloatProgressModel",
            "_view_count": null,
            "_view_module": "@jupyter-widgets/controls",
            "_view_module_version": "1.5.0",
            "_view_name": "ProgressView",
            "bar_style": "success",
            "description": "",
            "description_tooltip": null,
            "layout": "IPY_MODEL_fee7a9b53c43490ea51965ec41493e32",
            "max": 5,
            "min": 0,
            "orientation": "horizontal",
            "style": "IPY_MODEL_2b0d37003ffd4f548bb493ff2f96fd40",
            "value": 5
          }
        },
        "ce145570f63f4e63b9e36c2dd5e50392": {
          "model_module": "@jupyter-widgets/controls",
          "model_module_version": "1.5.0",
          "model_name": "ProgressStyleModel",
          "state": {
            "_model_module": "@jupyter-widgets/controls",
            "_model_module_version": "1.5.0",
            "_model_name": "ProgressStyleModel",
            "_view_count": null,
            "_view_module": "@jupyter-widgets/base",
            "_view_module_version": "1.2.0",
            "_view_name": "StyleView",
            "bar_color": null,
            "description_width": ""
          }
        },
        "d78d5b3f146f4604a78c08caae41b4d3": {
          "model_module": "@jupyter-widgets/base",
          "model_module_version": "1.2.0",
          "model_name": "LayoutModel",
          "state": {
            "_model_module": "@jupyter-widgets/base",
            "_model_module_version": "1.2.0",
            "_model_name": "LayoutModel",
            "_view_count": null,
            "_view_module": "@jupyter-widgets/base",
            "_view_module_version": "1.2.0",
            "_view_name": "LayoutView",
            "align_content": null,
            "align_items": null,
            "align_self": null,
            "border": null,
            "bottom": null,
            "display": null,
            "flex": null,
            "flex_flow": null,
            "grid_area": null,
            "grid_auto_columns": null,
            "grid_auto_flow": null,
            "grid_auto_rows": null,
            "grid_column": null,
            "grid_gap": null,
            "grid_row": null,
            "grid_template_areas": null,
            "grid_template_columns": null,
            "grid_template_rows": null,
            "height": null,
            "justify_content": null,
            "justify_items": null,
            "left": null,
            "margin": null,
            "max_height": null,
            "max_width": null,
            "min_height": null,
            "min_width": null,
            "object_fit": null,
            "object_position": null,
            "order": null,
            "overflow": null,
            "overflow_x": null,
            "overflow_y": null,
            "padding": null,
            "right": null,
            "top": null,
            "visibility": null,
            "width": null
          }
        },
        "d8e5f48f3f7840e0b838df80f9d07527": {
          "model_module": "@jupyter-widgets/controls",
          "model_module_version": "1.5.0",
          "model_name": "FloatProgressModel",
          "state": {
            "_dom_classes": [],
            "_model_module": "@jupyter-widgets/controls",
            "_model_module_version": "1.5.0",
            "_model_name": "FloatProgressModel",
            "_view_count": null,
            "_view_module": "@jupyter-widgets/controls",
            "_view_module_version": "1.5.0",
            "_view_name": "ProgressView",
            "bar_style": "success",
            "description": "",
            "description_tooltip": null,
            "layout": "IPY_MODEL_111db982b6c34747bd360624ea4cbe5e",
            "max": 5,
            "min": 0,
            "orientation": "horizontal",
            "style": "IPY_MODEL_295b69341c314474acc9de4eaab35361",
            "value": 5
          }
        },
        "daeabfc06460439ebde9fb9436ff244a": {
          "model_module": "@jupyter-widgets/controls",
          "model_module_version": "1.5.0",
          "model_name": "HTMLModel",
          "state": {
            "_dom_classes": [],
            "_model_module": "@jupyter-widgets/controls",
            "_model_module_version": "1.5.0",
            "_model_name": "HTMLModel",
            "_view_count": null,
            "_view_module": "@jupyter-widgets/controls",
            "_view_module_version": "1.5.0",
            "_view_name": "HTMLView",
            "description": "",
            "description_tooltip": null,
            "layout": "IPY_MODEL_d78d5b3f146f4604a78c08caae41b4d3",
            "placeholder": "​",
            "style": "IPY_MODEL_fa4d09ebbd604480bb7cfeaf6bcb4a2b",
            "value": "100%"
          }
        },
        "e950ba6862394e4483a706a568dcf3cb": {
          "model_module": "@jupyter-widgets/controls",
          "model_module_version": "1.5.0",
          "model_name": "HTMLModel",
          "state": {
            "_dom_classes": [],
            "_model_module": "@jupyter-widgets/controls",
            "_model_module_version": "1.5.0",
            "_model_name": "HTMLModel",
            "_view_count": null,
            "_view_module": "@jupyter-widgets/controls",
            "_view_module_version": "1.5.0",
            "_view_name": "HTMLView",
            "description": "",
            "description_tooltip": null,
            "layout": "IPY_MODEL_9209dbaeba4941a5841cc1ca3a4ae845",
            "placeholder": "​",
            "style": "IPY_MODEL_4b58dbaea1e64cc0887d32810f0b2994",
            "value": "100%"
          }
        },
        "efe083fa06ba4ef985fb8994f1b06c14": {
          "model_module": "@jupyter-widgets/base",
          "model_module_version": "1.2.0",
          "model_name": "LayoutModel",
          "state": {
            "_model_module": "@jupyter-widgets/base",
            "_model_module_version": "1.2.0",
            "_model_name": "LayoutModel",
            "_view_count": null,
            "_view_module": "@jupyter-widgets/base",
            "_view_module_version": "1.2.0",
            "_view_name": "LayoutView",
            "align_content": null,
            "align_items": null,
            "align_self": null,
            "border": null,
            "bottom": null,
            "display": null,
            "flex": null,
            "flex_flow": null,
            "grid_area": null,
            "grid_auto_columns": null,
            "grid_auto_flow": null,
            "grid_auto_rows": null,
            "grid_column": null,
            "grid_gap": null,
            "grid_row": null,
            "grid_template_areas": null,
            "grid_template_columns": null,
            "grid_template_rows": null,
            "height": null,
            "justify_content": null,
            "justify_items": null,
            "left": null,
            "margin": null,
            "max_height": null,
            "max_width": null,
            "min_height": null,
            "min_width": null,
            "object_fit": null,
            "object_position": null,
            "order": null,
            "overflow": null,
            "overflow_x": null,
            "overflow_y": null,
            "padding": null,
            "right": null,
            "top": null,
            "visibility": null,
            "width": null
          }
        },
        "fa4d09ebbd604480bb7cfeaf6bcb4a2b": {
          "model_module": "@jupyter-widgets/controls",
          "model_module_version": "1.5.0",
          "model_name": "DescriptionStyleModel",
          "state": {
            "_model_module": "@jupyter-widgets/controls",
            "_model_module_version": "1.5.0",
            "_model_name": "DescriptionStyleModel",
            "_view_count": null,
            "_view_module": "@jupyter-widgets/base",
            "_view_module_version": "1.2.0",
            "_view_name": "StyleView",
            "description_width": ""
          }
        },
        "fb87df90c6754443b848d2906b70c20c": {
          "model_module": "@jupyter-widgets/controls",
          "model_module_version": "1.5.0",
          "model_name": "HBoxModel",
          "state": {
            "_dom_classes": [],
            "_model_module": "@jupyter-widgets/controls",
            "_model_module_version": "1.5.0",
            "_model_name": "HBoxModel",
            "_view_count": null,
            "_view_module": "@jupyter-widgets/controls",
            "_view_module_version": "1.5.0",
            "_view_name": "HBoxView",
            "box_style": "",
            "children": [
              "IPY_MODEL_897d441504394c13be74d6527d43e2ad",
              "IPY_MODEL_c5cf507b895043df88478cb0b36c88c8",
              "IPY_MODEL_34cf46270d844b4e9d9de27d9437a0bf"
            ],
            "layout": "IPY_MODEL_95fc5b04e9174cda9e6ba8859355eac2"
          }
        },
        "fd2e438e8b4a47928e8d42476dca5c6a": {
          "model_module": "@jupyter-widgets/controls",
          "model_module_version": "1.5.0",
          "model_name": "HTMLModel",
          "state": {
            "_dom_classes": [],
            "_model_module": "@jupyter-widgets/controls",
            "_model_module_version": "1.5.0",
            "_model_name": "HTMLModel",
            "_view_count": null,
            "_view_module": "@jupyter-widgets/controls",
            "_view_module_version": "1.5.0",
            "_view_name": "HTMLView",
            "description": "",
            "description_tooltip": null,
            "layout": "IPY_MODEL_b5c7931dc5fb471f99612f60c6b1b6e6",
            "placeholder": "​",
            "style": "IPY_MODEL_75aa20be4912412b9326ad4fd175e94c",
            "value": " 5/5 [00:02&lt;00:00,  2.70it/s]"
          }
        },
        "fd55d9ea99994dbe9fcbde47912f6d3c": {
          "model_module": "@jupyter-widgets/controls",
          "model_module_version": "1.5.0",
          "model_name": "DescriptionStyleModel",
          "state": {
            "_model_module": "@jupyter-widgets/controls",
            "_model_module_version": "1.5.0",
            "_model_name": "DescriptionStyleModel",
            "_view_count": null,
            "_view_module": "@jupyter-widgets/base",
            "_view_module_version": "1.2.0",
            "_view_name": "StyleView",
            "description_width": ""
          }
        },
        "fee7a9b53c43490ea51965ec41493e32": {
          "model_module": "@jupyter-widgets/base",
          "model_module_version": "1.2.0",
          "model_name": "LayoutModel",
          "state": {
            "_model_module": "@jupyter-widgets/base",
            "_model_module_version": "1.2.0",
            "_model_name": "LayoutModel",
            "_view_count": null,
            "_view_module": "@jupyter-widgets/base",
            "_view_module_version": "1.2.0",
            "_view_name": "LayoutView",
            "align_content": null,
            "align_items": null,
            "align_self": null,
            "border": null,
            "bottom": null,
            "display": null,
            "flex": null,
            "flex_flow": null,
            "grid_area": null,
            "grid_auto_columns": null,
            "grid_auto_flow": null,
            "grid_auto_rows": null,
            "grid_column": null,
            "grid_gap": null,
            "grid_row": null,
            "grid_template_areas": null,
            "grid_template_columns": null,
            "grid_template_rows": null,
            "height": null,
            "justify_content": null,
            "justify_items": null,
            "left": null,
            "margin": null,
            "max_height": null,
            "max_width": null,
            "min_height": null,
            "min_width": null,
            "object_fit": null,
            "object_position": null,
            "order": null,
            "overflow": null,
            "overflow_x": null,
            "overflow_y": null,
            "padding": null,
            "right": null,
            "top": null,
            "visibility": null,
            "width": null
          }
        },
        "ff10c7e80e604bf9934af3d6c87b3d69": {
          "model_module": "@jupyter-widgets/controls",
          "model_module_version": "1.5.0",
          "model_name": "ProgressStyleModel",
          "state": {
            "_model_module": "@jupyter-widgets/controls",
            "_model_module_version": "1.5.0",
            "_model_name": "ProgressStyleModel",
            "_view_count": null,
            "_view_module": "@jupyter-widgets/base",
            "_view_module_version": "1.2.0",
            "_view_name": "StyleView",
            "bar_color": null,
            "description_width": ""
          }
        }
      }
    }
  },
  "nbformat": 4,
  "nbformat_minor": 0
}
